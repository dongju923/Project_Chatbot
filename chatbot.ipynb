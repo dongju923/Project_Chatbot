{
 "cells": [
  {
   "cell_type": "markdown",
   "id": "72c3b349",
   "metadata": {},
   "source": [
    "# 필요한 모듈 import"
   ]
  },
  {
   "cell_type": "code",
   "execution_count": 1,
   "id": "275e61cf",
   "metadata": {},
   "outputs": [],
   "source": [
    "import pandas as pd\n",
    "import numpy as np\n",
    "import re\n",
    "import json\n",
    "import os\n",
    "import sentencepiece as spm\n",
    "from torch.utils.data import Dataset, DataLoader\n",
    "from torch.nn import Transformer\n",
    "from torch import nn\n",
    "import torch\n",
    "import math"
   ]
  },
  {
   "cell_type": "markdown",
   "id": "2cc8e054",
   "metadata": {},
   "source": [
    "# 데이터 전처리(불필요한 데이터 제거) "
   ]
  },
  {
   "cell_type": "code",
   "execution_count": 22,
   "id": "d263db48",
   "metadata": {
    "scrolled": true
   },
   "outputs": [],
   "source": [
    "dir_path = \"/home/dilab05/work_directory/adj/NLP_Project/Training/금융보험/민원(콜센터) 질의응답_금융보험_잔고 및 거래내역_Training.json\"\n",
    "with open(dir_path, 'r') as file:\n",
    "    li = []\n",
    "    data = json.load(file)\n",
    "    for i in range(len(data)):\n",
    "        del(data[i]['도메인'])\n",
    "        del(data[i]['카테고리'])\n",
    "        del(data[i]['대화셋일련번호'])\n",
    "        del(data[i]['화자'])\n",
    "        del(data[i]['문장번호'])\n",
    "        del(data[i]['고객의도'])\n",
    "        del(data[i]['상담사의도'])\n",
    "        del(data[i]['QA'])\n",
    "        del(data[i]['개체명 '])\n",
    "        del(data[i]['용어사전'])\n",
    "        del(data[i]['지식베이스'])\n",
    "        del(data[i]['상담사질문(요청)'])\n",
    "        del(data[i]['고객답변'])\n",
    "    for i in range(len(data)):    # 84031\n",
    "        if (data[i]['고객질문(요청)'] == '') and (data[i]['상담사답변'] == ''):\n",
    "            del data[i]['고객질문(요청)']\n",
    "            del data[i]['상담사답변']\n",
    "        else:\n",
    "            if data[i]['고객질문(요청)'] == '':\n",
    "                del data[i]['고객질문(요청)']\n",
    "            elif data[i]['상담사답변'] == '':\n",
    "                del data[i]['상담사답변']\n",
    "            else:\n",
    "                del data[i]['고객질문(요청)']\n",
    "                del data[i]['상담사답변']\n",
    "            li.append(data[i])\n",
    "            "
   ]
  },
  {
   "cell_type": "markdown",
   "id": "2efa6842",
   "metadata": {},
   "source": [
    "# 데이터 전처리(고객질문 다음 상담사 답변이 오는 것만 리스트에 저장)"
   ]
  },
  {
   "cell_type": "code",
   "execution_count": 24,
   "id": "634a7579",
   "metadata": {},
   "outputs": [],
   "source": [
    "idxa = []\n",
    "idxq = []\n",
    "for i in range(len(li)):\n",
    "    if '고객질문(요청)' in li[i] and '상담사답변' in li[i+1]:\n",
    "        idxq.append(i)"
   ]
  },
  {
   "cell_type": "markdown",
   "id": "4983b868",
   "metadata": {},
   "source": [
    "# 리스트에 매핑시키기 위해 넘파이 배열로 변환"
   ]
  },
  {
   "cell_type": "code",
   "execution_count": 26,
   "id": "ddddd0c1",
   "metadata": {},
   "outputs": [],
   "source": [
    "li = np.array(li)\n",
    "idxa = np.array(idxa)\n",
    "idxq = np.array(idxq)"
   ]
  },
  {
   "cell_type": "code",
   "execution_count": 27,
   "id": "95cd2b99",
   "metadata": {},
   "outputs": [
    {
     "name": "stdout",
     "output_type": "stream",
     "text": [
      "[{'고객질문(요청)': '집과 직장에서 인터넷 뱅킹을 이용가능하나요?'}\n",
      " {'상담사답변': '가능합니다. 공인인증서를 복사해서 사용할 수 있습니다.'}\n",
      " {'고객질문(요청)': '인증서 복사는 어떻게 하죠?'} ...\n",
      " {'상담사답변': '네 000님 이름으로 30만원 입금확인 됩니다.'} {'고객질문(요청)': '12명 총 입금액이 얼마인가요?'}\n",
      " {'상담사답변': '350만원 이십니다.'}]\n",
      "[]\n",
      "[    0     2     4 ... 48776 48779 48781]\n"
     ]
    }
   ],
   "source": [
    "print(li)\n",
    "print(idxa)\n",
    "print(idxq)"
   ]
  },
  {
   "cell_type": "markdown",
   "id": "f62a4745",
   "metadata": {},
   "source": [
    "# 고객질문과 상담사 답변 데이터 매핑"
   ]
  },
  {
   "cell_type": "code",
   "execution_count": 28,
   "id": "d2b514a3",
   "metadata": {},
   "outputs": [],
   "source": [
    "q = li[idxq]\n",
    "a = li[idxq+1]\n",
    "\n",
    "#question = []\n",
    "#answer = []\n",
    "for i in range(len(q)):\n",
    "    question.append(q[i]['고객질문(요청)'])\n",
    "for i in range(len(q)):\n",
    "    answer.append(a[i]['상담사답변'])"
   ]
  },
  {
   "cell_type": "markdown",
   "id": "921aa733",
   "metadata": {},
   "source": [
    "# 넘파이 배열로 저장"
   ]
  },
  {
   "cell_type": "code",
   "execution_count": 5,
   "id": "b2ba9b80",
   "metadata": {},
   "outputs": [],
   "source": [
    "np.savez_compressed('./data', question=question, answer=answer)"
   ]
  },
  {
   "cell_type": "code",
   "execution_count": 12,
   "id": "3180ae78",
   "metadata": {},
   "outputs": [],
   "source": [
    "question = np.load('./data.npz')['question']\n",
    "answer = np.load('./data.npz')['answer']"
   ]
  },
  {
   "cell_type": "markdown",
   "id": "d56f376c",
   "metadata": {},
   "source": [
    "# 판다스 데이터 프레임 형식으로 저장"
   ]
  },
  {
   "cell_type": "code",
   "execution_count": 13,
   "id": "354f5642",
   "metadata": {},
   "outputs": [
    {
     "data": {
      "text/html": [
       "<div>\n",
       "<style scoped>\n",
       "    .dataframe tbody tr th:only-of-type {\n",
       "        vertical-align: middle;\n",
       "    }\n",
       "\n",
       "    .dataframe tbody tr th {\n",
       "        vertical-align: top;\n",
       "    }\n",
       "\n",
       "    .dataframe thead th {\n",
       "        text-align: right;\n",
       "    }\n",
       "</style>\n",
       "<table border=\"1\" class=\"dataframe\">\n",
       "  <thead>\n",
       "    <tr style=\"text-align: right;\">\n",
       "      <th></th>\n",
       "      <th>Q</th>\n",
       "      <th>A</th>\n",
       "    </tr>\n",
       "  </thead>\n",
       "  <tbody>\n",
       "    <tr>\n",
       "      <th>0</th>\n",
       "      <td>인터넷뱅킹 로그인이 안돼요?</td>\n",
       "      <td>인터넷뱅킹 로그인시 비밀번호 5회이상 틀리시면 로그인이 불가능합니다</td>\n",
       "    </tr>\n",
       "    <tr>\n",
       "      <th>1</th>\n",
       "      <td>오늘은 3번밖에 안 했는데요?</td>\n",
       "      <td>비밀번호 오류횟수가 누적 5회상이면 이용하실 수 없습니다.</td>\n",
       "    </tr>\n",
       "    <tr>\n",
       "      <th>2</th>\n",
       "      <td>다시 인터넷뱅킹에 로그인 하려면 어떻게 하면 되나요?</td>\n",
       "      <td>은행을 방문하셔서 비밀번호 오류를 해제하고 새 비밀번호를 등록하면 다시 이용하실 수...</td>\n",
       "    </tr>\n",
       "    <tr>\n",
       "      <th>3</th>\n",
       "      <td>그것만 하면 되나요?</td>\n",
       "      <td>은행 출금계좌번호와 비밀번호, 보안매체. 본인인증이 필요합니다.</td>\n",
       "    </tr>\n",
       "    <tr>\n",
       "      <th>4</th>\n",
       "      <td>본인인증하기가 어려우면 어떻게 하나요?</td>\n",
       "      <td>네 번거로우시더라도 은행을 방문하셔야 합니다.</td>\n",
       "    </tr>\n",
       "    <tr>\n",
       "      <th>...</th>\n",
       "      <td>...</td>\n",
       "      <td>...</td>\n",
       "    </tr>\n",
       "    <tr>\n",
       "      <th>95560</th>\n",
       "      <td>매수주문 했던건 거래가 안됐나요?</td>\n",
       "      <td>네 매수가가 너무 낮아서 주문에 실패했습니다.</td>\n",
       "    </tr>\n",
       "    <tr>\n",
       "      <th>95561</th>\n",
       "      <td>주문은 취소 된거죠?</td>\n",
       "      <td>장 마감까지 매매되지 않으면 취소 됩니다.</td>\n",
       "    </tr>\n",
       "    <tr>\n",
       "      <th>95562</th>\n",
       "      <td>통장 거래내역 알아 볼 수 있나요?</td>\n",
       "      <td>본인확인후 안내드리겠습니다.</td>\n",
       "    </tr>\n",
       "    <tr>\n",
       "      <th>95563</th>\n",
       "      <td>000이름으로 입금된 건이 있나요?</td>\n",
       "      <td>네 000님 이름으로 30만원 입금확인 됩니다.</td>\n",
       "    </tr>\n",
       "    <tr>\n",
       "      <th>95564</th>\n",
       "      <td>12명 총 입금액이 얼마인가요?</td>\n",
       "      <td>350만원 이십니다.</td>\n",
       "    </tr>\n",
       "  </tbody>\n",
       "</table>\n",
       "<p>95565 rows × 2 columns</p>\n",
       "</div>"
      ],
      "text/plain": [
       "                                   Q  \\\n",
       "0                    인터넷뱅킹 로그인이 안돼요?   \n",
       "1                   오늘은 3번밖에 안 했는데요?   \n",
       "2      다시 인터넷뱅킹에 로그인 하려면 어떻게 하면 되나요?   \n",
       "3                        그것만 하면 되나요?   \n",
       "4              본인인증하기가 어려우면 어떻게 하나요?   \n",
       "...                              ...   \n",
       "95560             매수주문 했던건 거래가 안됐나요?   \n",
       "95561                    주문은 취소 된거죠?   \n",
       "95562            통장 거래내역 알아 볼 수 있나요?   \n",
       "95563            000이름으로 입금된 건이 있나요?   \n",
       "95564              12명 총 입금액이 얼마인가요?   \n",
       "\n",
       "                                                       A  \n",
       "0                  인터넷뱅킹 로그인시 비밀번호 5회이상 틀리시면 로그인이 불가능합니다  \n",
       "1                       비밀번호 오류횟수가 누적 5회상이면 이용하실 수 없습니다.  \n",
       "2      은행을 방문하셔서 비밀번호 오류를 해제하고 새 비밀번호를 등록하면 다시 이용하실 수...  \n",
       "3                    은행 출금계좌번호와 비밀번호, 보안매체. 본인인증이 필요합니다.  \n",
       "4                              네 번거로우시더라도 은행을 방문하셔야 합니다.  \n",
       "...                                                  ...  \n",
       "95560                          네 매수가가 너무 낮아서 주문에 실패했습니다.  \n",
       "95561                            장 마감까지 매매되지 않으면 취소 됩니다.  \n",
       "95562                                    본인확인후 안내드리겠습니다.  \n",
       "95563                         네 000님 이름으로 30만원 입금확인 됩니다.  \n",
       "95564                                        350만원 이십니다.  \n",
       "\n",
       "[95565 rows x 2 columns]"
      ]
     },
     "execution_count": 13,
     "metadata": {},
     "output_type": "execute_result"
    }
   ],
   "source": [
    "train_data = pd.DataFrame([ x for x in zip(question, answer)], columns = ['Q','A'])\n",
    "train_data"
   ]
  },
  {
   "cell_type": "code",
   "execution_count": 14,
   "id": "71133a39",
   "metadata": {},
   "outputs": [],
   "source": [
    "q_null = train_data[train_data['Q'] == ' '].index\n",
    "train_data = train_data.drop(q_null)\n",
    "a_null = train_data[train_data['A'] == ' '].index\n",
    "train_data = train_data.drop(a_null)"
   ]
  },
  {
   "cell_type": "markdown",
   "id": "985b9a57",
   "metadata": {},
   "source": [
    "# 불필요한 특수문자 제거"
   ]
  },
  {
   "cell_type": "code",
   "execution_count": 5,
   "id": "0ad5e2fd",
   "metadata": {},
   "outputs": [],
   "source": [
    "questions = []\n",
    "for sentence in train_data['Q']:\n",
    "\t# 구두점에 대해서 띄어쓰기\n",
    "    # ex) 12시 땡! -> 12시 땡 !\n",
    "    sentence = re.sub(r\"([?.!,~])\", r\"\", sentence)\n",
    "    sentence = sentence.strip()\n",
    "    questions.append(sentence)\n",
    "\n",
    "answers = []\n",
    "for sentence in train_data['A']:\n",
    "    sentence = re.sub(r\"([?.!,~])\", r\"\", sentence)\n",
    "    sentence = sentence.strip()\n",
    "    answers.append(sentence)"
   ]
  },
  {
   "cell_type": "markdown",
   "id": "75c4600b",
   "metadata": {},
   "source": [
    "# 질문과 답변을 txt파일로 저장"
   ]
  },
  {
   "cell_type": "code",
   "execution_count": 6,
   "id": "42a122d2",
   "metadata": {},
   "outputs": [],
   "source": [
    "with open('data.txt', 'w', encoding='utf8') as f:\n",
    "    f.write('\\n'.join(questions))\n",
    "    f.write('\\n'.join(answers))"
   ]
  },
  {
   "cell_type": "markdown",
   "id": "f9d689b1",
   "metadata": {},
   "source": [
    "# sentencepiece를 활용하여 8000개의 vocab size를 가지고 사용자 지정 토큰 7개를 추가로 가지고 있는sentence piece를 학습"
   ]
  },
  {
   "cell_type": "code",
   "execution_count": 6,
   "id": "e674a5cd",
   "metadata": {},
   "outputs": [
    {
     "name": "stderr",
     "output_type": "stream",
     "text": [
      "sentencepiece_trainer.cc(177) LOG(INFO) Running command: --input=data.txt --model_prefix=chatbot --vocab_size=8007 --model_type=bpe --max_sentence_length=999999 --pad_id=0 --pad_piece=[PAD] --unk_id=1 --unk_piece=[UNK] --bos_id=2 --bos_piece=[BOS] --eos_id=3 --eos_piece=[EOS] --user_defined_symbols=[SEP],[CLS],[MASK]\n",
      "sentencepiece_trainer.cc(77) LOG(INFO) Starts training with : \n",
      "trainer_spec {\n",
      "  input: data.txt\n",
      "  input_format: \n",
      "  model_prefix: chatbot\n",
      "  model_type: BPE\n",
      "  vocab_size: 8007\n",
      "  self_test_sample_size: 0\n",
      "  character_coverage: 0.9995\n",
      "  input_sentence_size: 0\n",
      "  shuffle_input_sentence: 1\n",
      "  seed_sentencepiece_size: 1000000\n",
      "  shrinking_factor: 0.75\n",
      "  max_sentence_length: 999999\n",
      "  num_threads: 16\n",
      "  num_sub_iterations: 2\n",
      "  max_sentencepiece_length: 16\n",
      "  split_by_unicode_script: 1\n",
      "  split_by_number: 1\n",
      "  split_by_whitespace: 1\n",
      "  split_digits: 0\n",
      "  treat_whitespace_as_suffix: 0\n",
      "  allow_whitespace_only_pieces: 0\n",
      "  user_defined_symbols: [SEP]\n",
      "  user_defined_symbols: [CLS]\n",
      "  user_defined_symbols: [MASK]\n",
      "  required_chars: \n",
      "  byte_fallback: 0\n",
      "  vocabulary_output_piece_score: 1\n",
      "  train_extremely_large_corpus: 0\n",
      "  hard_vocab_limit: 1\n",
      "  use_all_vocab: 0\n",
      "  unk_id: 1\n",
      "  bos_id: 2\n",
      "  eos_id: 3\n",
      "  pad_id: 0\n",
      "  unk_piece: [UNK]\n",
      "  bos_piece: [BOS]\n",
      "  eos_piece: [EOS]\n",
      "  pad_piece: [PAD]\n",
      "  unk_surface:  ⁇ \n",
      "}\n",
      "normalizer_spec {\n",
      "  name: nmt_nfkc\n",
      "  add_dummy_prefix: 1\n",
      "  remove_extra_whitespaces: 1\n",
      "  escape_whitespaces: 1\n",
      "  normalization_rule_tsv: \n",
      "}\n",
      "denormalizer_spec {}\n",
      "trainer_interface.cc(329) LOG(INFO) SentenceIterator is not specified. Using MultiFileSentenceIterator.\n",
      "trainer_interface.cc(178) LOG(INFO) Loading corpus: data.txt\n",
      "trainer_interface.cc(385) LOG(INFO) Loaded all 190603 sentences\n",
      "trainer_interface.cc(400) LOG(INFO) Adding meta_piece: [PAD]\n",
      "trainer_interface.cc(400) LOG(INFO) Adding meta_piece: [UNK]\n",
      "trainer_interface.cc(400) LOG(INFO) Adding meta_piece: [BOS]\n",
      "trainer_interface.cc(400) LOG(INFO) Adding meta_piece: [EOS]\n",
      "trainer_interface.cc(400) LOG(INFO) Adding meta_piece: [SEP]\n",
      "trainer_interface.cc(400) LOG(INFO) Adding meta_piece: [CLS]\n",
      "trainer_interface.cc(400) LOG(INFO) Adding meta_piece: [MASK]\n",
      "trainer_interface.cc(405) LOG(INFO) Normalizing sentences...\n",
      "trainer_interface.cc(466) LOG(INFO) all chars count=4675204\n",
      "trainer_interface.cc(477) LOG(INFO) Done: 99.9501% characters are covered.\n",
      "trainer_interface.cc(487) LOG(INFO) Alphabet size=909\n",
      "trainer_interface.cc(488) LOG(INFO) Final character coverage=0.999501\n",
      "trainer_interface.cc(520) LOG(INFO) Done! preprocessed 190603 sentences.\n",
      "trainer_interface.cc(526) LOG(INFO) Tokenizing input sentences with whitespace: 190603\n",
      "trainer_interface.cc(537) LOG(INFO) Done! 129115\n",
      "bpe_model_trainer.cc(167) LOG(INFO) Updating active symbols. max_freq=95230 min_freq=252\n",
      "bpe_model_trainer.cc(258) LOG(INFO) Added: freq=13966 size=20 all=39704 active=4310 piece=됩니다\n",
      "bpe_model_trainer.cc(258) LOG(INFO) Added: freq=9823 size=40 all=41549 active=6155 piece=▁인\n",
      "bpe_model_trainer.cc(258) LOG(INFO) Added: freq=7276 size=60 all=42717 active=7323 piece=카드\n",
      "bpe_model_trainer.cc(258) LOG(INFO) Added: freq=5662 size=80 all=44186 active=8792 piece=▁한\n",
      "bpe_model_trainer.cc(258) LOG(INFO) Added: freq=4861 size=100 all=45554 active=10160 piece=인가요\n",
      "bpe_model_trainer.cc(167) LOG(INFO) Updating active symbols. max_freq=4817 min_freq=193\n",
      "bpe_model_trainer.cc(258) LOG(INFO) Added: freq=4206 size=120 all=47115 active=3632 piece=하면\n",
      "bpe_model_trainer.cc(258) LOG(INFO) Added: freq=3873 size=140 all=48168 active=4685 piece=출금\n",
      "bpe_model_trainer.cc(258) LOG(INFO) Added: freq=3415 size=160 all=49771 active=6288 piece=▁제가\n",
      "bpe_model_trainer.cc(258) LOG(INFO) Added: freq=3137 size=180 all=51391 active=7908 piece=▁영업\n",
      "bpe_model_trainer.cc(258) LOG(INFO) Added: freq=2746 size=200 all=52467 active=8984 piece=센터\n",
      "bpe_model_trainer.cc(167) LOG(INFO) Updating active symbols. max_freq=2746 min_freq=157\n",
      "bpe_model_trainer.cc(258) LOG(INFO) Added: freq=2470 size=220 all=53932 active=4022 piece=▁거래내역\n",
      "bpe_model_trainer.cc(258) LOG(INFO) Added: freq=2332 size=240 all=55229 active=5319 piece=▁설\n",
      "bpe_model_trainer.cc(258) LOG(INFO) Added: freq=2145 size=260 all=56273 active=6363 piece=▁납입\n",
      "bpe_model_trainer.cc(258) LOG(INFO) Added: freq=1945 size=280 all=57665 active=7755 piece=료비\n",
      "bpe_model_trainer.cc(258) LOG(INFO) Added: freq=1830 size=300 all=59246 active=9336 piece=▁아닙니다\n",
      "bpe_model_trainer.cc(167) LOG(INFO) Updating active symbols. max_freq=1829 min_freq=132\n",
      "bpe_model_trainer.cc(258) LOG(INFO) Added: freq=1721 size=320 all=60239 active=3914 piece=▁공인인\n",
      "bpe_model_trainer.cc(258) LOG(INFO) Added: freq=1611 size=340 all=61263 active=4938 piece=▁구\n",
      "bpe_model_trainer.cc(258) LOG(INFO) Added: freq=1531 size=360 all=62443 active=6118 piece=▁종\n",
      "bpe_model_trainer.cc(258) LOG(INFO) Added: freq=1400 size=380 all=63387 active=7062 piece=했는데\n",
      "bpe_model_trainer.cc(258) LOG(INFO) Added: freq=1332 size=400 all=64321 active=7996 piece=▁연락\n",
      "bpe_model_trainer.cc(167) LOG(INFO) Updating active symbols. max_freq=1327 min_freq=114\n",
      "bpe_model_trainer.cc(258) LOG(INFO) Added: freq=1262 size=420 all=65455 active=4309 piece=▁간\n",
      "bpe_model_trainer.cc(258) LOG(INFO) Added: freq=1215 size=440 all=66643 active=5497 piece=▁병\n",
      "bpe_model_trainer.cc(258) LOG(INFO) Added: freq=1179 size=460 all=67420 active=6274 piece=▁100\n",
      "bpe_model_trainer.cc(258) LOG(INFO) Added: freq=1120 size=480 all=68402 active=7256 piece=▁잔액\n",
      "bpe_model_trainer.cc(258) LOG(INFO) Added: freq=1073 size=500 all=69401 active=8255 piece=▁교\n",
      "bpe_model_trainer.cc(167) LOG(INFO) Updating active symbols. max_freq=1070 min_freq=102\n",
      "bpe_model_trainer.cc(258) LOG(INFO) Added: freq=1040 size=520 all=70359 active=4410 piece=▁받아\n",
      "bpe_model_trainer.cc(258) LOG(INFO) Added: freq=976 size=540 all=71185 active=5236 piece=▁안되나요\n",
      "bpe_model_trainer.cc(258) LOG(INFO) Added: freq=927 size=560 all=72141 active=6192 piece=▁수수료가\n",
      "bpe_model_trainer.cc(258) LOG(INFO) Added: freq=889 size=580 all=72937 active=6988 piece=소득\n",
      "bpe_model_trainer.cc(258) LOG(INFO) Added: freq=865 size=600 all=73437 active=7488 piece=▁입출금\n",
      "bpe_model_trainer.cc(167) LOG(INFO) Updating active symbols. max_freq=864 min_freq=91\n",
      "bpe_model_trainer.cc(258) LOG(INFO) Added: freq=830 size=620 all=74628 active=4822 piece=던데\n",
      "bpe_model_trainer.cc(258) LOG(INFO) Added: freq=804 size=640 all=75169 active=5363 piece=▁실비\n",
      "bpe_model_trainer.cc(258) LOG(INFO) Added: freq=782 size=660 all=76138 active=6332 piece=청구\n",
      "bpe_model_trainer.cc(258) LOG(INFO) Added: freq=751 size=680 all=77247 active=7441 piece=▁작\n",
      "bpe_model_trainer.cc(258) LOG(INFO) Added: freq=725 size=700 all=78184 active=8378 piece=없이\n",
      "bpe_model_trainer.cc(167) LOG(INFO) Updating active symbols. max_freq=724 min_freq=82\n",
      "bpe_model_trainer.cc(258) LOG(INFO) Added: freq=699 size=720 all=78632 active=4264 piece=▁불가\n",
      "bpe_model_trainer.cc(258) LOG(INFO) Added: freq=679 size=740 all=79541 active=5173 piece=▁아이\n",
      "bpe_model_trainer.cc(258) LOG(INFO) Added: freq=655 size=760 all=80608 active=6240 piece=▁주민\n",
      "bpe_model_trainer.cc(258) LOG(INFO) Added: freq=643 size=780 all=81210 active=6842 piece=▁우대\n",
      "bpe_model_trainer.cc(258) LOG(INFO) Added: freq=625 size=800 all=81862 active=7494 piece=▁보험가입\n",
      "bpe_model_trainer.cc(167) LOG(INFO) Updating active symbols. max_freq=623 min_freq=75\n",
      "bpe_model_trainer.cc(258) LOG(INFO) Added: freq=607 size=820 all=82622 active=4790 piece=고객\n",
      "bpe_model_trainer.cc(258) LOG(INFO) Added: freq=590 size=840 all=83307 active=5475 piece=▁이하\n",
      "bpe_model_trainer.cc(258) LOG(INFO) Added: freq=575 size=860 all=83860 active=6027 piece=▁것입니다\n",
      "bpe_model_trainer.cc(258) LOG(INFO) Added: freq=553 size=880 all=84698 active=6865 piece=▁금액은\n",
      "bpe_model_trainer.cc(258) LOG(INFO) Added: freq=539 size=900 all=85334 active=7501 piece=▁그리고\n",
      "bpe_model_trainer.cc(167) LOG(INFO) Updating active symbols. max_freq=538 min_freq=70\n",
      "bpe_model_trainer.cc(258) LOG(INFO) Added: freq=526 size=920 all=86097 active=5025 piece=▁통해서\n",
      "bpe_model_trainer.cc(258) LOG(INFO) Added: freq=515 size=940 all=86874 active=5802 piece=▁넘\n",
      "bpe_model_trainer.cc(258) LOG(INFO) Added: freq=501 size=960 all=88088 active=7016 piece=거에요\n",
      "bpe_model_trainer.cc(258) LOG(INFO) Added: freq=488 size=980 all=88950 active=7878 piece=▁그게\n",
      "bpe_model_trainer.cc(258) LOG(INFO) Added: freq=478 size=1000 all=89331 active=8259 piece=▁자동화기기\n",
      "bpe_model_trainer.cc(167) LOG(INFO) Updating active symbols. max_freq=474 min_freq=64\n",
      "bpe_model_trainer.cc(258) LOG(INFO) Added: freq=464 size=1020 all=90367 active=5487 piece=▁클\n",
      "bpe_model_trainer.cc(258) LOG(INFO) Added: freq=452 size=1040 all=90950 active=6070 piece=▁나오나요\n",
      "bpe_model_trainer.cc(258) LOG(INFO) Added: freq=442 size=1060 all=91507 active=6627 piece=기준\n",
      "bpe_model_trainer.cc(258) LOG(INFO) Added: freq=433 size=1080 all=92276 active=7396 piece=▁발급받\n",
      "bpe_model_trainer.cc(258) LOG(INFO) Added: freq=423 size=1100 all=92863 active=7983 piece=▁퇴직연금\n",
      "bpe_model_trainer.cc(167) LOG(INFO) Updating active symbols. max_freq=422 min_freq=60\n",
      "bpe_model_trainer.cc(258) LOG(INFO) Added: freq=415 size=1120 all=93650 active=5404 piece=▁보험금을\n",
      "bpe_model_trainer.cc(258) LOG(INFO) Added: freq=404 size=1140 all=94236 active=5990 piece=질환\n",
      "bpe_model_trainer.cc(258) LOG(INFO) Added: freq=397 size=1160 all=94919 active=6673 piece=▁사업자\n",
      "bpe_model_trainer.cc(258) LOG(INFO) Added: freq=386 size=1180 all=95782 active=7536 piece=▁치아\n",
      "bpe_model_trainer.cc(258) LOG(INFO) Added: freq=378 size=1200 all=96178 active=7932 piece=▁스마트뱅킹\n",
      "bpe_model_trainer.cc(167) LOG(INFO) Updating active symbols. max_freq=377 min_freq=56\n",
      "bpe_model_trainer.cc(258) LOG(INFO) Added: freq=369 size=1220 all=96669 active=5285 piece=▁최근\n",
      "bpe_model_trainer.cc(258) LOG(INFO) Added: freq=361 size=1240 all=97351 active=5967 piece=래요\n",
      "bpe_model_trainer.cc(258) LOG(INFO) Added: freq=354 size=1260 all=97909 active=6525 piece=▁아니라\n",
      "bpe_model_trainer.cc(258) LOG(INFO) Added: freq=344 size=1280 all=98320 active=6936 piece=▁참\n",
      "bpe_model_trainer.cc(258) LOG(INFO) Added: freq=337 size=1300 all=98843 active=7459 piece=▁경우가\n",
      "bpe_model_trainer.cc(167) LOG(INFO) Updating active symbols. max_freq=337 min_freq=53\n",
      "bpe_model_trainer.cc(258) LOG(INFO) Added: freq=330 size=1320 all=99491 active=5589 piece=▁등을\n",
      "bpe_model_trainer.cc(258) LOG(INFO) Added: freq=323 size=1340 all=100150 active=6248 piece=▁일단\n",
      "bpe_model_trainer.cc(258) LOG(INFO) Added: freq=318 size=1360 all=100643 active=6741 piece=▁그렇다면\n",
      "bpe_model_trainer.cc(258) LOG(INFO) Added: freq=314 size=1380 all=101201 active=7299 piece=▁정해져\n",
      "bpe_model_trainer.cc(258) LOG(INFO) Added: freq=308 size=1400 all=101572 active=7670 piece=▁하지\n",
      "bpe_model_trainer.cc(167) LOG(INFO) Updating active symbols. max_freq=308 min_freq=50\n",
      "bpe_model_trainer.cc(258) LOG(INFO) Added: freq=303 size=1420 all=102066 active=5567 piece=▁오류\n",
      "bpe_model_trainer.cc(258) LOG(INFO) Added: freq=299 size=1440 all=102522 active=6023 piece=▁자세히\n",
      "bpe_model_trainer.cc(258) LOG(INFO) Added: freq=293 size=1460 all=102922 active=6423 piece=▁통한\n",
      "bpe_model_trainer.cc(258) LOG(INFO) Added: freq=286 size=1480 all=103438 active=6939 piece=지를\n",
      "bpe_model_trainer.cc(258) LOG(INFO) Added: freq=279 size=1500 all=104076 active=7577 piece=방법은\n",
      "bpe_model_trainer.cc(167) LOG(INFO) Updating active symbols. max_freq=279 min_freq=48\n",
      "bpe_model_trainer.cc(258) LOG(INFO) Added: freq=275 size=1520 all=104795 active=5874 piece=▁것도\n",
      "bpe_model_trainer.cc(258) LOG(INFO) Added: freq=271 size=1540 all=105302 active=6381 piece=기로\n",
      "bpe_model_trainer.cc(258) LOG(INFO) Added: freq=266 size=1560 all=105830 active=6909 piece=▁혜택이\n",
      "bpe_model_trainer.cc(258) LOG(INFO) Added: freq=262 size=1580 all=106311 active=7390 piece=▁확정\n",
      "bpe_model_trainer.cc(258) LOG(INFO) Added: freq=258 size=1600 all=106592 active=7671 piece=▁연금저축\n",
      "bpe_model_trainer.cc(167) LOG(INFO) Updating active symbols. max_freq=257 min_freq=46\n",
      "bpe_model_trainer.cc(258) LOG(INFO) Added: freq=253 size=1620 all=107372 active=6081 piece=▁금융거래\n",
      "bpe_model_trainer.cc(258) LOG(INFO) Added: freq=249 size=1640 all=107755 active=6464 piece=서류는\n",
      "bpe_model_trainer.cc(258) LOG(INFO) Added: freq=244 size=1660 all=108121 active=6830 piece=▁자격\n",
      "bpe_model_trainer.cc(258) LOG(INFO) Added: freq=241 size=1680 all=108683 active=7392 piece=▁가입하면\n",
      "bpe_model_trainer.cc(258) LOG(INFO) Added: freq=238 size=1700 all=108982 active=7691 piece=하겠습니다\n",
      "bpe_model_trainer.cc(167) LOG(INFO) Updating active symbols. max_freq=237 min_freq=44\n",
      "bpe_model_trainer.cc(258) LOG(INFO) Added: freq=234 size=1720 all=109468 active=5889 piece=시간은\n",
      "bpe_model_trainer.cc(258) LOG(INFO) Added: freq=230 size=1740 all=109766 active=6187 piece=▁구매\n",
      "bpe_model_trainer.cc(258) LOG(INFO) Added: freq=228 size=1760 all=110210 active=6631 piece=▁따른\n",
      "bpe_model_trainer.cc(258) LOG(INFO) Added: freq=225 size=1780 all=110664 active=7085 piece=▁평일\n",
      "bpe_model_trainer.cc(258) LOG(INFO) Added: freq=222 size=1800 all=111030 active=7451 piece=장이\n",
      "bpe_model_trainer.cc(167) LOG(INFO) Updating active symbols. max_freq=222 min_freq=42\n",
      "bpe_model_trainer.cc(258) LOG(INFO) Added: freq=219 size=1820 all=111446 active=5922 piece=▁통하여\n",
      "bpe_model_trainer.cc(258) LOG(INFO) Added: freq=215 size=1840 all=111904 active=6380 piece=하셔야합니다\n",
      "bpe_model_trainer.cc(258) LOG(INFO) Added: freq=212 size=1860 all=112425 active=6901 piece=▁불편\n",
      "bpe_model_trainer.cc(258) LOG(INFO) Added: freq=208 size=1880 all=112943 active=7419 piece=▁허\n",
      "bpe_model_trainer.cc(258) LOG(INFO) Added: freq=206 size=1900 all=113415 active=7891 piece=▁차이\n",
      "bpe_model_trainer.cc(167) LOG(INFO) Updating active symbols. max_freq=206 min_freq=40\n",
      "bpe_model_trainer.cc(258) LOG(INFO) Added: freq=204 size=1920 all=113952 active=6193 piece=▁있는거죠\n",
      "bpe_model_trainer.cc(258) LOG(INFO) Added: freq=201 size=1940 all=114428 active=6669 piece=등기\n",
      "bpe_model_trainer.cc(258) LOG(INFO) Added: freq=199 size=1960 all=115031 active=7272 piece=▁구분\n",
      "bpe_model_trainer.cc(258) LOG(INFO) Added: freq=196 size=1980 all=115355 active=7596 piece=▁보험증권\n",
      "bpe_model_trainer.cc(258) LOG(INFO) Added: freq=195 size=2000 all=115583 active=7824 piece=▁본인인증\n",
      "bpe_model_trainer.cc(167) LOG(INFO) Updating active symbols. max_freq=194 min_freq=39\n",
      "bpe_model_trainer.cc(258) LOG(INFO) Added: freq=191 size=2020 all=115979 active=6153 piece=▁CD\n",
      "bpe_model_trainer.cc(258) LOG(INFO) Added: freq=188 size=2040 all=116489 active=6663 piece=▁정리\n",
      "bpe_model_trainer.cc(258) LOG(INFO) Added: freq=186 size=2060 all=116846 active=7020 piece=▁가셔서\n",
      "bpe_model_trainer.cc(258) LOG(INFO) Added: freq=185 size=2080 all=117171 active=7345 piece=▁환급금이\n",
      "bpe_model_trainer.cc(258) LOG(INFO) Added: freq=182 size=2100 all=117453 active=7627 piece=▁지연\n",
      "bpe_model_trainer.cc(167) LOG(INFO) Updating active symbols. max_freq=182 min_freq=37\n",
      "bpe_model_trainer.cc(258) LOG(INFO) Added: freq=180 size=2120 all=117833 active=6232 piece=▁정해진\n",
      "bpe_model_trainer.cc(258) LOG(INFO) Added: freq=178 size=2140 all=118232 active=6631 piece=▁말씀하세요\n",
      "bpe_model_trainer.cc(258) LOG(INFO) Added: freq=176 size=2160 all=118662 active=7061 piece=▁피보험자가\n",
      "bpe_model_trainer.cc(258) LOG(INFO) Added: freq=174 size=2180 all=119076 active=7475 piece=▁얼마에요\n",
      "bpe_model_trainer.cc(258) LOG(INFO) Added: freq=172 size=2200 all=119383 active=7782 piece=병원\n",
      "bpe_model_trainer.cc(167) LOG(INFO) Updating active symbols. max_freq=172 min_freq=36\n",
      "bpe_model_trainer.cc(258) LOG(INFO) Added: freq=171 size=2220 all=119927 active=6455 piece=▁보장성\n",
      "bpe_model_trainer.cc(258) LOG(INFO) Added: freq=169 size=2240 all=120210 active=6738 piece=▁정보를\n",
      "bpe_model_trainer.cc(258) LOG(INFO) Added: freq=167 size=2260 all=120656 active=7184 piece=▁이용하여\n",
      "bpe_model_trainer.cc(258) LOG(INFO) Added: freq=164 size=2280 all=121011 active=7539 piece=▁리\n",
      "bpe_model_trainer.cc(258) LOG(INFO) Added: freq=162 size=2300 all=121306 active=7834 piece=▁범\n",
      "bpe_model_trainer.cc(167) LOG(INFO) Updating active symbols. max_freq=162 min_freq=35\n",
      "bpe_model_trainer.cc(258) LOG(INFO) Added: freq=161 size=2320 all=121644 active=6394 piece=▁하향\n",
      "bpe_model_trainer.cc(258) LOG(INFO) Added: freq=160 size=2340 all=121973 active=6723 piece=▁이체한도를\n",
      "bpe_model_trainer.cc(258) LOG(INFO) Added: freq=158 size=2360 all=122364 active=7114 piece=원으로\n",
      "bpe_model_trainer.cc(258) LOG(INFO) Added: freq=156 size=2380 all=122655 active=7405 piece=▁브\n",
      "bpe_model_trainer.cc(258) LOG(INFO) Added: freq=155 size=2400 all=123038 active=7788 piece=▁거래인감\n",
      "bpe_model_trainer.cc(167) LOG(INFO) Updating active symbols. max_freq=155 min_freq=34\n",
      "bpe_model_trainer.cc(258) LOG(INFO) Added: freq=153 s"
     ]
    }
   ],
   "source": [
    "corpus = \"data.txt\"\n",
    "prefix = \"chatbot\"\n",
    "vocab_size = 8000\n",
    "spm.SentencePieceTrainer.train(\n",
    "    f\"--input={corpus} --model_prefix={prefix} --vocab_size={vocab_size + 7}\" + \n",
    "    \" --model_type=bpe\" +\n",
    "    \" --max_sentence_length=999999\" + # 문장 최대 길이\n",
    "    \" --pad_id=0 --pad_piece=[PAD]\" + # pad (0)\n",
    "    \" --unk_id=1 --unk_piece=[UNK]\" + # unknown (1)\n",
    "    \" --bos_id=2 --bos_piece=[BOS]\" + # begin of sequence (2)\n",
    "    \" --eos_id=3 --eos_piece=[EOS]\" + # end of sequence (3)\n",
    "    \" --user_defined_symbols=[SEP],[CLS],[MASK]\") # 사용자 정의 토큰"
   ]
  },
  {
   "cell_type": "markdown",
   "id": "41209461",
   "metadata": {},
   "source": [
    "# 토큰화 테스트"
   ]
  },
  {
   "cell_type": "code",
   "execution_count": 7,
   "id": "abca8a09",
   "metadata": {
    "scrolled": true
   },
   "outputs": [
    {
     "name": "stdout",
     "output_type": "stream",
     "text": [
      "무엇을 도와드릴까요?\n",
      "['▁무엇을', '▁도와드릴까요', '?']\n",
      "[1538, 5673, 1]\n"
     ]
    },
    {
     "name": "stderr",
     "output_type": "stream",
     "text": [
      "ize=2420 all=123311 active=6418 piece=▁지불\n",
      "bpe_model_trainer.cc(258) LOG(INFO) Added: freq=152 size=2440 all=123522 active=6629 piece=▁1000\n",
      "bpe_model_trainer.cc(258) LOG(INFO) Added: freq=150 size=2460 all=123868 active=6975 piece=▁요양\n",
      "bpe_model_trainer.cc(258) LOG(INFO) Added: freq=148 size=2480 all=124203 active=7310 piece=입원\n",
      "bpe_model_trainer.cc(258) LOG(INFO) Added: freq=147 size=2500 all=124701 active=7808 piece=▁이것도\n",
      "bpe_model_trainer.cc(167) LOG(INFO) Updating active symbols. max_freq=147 min_freq=33\n",
      "bpe_model_trainer.cc(258) LOG(INFO) Added: freq=145 size=2520 all=124935 active=6470 piece=▁대물\n",
      "bpe_model_trainer.cc(258) LOG(INFO) Added: freq=144 size=2540 all=125138 active=6673 piece=▁신체\n",
      "bpe_model_trainer.cc(258) LOG(INFO) Added: freq=143 size=2560 all=125481 active=7016 piece=▁발생할\n",
      "bpe_model_trainer.cc(258) LOG(INFO) Added: freq=141 size=2580 all=125795 active=7330 piece=▁상이\n",
      "bpe_model_trainer.cc(258) LOG(INFO) Added: freq=140 size=2600 all=126184 active=7719 piece=다구요\n",
      "bpe_model_trainer.cc(167) LOG(INFO) Updating active symbols. max_freq=140 min_freq=32\n",
      "bpe_model_trainer.cc(258) LOG(INFO) Added: freq=138 size=2620 all=126521 active=6611 piece=▁요구\n",
      "bpe_model_trainer.cc(258) LOG(INFO) Added: freq=137 size=2640 all=126914 active=7004 piece=▁원하는\n",
      "bpe_model_trainer.cc(258) LOG(INFO) Added: freq=136 size=2660 all=127206 active=7296 piece=셨습니다\n",
      "bpe_model_trainer.cc(258) LOG(INFO) Added: freq=135 size=2680 all=127588 active=7678 piece=▁회사가\n",
      "bpe_model_trainer.cc(258) LOG(INFO) Added: freq=133 size=2700 all=127828 active=7918 piece=리는\n",
      "bpe_model_trainer.cc(167) LOG(INFO) Updating active symbols. max_freq=133 min_freq=31\n",
      "bpe_model_trainer.cc(258) LOG(INFO) Added: freq=132 size=2720 all=128251 active=6766 piece=▁국세\n",
      "bpe_model_trainer.cc(258) LOG(INFO) Added: freq=131 size=2740 all=128490 active=7005 piece=▁유선\n",
      "bpe_model_trainer.cc(258) LOG(INFO) Added: freq=130 size=2760 all=128900 active=7415 piece=▁화재보험\n",
      "bpe_model_trainer.cc(258) LOG(INFO) Added: freq=128 size=2780 all=129363 active=7878 piece=▁수가\n",
      "bpe_model_trainer.cc(258) LOG(INFO) Added: freq=127 size=2800 all=129714 active=8229 piece=했을\n",
      "bpe_model_trainer.cc(167) LOG(INFO) Updating active symbols. max_freq=127 min_freq=30\n",
      "bpe_model_trainer.cc(258) LOG(INFO) Added: freq=126 size=2820 all=129938 active=6656 piece=시키\n",
      "bpe_model_trainer.cc(258) LOG(INFO) Added: freq=125 size=2840 all=130247 active=6965 piece=보상이\n",
      "bpe_model_trainer.cc(258) LOG(INFO) Added: freq=124 size=2860 all=130468 active=7186 piece=▁연금을\n",
      "bpe_model_trainer.cc(258) LOG(INFO) Added: freq=123 size=2880 all=130680 active=7398 piece=▁안된다는\n",
      "bpe_model_trainer.cc(258) LOG(INFO) Added: freq=122 size=2900 all=130893 active=7611 piece=▁목적으로\n",
      "bpe_model_trainer.cc(167) LOG(INFO) Updating active symbols. max_freq=122 min_freq=29\n",
      "bpe_model_trainer.cc(258) LOG(INFO) Added: freq=121 size=2920 all=131207 active=6857 piece=▁경우에도\n",
      "bpe_model_trainer.cc(258) LOG(INFO) Added: freq=120 size=2940 all=131526 active=7176 piece=▁얼마를\n",
      "bpe_model_trainer.cc(258) LOG(INFO) Added: freq=119 size=2960 all=131769 active=7419 piece=▁한꺼번에\n",
      "bpe_model_trainer.cc(258) LOG(INFO) Added: freq=117 size=2980 all=131965 active=7615 piece=증이\n",
      "bpe_model_trainer.cc(258) LOG(INFO) Added: freq=116 size=3000 all=132254 active=7904 piece=리면\n",
      "bpe_model_trainer.cc(167) LOG(INFO) Updating active symbols. max_freq=116 min_freq=28\n",
      "bpe_model_trainer.cc(258) LOG(INFO) Added: freq=115 size=3020 all=132443 active=6778 piece=▁보낼\n",
      "bpe_model_trainer.cc(258) LOG(INFO) Added: freq=114 size=3040 all=132811 active=7146 piece=자동차\n",
      "bpe_model_trainer.cc(258) LOG(INFO) Added: freq=113 size=3060 all=133228 active=7563 piece=연금을\n",
      "bpe_model_trainer.cc(258) LOG(INFO) Added: freq=112 size=3080 all=133432 active=7767 piece=▁교체\n",
      "bpe_model_trainer.cc(258) LOG(INFO) Added: freq=111 size=3100 all=133733 active=8068 piece=▁DC\n",
      "bpe_model_trainer.cc(167) LOG(INFO) Updating active symbols. max_freq=111 min_freq=28\n",
      "bpe_model_trainer.cc(258) LOG(INFO) Added: freq=110 size=3120 all=134041 active=6995 piece=대금\n",
      "bpe_model_trainer.cc(258) LOG(INFO) Added: freq=110 size=3140 all=134462 active=7416 piece=▁보험사가\n",
      "bpe_model_trainer.cc(258) LOG(INFO) Added: freq=109 size=3160 all=134817 active=7771 piece=▁것인가요\n",
      "bpe_model_trainer.cc(258) LOG(INFO) Added: freq=108 size=3180 all=135151 active=8105 piece=▁사고에\n",
      "bpe_model_trainer.cc(258) LOG(INFO) Added: freq=107 size=3200 all=135281 active=8235 piece=▁타인의\n",
      "bpe_model_trainer.cc(167) LOG(INFO) Updating active symbols. max_freq=107 min_freq=27\n",
      "bpe_model_trainer.cc(258) LOG(INFO) Added: freq=106 size=3220 all=135471 active=6955 piece=▁손해사\n",
      "bpe_model_trainer.cc(258) LOG(INFO) Added: freq=105 size=3240 all=135783 active=7267 piece=스피싱\n",
      "bpe_model_trainer.cc(258) LOG(INFO) Added: freq=104 size=3260 all=136103 active=7587 piece=▁만들고\n",
      "bpe_model_trainer.cc(258) LOG(INFO) Added: freq=103 size=3280 all=136235 active=7719 piece=▁매번\n",
      "bpe_model_trainer.cc(258) LOG(INFO) Added: freq=102 size=3300 all=136514 active=7998 piece=으니\n",
      "bpe_model_trainer.cc(167) LOG(INFO) Updating active symbols. max_freq=102 min_freq=26\n",
      "bpe_model_trainer.cc(258) LOG(INFO) Added: freq=102 size=3320 all=136745 active=7025 piece=▁보상됩니다\n",
      "bpe_model_trainer.cc(258) LOG(INFO) Added: freq=101 size=3340 all=136939 active=7219 piece=▁전체메뉴\n",
      "bpe_model_trainer.cc(258) LOG(INFO) Added: freq=100 size=3360 all=137157 active=7437 piece=서비스가\n",
      "bpe_model_trainer.cc(258) LOG(INFO) Added: freq=99 size=3380 all=137516 active=7796 piece=하네요\n",
      "bpe_model_trainer.cc(258) LOG(INFO) Added: freq=98 size=3400 all=137723 active=8003 piece=▁갖\n",
      "bpe_model_trainer.cc(167) LOG(INFO) Updating active symbols. max_freq=98 min_freq=25\n",
      "bpe_model_trainer.cc(258) LOG(INFO) Added: freq=98 size=3420 all=138120 active=7273 piece=▁업무를\n",
      "bpe_model_trainer.cc(258) LOG(INFO) Added: freq=97 size=3440 all=138422 active=7575 piece=있는데\n",
      "bpe_model_trainer.cc(258) LOG(INFO) Added: freq=96 size=3460 all=138669 active=7822 piece=형으로\n",
      "bpe_model_trainer.cc(258) LOG(INFO) Added: freq=95 size=3480 all=139074 active=8227 piece=오나요\n",
      "bpe_model_trainer.cc(258) LOG(INFO) Added: freq=94 size=3500 all=139344 active=8497 piece=등급이\n",
      "bpe_model_trainer.cc(167) LOG(INFO) Updating active symbols. max_freq=94 min_freq=25\n",
      "bpe_model_trainer.cc(258) LOG(INFO) Added: freq=93 size=3520 all=139515 active=7117 piece=년납\n",
      "bpe_model_trainer.cc(258) LOG(INFO) Added: freq=93 size=3540 all=139902 active=7504 piece=▁결정됩니다\n",
      "bpe_model_trainer.cc(258) LOG(INFO) Added: freq=92 size=3560 all=140129 active=7731 piece=▁할인이\n",
      "bpe_model_trainer.cc(258) LOG(INFO) Added: freq=91 size=3580 all=140379 active=7981 piece=▁낮은\n",
      "bpe_model_trainer.cc(258) LOG(INFO) Added: freq=91 size=3600 all=140534 active=8136 piece"
     ]
    }
   ],
   "source": [
    "vocab_file = \"chatbot.model\"\n",
    "vocab = spm.SentencePieceProcessor()\n",
    "vocab.load(vocab_file)\n",
    "line = \"무엇을 도와드릴까요?\"\n",
    "pieces = vocab.encode_as_pieces(line)\n",
    "ids = vocab.encode_as_ids(line)\n",
    "\n",
    "\n",
    "print(line)\n",
    "print(pieces)\n",
    "print(ids)"
   ]
  },
  {
   "cell_type": "markdown",
   "id": "e55cfc46",
   "metadata": {},
   "source": [
    "# 학습된 sentence piece를 이용하여 주어진 문장을 정수로 인코딩하는 함수를 선언. \n",
    "# 문장의 처음과 끝에는 sentence piece를 학습 시킬 때 따로 선언했던 START_TOKEN과 END_TOKEN의 index를 넣음"
   ]
  },
  {
   "cell_type": "code",
   "execution_count": 8,
   "id": "8c4ff911",
   "metadata": {},
   "outputs": [],
   "source": [
    "MAX_LENGTH = 40\n",
    "\n",
    "START_TOKEN = [2]\n",
    "END_TOKEN = [3]\n",
    "\n",
    "# 토큰화 / 정수 인코딩 / 시작 토큰과 종료 토큰 추가 / 패딩\n",
    "def tokenize_and_filter(inputs, outputs):\n",
    "    tokenized_inputs, tokenized_outputs = [], []\n",
    "\n",
    "    for (sentence1, sentence2) in zip(inputs, outputs):\n",
    "    # encode(토큰화 + 정수 인코딩), 시작 토큰과 종료 토큰 추가\n",
    "        zeros1 = np.zeros(MAX_LENGTH, dtype=int)\n",
    "        zeros2 = np.zeros(MAX_LENGTH, dtype=int)\n",
    "        sentence1 = START_TOKEN + vocab.encode_as_ids(sentence1) + END_TOKEN\n",
    "        zeros1[:len(sentence1)] = sentence1[:MAX_LENGTH]\n",
    "\n",
    "        sentence2 = START_TOKEN + vocab.encode_as_ids(sentence2) + END_TOKEN\n",
    "        zeros2[:len(sentence2)] = sentence2[:MAX_LENGTH]\n",
    "\n",
    "        tokenized_inputs.append(zeros1)\n",
    "        tokenized_outputs.append(zeros2)\n",
    "    return tokenized_inputs, tokenized_outputs"
   ]
  },
  {
   "cell_type": "markdown",
   "id": "ad1e07fd",
   "metadata": {},
   "source": [
    "# 인코딩 테스트"
   ]
  },
  {
   "cell_type": "code",
   "execution_count": 9,
   "id": "2bddcec2",
   "metadata": {},
   "outputs": [],
   "source": [
    "questions_encode, answers_encode = tokenize_and_filter(questions, answers)"
   ]
  },
  {
   "cell_type": "code",
   "execution_count": 10,
   "id": "fd55d913",
   "metadata": {},
   "outputs": [
    {
     "name": "stdout",
     "output_type": "stream",
     "text": [
      "[   2 1310 7119  135 7241 1722   50 5180    3    0    0    0    0    0\n",
      "    0    0    0    0    0    0    0    0    0    0    0    0    0    0\n",
      "    0    0    0    0    0    0    0    0    0    0    0    0]\n",
      "[   2  578 6557 1412 4431  193 7191 7130  876 1733   14  300    3    0\n",
      "    0    0    0    0    0    0    0    0    0    0    0    0    0    0\n",
      "    0    0    0    0    0    0    0    0    0    0    0    0]\n"
     ]
    }
   ],
   "source": [
    "print(questions_encode[1])\n",
    "print(answers_encode[1])"
   ]
  },
  {
   "cell_type": "markdown",
   "id": "84fa97b5",
   "metadata": {},
   "source": [
    "# Batch 학습을 위해 dataset, dataloader를 생성\n",
    "# 첫번째 값은 주어진 질문, 두번째 값은 디코더의 입력으로 마지막 토큰값이 제거된 대답, 마지막 값은 첫 토큰값이 제거된 결과"
   ]
  },
  {
   "cell_type": "code",
   "execution_count": 11,
   "id": "b48648c3",
   "metadata": {},
   "outputs": [],
   "source": [
    "class SequenceDataset(Dataset):\n",
    "    def __init__(self, questions, answers):\n",
    "        questions = np.array(questions)\n",
    "        answers = np.array(answers)\n",
    "        self.inputs = questions\n",
    "        self.dec_inputs = answers[:,:-1]\n",
    "        self.outputs = answers[:,1:]\n",
    "        self.length = len(questions)\n",
    "    \n",
    "    def __getitem__(self,idx):\n",
    "        return (self.inputs[idx], self.dec_inputs[idx], self.outputs[idx])\n",
    "\n",
    "    def __len__(self):\n",
    "        return self.length\n",
    "\n",
    "BATCH_SIZE = 64\n",
    "dataset = SequenceDataset(questions_encode, answers_encode)\n",
    "dataloader = DataLoader(dataset, shuffle=True, batch_size=BATCH_SIZE)"
   ]
  },
  {
   "cell_type": "markdown",
   "id": "1ad51aaa",
   "metadata": {},
   "source": [
    "# Transformer 모델 선언(positional encoding과 Embedding이 포함)"
   ]
  },
  {
   "cell_type": "code",
   "execution_count": 12,
   "id": "e11ae372",
   "metadata": {},
   "outputs": [],
   "source": [
    "class TFModel(nn.Module):\n",
    "    def __init__(self, ntoken, ninp, nhead, nhid, nlayers, dropout=0.5):\n",
    "        super(TFModel, self).__init__()\n",
    "        self.transformer = Transformer(ninp, nhead, dim_feedforward=nhid, num_encoder_layers=nlayers, num_decoder_layers=nlayers,dropout=dropout)\n",
    "        self.pos_encoder = PositionalEncoding(ninp, dropout)\n",
    "        self.encoder = nn.Embedding(ntoken, ninp)\n",
    "\n",
    "        self.pos_encoder_d = PositionalEncoding(ninp, dropout)\n",
    "        self.encoder_d = nn.Embedding(ntoken, ninp)\n",
    "\n",
    "        self.ninp = ninp\n",
    "        self.ntoken = ntoken\n",
    "\n",
    "        self.linear = nn.Linear(ninp, ntoken)\n",
    "        self.init_weights()\n",
    "\n",
    "    def generate_square_subsequent_mask(self, sz):\n",
    "        mask = (torch.triu(torch.ones(sz, sz)) == 1).transpose(0, 1)\n",
    "        mask = mask.float().masked_fill(mask == 0, float('-inf')).masked_fill(mask == 1, float(0.0))\n",
    "        return mask\n",
    "\n",
    "    def init_weights(self):\n",
    "        initrange = 0.1\n",
    "        self.encoder.weight.data.uniform_(-initrange, initrange)\n",
    "\n",
    "    def forward(self, src, tgt, srcmask, tgtmask, srcpadmask, tgtpadmask):\n",
    "        src = self.encoder(src) * math.sqrt(self.ninp)\n",
    "        src = self.pos_encoder(src)\n",
    "\n",
    "        tgt = self.encoder_d(tgt) * math.sqrt(self.ninp)\n",
    "        tgt = self.pos_encoder_d(tgt)\n",
    "\n",
    "\n",
    "        output = self.transformer(src.transpose(0,1), tgt.transpose(0,1), srcmask, tgtmask, src_key_padding_mask=srcpadmask, tgt_key_padding_mask=tgtpadmask)\n",
    "        output = self.linear(output)\n",
    "        return output\n",
    "\n",
    "class PositionalEncoding(nn.Module):\n",
    "    def __init__(self, d_model, dropout=0.1, max_len=5000):\n",
    "        super(PositionalEncoding, self).__init__()\n",
    "        self.dropout = nn.Dropout(p=dropout)\n",
    "\n",
    "        pe = torch.zeros(max_len, d_model)\n",
    "        position = torch.arange(0, max_len, dtype=torch.float).unsqueeze(1)\n",
    "        div_term = torch.exp(torch.arange(0, d_model, 2).float() * (-math.log(10000.0) / d_model))\n",
    "        pe[:, 0::2] = torch.sin(position * div_term)\n",
    "        pe[:, 1::2] = torch.cos(position * div_term)\n",
    "        pe = pe.unsqueeze(0).transpose(0, 1)\n",
    "        self.register_buffer('pe', pe)\n",
    "\n",
    "    def forward(self, x):\n",
    "        x = x + self.pe[:x.size(0), :]\n",
    "        return self.dropout(x)\n",
    "\n",
    "def gen_attention_mask(x):\n",
    "    mask = torch.eq(x, 0)\n",
    "    return mask"
   ]
  },
  {
   "cell_type": "markdown",
   "id": "7ef2691a",
   "metadata": {},
   "source": [
    "# 훈련 진행"
   ]
  },
  {
   "cell_type": "code",
   "execution_count": 13,
   "id": "4f39a945",
   "metadata": {},
   "outputs": [],
   "source": [
    "device = torch.device(\"cuda\", index=1)\n",
    "\n",
    "lr = 1e-4\n",
    "model = TFModel(vocab_size+7, 256, 8, 512, 2, 0.1).to(device)\n",
    "criterion = nn.CrossEntropyLoss()\n",
    "optimizer = torch.optim.Adam(model.parameters(), lr=lr)"
   ]
  },
  {
   "cell_type": "code",
   "execution_count": 36,
   "id": "08bc15c1",
   "metadata": {
    "scrolled": true
   },
   "outputs": [
    {
     "name": "stderr",
     "output_type": "stream",
     "text": [
      "0.188: 100%|██████████████████████████████████████████████████████████████████████████████████████████████████████████████████████| 1490/1490 [00:35<00:00, 42.57it/s]\n"
     ]
    },
    {
     "name": "stdout",
     "output_type": "stream",
     "text": [
      "tensor(0.1875, device='cuda:1', grad_fn=<NllLoss2DBackward>)\n",
      "tensor(528.2755, device='cuda:1', grad_fn=<AddBackward0>)\n",
      "Best loss: 2000.0, Loss: 528.2755126953125\n",
      "epoch: 1 | loss: 0.35454732395658556\n"
     ]
    },
    {
     "name": "stderr",
     "output_type": "stream",
     "text": [
      "0.362: 100%|██████████████████████████████████████████████████████████████████████████████████████████████████████████████████████| 1490/1490 [00:35<00:00, 41.71it/s]\n"
     ]
    },
    {
     "name": "stdout",
     "output_type": "stream",
     "text": [
      "tensor(0.3623, device='cuda:1', grad_fn=<NllLoss2DBackward>)\n",
      "tensor(526.2171, device='cuda:1', grad_fn=<AddBackward0>)\n",
      "Best loss: 528.2755126953125, Loss: 526.2171020507812\n",
      "epoch: 2 | loss: 0.3531658403025377\n"
     ]
    },
    {
     "name": "stderr",
     "output_type": "stream",
     "text": [
      "0.287: 100%|██████████████████████████████████████████████████████████████████████████████████████████████████████████████████████| 1490/1490 [00:35<00:00, 41.96it/s]\n"
     ]
    },
    {
     "name": "stdout",
     "output_type": "stream",
     "text": [
      "tensor(0.2868, device='cuda:1', grad_fn=<NllLoss2DBackward>)\n",
      "tensor(524.7769, device='cuda:1', grad_fn=<AddBackward0>)\n",
      "Best loss: 526.2171020507812, Loss: 524.7769165039062\n",
      "epoch: 3 | loss: 0.3521992728214136\n"
     ]
    },
    {
     "name": "stderr",
     "output_type": "stream",
     "text": [
      "0.422: 100%|██████████████████████████████████████████████████████████████████████████████████████████████████████████████████████| 1490/1490 [00:35<00:00, 41.41it/s]\n"
     ]
    },
    {
     "name": "stdout",
     "output_type": "stream",
     "text": [
      "tensor(0.4221, device='cuda:1', grad_fn=<NllLoss2DBackward>)\n",
      "tensor(521.3963, device='cuda:1', grad_fn=<AddBackward0>)\n",
      "Best loss: 524.7769165039062, Loss: 521.3963012695312\n",
      "epoch: 4 | loss: 0.34993040353659816\n"
     ]
    },
    {
     "name": "stderr",
     "output_type": "stream",
     "text": [
      "0.273: 100%|██████████████████████████████████████████████████████████████████████████████████████████████████████████████████████| 1490/1490 [00:35<00:00, 42.06it/s]\n"
     ]
    },
    {
     "name": "stdout",
     "output_type": "stream",
     "text": [
      "tensor(0.2727, device='cuda:1', grad_fn=<NllLoss2DBackward>)\n",
      "tensor(520.2849, device='cuda:1', grad_fn=<AddBackward0>)\n",
      "Best loss: 521.3963012695312, Loss: 520.284912109375\n",
      "epoch: 5 | loss: 0.3491845047713926\n"
     ]
    },
    {
     "name": "stderr",
     "output_type": "stream",
     "text": [
      "0.323: 100%|██████████████████████████████████████████████████████████████████████████████████████████████████████████████████████| 1490/1490 [00:35<00:00, 41.79it/s]\n"
     ]
    },
    {
     "name": "stdout",
     "output_type": "stream",
     "text": [
      "tensor(0.3233, device='cuda:1', grad_fn=<NllLoss2DBackward>)\n",
      "tensor(519.2181, device='cuda:1', grad_fn=<AddBackward0>)\n",
      "Best loss: 520.284912109375, Loss: 519.2180786132812\n",
      "epoch: 6 | loss: 0.34846850913643035\n"
     ]
    },
    {
     "name": "stderr",
     "output_type": "stream",
     "text": [
      "0.176: 100%|██████████████████████████████████████████████████████████████████████████████████████████████████████████████████████| 1490/1490 [00:35<00:00, 41.55it/s]\n"
     ]
    },
    {
     "name": "stdout",
     "output_type": "stream",
     "text": [
      "tensor(0.1762, device='cuda:1', grad_fn=<NllLoss2DBackward>)\n",
      "tensor(517.6962, device='cuda:1', grad_fn=<AddBackward0>)\n",
      "Best loss: 519.2180786132812, Loss: 517.6961669921875\n",
      "epoch: 7 | loss: 0.34744709194106543\n"
     ]
    },
    {
     "name": "stderr",
     "output_type": "stream",
     "text": [
      "0.435: 100%|██████████████████████████████████████████████████████████████████████████████████████████████████████████████████████| 1490/1490 [00:36<00:00, 41.26it/s]\n"
     ]
    },
    {
     "name": "stdout",
     "output_type": "stream",
     "text": [
      "tensor(0.4347, device='cuda:1', grad_fn=<NllLoss2DBackward>)\n",
      "tensor(515.5412, device='cuda:1', grad_fn=<AddBackward0>)\n",
      "Best loss: 517.6961669921875, Loss: 515.5411987304688\n",
      "epoch: 8 | loss: 0.34600080451709314\n"
     ]
    },
    {
     "name": "stderr",
     "output_type": "stream",
     "text": [
      "0.255: 100%|██████████████████████████████████████████████████████████████████████████████████████████████████████████████████████| 1490/1490 [00:35<00:00, 41.47it/s]\n"
     ]
    },
    {
     "name": "stdout",
     "output_type": "stream",
     "text": [
      "tensor(0.2547, device='cuda:1', grad_fn=<NllLoss2DBackward>)\n",
      "tensor(513.3089, device='cuda:1', grad_fn=<AddBackward0>)\n",
      "Best loss: 515.5411987304688, Loss: 513.3088989257812\n",
      "epoch: 9 | loss: 0.34450261672871224\n"
     ]
    },
    {
     "name": "stderr",
     "output_type": "stream",
     "text": [
      "0.455: 100%|██████████████████████████████████████████████████████████████████████████████████████████████████████████████████████| 1490/1490 [00:36<00:00, 41.26it/s]\n"
     ]
    },
    {
     "name": "stdout",
     "output_type": "stream",
     "text": [
      "tensor(0.4553, device='cuda:1', grad_fn=<NllLoss2DBackward>)\n",
      "tensor(512.1512, device='cuda:1', grad_fn=<AddBackward0>)\n",
      "Best loss: 513.3088989257812, Loss: 512.1512451171875\n",
      "epoch: 10 | loss: 0.34372566786388425\n"
     ]
    },
    {
     "name": "stderr",
     "output_type": "stream",
     "text": [
      "0.314: 100%|██████████████████████████████████████████████████████████████████████████████████████████████████████████████████████| 1490/1490 [00:36<00:00, 41.00it/s]\n"
     ]
    },
    {
     "name": "stdout",
     "output_type": "stream",
     "text": [
      "tensor(0.3135, device='cuda:1', grad_fn=<NllLoss2DBackward>)\n",
      "tensor(510.1031, device='cuda:1', grad_fn=<AddBackward0>)\n",
      "Best loss: 512.1512451171875, Loss: 510.1031188964844\n",
      "epoch: 11 | loss: 0.3423510865077076\n"
     ]
    },
    {
     "name": "stderr",
     "output_type": "stream",
     "text": [
      "0.304: 100%|██████████████████████████████████████████████████████████████████████████████████████████████████████████████████████| 1490/1490 [00:35<00:00, 41.91it/s]\n"
     ]
    },
    {
     "name": "stdout",
     "output_type": "stream",
     "text": [
      "tensor(0.3044, device='cuda:1', grad_fn=<NllLoss2DBackward>)\n",
      "tensor(508.7563, device='cuda:1', grad_fn=<AddBackward0>)\n",
      "Best loss: 510.1031188964844, Loss: 508.7562561035156\n",
      "epoch: 12 | loss: 0.3414471517473259\n"
     ]
    },
    {
     "name": "stderr",
     "output_type": "stream",
     "text": [
      "0.342: 100%|██████████████████████████████████████████████████████████████████████████████████████████████████████████████████████| 1490/1490 [00:35<00:00, 41.92it/s]\n"
     ]
    },
    {
     "name": "stdout",
     "output_type": "stream",
     "text": [
      "tensor(0.3421, device='cuda:1', grad_fn=<NllLoss2DBackward>)\n",
      "tensor(507.4232, device='cuda:1', grad_fn=<AddBackward0>)\n",
      "Best loss: 508.7562561035156, Loss: 507.4231872558594\n",
      "epoch: 13 | loss: 0.34055247466836197\n"
     ]
    },
    {
     "name": "stderr",
     "output_type": "stream",
     "text": [
      "0.374: 100%|██████████████████████████████████████████████████████████████████████████████████████████████████████████████████████| 1490/1490 [00:35<00:00, 41.97it/s]\n"
     ]
    },
    {
     "name": "stdout",
     "output_type": "stream",
     "text": [
      "tensor(0.3741, device='cuda:1', grad_fn=<NllLoss2DBackward>)\n",
      "tensor(505.3499, device='cuda:1', grad_fn=<AddBackward0>)\n",
      "Best loss: 507.4231872558594, Loss: 505.3499450683594\n",
      "epoch: 14 | loss: 0.3391610369586305\n"
     ]
    },
    {
     "name": "stderr",
     "output_type": "stream",
     "text": [
      "0.294: 100%|██████████████████████████████████████████████████████████████████████████████████████████████████████████████████████| 1490/1490 [00:36<00:00, 41.20it/s]\n"
     ]
    },
    {
     "name": "stdout",
     "output_type": "stream",
     "text": [
      "tensor(0.2941, device='cuda:1', grad_fn=<NllLoss2DBackward>)\n",
      "tensor(503.9307, device='cuda:1', grad_fn=<AddBackward0>)\n",
      "Best loss: 505.3499450683594, Loss: 503.9306640625\n",
      "epoch: 15 | loss: 0.3382084993708054\n"
     ]
    },
    {
     "name": "stderr",
     "output_type": "stream",
     "text": [
      "0.338: 100%|██████████████████████████████████████████████████████████████████████████████████████████████████████████████████████| 1490/1490 [00:35<00:00, 42.25it/s]\n"
     ]
    },
    {
     "name": "stdout",
     "output_type": "stream",
     "text": [
      "tensor(0.3377, device='cuda:1', grad_fn=<NllLoss2DBackward>)\n",
      "tensor(503.0791, device='cuda:1', grad_fn=<AddBackward0>)\n",
      "Best loss: 503.9306640625, Loss: 503.0790710449219\n",
      "epoch: 16 | loss: 0.3376369604328335\n"
     ]
    },
    {
     "name": "stderr",
     "output_type": "stream",
     "text": [
      "0.453: 100%|██████████████████████████████████████████████████████████████████████████████████████████████████████████████████████| 1490/1490 [00:36<00:00, 41.36it/s]\n"
     ]
    },
    {
     "name": "stdout",
     "output_type": "stream",
     "text": [
      "tensor(0.4528, device='cuda:1', grad_fn=<NllLoss2DBackward>)\n",
      "tensor(500.4671, device='cuda:1', grad_fn=<AddBackward0>)\n",
      "Best loss: 503.0790710449219, Loss: 500.4670715332031\n",
      "epoch: 17 | loss: 0.33588394062631083\n"
     ]
    },
    {
     "name": "stderr",
     "output_type": "stream",
     "text": [
      "0.370: 100%|██████████████████████████████████████████████████████████████████████████████████████████████████████████████████████| 1490/1490 [00:35<00:00, 41.70it/s]\n"
     ]
    },
    {
     "name": "stdout",
     "output_type": "stream",
     "text": [
      "tensor(0.3702, device='cuda:1', grad_fn=<NllLoss2DBackward>)\n",
      "tensor(499.6277, device='cuda:1', grad_fn=<AddBackward0>)\n",
      "Best loss: 500.4670715332031, Loss: 499.6277160644531\n",
      "epoch: 18 | loss: 0.3353206148083578\n"
     ]
    },
    {
     "name": "stderr",
     "output_type": "stream",
     "text": [
      "0.366: 100%|██████████████████████████████████████████████████████████████████████████████████████████████████████████████████████| 1490/1490 [00:36<00:00, 40.44it/s]\n"
     ]
    },
    {
     "name": "stdout",
     "output_type": "stream",
     "text": [
      "tensor(0.3660, device='cuda:1', grad_fn=<NllLoss2DBackward>)\n",
      "tensor(498.8142, device='cuda:1', grad_fn=<AddBackward0>)\n",
      "Best loss: 499.6277160644531, Loss: 498.814208984375\n",
      "epoch: 19 | loss: 0.3347746369022651\n"
     ]
    },
    {
     "name": "stderr",
     "output_type": "stream",
     "text": [
      "0.328: 100%|██████████████████████████████████████████████████████████████████████████████████████████████████████████████████████| 1490/1490 [00:35<00:00, 42.29it/s]\n"
     ]
    },
    {
     "name": "stdout",
     "output_type": "stream",
     "text": [
      "tensor(0.3276, device='cuda:1', grad_fn=<NllLoss2DBackward>)\n",
      "tensor(495.6408, device='cuda:1', grad_fn=<AddBackward0>)\n",
      "Best loss: 498.814208984375, Loss: 495.64080810546875\n",
      "epoch: 20 | loss: 0.332644837654677\n"
     ]
    },
    {
     "name": "stderr",
     "output_type": "stream",
     "text": [
      "0.375: 100%|██████████████████████████████████████████████████████████████████████████████████████████████████████████████████████| 1490/1490 [00:36<00:00, 40.60it/s]\n"
     ]
    },
    {
     "name": "stdout",
     "output_type": "stream",
     "text": [
      "tensor(0.3746, device='cuda:1', grad_fn=<NllLoss2DBackward>)\n",
      "tensor(493.9557, device='cuda:1', grad_fn=<AddBackward0>)\n",
      "Best loss: 495.64080810546875, Loss: 493.9556884765625\n",
      "epoch: 21 | loss: 0.331513884883599\n"
     ]
    },
    {
     "name": "stderr",
     "output_type": "stream",
     "text": [
      "0.537: 100%|██████████████████████████████████████████████████████████████████████████████████████████████████████████████████████| 1490/1490 [00:35<00:00, 42.16it/s]\n"
     ]
    },
    {
     "name": "stdout",
     "output_type": "stream",
     "text": [
      "tensor(0.5370, device='cuda:1', grad_fn=<NllLoss2DBackward>)\n",
      "tensor(492.9308, device='cuda:1', grad_fn=<AddBackward0>)\n",
      "Best loss: 493.9556884765625, Loss: 492.9307861328125\n",
      "epoch: 22 | loss: 0.3308260309616191\n"
     ]
    },
    {
     "name": "stderr",
     "output_type": "stream",
     "text": [
      "0.324: 100%|██████████████████████████████████████████████████████████████████████████████████████████████████████████████████████| 1490/1490 [00:35<00:00, 42.00it/s]\n"
     ]
    },
    {
     "name": "stdout",
     "output_type": "stream",
     "text": [
      "tensor(0.3244, device='cuda:1', grad_fn=<NllLoss2DBackward>)\n",
      "tensor(492.0759, device='cuda:1', grad_fn=<AddBackward0>)\n",
      "Best loss: 492.9307861328125, Loss: 492.075927734375\n",
      "epoch: 23 | loss: 0.33025230049286913\n"
     ]
    },
    {
     "name": "stderr",
     "output_type": "stream",
     "text": [
      "0.278: 100%|██████████████████████████████████████████████████████████████████████████████████████████████████████████████████████| 1490/1490 [00:39<00:00, 37.47it/s]\n"
     ]
    },
    {
     "name": "stdout",
     "output_type": "stream",
     "text": [
      "tensor(0.2780, device='cuda:1', grad_fn=<NllLoss2DBackward>)\n",
      "tensor(490.5710, device='cuda:1', grad_fn=<AddBackward0>)\n",
      "Best loss: 492.075927734375, Loss: 490.5710144042969\n",
      "epoch: 24 | loss: 0.32924229154650797\n"
     ]
    },
    {
     "name": "stderr",
     "output_type": "stream",
     "text": [
      "0.304: 100%|██████████████████████████████████████████████████████████████████████████████████████████████████████████████████████| 1490/1490 [00:43<00:00, 34.21it/s]\n"
     ]
    },
    {
     "name": "stdout",
     "output_type": "stream",
     "text": [
      "tensor(0.3036, device='cuda:1', grad_fn=<NllLoss2DBackward>)\n",
      "tensor(488.9765, device='cuda:1', grad_fn=<AddBackward0>)\n",
      "Best loss: 490.5710144042969, Loss: 488.9765319824219\n",
      "epoch: 25 | loss: 0.3281721691157194\n"
     ]
    },
    {
     "name": "stderr",
     "output_type": "stream",
     "text": [
      "0.376: 100%|██████████████████████████████████████████████████████████████████████████████████████████████████████████████████████| 1490/1490 [00:36<00:00, 41.29it/s]\n"
     ]
    },
    {
     "name": "stdout",
     "output_type": "stream",
     "text": [
      "tensor(0.3759, device='cuda:1', grad_fn=<NllLoss2DBackward>)\n",
      "tensor(487.1480, device='cuda:1', grad_fn=<AddBackward0>)\n",
      "Best loss: 488.9765319824219, Loss: 487.1480407714844\n",
      "epoch: 26 | loss: 0.3269449938063653\n"
     ]
    },
    {
     "name": "stderr",
     "output_type": "stream",
     "text": [
      "0.344: 100%|██████████████████████████████████████████████████████████████████████████████████████████████████████████████████████| 1490/1490 [00:35<00:00, 42.32it/s]\n"
     ]
    },
    {
     "name": "stdout",
     "output_type": "stream",
     "text": [
      "tensor(0.3437, device='cuda:1', grad_fn=<NllLoss2DBackward>)\n",
      "tensor(485.5923, device='cuda:1', grad_fn=<AddBackward0>)\n",
      "Best loss: 487.1480407714844, Loss: 485.5923156738281\n",
      "epoch: 27 | loss: 0.3259008830025692\n"
     ]
    },
    {
     "name": "stderr",
     "output_type": "stream",
     "text": [
      "0.138: 100%|██████████████████████████████████████████████████████████████████████████████████████████████████████████████████████| 1490/1490 [00:39<00:00, 37.26it/s]\n"
     ]
    },
    {
     "name": "stdout",
     "output_type": "stream",
     "text": [
      "tensor(0.1382, device='cuda:1', grad_fn=<NllLoss2DBackward>)\n",
      "tensor(484.9943, device='cuda:1', grad_fn=<AddBackward0>)\n",
      "Best loss: 485.5923156738281, Loss: 484.9942932128906\n",
      "epoch: 28 | loss: 0.3254995256462353\n"
     ]
    },
    {
     "name": "stderr",
     "output_type": "stream",
     "text": [
      "0.160: 100%|██████████████████████████████████████████████████████████████████████████████████████████████████████████████████████| 1490/1490 [00:37<00:00, 39.59it/s]\n"
     ]
    },
    {
     "name": "stdout",
     "output_type": "stream",
     "text": [
      "tensor(0.1598, device='cuda:1', grad_fn=<NllLoss2DBackward>)\n",
      "tensor(483.4247, device='cuda:1', grad_fn=<AddBackward0>)\n",
      "Best loss: 484.9942932128906, Loss: 483.42474365234375\n",
      "epoch: 29 | loss: 0.32444613667942535\n"
     ]
    },
    {
     "name": "stderr",
     "output_type": "stream",
     "text": [
      "0.238: 100%|██████████████████████████████████████████████████████████████████████████████████████████████████████████████████████| 1490/1490 [00:34<00:00, 42.71it/s]\n"
     ]
    },
    {
     "name": "stdout",
     "output_type": "stream",
     "text": [
      "tensor(0.2378, device='cuda:1', grad_fn=<NllLoss2DBackward>)\n",
      "tensor(481.3275, device='cuda:1', grad_fn=<AddBackward0>)\n",
      "Best loss: 483.42474365234375, Loss: 481.3275146484375\n",
      "epoch: 30 | loss: 0.32303860043519295\n"
     ]
    },
    {
     "name": "stderr",
     "output_type": "stream",
     "text": [
      "0.408: 100%|██████████████████████████████████████████████████████████████████████████████████████████████████████████████████████| 1490/1490 [00:35<00:00, 42.46it/s]\n"
     ]
    },
    {
     "name": "stdout",
     "output_type": "stream",
     "text": [
      "tensor(0.4082, device='cuda:1', grad_fn=<NllLoss2DBackward>)\n",
      "tensor(480.8946, device='cuda:1', grad_fn=<AddBackward0>)\n",
      "Best loss: 481.3275146484375, Loss: 480.89459228515625\n",
      "epoch: 31 | loss: 0.3227480485135277\n"
     ]
    },
    {
     "name": "stderr",
     "output_type": "stream",
     "text": [
      "0.282: 100%|██████████████████████████████████████████████████████████████████████████████████████████████████████████████████████| 1490/1490 [00:35<00:00, 42.18it/s]\n"
     ]
    },
    {
     "name": "stdout",
     "output_type": "stream",
     "text": [
      "tensor(0.2818, device='cuda:1', grad_fn=<NllLoss2DBackward>)\n",
      "tensor(478.9165, device='cuda:1', grad_fn=<AddBackward0>)\n",
      "Best loss: 480.89459228515625, Loss: 478.9164733886719\n",
      "epoch: 32 | loss: 0.32142045193870594\n"
     ]
    },
    {
     "name": "stderr",
     "output_type": "stream",
     "text": [
      "0.463: 100%|██████████████████████████████████████████████████████████████████████████████████████████████████████████████████████| 1490/1490 [00:35<00:00, 42.09it/s]\n"
     ]
    },
    {
     "name": "stdout",
     "output_type": "stream",
     "text": [
      "tensor(0.4632, device='cuda:1', grad_fn=<NllLoss2DBackward>)\n",
      "tensor(477.0342, device='cuda:1', grad_fn=<AddBackward0>)\n",
      "Best loss: 478.9164733886719, Loss: 477.03424072265625\n",
      "epoch: 33 | loss: 0.32015720853869545\n"
     ]
    },
    {
     "name": "stderr",
     "output_type": "stream",
     "text": [
      "0.305: 100%|██████████████████████████████████████████████████████████████████████████████████████████████████████████████████████| 1490/1490 [00:35<00:00, 41.89it/s]\n"
     ]
    },
    {
     "name": "stdout",
     "output_type": "stream",
     "text": [
      "tensor(0.3053, device='cuda:1', grad_fn=<NllLoss2DBackward>)\n",
      "tensor(476.0939, device='cuda:1', grad_fn=<AddBackward0>)\n",
      "Best loss: 477.03424072265625, Loss: 476.0938720703125\n",
      "epoch: 34 | loss: 0.31952608863779364\n"
     ]
    },
    {
     "name": "stderr",
     "output_type": "stream",
     "text": [
      "0.265: 100%|██████████████████████████████████████████████████████████████████████████████████████████████████████████████████████| 1490/1490 [00:34<00:00, 42.65it/s]\n"
     ]
    },
    {
     "name": "stdout",
     "output_type": "stream",
     "text": [
      "tensor(0.2650, device='cuda:1', grad_fn=<NllLoss2DBackward>)\n",
      "tensor(473.8803, device='cuda:1', grad_fn=<AddBackward0>)\n",
      "Best loss: 476.0938720703125, Loss: 473.8802795410156\n",
      "epoch: 35 | loss: 0.31804045606779574\n"
     ]
    },
    {
     "name": "stderr",
     "output_type": "stream",
     "text": [
      "0.353: 100%|██████████████████████████████████████████████████████████████████████████████████████████████████████████████████████| 1490/1490 [00:35<00:00, 41.96it/s]\n"
     ]
    },
    {
     "name": "stdout",
     "output_type": "stream",
     "text": [
      "tensor(0.3529, device='cuda:1', grad_fn=<NllLoss2DBackward>)\n",
      "tensor(473.3397, device='cuda:1', grad_fn=<AddBackward0>)\n",
      "Best loss: 473.8802795410156, Loss: 473.3397216796875\n",
      "epoch: 36 | loss: 0.31767766555683724\n"
     ]
    },
    {
     "name": "stderr",
     "output_type": "stream",
     "text": [
      "0.494: 100%|██████████████████████████████████████████████████████████████████████████████████████████████████████████████████████| 1490/1490 [00:34<00:00, 43.28it/s]\n"
     ]
    },
    {
     "name": "stdout",
     "output_type": "stream",
     "text": [
      "tensor(0.4944, device='cuda:1', grad_fn=<NllLoss2DBackward>)\n",
      "tensor(472.5861, device='cuda:1', grad_fn=<AddBackward0>)\n",
      "Best loss: 473.3397216796875, Loss: 472.58612060546875\n",
      "epoch: 37 | loss: 0.31717189302380455\n"
     ]
    },
    {
     "name": "stderr",
     "output_type": "stream",
     "text": [
      "0.252: 100%|██████████████████████████████████████████████████████████████████████████████████████████████████████████████████████| 1490/1490 [00:36<00:00, 40.92it/s]\n"
     ]
    },
    {
     "name": "stdout",
     "output_type": "stream",
     "text": [
      "tensor(0.2523, device='cuda:1', grad_fn=<NllLoss2DBackward>)\n",
      "tensor(470.9799, device='cuda:1', grad_fn=<AddBackward0>)\n",
      "Best loss: 472.58612060546875, Loss: 470.9798583984375\n",
      "epoch: 38 | loss: 0.3160938646969379\n"
     ]
    },
    {
     "name": "stderr",
     "output_type": "stream",
     "text": [
      "0.381: 100%|██████████████████████████████████████████████████████████████████████████████████████████████████████████████████████| 1490/1490 [00:35<00:00, 41.65it/s]\n"
     ]
    },
    {
     "name": "stdout",
     "output_type": "stream",
     "text": [
      "tensor(0.3810, device='cuda:1', grad_fn=<NllLoss2DBackward>)\n",
      "tensor(470.3870, device='cuda:1', grad_fn=<AddBackward0>)\n",
      "Best loss: 470.9798583984375, Loss: 470.38702392578125\n",
      "epoch: 39 | loss: 0.3156959892119337\n"
     ]
    },
    {
     "name": "stderr",
     "output_type": "stream",
     "text": [
      "0.319: 100%|██████████████████████████████████████████████████████████████████████████████████████████████████████████████████████| 1490/1490 [00:35<00:00, 41.91it/s]\n"
     ]
    },
    {
     "name": "stdout",
     "output_type": "stream",
     "text": [
      "tensor(0.3192, device='cuda:1', grad_fn=<NllLoss2DBackward>)\n",
      "tensor(467.5083, device='cuda:1', grad_fn=<AddBackward0>)\n",
      "Best loss: 470.38702392578125, Loss: 467.5082702636719\n",
      "epoch: 40 | loss: 0.3137639397742764\n"
     ]
    },
    {
     "name": "stderr",
     "output_type": "stream",
     "text": [
      "0.219: 100%|██████████████████████████████████████████████████████████████████████████████████████████████████████████████████████| 1490/1490 [00:34<00:00, 42.94it/s]\n"
     ]
    },
    {
     "name": "stdout",
     "output_type": "stream",
     "text": [
      "tensor(0.2195, device='cuda:1', grad_fn=<NllLoss2DBackward>)\n",
      "tensor(466.7034, device='cuda:1', grad_fn=<AddBackward0>)\n",
      "Best loss: 467.5082702636719, Loss: 466.7033996582031\n",
      "epoch: 41 | loss: 0.31322375815986786\n"
     ]
    },
    {
     "name": "stderr",
     "output_type": "stream",
     "text": [
      "0.147: 100%|██████████████████████████████████████████████████████████████████████████████████████████████████████████████████████| 1490/1490 [00:35<00:00, 42.36it/s]\n"
     ]
    },
    {
     "name": "stdout",
     "output_type": "stream",
     "text": [
      "tensor(0.1468, device='cuda:1', grad_fn=<NllLoss2DBackward>)\n",
      "tensor(466.1796, device='cuda:1', grad_fn=<AddBackward0>)\n",
      "Best loss: 466.7033996582031, Loss: 466.1795959472656\n",
      "epoch: 42 | loss: 0.3128722120451447\n"
     ]
    },
    {
     "name": "stderr",
     "output_type": "stream",
     "text": [
      "0.277: 100%|██████████████████████████████████████████████████████████████████████████████████████████████████████████████████████| 1490/1490 [00:35<00:00, 41.83it/s]\n"
     ]
    },
    {
     "name": "stdout",
     "output_type": "stream",
     "text": [
      "tensor(0.2768, device='cuda:1', grad_fn=<NllLoss2DBackward>)\n",
      "tensor(464.3902, device='cuda:1', grad_fn=<AddBackward0>)\n",
      "Best loss: 466.1795959472656, Loss: 464.39019775390625\n",
      "epoch: 43 | loss: 0.31167127366033975\n"
     ]
    },
    {
     "name": "stderr",
     "output_type": "stream",
     "text": [
      "0.160: 100%|██████████████████████████████████████████████████████████████████████████████████████████████████████████████████████| 1490/1490 [00:35<00:00, 42.35it/s]\n"
     ]
    },
    {
     "name": "stdout",
     "output_type": "stream",
     "text": [
      "tensor(0.1599, device='cuda:1', grad_fn=<NllLoss2DBackward>)\n",
      "tensor(462.9494, device='cuda:1', grad_fn=<AddBackward0>)\n",
      "Best loss: 464.39019775390625, Loss: 462.94940185546875\n",
      "epoch: 44 | loss: 0.3107042965472945\n"
     ]
    },
    {
     "name": "stderr",
     "output_type": "stream",
     "text": [
      "0.140: 100%|██████████████████████████████████████████████████████████████████████████████████████████████████████████████████████| 1490/1490 [00:34<00:00, 42.64it/s]\n"
     ]
    },
    {
     "name": "stdout",
     "output_type": "stream",
     "text": [
      "tensor(0.1396, device='cuda:1', grad_fn=<NllLoss2DBackward>)\n",
      "tensor(462.0260, device='cuda:1', grad_fn=<AddBackward0>)\n",
      "Best loss: 462.94940185546875, Loss: 462.0259704589844\n",
      "epoch: 45 | loss: 0.3100845439322043\n"
     ]
    },
    {
     "name": "stderr",
     "output_type": "stream",
     "text": [
      "0.220: 100%|██████████████████████████████████████████████████████████████████████████████████████████████████████████████████████| 1490/1490 [00:35<00:00, 41.40it/s]\n"
     ]
    },
    {
     "name": "stdout",
     "output_type": "stream",
     "text": [
      "tensor(0.2198, device='cuda:1', grad_fn=<NllLoss2DBackward>)\n",
      "tensor(461.0785, device='cuda:1', grad_fn=<AddBackward0>)\n",
      "Best loss: 462.0259704589844, Loss: 461.0784912109375\n",
      "epoch: 46 | loss: 0.30944865181942116\n"
     ]
    },
    {
     "name": "stderr",
     "output_type": "stream",
     "text": [
      "0.173: 100%|██████████████████████████████████████████████████████████████████████████████████████████████████████████████████████| 1490/1490 [00:34<00:00, 42.75it/s]\n"
     ]
    },
    {
     "name": "stdout",
     "output_type": "stream",
     "text": [
      "tensor(0.1728, device='cuda:1', grad_fn=<NllLoss2DBackward>)\n",
      "tensor(459.5293, device='cuda:1', grad_fn=<AddBackward0>)\n",
      "Best loss: 461.0784912109375, Loss: 459.5292663574219\n",
      "epoch: 47 | loss: 0.30840890359558515\n"
     ]
    },
    {
     "name": "stderr",
     "output_type": "stream",
     "text": [
      "0.374: 100%|██████████████████████████████████████████████████████████████████████████████████████████████████████████████████████| 1490/1490 [00:35<00:00, 41.62it/s]\n"
     ]
    },
    {
     "name": "stdout",
     "output_type": "stream",
     "text": [
      "tensor(0.3739, device='cuda:1', grad_fn=<NllLoss2DBackward>)\n",
      "tensor(458.2695, device='cuda:1', grad_fn=<AddBackward0>)\n",
      "Best loss: 459.5292663574219, Loss: 458.2695007324219\n",
      "epoch: 48 | loss: 0.30756342331035025\n"
     ]
    },
    {
     "name": "stderr",
     "output_type": "stream",
     "text": [
      "0.407: 100%|██████████████████████████████████████████████████████████████████████████████████████████████████████████████████████| 1490/1490 [00:35<00:00, 42.05it/s]\n"
     ]
    },
    {
     "name": "stdout",
     "output_type": "stream",
     "text": [
      "tensor(0.4071, device='cuda:1', grad_fn=<NllLoss2DBackward>)\n",
      "tensor(456.4144, device='cuda:1', grad_fn=<AddBackward0>)\n",
      "Best loss: 458.2695007324219, Loss: 456.4144287109375\n",
      "epoch: 49 | loss: 0.30631840853083053\n"
     ]
    },
    {
     "name": "stderr",
     "output_type": "stream",
     "text": [
      "0.305: 100%|██████████████████████████████████████████████████████████████████████████████████████████████████████████████████████| 1490/1490 [00:36<00:00, 41.35it/s]\n"
     ]
    },
    {
     "name": "stdout",
     "output_type": "stream",
     "text": [
      "tensor(0.3051, device='cuda:1', grad_fn=<NllLoss2DBackward>)\n",
      "tensor(455.9399, device='cuda:1', grad_fn=<AddBackward0>)\n",
      "Best loss: 456.4144287109375, Loss: 455.93988037109375\n",
      "epoch: 50 | loss: 0.30599991971214346\n"
     ]
    },
    {
     "name": "stderr",
     "output_type": "stream",
     "text": [
      "0.251: 100%|██████████████████████████████████████████████████████████████████████████████████████████████████████████████████████| 1490/1490 [00:35<00:00, 41.54it/s]\n"
     ]
    },
    {
     "name": "stdout",
     "output_type": "stream",
     "text": [
      "tensor(0.2515, device='cuda:1', grad_fn=<NllLoss2DBackward>)\n",
      "tensor(454.4805, device='cuda:1', grad_fn=<AddBackward0>)\n",
      "Best loss: 455.93988037109375, Loss: 454.48046875\n",
      "epoch: 51 | loss: 0.30502044882550333\n"
     ]
    },
    {
     "name": "stderr",
     "output_type": "stream",
     "text": [
      "0.181: 100%|██████████████████████████████████████████████████████████████████████████████████████████████████████████████████████| 1490/1490 [00:35<00:00, 42.56it/s]\n"
     ]
    },
    {
     "name": "stdout",
     "output_type": "stream",
     "text": [
      "tensor(0.1811, device='cuda:1', grad_fn=<NllLoss2DBackward>)\n",
      "tensor(453.9423, device='cuda:1', grad_fn=<AddBackward0>)\n",
      "Best loss: 454.48046875, Loss: 453.94232177734375\n",
      "epoch: 52 | loss: 0.3046592763606334\n"
     ]
    },
    {
     "name": "stderr",
     "output_type": "stream",
     "text": [
      "0.340: 100%|██████████████████████████████████████████████████████████████████████████████████████████████████████████████████████| 1490/1490 [00:35<00:00, 41.81it/s]\n"
     ]
    },
    {
     "name": "stdout",
     "output_type": "stream",
     "text": [
      "tensor(0.3396, device='cuda:1', grad_fn=<NllLoss2DBackward>)\n",
      "tensor(452.7280, device='cuda:1', grad_fn=<AddBackward0>)\n",
      "Best loss: 453.94232177734375, Loss: 452.72796630859375\n",
      "epoch: 53 | loss: 0.3038442726903314\n"
     ]
    },
    {
     "name": "stderr",
     "output_type": "stream",
     "text": [
      "0.137: 100%|██████████████████████████████████████████████████████████████████████████████████████████████████████████████████████| 1490/1490 [00:35<00:00, 41.71it/s]\n"
     ]
    },
    {
     "name": "stdout",
     "output_type": "stream",
     "text": [
      "tensor(0.1367, device='cuda:1', grad_fn=<NllLoss2DBackward>)\n",
      "tensor(450.4949, device='cuda:1', grad_fn=<AddBackward0>)\n",
      "Best loss: 452.72796630859375, Loss: 450.4949035644531\n",
      "epoch: 54 | loss: 0.30234557286204905\n"
     ]
    },
    {
     "name": "stderr",
     "output_type": "stream",
     "text": [
      "0.124: 100%|██████████████████████████████████████████████████████████████████████████████████████████████████████████████████████| 1490/1490 [00:35<00:00, 41.94it/s]\n"
     ]
    },
    {
     "name": "stdout",
     "output_type": "stream",
     "text": [
      "tensor(0.1236, device='cuda:1', grad_fn=<NllLoss2DBackward>)\n",
      "tensor(449.9138, device='cuda:1', grad_fn=<AddBackward0>)\n",
      "Best loss: 450.4949035644531, Loss: 449.9138488769531\n",
      "epoch: 55 | loss: 0.30195560327312293\n"
     ]
    },
    {
     "name": "stderr",
     "output_type": "stream",
     "text": [
      "0.337: 100%|██████████████████████████████████████████████████████████████████████████████████████████████████████████████████████| 1490/1490 [00:34<00:00, 42.81it/s]\n"
     ]
    },
    {
     "name": "stdout",
     "output_type": "stream",
     "text": [
      "tensor(0.3373, device='cuda:1', grad_fn=<NllLoss2DBackward>)\n",
      "tensor(448.6713, device='cuda:1', grad_fn=<AddBackward0>)\n",
      "Best loss: 449.9138488769531, Loss: 448.6712951660156\n",
      "epoch: 56 | loss: 0.30112167460806416\n"
     ]
    },
    {
     "name": "stderr",
     "output_type": "stream",
     "text": [
      "0.359: 100%|██████████████████████████████████████████████████████████████████████████████████████████████████████████████████████| 1490/1490 [00:34<00:00, 43.44it/s]\n"
     ]
    },
    {
     "name": "stdout",
     "output_type": "stream",
     "text": [
      "tensor(0.3588, device='cuda:1', grad_fn=<NllLoss2DBackward>)\n",
      "tensor(449.4040, device='cuda:1', grad_fn=<AddBackward0>)\n",
      "epoch: 57 | loss: 0.30161339676620175\n"
     ]
    },
    {
     "name": "stderr",
     "output_type": "stream",
     "text": [
      "0.228: 100%|██████████████████████████████████████████████████████████████████████████████████████████████████████████████████████| 1490/1490 [00:34<00:00, 43.20it/s]\n"
     ]
    },
    {
     "name": "stdout",
     "output_type": "stream",
     "text": [
      "tensor(0.2276, device='cuda:1', grad_fn=<NllLoss2DBackward>)\n",
      "tensor(446.8316, device='cuda:1', grad_fn=<AddBackward0>)\n",
      "Best loss: 448.6712951660156, Loss: 446.83160400390625\n",
      "epoch: 58 | loss: 0.2998869825529572\n"
     ]
    },
    {
     "name": "stderr",
     "output_type": "stream",
     "text": [
      "0.193: 100%|██████████████████████████████████████████████████████████████████████████████████████████████████████████████████████| 1490/1490 [00:35<00:00, 42.41it/s]\n"
     ]
    },
    {
     "name": "stdout",
     "output_type": "stream",
     "text": [
      "tensor(0.1925, device='cuda:1', grad_fn=<NllLoss2DBackward>)\n",
      "tensor(445.4628, device='cuda:1', grad_fn=<AddBackward0>)\n",
      "Best loss: 446.83160400390625, Loss: 445.46282958984375\n",
      "epoch: 59 | loss: 0.29896834200660655\n"
     ]
    },
    {
     "name": "stderr",
     "output_type": "stream",
     "text": [
      "0.291: 100%|██████████████████████████████████████████████████████████████████████████████████████████████████████████████████████| 1490/1490 [00:34<00:00, 43.60it/s]\n"
     ]
    },
    {
     "name": "stdout",
     "output_type": "stream",
     "text": [
      "tensor(0.2911, device='cuda:1', grad_fn=<NllLoss2DBackward>)\n",
      "tensor(444.4873, device='cuda:1', grad_fn=<AddBackward0>)\n",
      "Best loss: 445.46282958984375, Loss: 444.4873046875\n",
      "epoch: 60 | loss: 0.29831362730704697\n"
     ]
    },
    {
     "name": "stderr",
     "output_type": "stream",
     "text": [
      "0.269: 100%|██████████████████████████████████████████████████████████████████████████████████████████████████████████████████████| 1490/1490 [00:34<00:00, 43.04it/s]\n"
     ]
    },
    {
     "name": "stdout",
     "output_type": "stream",
     "text": [
      "tensor(0.2688, device='cuda:1', grad_fn=<NllLoss2DBackward>)\n",
      "tensor(443.3042, device='cuda:1', grad_fn=<AddBackward0>)\n",
      "Best loss: 444.4873046875, Loss: 443.30419921875\n",
      "epoch: 61 | loss: 0.2975195967911074\n"
     ]
    },
    {
     "name": "stderr",
     "output_type": "stream",
     "text": [
      "0.223: 100%|██████████████████████████████████████████████████████████████████████████████████████████████████████████████████████| 1490/1490 [00:34<00:00, 42.93it/s]\n"
     ]
    },
    {
     "name": "stdout",
     "output_type": "stream",
     "text": [
      "tensor(0.2228, device='cuda:1', grad_fn=<NllLoss2DBackward>)\n",
      "tensor(442.5065, device='cuda:1', grad_fn=<AddBackward0>)\n",
      "Best loss: 443.30419921875, Loss: 442.5064697265625\n",
      "epoch: 62 | loss: 0.29698420787017615\n"
     ]
    },
    {
     "name": "stderr",
     "output_type": "stream",
     "text": [
      "0.250: 100%|██████████████████████████████████████████████████████████████████████████████████████████████████████████████████████| 1490/1490 [00:34<00:00, 43.20it/s]\n"
     ]
    },
    {
     "name": "stdout",
     "output_type": "stream",
     "text": [
      "tensor(0.2500, device='cuda:1', grad_fn=<NllLoss2DBackward>)\n",
      "tensor(441.3350, device='cuda:1', grad_fn=<AddBackward0>)\n",
      "Best loss: 442.5064697265625, Loss: 441.3349609375\n",
      "epoch: 63 | loss: 0.29619796036073825\n"
     ]
    },
    {
     "name": "stderr",
     "output_type": "stream",
     "text": [
      "0.243: 100%|██████████████████████████████████████████████████████████████████████████████████████████████████████████████████████| 1490/1490 [00:34<00:00, 43.69it/s]\n"
     ]
    },
    {
     "name": "stdout",
     "output_type": "stream",
     "text": [
      "tensor(0.2428, device='cuda:1', grad_fn=<NllLoss2DBackward>)\n",
      "tensor(440.7222, device='cuda:1', grad_fn=<AddBackward0>)\n",
      "Best loss: 441.3349609375, Loss: 440.7221984863281\n",
      "epoch: 64 | loss: 0.2957867103935088\n"
     ]
    },
    {
     "name": "stderr",
     "output_type": "stream",
     "text": [
      "0.229: 100%|██████████████████████████████████████████████████████████████████████████████████████████████████████████████████████| 1490/1490 [00:34<00:00, 42.76it/s]\n"
     ]
    },
    {
     "name": "stdout",
     "output_type": "stream",
     "text": [
      "tensor(0.2295, device='cuda:1', grad_fn=<NllLoss2DBackward>)\n",
      "tensor(439.4933, device='cuda:1', grad_fn=<AddBackward0>)\n",
      "Best loss: 440.7221984863281, Loss: 439.4933166503906\n",
      "epoch: 65 | loss: 0.29496195748348364\n"
     ]
    },
    {
     "name": "stderr",
     "output_type": "stream",
     "text": [
      "0.180: 100%|██████████████████████████████████████████████████████████████████████████████████████████████████████████████████████| 1490/1490 [00:34<00:00, 42.87it/s]\n"
     ]
    },
    {
     "name": "stdout",
     "output_type": "stream",
     "text": [
      "tensor(0.1797, device='cuda:1', grad_fn=<NllLoss2DBackward>)\n",
      "tensor(437.4942, device='cuda:1', grad_fn=<AddBackward0>)\n",
      "Best loss: 439.4933166503906, Loss: 437.49420166015625\n",
      "epoch: 66 | loss: 0.2936202695705747\n"
     ]
    },
    {
     "name": "stderr",
     "output_type": "stream",
     "text": [
      "0.357: 100%|██████████████████████████████████████████████████████████████████████████████████████████████████████████████████████| 1490/1490 [00:35<00:00, 41.98it/s]\n"
     ]
    },
    {
     "name": "stdout",
     "output_type": "stream",
     "text": [
      "tensor(0.3572, device='cuda:1', grad_fn=<NllLoss2DBackward>)\n",
      "tensor(436.3192, device='cuda:1', grad_fn=<AddBackward0>)\n",
      "Best loss: 437.49420166015625, Loss: 436.3192443847656\n",
      "epoch: 67 | loss: 0.2928317076407823\n"
     ]
    },
    {
     "name": "stderr",
     "output_type": "stream",
     "text": [
      "0.361: 100%|██████████████████████████████████████████████████████████████████████████████████████████████████████████████████████| 1490/1490 [00:35<00:00, 42.41it/s]\n"
     ]
    },
    {
     "name": "stdout",
     "output_type": "stream",
     "text": [
      "tensor(0.3608, device='cuda:1', grad_fn=<NllLoss2DBackward>)\n",
      "tensor(435.9074, device='cuda:1', grad_fn=<AddBackward0>)\n",
      "Best loss: 436.3192443847656, Loss: 435.9073791503906\n",
      "epoch: 68 | loss: 0.2925552880203964\n"
     ]
    },
    {
     "name": "stderr",
     "output_type": "stream",
     "text": [
      "0.403: 100%|██████████████████████████████████████████████████████████████████████████████████████████████████████████████████████| 1490/1490 [00:36<00:00, 41.04it/s]\n"
     ]
    },
    {
     "name": "stdout",
     "output_type": "stream",
     "text": [
      "tensor(0.4031, device='cuda:1', grad_fn=<NllLoss2DBackward>)\n",
      "tensor(434.7918, device='cuda:1', grad_fn=<AddBackward0>)\n",
      "Best loss: 435.9073791503906, Loss: 434.79180908203125\n",
      "epoch: 69 | loss: 0.29180658327653103\n"
     ]
    },
    {
     "name": "stderr",
     "output_type": "stream",
     "text": [
      "0.497: 100%|██████████████████████████████████████████████████████████████████████████████████████████████████████████████████████| 1490/1490 [00:34<00:00, 42.66it/s]\n"
     ]
    },
    {
     "name": "stdout",
     "output_type": "stream",
     "text": [
      "tensor(0.4972, device='cuda:1', grad_fn=<NllLoss2DBackward>)\n",
      "tensor(434.6087, device='cuda:1', grad_fn=<AddBackward0>)\n",
      "Best loss: 434.79180908203125, Loss: 434.6087341308594\n",
      "epoch: 70 | loss: 0.2916837141817848\n"
     ]
    },
    {
     "name": "stderr",
     "output_type": "stream",
     "text": [
      "0.215: 100%|██████████████████████████████████████████████████████████████████████████████████████████████████████████████████████| 1490/1490 [00:34<00:00, 42.73it/s]\n"
     ]
    },
    {
     "name": "stdout",
     "output_type": "stream",
     "text": [
      "tensor(0.2151, device='cuda:1', grad_fn=<NllLoss2DBackward>)\n",
      "tensor(432.5627, device='cuda:1', grad_fn=<AddBackward0>)\n",
      "Best loss: 434.6087341308594, Loss: 432.562744140625\n",
      "epoch: 71 | loss: 0.2903105665373322\n"
     ]
    },
    {
     "name": "stderr",
     "output_type": "stream",
     "text": [
      "0.165: 100%|██████████████████████████████████████████████████████████████████████████████████████████████████████████████████████| 1490/1490 [00:35<00:00, 41.99it/s]\n"
     ]
    },
    {
     "name": "stdout",
     "output_type": "stream",
     "text": [
      "tensor(0.1652, device='cuda:1', grad_fn=<NllLoss2DBackward>)\n",
      "tensor(432.0645, device='cuda:1', grad_fn=<AddBackward0>)\n",
      "Best loss: 432.562744140625, Loss: 432.0645446777344\n",
      "epoch: 72 | loss: 0.2899762044817009\n"
     ]
    },
    {
     "name": "stderr",
     "output_type": "stream",
     "text": [
      "0.304: 100%|██████████████████████████████████████████████████████████████████████████████████████████████████████████████████████| 1490/1490 [00:35<00:00, 41.87it/s]\n"
     ]
    },
    {
     "name": "stdout",
     "output_type": "stream",
     "text": [
      "tensor(0.3038, device='cuda:1', grad_fn=<NllLoss2DBackward>)\n",
      "tensor(431.3109, device='cuda:1', grad_fn=<AddBackward0>)\n",
      "Best loss: 432.0645446777344, Loss: 431.3108825683594\n",
      "epoch: 73 | loss: 0.2894703909854761\n"
     ]
    },
    {
     "name": "stderr",
     "output_type": "stream",
     "text": [
      "0.728: 100%|██████████████████████████████████████████████████████████████████████████████████████████████████████████████████████| 1490/1490 [00:35<00:00, 41.91it/s]\n"
     ]
    },
    {
     "name": "stdout",
     "output_type": "stream",
     "text": [
      "tensor(0.7280, device='cuda:1', grad_fn=<NllLoss2DBackward>)\n",
      "tensor(429.9613, device='cuda:1', grad_fn=<AddBackward0>)\n",
      "Best loss: 431.3108825683594, Loss: 429.9612731933594\n",
      "epoch: 74 | loss: 0.28856461288144925\n"
     ]
    },
    {
     "name": "stderr",
     "output_type": "stream",
     "text": [
      "0.128: 100%|██████████████████████████████████████████████████████████████████████████████████████████████████████████████████████| 1490/1490 [00:35<00:00, 41.71it/s]\n"
     ]
    },
    {
     "name": "stdout",
     "output_type": "stream",
     "text": [
      "tensor(0.1282, device='cuda:1', grad_fn=<NllLoss2DBackward>)\n",
      "tensor(428.4675, device='cuda:1', grad_fn=<AddBackward0>)\n",
      "Best loss: 429.9612731933594, Loss: 428.46746826171875\n",
      "epoch: 75 | loss: 0.2875620592360528\n"
     ]
    },
    {
     "name": "stderr",
     "output_type": "stream",
     "text": [
      "0.380: 100%|██████████████████████████████████████████████████████████████████████████████████████████████████████████████████████| 1490/1490 [00:35<00:00, 41.62it/s]\n"
     ]
    },
    {
     "name": "stdout",
     "output_type": "stream",
     "text": [
      "tensor(0.3804, device='cuda:1', grad_fn=<NllLoss2DBackward>)\n",
      "tensor(427.8593, device='cuda:1', grad_fn=<AddBackward0>)\n",
      "Best loss: 428.46746826171875, Loss: 427.8593444824219\n",
      "epoch: 76 | loss: 0.2871539224714241\n"
     ]
    },
    {
     "name": "stderr",
     "output_type": "stream",
     "text": [
      "0.564: 100%|██████████████████████████████████████████████████████████████████████████████████████████████████████████████████████| 1490/1490 [00:36<00:00, 41.08it/s]\n"
     ]
    },
    {
     "name": "stdout",
     "output_type": "stream",
     "text": [
      "tensor(0.5635, device='cuda:1', grad_fn=<NllLoss2DBackward>)\n",
      "tensor(427.3214, device='cuda:1', grad_fn=<AddBackward0>)\n",
      "Best loss: 427.8593444824219, Loss: 427.3214111328125\n",
      "epoch: 77 | loss: 0.2867928933777265\n"
     ]
    },
    {
     "name": "stderr",
     "output_type": "stream",
     "text": [
      "0.299: 100%|██████████████████████████████████████████████████████████████████████████████████████████████████████████████████████| 1490/1490 [00:35<00:00, 41.55it/s]\n"
     ]
    },
    {
     "name": "stdout",
     "output_type": "stream",
     "text": [
      "tensor(0.2991, device='cuda:1', grad_fn=<NllLoss2DBackward>)\n",
      "tensor(425.4436, device='cuda:1', grad_fn=<AddBackward0>)\n",
      "Best loss: 427.3214111328125, Loss: 425.443603515625\n",
      "epoch: 78 | loss: 0.2855326198091443\n"
     ]
    },
    {
     "name": "stderr",
     "output_type": "stream",
     "text": [
      "0.370: 100%|██████████████████████████████████████████████████████████████████████████████████████████████████████████████████████| 1490/1490 [00:35<00:00, 42.14it/s]\n"
     ]
    },
    {
     "name": "stdout",
     "output_type": "stream",
     "text": [
      "tensor(0.3701, device='cuda:1', grad_fn=<NllLoss2DBackward>)\n",
      "tensor(424.6982, device='cuda:1', grad_fn=<AddBackward0>)\n",
      "Best loss: 425.443603515625, Loss: 424.69818115234375\n",
      "epoch: 79 | loss: 0.2850323363438549\n"
     ]
    },
    {
     "name": "stderr",
     "output_type": "stream",
     "text": [
      "0.379: 100%|██████████████████████████████████████████████████████████████████████████████████████████████████████████████████████| 1490/1490 [00:35<00:00, 41.99it/s]\n"
     ]
    },
    {
     "name": "stdout",
     "output_type": "stream",
     "text": [
      "tensor(0.3787, device='cuda:1', grad_fn=<NllLoss2DBackward>)\n",
      "tensor(423.8516, device='cuda:1', grad_fn=<AddBackward0>)\n",
      "Best loss: 424.69818115234375, Loss: 423.8515930175781\n",
      "epoch: 80 | loss: 0.28446415638763634\n"
     ]
    },
    {
     "name": "stderr",
     "output_type": "stream",
     "text": [
      "0.354: 100%|██████████████████████████████████████████████████████████████████████████████████████████████████████████████████████| 1490/1490 [00:35<00:00, 42.49it/s]\n"
     ]
    },
    {
     "name": "stdout",
     "output_type": "stream",
     "text": [
      "tensor(0.3543, device='cuda:1', grad_fn=<NllLoss2DBackward>)\n",
      "tensor(423.1883, device='cuda:1', grad_fn=<AddBackward0>)\n",
      "Best loss: 423.8515930175781, Loss: 423.18829345703125\n",
      "epoch: 81 | loss: 0.2840189888973364\n"
     ]
    },
    {
     "name": "stderr",
     "output_type": "stream",
     "text": [
      "0.398: 100%|██████████████████████████████████████████████████████████████████████████████████████████████████████████████████████| 1490/1490 [00:35<00:00, 42.31it/s]\n"
     ]
    },
    {
     "name": "stdout",
     "output_type": "stream",
     "text": [
      "tensor(0.3981, device='cuda:1', grad_fn=<NllLoss2DBackward>)\n",
      "tensor(421.7307, device='cuda:1', grad_fn=<AddBackward0>)\n",
      "Best loss: 423.18829345703125, Loss: 421.73065185546875\n",
      "epoch: 82 | loss: 0.28304070594326763\n"
     ]
    },
    {
     "name": "stderr",
     "output_type": "stream",
     "text": [
      "0.260: 100%|██████████████████████████████████████████████████████████████████████████████████████████████████████████████████████| 1490/1490 [00:36<00:00, 41.38it/s]\n"
     ]
    },
    {
     "name": "stdout",
     "output_type": "stream",
     "text": [
      "tensor(0.2604, device='cuda:1', grad_fn=<NllLoss2DBackward>)\n",
      "tensor(420.3791, device='cuda:1', grad_fn=<AddBackward0>)\n",
      "Best loss: 421.73065185546875, Loss: 420.3790588378906\n",
      "epoch: 83 | loss: 0.2821335965354971\n"
     ]
    },
    {
     "name": "stderr",
     "output_type": "stream",
     "text": [
      "0.230: 100%|██████████████████████████████████████████████████████████████████████████████████████████████████████████████████████| 1490/1490 [00:36<00:00, 41.38it/s]\n"
     ]
    },
    {
     "name": "stdout",
     "output_type": "stream",
     "text": [
      "tensor(0.2304, device='cuda:1', grad_fn=<NllLoss2DBackward>)\n",
      "tensor(419.3783, device='cuda:1', grad_fn=<AddBackward0>)\n",
      "Best loss: 420.3790588378906, Loss: 419.3783264160156\n",
      "epoch: 84 | loss: 0.2814619640375944\n"
     ]
    },
    {
     "name": "stderr",
     "output_type": "stream",
     "text": [
      "0.339: 100%|██████████████████████████████████████████████████████████████████████████████████████████████████████████████████████| 1490/1490 [00:35<00:00, 41.42it/s]\n"
     ]
    },
    {
     "name": "stdout",
     "output_type": "stream",
     "text": [
      "tensor(0.3389, device='cuda:1', grad_fn=<NllLoss2DBackward>)\n",
      "tensor(418.5774, device='cuda:1', grad_fn=<AddBackward0>)\n",
      "Best loss: 419.3783264160156, Loss: 418.5774230957031\n",
      "epoch: 85 | loss: 0.28092444503067326\n"
     ]
    },
    {
     "name": "stderr",
     "output_type": "stream",
     "text": [
      "0.256: 100%|██████████████████████████████████████████████████████████████████████████████████████████████████████████████████████| 1490/1490 [00:35<00:00, 42.03it/s]\n"
     ]
    },
    {
     "name": "stdout",
     "output_type": "stream",
     "text": [
      "tensor(0.2559, device='cuda:1', grad_fn=<NllLoss2DBackward>)\n",
      "tensor(417.9102, device='cuda:1', grad_fn=<AddBackward0>)\n",
      "Best loss: 418.5774230957031, Loss: 417.9101867675781\n",
      "epoch: 86 | loss: 0.280476635414482\n"
     ]
    },
    {
     "name": "stderr",
     "output_type": "stream",
     "text": [
      "0.374: 100%|██████████████████████████████████████████████████████████████████████████████████████████████████████████████████████| 1490/1490 [00:35<00:00, 42.25it/s]\n"
     ]
    },
    {
     "name": "stdout",
     "output_type": "stream",
     "text": [
      "tensor(0.3742, device='cuda:1', grad_fn=<NllLoss2DBackward>)\n",
      "tensor(417.1930, device='cuda:1', grad_fn=<AddBackward0>)\n",
      "Best loss: 417.9101867675781, Loss: 417.1929626464844\n",
      "epoch: 87 | loss: 0.27999527694394927\n"
     ]
    },
    {
     "name": "stderr",
     "output_type": "stream",
     "text": [
      "0.268: 100%|██████████████████████████████████████████████████████████████████████████████████████████████████████████████████████| 1490/1490 [00:34<00:00, 43.05it/s]\n"
     ]
    },
    {
     "name": "stdout",
     "output_type": "stream",
     "text": [
      "tensor(0.2676, device='cuda:1', grad_fn=<NllLoss2DBackward>)\n",
      "tensor(416.7116, device='cuda:1', grad_fn=<AddBackward0>)\n",
      "Best loss: 417.1929626464844, Loss: 416.7116394042969\n",
      "epoch: 88 | loss: 0.2796722412109375\n"
     ]
    },
    {
     "name": "stderr",
     "output_type": "stream",
     "text": [
      "0.369: 100%|██████████████████████████████████████████████████████████████████████████████████████████████████████████████████████| 1490/1490 [00:35<00:00, 41.66it/s]\n"
     ]
    },
    {
     "name": "stdout",
     "output_type": "stream",
     "text": [
      "tensor(0.3692, device='cuda:1', grad_fn=<NllLoss2DBackward>)\n",
      "tensor(415.5098, device='cuda:1', grad_fn=<AddBackward0>)\n",
      "Best loss: 416.7116394042969, Loss: 415.50982666015625\n",
      "epoch: 89 | loss: 0.27886565547661496\n"
     ]
    },
    {
     "name": "stderr",
     "output_type": "stream",
     "text": [
      "0.210: 100%|██████████████████████████████████████████████████████████████████████████████████████████████████████████████████████| 1490/1490 [00:35<00:00, 41.73it/s]\n"
     ]
    },
    {
     "name": "stdout",
     "output_type": "stream",
     "text": [
      "tensor(0.2096, device='cuda:1', grad_fn=<NllLoss2DBackward>)\n",
      "tensor(414.4738, device='cuda:1', grad_fn=<AddBackward0>)\n",
      "Best loss: 415.50982666015625, Loss: 414.47381591796875\n",
      "epoch: 90 | loss: 0.2781703462536703\n"
     ]
    },
    {
     "name": "stderr",
     "output_type": "stream",
     "text": [
      "0.256: 100%|██████████████████████████████████████████████████████████████████████████████████████████████████████████████████████| 1490/1490 [00:36<00:00, 40.52it/s]\n"
     ]
    },
    {
     "name": "stdout",
     "output_type": "stream",
     "text": [
      "tensor(0.2558, device='cuda:1', grad_fn=<NllLoss2DBackward>)\n",
      "tensor(412.8793, device='cuda:1', grad_fn=<AddBackward0>)\n",
      "Best loss: 414.47381591796875, Loss: 412.8792724609375\n",
      "epoch: 91 | loss: 0.27710018285968957\n"
     ]
    },
    {
     "name": "stderr",
     "output_type": "stream",
     "text": [
      "0.501: 100%|██████████████████████████████████████████████████████████████████████████████████████████████████████████████████████| 1490/1490 [00:35<00:00, 42.30it/s]\n"
     ]
    },
    {
     "name": "stdout",
     "output_type": "stream",
     "text": [
      "tensor(0.5008, device='cuda:1', grad_fn=<NllLoss2DBackward>)\n",
      "tensor(412.9724, device='cuda:1', grad_fn=<AddBackward0>)\n",
      "epoch: 92 | loss: 0.2771626926908557\n"
     ]
    },
    {
     "name": "stderr",
     "output_type": "stream",
     "text": [
      "0.203: 100%|██████████████████████████████████████████████████████████████████████████████████████████████████████████████████████| 1490/1490 [00:35<00:00, 41.46it/s]\n"
     ]
    },
    {
     "name": "stdout",
     "output_type": "stream",
     "text": [
      "tensor(0.2035, device='cuda:1', grad_fn=<NllLoss2DBackward>)\n",
      "tensor(411.8943, device='cuda:1', grad_fn=<AddBackward0>)\n",
      "Best loss: 412.8792724609375, Loss: 411.8942565917969\n",
      "epoch: 93 | loss: 0.2764390983837563\n"
     ]
    },
    {
     "name": "stderr",
     "output_type": "stream",
     "text": [
      "0.309: 100%|██████████████████████████████████████████████████████████████████████████████████████████████████████████████████████| 1490/1490 [00:36<00:00, 40.86it/s]\n"
     ]
    },
    {
     "name": "stdout",
     "output_type": "stream",
     "text": [
      "tensor(0.3089, device='cuda:1', grad_fn=<NllLoss2DBackward>)\n",
      "tensor(410.9051, device='cuda:1', grad_fn=<AddBackward0>)\n",
      "Best loss: 411.8942565917969, Loss: 410.90509033203125\n",
      "epoch: 94 | loss: 0.27577522841075924\n"
     ]
    },
    {
     "name": "stderr",
     "output_type": "stream",
     "text": [
      "0.546: 100%|██████████████████████████████████████████████████████████████████████████████████████████████████████████████████████| 1490/1490 [00:35<00:00, 41.96it/s]\n"
     ]
    },
    {
     "name": "stdout",
     "output_type": "stream",
     "text": [
      "tensor(0.5465, device='cuda:1', grad_fn=<NllLoss2DBackward>)\n",
      "tensor(410.2357, device='cuda:1', grad_fn=<AddBackward0>)\n",
      "Best loss: 410.90509033203125, Loss: 410.2356872558594\n",
      "epoch: 95 | loss: 0.2753259646012479\n"
     ]
    },
    {
     "name": "stderr",
     "output_type": "stream",
     "text": [
      "0.430: 100%|██████████████████████████████████████████████████████████████████████████████████████████████████████████████████████| 1490/1490 [00:37<00:00, 40.20it/s]\n"
     ]
    },
    {
     "name": "stdout",
     "output_type": "stream",
     "text": [
      "tensor(0.4303, device='cuda:1', grad_fn=<NllLoss2DBackward>)\n",
      "tensor(408.7002, device='cuda:1', grad_fn=<AddBackward0>)\n",
      "Best loss: 410.2356872558594, Loss: 408.7002258300781\n",
      "epoch: 96 | loss: 0.2742954535772336\n"
     ]
    },
    {
     "name": "stderr",
     "output_type": "stream",
     "text": [
      "0.282: 100%|██████████████████████████████████████████████████████████████████████████████████████████████████████████████████████| 1490/1490 [00:35<00:00, 42.22it/s]\n"
     ]
    },
    {
     "name": "stdout",
     "output_type": "stream",
     "text": [
      "tensor(0.2823, device='cuda:1', grad_fn=<NllLoss2DBackward>)\n",
      "tensor(407.5783, device='cuda:1', grad_fn=<AddBackward0>)\n",
      "Best loss: 408.7002258300781, Loss: 407.5783386230469\n",
      "epoch: 97 | loss: 0.2735425091429845\n"
     ]
    },
    {
     "name": "stderr",
     "output_type": "stream",
     "text": [
      "0.279: 100%|██████████████████████████████████████████████████████████████████████████████████████████████████████████████████████| 1490/1490 [00:36<00:00, 40.98it/s]\n"
     ]
    },
    {
     "name": "stdout",
     "output_type": "stream",
     "text": [
      "tensor(0.2790, device='cuda:1', grad_fn=<NllLoss2DBackward>)\n",
      "tensor(406.6363, device='cuda:1', grad_fn=<AddBackward0>)\n",
      "Best loss: 407.5783386230469, Loss: 406.63629150390625\n",
      "epoch: 98 | loss: 0.27291026275429947\n"
     ]
    },
    {
     "name": "stderr",
     "output_type": "stream",
     "text": [
      "0.305: 100%|██████████████████████████████████████████████████████████████████████████████████████████████████████████████████████| 1490/1490 [00:35<00:00, 42.31it/s]\n"
     ]
    },
    {
     "name": "stdout",
     "output_type": "stream",
     "text": [
      "tensor(0.3053, device='cuda:1', grad_fn=<NllLoss2DBackward>)\n",
      "tensor(405.7750, device='cuda:1', grad_fn=<AddBackward0>)\n",
      "Best loss: 406.63629150390625, Loss: 405.7749938964844\n",
      "epoch: 99 | loss: 0.27233221066878144\n"
     ]
    },
    {
     "name": "stderr",
     "output_type": "stream",
     "text": [
      "0.191: 100%|██████████████████████████████████████████████████████████████████████████████████████████████████████████████████████| 1490/1490 [00:35<00:00, 42.43it/s]\n"
     ]
    },
    {
     "name": "stdout",
     "output_type": "stream",
     "text": [
      "tensor(0.1907, device='cuda:1', grad_fn=<NllLoss2DBackward>)\n",
      "tensor(405.2827, device='cuda:1', grad_fn=<AddBackward0>)\n",
      "Best loss: 405.7749938964844, Loss: 405.2827453613281\n",
      "epoch: 100 | loss: 0.2720018425243813\n"
     ]
    },
    {
     "name": "stderr",
     "output_type": "stream",
     "text": [
      "0.194: 100%|██████████████████████████████████████████████████████████████████████████████████████████████████████████████████████| 1490/1490 [00:35<00:00, 41.96it/s]\n"
     ]
    },
    {
     "name": "stdout",
     "output_type": "stream",
     "text": [
      "tensor(0.1943, device='cuda:1', grad_fn=<NllLoss2DBackward>)\n",
      "tensor(404.7412, device='cuda:1', grad_fn=<AddBackward0>)\n",
      "Best loss: 405.2827453613281, Loss: 404.7412109375\n",
      "epoch: 101 | loss: 0.271638396602349\n"
     ]
    },
    {
     "name": "stderr",
     "output_type": "stream",
     "text": [
      "0.389: 100%|██████████████████████████████████████████████████████████████████████████████████████████████████████████████████████| 1490/1490 [00:35<00:00, 42.09it/s]\n"
     ]
    },
    {
     "name": "stdout",
     "output_type": "stream",
     "text": [
      "tensor(0.3887, device='cuda:1', grad_fn=<NllLoss2DBackward>)\n",
      "tensor(404.1432, device='cuda:1', grad_fn=<AddBackward0>)\n",
      "Best loss: 404.7412109375, Loss: 404.14324951171875\n",
      "epoch: 102 | loss: 0.2712370802092072\n"
     ]
    },
    {
     "name": "stderr",
     "output_type": "stream",
     "text": [
      "0.218: 100%|██████████████████████████████████████████████████████████████████████████████████████████████████████████████████████| 1490/1490 [00:36<00:00, 41.25it/s]\n"
     ]
    },
    {
     "name": "stdout",
     "output_type": "stream",
     "text": [
      "tensor(0.2177, device='cuda:1', grad_fn=<NllLoss2DBackward>)\n",
      "tensor(402.7542, device='cuda:1', grad_fn=<AddBackward0>)\n",
      "Best loss: 404.14324951171875, Loss: 402.754150390625\n",
      "epoch: 103 | loss: 0.27030479891988257\n"
     ]
    },
    {
     "name": "stderr",
     "output_type": "stream",
     "text": [
      "0.153: 100%|██████████████████████████████████████████████████████████████████████████████████████████████████████████████████████| 1490/1490 [00:36<00:00, 40.95it/s]\n"
     ]
    },
    {
     "name": "stdout",
     "output_type": "stream",
     "text": [
      "tensor(0.1528, device='cuda:1', grad_fn=<NllLoss2DBackward>)\n",
      "tensor(401.7712, device='cuda:1', grad_fn=<AddBackward0>)\n",
      "Best loss: 402.754150390625, Loss: 401.771240234375\n",
      "epoch: 104 | loss: 0.26964512767407717\n"
     ]
    },
    {
     "name": "stderr",
     "output_type": "stream",
     "text": [
      "0.238: 100%|██████████████████████████████████████████████████████████████████████████████████████████████████████████████████████| 1490/1490 [00:36<00:00, 41.29it/s]\n"
     ]
    },
    {
     "name": "stdout",
     "output_type": "stream",
     "text": [
      "tensor(0.2383, device='cuda:1', grad_fn=<NllLoss2DBackward>)\n",
      "tensor(401.4400, device='cuda:1', grad_fn=<AddBackward0>)\n",
      "Best loss: 401.771240234375, Loss: 401.4400329589844\n",
      "epoch: 105 | loss: 0.26942284091207\n"
     ]
    },
    {
     "name": "stderr",
     "output_type": "stream",
     "text": [
      "0.167: 100%|██████████████████████████████████████████████████████████████████████████████████████████████████████████████████████| 1490/1490 [00:36<00:00, 41.32it/s]\n"
     ]
    },
    {
     "name": "stdout",
     "output_type": "stream",
     "text": [
      "tensor(0.1667, device='cuda:1', grad_fn=<NllLoss2DBackward>)\n",
      "tensor(399.5891, device='cuda:1', grad_fn=<AddBackward0>)\n",
      "Best loss: 401.4400329589844, Loss: 399.5891418457031\n",
      "epoch: 106 | loss: 0.2681806321112101\n"
     ]
    },
    {
     "name": "stderr",
     "output_type": "stream",
     "text": [
      "0.437: 100%|██████████████████████████████████████████████████████████████████████████████████████████████████████████████████████| 1490/1490 [00:34<00:00, 42.90it/s]\n"
     ]
    },
    {
     "name": "stdout",
     "output_type": "stream",
     "text": [
      "tensor(0.4368, device='cuda:1', grad_fn=<NllLoss2DBackward>)\n",
      "tensor(399.8753, device='cuda:1', grad_fn=<AddBackward0>)\n",
      "epoch: 107 | loss: 0.2683726880374371\n"
     ]
    },
    {
     "name": "stderr",
     "output_type": "stream",
     "text": [
      "0.167: 100%|██████████████████████████████████████████████████████████████████████████████████████████████████████████████████████| 1490/1490 [00:34<00:00, 42.88it/s]\n"
     ]
    },
    {
     "name": "stdout",
     "output_type": "stream",
     "text": [
      "tensor(0.1666, device='cuda:1', grad_fn=<NllLoss2DBackward>)\n",
      "tensor(398.5092, device='cuda:1', grad_fn=<AddBackward0>)\n",
      "Best loss: 399.5891418457031, Loss: 398.5092468261719\n",
      "epoch: 108 | loss: 0.2674558703531355\n"
     ]
    },
    {
     "name": "stderr",
     "output_type": "stream",
     "text": [
      "0.261: 100%|██████████████████████████████████████████████████████████████████████████████████████████████████████████████████████| 1490/1490 [00:35<00:00, 41.77it/s]\n"
     ]
    },
    {
     "name": "stdout",
     "output_type": "stream",
     "text": [
      "tensor(0.2611, device='cuda:1', grad_fn=<NllLoss2DBackward>)\n",
      "tensor(398.4366, device='cuda:1', grad_fn=<AddBackward0>)\n",
      "Best loss: 398.5092468261719, Loss: 398.4366149902344\n",
      "epoch: 109 | loss: 0.2674071241545197\n"
     ]
    },
    {
     "name": "stderr",
     "output_type": "stream",
     "text": [
      "0.168: 100%|██████████████████████████████████████████████████████████████████████████████████████████████████████████████████████| 1490/1490 [00:35<00:00, 41.52it/s]\n"
     ]
    },
    {
     "name": "stdout",
     "output_type": "stream",
     "text": [
      "tensor(0.1679, device='cuda:1', grad_fn=<NllLoss2DBackward>)\n",
      "tensor(397.0051, device='cuda:1', grad_fn=<AddBackward0>)\n",
      "Best loss: 398.4366149902344, Loss: 397.00506591796875\n",
      "epoch: 110 | loss: 0.2664463529650797\n"
     ]
    },
    {
     "name": "stderr",
     "output_type": "stream",
     "text": [
      "0.425: 100%|██████████████████████████████████████████████████████████████████████████████████████████████████████████████████████| 1490/1490 [00:35<00:00, 42.27it/s]\n"
     ]
    },
    {
     "name": "stdout",
     "output_type": "stream",
     "text": [
      "tensor(0.4249, device='cuda:1', grad_fn=<NllLoss2DBackward>)\n",
      "tensor(396.0073, device='cuda:1', grad_fn=<AddBackward0>)\n",
      "Best loss: 397.00506591796875, Loss: 396.00726318359375\n",
      "epoch: 111 | loss: 0.2657766867003985\n"
     ]
    },
    {
     "name": "stderr",
     "output_type": "stream",
     "text": [
      "0.191: 100%|██████████████████████████████████████████████████████████████████████████████████████████████████████████████████████| 1490/1490 [00:34<00:00, 42.62it/s]\n"
     ]
    },
    {
     "name": "stdout",
     "output_type": "stream",
     "text": [
      "tensor(0.1911, device='cuda:1', grad_fn=<NllLoss2DBackward>)\n",
      "tensor(395.8244, device='cuda:1', grad_fn=<AddBackward0>)\n",
      "Best loss: 396.00726318359375, Loss: 395.8244323730469\n",
      "epoch: 112 | loss: 0.26565398145842073\n"
     ]
    },
    {
     "name": "stderr",
     "output_type": "stream",
     "text": [
      "0.245: 100%|██████████████████████████████████████████████████████████████████████████████████████████████████████████████████████| 1490/1490 [00:35<00:00, 41.70it/s]\n"
     ]
    },
    {
     "name": "stdout",
     "output_type": "stream",
     "text": [
      "tensor(0.2454, device='cuda:1', grad_fn=<NllLoss2DBackward>)\n",
      "tensor(394.0172, device='cuda:1', grad_fn=<AddBackward0>)\n",
      "Best loss: 395.8244323730469, Loss: 394.0172424316406\n",
      "epoch: 113 | loss: 0.2644411023031145\n"
     ]
    },
    {
     "name": "stderr",
     "output_type": "stream",
     "text": [
      "0.309: 100%|██████████████████████████████████████████████████████████████████████████████████████████████████████████████████████| 1490/1490 [00:36<00:00, 41.32it/s]\n"
     ]
    },
    {
     "name": "stdout",
     "output_type": "stream",
     "text": [
      "tensor(0.3094, device='cuda:1', grad_fn=<NllLoss2DBackward>)\n",
      "tensor(394.5984, device='cuda:1', grad_fn=<AddBackward0>)\n",
      "epoch: 114 | loss: 0.2648311538184249\n"
     ]
    },
    {
     "name": "stderr",
     "output_type": "stream",
     "text": [
      "0.182: 100%|██████████████████████████████████████████████████████████████████████████████████████████████████████████████████████| 1490/1490 [00:36<00:00, 40.49it/s]\n"
     ]
    },
    {
     "name": "stdout",
     "output_type": "stream",
     "text": [
      "tensor(0.1817, device='cuda:1', grad_fn=<NllLoss2DBackward>)\n",
      "tensor(392.8848, device='cuda:1', grad_fn=<AddBackward0>)\n",
      "Best loss: 394.0172424316406, Loss: 392.8847961425781\n",
      "epoch: 115 | loss: 0.2636810712366296\n"
     ]
    },
    {
     "name": "stderr",
     "output_type": "stream",
     "text": [
      "0.197: 100%|██████████████████████████████████████████████████████████████████████████████████████████████████████████████████████| 1490/1490 [00:35<00:00, 42.21it/s]\n"
     ]
    },
    {
     "name": "stdout",
     "output_type": "stream",
     "text": [
      "tensor(0.1966, device='cuda:1', grad_fn=<NllLoss2DBackward>)\n",
      "tensor(392.0291, device='cuda:1', grad_fn=<AddBackward0>)\n",
      "Best loss: 392.8847961425781, Loss: 392.0291442871094\n",
      "epoch: 116 | loss: 0.2631068082463821\n"
     ]
    },
    {
     "name": "stderr",
     "output_type": "stream",
     "text": [
      "0.324: 100%|██████████████████████████████████████████████████████████████████████████████████████████████████████████████████████| 1490/1490 [00:35<00:00, 42.54it/s]\n"
     ]
    },
    {
     "name": "stdout",
     "output_type": "stream",
     "text": [
      "tensor(0.3240, device='cuda:1', grad_fn=<NllLoss2DBackward>)\n",
      "tensor(391.0012, device='cuda:1', grad_fn=<AddBackward0>)\n",
      "Best loss: 392.0291442871094, Loss: 391.001220703125\n",
      "epoch: 117 | loss: 0.2624169266463926\n"
     ]
    },
    {
     "name": "stderr",
     "output_type": "stream",
     "text": [
      "0.190: 100%|██████████████████████████████████████████████████████████████████████████████████████████████████████████████████████| 1490/1490 [00:36<00:00, 41.21it/s]\n"
     ]
    },
    {
     "name": "stdout",
     "output_type": "stream",
     "text": [
      "tensor(0.1896, device='cuda:1', grad_fn=<NllLoss2DBackward>)\n",
      "tensor(391.1308, device='cuda:1', grad_fn=<AddBackward0>)\n",
      "epoch: 118 | loss: 0.2625039119848469\n"
     ]
    },
    {
     "name": "stderr",
     "output_type": "stream",
     "text": [
      "0.370: 100%|██████████████████████████████████████████████████████████████████████████████████████████████████████████████████████| 1490/1490 [00:35<00:00, 42.52it/s]\n"
     ]
    },
    {
     "name": "stdout",
     "output_type": "stream",
     "text": [
      "tensor(0.3702, device='cuda:1', grad_fn=<NllLoss2DBackward>)\n",
      "tensor(390.3900, device='cuda:1', grad_fn=<AddBackward0>)\n",
      "Best loss: 391.001220703125, Loss: 390.3899841308594\n",
      "epoch: 119 | loss: 0.26200670075896604\n"
     ]
    },
    {
     "name": "stderr",
     "output_type": "stream",
     "text": [
      "0.167: 100%|██████████████████████████████████████████████████████████████████████████████████████████████████████████████████████| 1490/1490 [00:35<00:00, 41.90it/s]\n"
     ]
    },
    {
     "name": "stdout",
     "output_type": "stream",
     "text": [
      "tensor(0.1673, device='cuda:1', grad_fn=<NllLoss2DBackward>)\n",
      "tensor(388.3716, device='cuda:1', grad_fn=<AddBackward0>)\n",
      "Best loss: 390.3899841308594, Loss: 388.37158203125\n",
      "epoch: 120 | loss: 0.260652068477349\n"
     ]
    },
    {
     "name": "stderr",
     "output_type": "stream",
     "text": [
      "0.215: 100%|██████████████████████████████████████████████████████████████████████████████████████████████████████████████████████| 1490/1490 [00:35<00:00, 41.61it/s]\n"
     ]
    },
    {
     "name": "stdout",
     "output_type": "stream",
     "text": [
      "tensor(0.2147, device='cuda:1', grad_fn=<NllLoss2DBackward>)\n",
      "tensor(388.0032, device='cuda:1', grad_fn=<AddBackward0>)\n",
      "Best loss: 388.37158203125, Loss: 388.00323486328125\n",
      "epoch: 121 | loss: 0.2604048556129404\n"
     ]
    },
    {
     "name": "stderr",
     "output_type": "stream",
     "text": [
      "0.198: 100%|██████████████████████████████████████████████████████████████████████████████████████████████████████████████████████| 1490/1490 [00:35<00:00, 41.42it/s]\n"
     ]
    },
    {
     "name": "stdout",
     "output_type": "stream",
     "text": [
      "tensor(0.1977, device='cuda:1', grad_fn=<NllLoss2DBackward>)\n",
      "tensor(387.2103, device='cuda:1', grad_fn=<AddBackward0>)\n",
      "Best loss: 388.00323486328125, Loss: 387.2102966308594\n",
      "epoch: 122 | loss: 0.2598726823025902\n"
     ]
    },
    {
     "name": "stderr",
     "output_type": "stream",
     "text": [
      "0.373: 100%|██████████████████████████████████████████████████████████████████████████████████████████████████████████████████████| 1490/1490 [00:35<00:00, 41.62it/s]\n"
     ]
    },
    {
     "name": "stdout",
     "output_type": "stream",
     "text": [
      "tensor(0.3735, device='cuda:1', grad_fn=<NllLoss2DBackward>)\n",
      "tensor(386.6511, device='cuda:1', grad_fn=<AddBackward0>)\n",
      "Best loss: 387.2102966308594, Loss: 386.6510925292969\n",
      "epoch: 123 | loss: 0.25949737753644087\n"
     ]
    },
    {
     "name": "stderr",
     "output_type": "stream",
     "text": [
      "0.401: 100%|██████████████████████████████████████████████████████████████████████████████████████████████████████████████████████| 1490/1490 [00:34<00:00, 42.65it/s]\n"
     ]
    },
    {
     "name": "stdout",
     "output_type": "stream",
     "text": [
      "tensor(0.4008, device='cuda:1', grad_fn=<NllLoss2DBackward>)\n",
      "tensor(385.7726, device='cuda:1', grad_fn=<AddBackward0>)\n",
      "Best loss: 386.6510925292969, Loss: 385.77264404296875\n",
      "epoch: 124 | loss: 0.25890781479393876\n"
     ]
    },
    {
     "name": "stderr",
     "output_type": "stream",
     "text": [
      "0.376: 100%|██████████████████████████████████████████████████████████████████████████████████████████████████████████████████████| 1490/1490 [00:35<00:00, 42.09it/s]\n"
     ]
    },
    {
     "name": "stdout",
     "output_type": "stream",
     "text": [
      "tensor(0.3757, device='cuda:1', grad_fn=<NllLoss2DBackward>)\n",
      "tensor(385.4711, device='cuda:1', grad_fn=<AddBackward0>)\n",
      "Best loss: 385.77264404296875, Loss: 385.47113037109375\n",
      "epoch: 125 | loss: 0.25870545662489514\n"
     ]
    },
    {
     "name": "stderr",
     "output_type": "stream",
     "text": [
      "0.212: 100%|██████████████████████████████████████████████████████████████████████████████████████████████████████████████████████| 1490/1490 [00:36<00:00, 41.13it/s]\n"
     ]
    },
    {
     "name": "stdout",
     "output_type": "stream",
     "text": [
      "tensor(0.2117, device='cuda:1', grad_fn=<NllLoss2DBackward>)\n",
      "tensor(384.5627, device='cuda:1', grad_fn=<AddBackward0>)\n",
      "Best loss: 385.47113037109375, Loss: 384.56268310546875\n",
      "epoch: 126 | loss: 0.25809576047346894\n"
     ]
    },
    {
     "name": "stderr",
     "output_type": "stream",
     "text": [
      "0.149: 100%|██████████████████████████████████████████████████████████████████████████████████████████████████████████████████████| 1490/1490 [00:35<00:00, 42.11it/s]\n"
     ]
    },
    {
     "name": "stdout",
     "output_type": "stream",
     "text": [
      "tensor(0.1487, device='cuda:1', grad_fn=<NllLoss2DBackward>)\n",
      "tensor(383.9849, device='cuda:1', grad_fn=<AddBackward0>)\n",
      "Best loss: 384.56268310546875, Loss: 383.98492431640625\n",
      "epoch: 127 | loss: 0.2577080028969169\n"
     ]
    },
    {
     "name": "stderr",
     "output_type": "stream",
     "text": [
      "0.409: 100%|██████████████████████████████████████████████████████████████████████████████████████████████████████████████████████| 1490/1490 [00:36<00:00, 41.13it/s]\n"
     ]
    },
    {
     "name": "stdout",
     "output_type": "stream",
     "text": [
      "tensor(0.4094, device='cuda:1', grad_fn=<NllLoss2DBackward>)\n",
      "tensor(383.6003, device='cuda:1', grad_fn=<AddBackward0>)\n",
      "Best loss: 383.98492431640625, Loss: 383.600341796875\n",
      "epoch: 128 | loss: 0.25744989382340605\n"
     ]
    },
    {
     "name": "stderr",
     "output_type": "stream",
     "text": [
      "0.293: 100%|██████████████████████████████████████████████████████████████████████████████████████████████████████████████████████| 1490/1490 [00:36<00:00, 41.22it/s]\n"
     ]
    },
    {
     "name": "stdout",
     "output_type": "stream",
     "text": [
      "tensor(0.2928, device='cuda:1', grad_fn=<NllLoss2DBackward>)\n",
      "tensor(382.3959, device='cuda:1', grad_fn=<AddBackward0>)\n",
      "Best loss: 383.600341796875, Loss: 382.3958740234375\n",
      "epoch: 129 | loss: 0.2566415261902265\n"
     ]
    },
    {
     "name": "stderr",
     "output_type": "stream",
     "text": [
      "0.208: 100%|██████████████████████████████████████████████████████████████████████████████████████████████████████████████████████| 1490/1490 [00:36<00:00, 40.87it/s]\n"
     ]
    },
    {
     "name": "stdout",
     "output_type": "stream",
     "text": [
      "tensor(0.2083, device='cuda:1', grad_fn=<NllLoss2DBackward>)\n",
      "tensor(381.3625, device='cuda:1', grad_fn=<AddBackward0>)\n",
      "Best loss: 382.3958740234375, Loss: 381.3624572753906\n",
      "epoch: 130 | loss: 0.2559479579029467\n"
     ]
    },
    {
     "name": "stderr",
     "output_type": "stream",
     "text": [
      "0.143: 100%|██████████████████████████████████████████████████████████████████████████████████████████████████████████████████████| 1490/1490 [00:35<00:00, 41.62it/s]\n"
     ]
    },
    {
     "name": "stdout",
     "output_type": "stream",
     "text": [
      "tensor(0.1433, device='cuda:1', grad_fn=<NllLoss2DBackward>)\n",
      "tensor(381.4074, device='cuda:1', grad_fn=<AddBackward0>)\n",
      "epoch: 131 | loss: 0.2559781068123427\n"
     ]
    },
    {
     "name": "stderr",
     "output_type": "stream",
     "text": [
      "0.347: 100%|██████████████████████████████████████████████████████████████████████████████████████████████████████████████████████| 1490/1490 [00:36<00:00, 40.79it/s]\n"
     ]
    },
    {
     "name": "stdout",
     "output_type": "stream",
     "text": [
      "tensor(0.3472, device='cuda:1', grad_fn=<NllLoss2DBackward>)\n",
      "tensor(380.0433, device='cuda:1', grad_fn=<AddBackward0>)\n",
      "Best loss: 381.3624572753906, Loss: 380.0433349609375\n",
      "epoch: 132 | loss: 0.2550626409133809\n"
     ]
    },
    {
     "name": "stderr",
     "output_type": "stream",
     "text": [
      "0.311: 100%|██████████████████████████████████████████████████████████████████████████████████████████████████████████████████████| 1490/1490 [00:36<00:00, 41.20it/s]\n"
     ]
    },
    {
     "name": "stdout",
     "output_type": "stream",
     "text": [
      "tensor(0.3115, device='cuda:1', grad_fn=<NllLoss2DBackward>)\n",
      "tensor(379.4092, device='cuda:1', grad_fn=<AddBackward0>)\n",
      "Best loss: 380.0433349609375, Loss: 379.4092102050781\n",
      "epoch: 133 | loss: 0.2546370538289115\n"
     ]
    },
    {
     "name": "stderr",
     "output_type": "stream",
     "text": [
      "0.341: 100%|██████████████████████████████████████████████████████████████████████████████████████████████████████████████████████| 1490/1490 [00:35<00:00, 42.08it/s]\n"
     ]
    },
    {
     "name": "stdout",
     "output_type": "stream",
     "text": [
      "tensor(0.3406, device='cuda:1', grad_fn=<NllLoss2DBackward>)\n",
      "tensor(378.9819, device='cuda:1', grad_fn=<AddBackward0>)\n",
      "Best loss: 379.4092102050781, Loss: 378.98193359375\n",
      "epoch: 134 | loss: 0.25435029100251677\n"
     ]
    },
    {
     "name": "stderr",
     "output_type": "stream",
     "text": [
      "0.223: 100%|██████████████████████████████████████████████████████████████████████████████████████████████████████████████████████| 1490/1490 [00:35<00:00, 42.52it/s]\n"
     ]
    },
    {
     "name": "stdout",
     "output_type": "stream",
     "text": [
      "tensor(0.2234, device='cuda:1', grad_fn=<NllLoss2DBackward>)\n",
      "tensor(378.2679, device='cuda:1', grad_fn=<AddBackward0>)\n",
      "Best loss: 378.98193359375, Loss: 378.2679138183594\n",
      "epoch: 135 | loss: 0.25387108309957007\n"
     ]
    },
    {
     "name": "stderr",
     "output_type": "stream",
     "text": [
      "0.230: 100%|██████████████████████████████████████████████████████████████████████████████████████████████████████████████████████| 1490/1490 [00:36<00:00, 40.76it/s]\n"
     ]
    },
    {
     "name": "stdout",
     "output_type": "stream",
     "text": [
      "tensor(0.2296, device='cuda:1', grad_fn=<NllLoss2DBackward>)\n",
      "tensor(376.6756, device='cuda:1', grad_fn=<AddBackward0>)\n",
      "Best loss: 378.2679138183594, Loss: 376.6756286621094\n",
      "epoch: 136 | loss: 0.25280243534369756\n"
     ]
    },
    {
     "name": "stderr",
     "output_type": "stream",
     "text": [
      "0.377: 100%|██████████████████████████████████████████████████████████████████████████████████████████████████████████████████████| 1490/1490 [00:35<00:00, 41.67it/s]\n"
     ]
    },
    {
     "name": "stdout",
     "output_type": "stream",
     "text": [
      "tensor(0.3765, device='cuda:1', grad_fn=<NllLoss2DBackward>)\n",
      "tensor(376.8422, device='cuda:1', grad_fn=<AddBackward0>)\n",
      "epoch: 137 | loss: 0.2529142238949769\n"
     ]
    },
    {
     "name": "stderr",
     "output_type": "stream",
     "text": [
      "0.411: 100%|██████████████████████████████████████████████████████████████████████████████████████████████████████████████████████| 1490/1490 [00:35<00:00, 42.17it/s]\n"
     ]
    },
    {
     "name": "stdout",
     "output_type": "stream",
     "text": [
      "tensor(0.4108, device='cuda:1', grad_fn=<NllLoss2DBackward>)\n",
      "tensor(376.3969, device='cuda:1', grad_fn=<AddBackward0>)\n",
      "Best loss: 376.6756286621094, Loss: 376.3969421386719\n",
      "epoch: 138 | loss: 0.25261539740850464\n"
     ]
    },
    {
     "name": "stderr",
     "output_type": "stream",
     "text": [
      "0.326: 100%|██████████████████████████████████████████████████████████████████████████████████████████████████████████████████████| 1490/1490 [00:34<00:00, 42.68it/s]\n"
     ]
    },
    {
     "name": "stdout",
     "output_type": "stream",
     "text": [
      "tensor(0.3264, device='cuda:1', grad_fn=<NllLoss2DBackward>)\n",
      "tensor(374.9813, device='cuda:1', grad_fn=<AddBackward0>)\n",
      "Best loss: 376.3969421386719, Loss: 374.98126220703125\n",
      "epoch: 139 | loss: 0.2516652766490143\n"
     ]
    },
    {
     "name": "stderr",
     "output_type": "stream",
     "text": [
      "0.255: 100%|██████████████████████████████████████████████████████████████████████████████████████████████████████████████████████| 1490/1490 [00:35<00:00, 42.39it/s]\n"
     ]
    },
    {
     "name": "stdout",
     "output_type": "stream",
     "text": [
      "tensor(0.2547, device='cuda:1', grad_fn=<NllLoss2DBackward>)\n",
      "tensor(374.0763, device='cuda:1', grad_fn=<AddBackward0>)\n",
      "Best loss: 374.98126220703125, Loss: 374.0762634277344\n",
      "epoch: 140 | loss: 0.25105789491794256\n"
     ]
    },
    {
     "name": "stderr",
     "output_type": "stream",
     "text": [
      "0.304: 100%|██████████████████████████████████████████████████████████████████████████████████████████████████████████████████████| 1490/1490 [00:33<00:00, 44.02it/s]\n"
     ]
    },
    {
     "name": "stdout",
     "output_type": "stream",
     "text": [
      "tensor(0.3040, device='cuda:1', grad_fn=<NllLoss2DBackward>)\n",
      "tensor(373.8611, device='cuda:1', grad_fn=<AddBackward0>)\n",
      "Best loss: 374.0762634277344, Loss: 373.861083984375\n",
      "epoch: 141 | loss: 0.2509134791841443\n"
     ]
    },
    {
     "name": "stderr",
     "output_type": "stream",
     "text": [
      "0.221: 100%|██████████████████████████████████████████████████████████████████████████████████████████████████████████████████████| 1490/1490 [00:36<00:00, 41.06it/s]\n"
     ]
    },
    {
     "name": "stdout",
     "output_type": "stream",
     "text": [
      "tensor(0.2206, device='cuda:1', grad_fn=<NllLoss2DBackward>)\n",
      "tensor(373.2774, device='cuda:1', grad_fn=<AddBackward0>)\n",
      "Best loss: 373.861083984375, Loss: 373.2774353027344\n",
      "epoch: 142 | loss: 0.2505217686595533\n"
     ]
    },
    {
     "name": "stderr",
     "output_type": "stream",
     "text": [
      "0.289: 100%|██████████████████████████████████████████████████████████████████████████████████████████████████████████████████████| 1490/1490 [00:34<00:00, 43.12it/s]\n"
     ]
    },
    {
     "name": "stdout",
     "output_type": "stream",
     "text": [
      "tensor(0.2893, device='cuda:1', grad_fn=<NllLoss2DBackward>)\n",
      "tensor(372.5758, device='cuda:1', grad_fn=<AddBackward0>)\n",
      "Best loss: 373.2774353027344, Loss: 372.5757751464844\n",
      "epoch: 143 | loss: 0.2500508558030097\n"
     ]
    },
    {
     "name": "stderr",
     "output_type": "stream",
     "text": [
      "0.254: 100%|██████████████████████████████████████████████████████████████████████████████████████████████████████████████████████| 1490/1490 [00:35<00:00, 41.67it/s]\n"
     ]
    },
    {
     "name": "stdout",
     "output_type": "stream",
     "text": [
      "tensor(0.2542, device='cuda:1', grad_fn=<NllLoss2DBackward>)\n",
      "tensor(371.6769, device='cuda:1', grad_fn=<AddBackward0>)\n",
      "Best loss: 372.5757751464844, Loss: 371.6769104003906\n",
      "epoch: 144 | loss: 0.24944759087274537\n"
     ]
    },
    {
     "name": "stderr",
     "output_type": "stream",
     "text": [
      "0.221: 100%|██████████████████████████████████████████████████████████████████████████████████████████████████████████████████████| 1490/1490 [00:35<00:00, 41.80it/s]\n"
     ]
    },
    {
     "name": "stdout",
     "output_type": "stream",
     "text": [
      "tensor(0.2209, device='cuda:1', grad_fn=<NllLoss2DBackward>)\n",
      "tensor(370.7162, device='cuda:1', grad_fn=<AddBackward0>)\n",
      "Best loss: 371.6769104003906, Loss: 370.7162170410156\n",
      "epoch: 145 | loss: 0.24880283022886954\n"
     ]
    },
    {
     "name": "stderr",
     "output_type": "stream",
     "text": [
      "0.139: 100%|██████████████████████████████████████████████████████████████████████████████████████████████████████████████████████| 1490/1490 [00:35<00:00, 42.34it/s]\n"
     ]
    },
    {
     "name": "stdout",
     "output_type": "stream",
     "text": [
      "tensor(0.1385, device='cuda:1', grad_fn=<NllLoss2DBackward>)\n",
      "tensor(371.3809, device='cuda:1', grad_fn=<AddBackward0>)\n",
      "epoch: 146 | loss: 0.24924891939099203\n"
     ]
    },
    {
     "name": "stderr",
     "output_type": "stream",
     "text": [
      "0.196: 100%|██████████████████████████████████████████████████████████████████████████████████████████████████████████████████████| 1490/1490 [00:35<00:00, 41.59it/s]\n"
     ]
    },
    {
     "name": "stdout",
     "output_type": "stream",
     "text": [
      "tensor(0.1963, device='cuda:1', grad_fn=<NllLoss2DBackward>)\n",
      "tensor(369.6112, device='cuda:1', grad_fn=<AddBackward0>)\n",
      "Best loss: 370.7162170410156, Loss: 369.6112365722656\n",
      "epoch: 147 | loss: 0.248061232598836\n"
     ]
    },
    {
     "name": "stderr",
     "output_type": "stream",
     "text": [
      "0.255: 100%|██████████████████████████████████████████████████████████████████████████████████████████████████████████████████████| 1490/1490 [00:35<00:00, 41.67it/s]\n"
     ]
    },
    {
     "name": "stdout",
     "output_type": "stream",
     "text": [
      "tensor(0.2548, device='cuda:1', grad_fn=<NllLoss2DBackward>)\n",
      "tensor(368.9272, device='cuda:1', grad_fn=<AddBackward0>)\n",
      "Best loss: 369.6112365722656, Loss: 368.92724609375\n",
      "epoch: 148 | loss: 0.2476021785864094\n"
     ]
    },
    {
     "name": "stderr",
     "output_type": "stream",
     "text": [
      "0.220: 100%|██████████████████████████████████████████████████████████████████████████████████████████████████████████████████████| 1490/1490 [00:35<00:00, 42.40it/s]\n"
     ]
    },
    {
     "name": "stdout",
     "output_type": "stream",
     "text": [
      "tensor(0.2199, device='cuda:1', grad_fn=<NllLoss2DBackward>)\n",
      "tensor(368.6860, device='cuda:1', grad_fn=<AddBackward0>)\n",
      "Best loss: 368.92724609375, Loss: 368.68597412109375\n",
      "epoch: 149 | loss: 0.24744025108798237\n"
     ]
    },
    {
     "name": "stderr",
     "output_type": "stream",
     "text": [
      "0.287: 100%|██████████████████████████████████████████████████████████████████████████████████████████████████████████████████████| 1490/1490 [00:34<00:00, 43.05it/s]\n"
     ]
    },
    {
     "name": "stdout",
     "output_type": "stream",
     "text": [
      "tensor(0.2866, device='cuda:1', grad_fn=<NllLoss2DBackward>)\n",
      "tensor(368.3138, device='cuda:1', grad_fn=<AddBackward0>)\n",
      "Best loss: 368.68597412109375, Loss: 368.31378173828125\n",
      "epoch: 150 | loss: 0.24719045754247063\n"
     ]
    },
    {
     "name": "stderr",
     "output_type": "stream",
     "text": [
      "0.280: 100%|██████████████████████████████████████████████████████████████████████████████████████████████████████████████████████| 1490/1490 [00:35<00:00, 41.95it/s]\n"
     ]
    },
    {
     "name": "stdout",
     "output_type": "stream",
     "text": [
      "tensor(0.2799, device='cuda:1', grad_fn=<NllLoss2DBackward>)\n",
      "tensor(366.8757, device='cuda:1', grad_fn=<AddBackward0>)\n",
      "Best loss: 368.31378173828125, Loss: 366.87567138671875\n",
      "epoch: 151 | loss: 0.24622528280987835\n"
     ]
    },
    {
     "name": "stderr",
     "output_type": "stream",
     "text": [
      "0.161: 100%|██████████████████████████████████████████████████████████████████████████████████████████████████████████████████████| 1490/1490 [00:35<00:00, 42.25it/s]\n"
     ]
    },
    {
     "name": "stdout",
     "output_type": "stream",
     "text": [
      "tensor(0.1609, device='cuda:1', grad_fn=<NllLoss2DBackward>)\n",
      "tensor(366.2015, device='cuda:1', grad_fn=<AddBackward0>)\n",
      "Best loss: 366.87567138671875, Loss: 366.2015075683594\n",
      "epoch: 152 | loss: 0.24577282387138213\n"
     ]
    },
    {
     "name": "stderr",
     "output_type": "stream",
     "text": [
      "0.362: 100%|██████████████████████████████████████████████████████████████████████████████████████████████████████████████████████| 1490/1490 [00:35<00:00, 42.52it/s]\n"
     ]
    },
    {
     "name": "stdout",
     "output_type": "stream",
     "text": [
      "tensor(0.3622, device='cuda:1', grad_fn=<NllLoss2DBackward>)\n",
      "tensor(366.0800, device='cuda:1', grad_fn=<AddBackward0>)\n",
      "Best loss: 366.2015075683594, Loss: 366.0799865722656\n",
      "epoch: 153 | loss: 0.24569126615588296\n"
     ]
    },
    {
     "name": "stderr",
     "output_type": "stream",
     "text": [
      "0.175: 100%|██████████████████████████████████████████████████████████████████████████████████████████████████████████████████████| 1490/1490 [00:35<00:00, 41.97it/s]\n"
     ]
    },
    {
     "name": "stdout",
     "output_type": "stream",
     "text": [
      "tensor(0.1749, device='cuda:1', grad_fn=<NllLoss2DBackward>)\n",
      "tensor(365.6107, device='cuda:1', grad_fn=<AddBackward0>)\n",
      "Best loss: 366.0799865722656, Loss: 365.6106872558594\n",
      "epoch: 154 | loss: 0.24537630017171772\n"
     ]
    },
    {
     "name": "stderr",
     "output_type": "stream",
     "text": [
      "0.336: 100%|██████████████████████████████████████████████████████████████████████████████████████████████████████████████████████| 1490/1490 [00:35<00:00, 42.01it/s]\n"
     ]
    },
    {
     "name": "stdout",
     "output_type": "stream",
     "text": [
      "tensor(0.3362, device='cuda:1', grad_fn=<NllLoss2DBackward>)\n",
      "tensor(364.5295, device='cuda:1', grad_fn=<AddBackward0>)\n",
      "Best loss: 365.6106872558594, Loss: 364.52947998046875\n",
      "epoch: 155 | loss: 0.2446506577050126\n"
     ]
    },
    {
     "name": "stderr",
     "output_type": "stream",
     "text": [
      "0.277: 100%|██████████████████████████████████████████████████████████████████████████████████████████████████████████████████████| 1490/1490 [00:35<00:00, 42.12it/s]\n"
     ]
    },
    {
     "name": "stdout",
     "output_type": "stream",
     "text": [
      "tensor(0.2765, device='cuda:1', grad_fn=<NllLoss2DBackward>)\n",
      "tensor(364.0085, device='cuda:1', grad_fn=<AddBackward0>)\n",
      "Best loss: 364.52947998046875, Loss: 364.008544921875\n",
      "epoch: 156 | loss: 0.2443010368603188\n"
     ]
    },
    {
     "name": "stderr",
     "output_type": "stream",
     "text": [
      "0.294: 100%|██████████████████████████████████████████████████████████████████████████████████████████████████████████████████████| 1490/1490 [00:35<00:00, 42.56it/s]\n"
     ]
    },
    {
     "name": "stdout",
     "output_type": "stream",
     "text": [
      "tensor(0.2942, device='cuda:1', grad_fn=<NllLoss2DBackward>)\n",
      "tensor(363.5546, device='cuda:1', grad_fn=<AddBackward0>)\n",
      "Best loss: 364.008544921875, Loss: 363.55462646484375\n",
      "epoch: 157 | loss: 0.24399639360056627\n"
     ]
    },
    {
     "name": "stderr",
     "output_type": "stream",
     "text": [
      "0.229: 100%|██████████████████████████████████████████████████████████████████████████████████████████████████████████████████████| 1490/1490 [00:34<00:00, 43.06it/s]\n"
     ]
    },
    {
     "name": "stdout",
     "output_type": "stream",
     "text": [
      "tensor(0.2286, device='cuda:1', grad_fn=<NllLoss2DBackward>)\n",
      "tensor(362.9088, device='cuda:1', grad_fn=<AddBackward0>)\n",
      "Best loss: 363.55462646484375, Loss: 362.9087829589844\n",
      "epoch: 158 | loss: 0.24356294158321098\n"
     ]
    },
    {
     "name": "stderr",
     "output_type": "stream",
     "text": [
      "0.286: 100%|██████████████████████████████████████████████████████████████████████████████████████████████████████████████████████| 1490/1490 [00:35<00:00, 41.87it/s]\n"
     ]
    },
    {
     "name": "stdout",
     "output_type": "stream",
     "text": [
      "tensor(0.2856, device='cuda:1', grad_fn=<NllLoss2DBackward>)\n",
      "tensor(361.6317, device='cuda:1', grad_fn=<AddBackward0>)\n",
      "Best loss: 362.9087829589844, Loss: 361.6317138671875\n",
      "epoch: 159 | loss: 0.24270584823301175\n"
     ]
    },
    {
     "name": "stderr",
     "output_type": "stream",
     "text": [
      "0.210: 100%|██████████████████████████████████████████████████████████████████████████████████████████████████████████████████████| 1490/1490 [00:36<00:00, 41.21it/s]\n"
     ]
    },
    {
     "name": "stdout",
     "output_type": "stream",
     "text": [
      "tensor(0.2099, device='cuda:1', grad_fn=<NllLoss2DBackward>)\n",
      "tensor(360.6583, device='cuda:1', grad_fn=<AddBackward0>)\n",
      "Best loss: 361.6317138671875, Loss: 360.65826416015625\n",
      "epoch: 160 | loss: 0.24205252628198407\n"
     ]
    },
    {
     "name": "stderr",
     "output_type": "stream",
     "text": [
      "0.350: 100%|██████████████████████████████████████████████████████████████████████████████████████████████████████████████████████| 1490/1490 [00:35<00:00, 41.94it/s]\n"
     ]
    },
    {
     "name": "stdout",
     "output_type": "stream",
     "text": [
      "tensor(0.3505, device='cuda:1', grad_fn=<NllLoss2DBackward>)\n",
      "tensor(361.3256, device='cuda:1', grad_fn=<AddBackward0>)\n",
      "epoch: 161 | loss: 0.24250037686136744\n"
     ]
    },
    {
     "name": "stderr",
     "output_type": "stream",
     "text": [
      "0.141: 100%|██████████████████████████████████████████████████████████████████████████████████████████████████████████████████████| 1490/1490 [00:35<00:00, 42.44it/s]\n"
     ]
    },
    {
     "name": "stdout",
     "output_type": "stream",
     "text": [
      "tensor(0.1407, device='cuda:1', grad_fn=<NllLoss2DBackward>)\n",
      "tensor(359.5199, device='cuda:1', grad_fn=<AddBackward0>)\n",
      "Best loss: 360.65826416015625, Loss: 359.5199279785156\n",
      "epoch: 162 | loss: 0.24128854226746016\n"
     ]
    },
    {
     "name": "stderr",
     "output_type": "stream",
     "text": [
      "0.212: 100%|██████████████████████████████████████████████████████████████████████████████████████████████████████████████████████| 1490/1490 [00:34<00:00, 43.21it/s]\n"
     ]
    },
    {
     "name": "stdout",
     "output_type": "stream",
     "text": [
      "tensor(0.2115, device='cuda:1', grad_fn=<NllLoss2DBackward>)\n",
      "tensor(358.7057, device='cuda:1', grad_fn=<AddBackward0>)\n",
      "Best loss: 359.5199279785156, Loss: 358.7057189941406\n",
      "epoch: 163 | loss: 0.24074209328465815\n"
     ]
    },
    {
     "name": "stderr",
     "output_type": "stream",
     "text": [
      "0.385: 100%|██████████████████████████████████████████████████████████████████████████████████████████████████████████████████████| 1490/1490 [00:35<00:00, 41.99it/s]\n"
     ]
    },
    {
     "name": "stdout",
     "output_type": "stream",
     "text": [
      "tensor(0.3855, device='cuda:1', grad_fn=<NllLoss2DBackward>)\n",
      "tensor(358.7469, device='cuda:1', grad_fn=<AddBackward0>)\n",
      "epoch: 164 | loss: 0.24076976392093122\n"
     ]
    },
    {
     "name": "stderr",
     "output_type": "stream",
     "text": [
      "0.219: 100%|██████████████████████████████████████████████████████████████████████████████████████████████████████████████████████| 1490/1490 [00:36<00:00, 41.36it/s]\n"
     ]
    },
    {
     "name": "stdout",
     "output_type": "stream",
     "text": [
      "tensor(0.2191, device='cuda:1', grad_fn=<NllLoss2DBackward>)\n",
      "tensor(357.6451, device='cuda:1', grad_fn=<AddBackward0>)\n",
      "Best loss: 358.7057189941406, Loss: 357.6451110839844\n",
      "epoch: 165 | loss: 0.24003027589529152\n"
     ]
    },
    {
     "name": "stderr",
     "output_type": "stream",
     "text": [
      "0.115: 100%|██████████████████████████████████████████████████████████████████████████████████████████████████████████████████████| 1490/1490 [00:35<00:00, 41.88it/s]\n"
     ]
    },
    {
     "name": "stdout",
     "output_type": "stream",
     "text": [
      "tensor(0.1150, device='cuda:1', grad_fn=<NllLoss2DBackward>)\n",
      "tensor(357.0546, device='cuda:1', grad_fn=<AddBackward0>)\n",
      "Best loss: 357.6451110839844, Loss: 357.0545654296875\n",
      "epoch: 166 | loss: 0.2396339365299916\n"
     ]
    },
    {
     "name": "stderr",
     "output_type": "stream",
     "text": [
      "0.318: 100%|██████████████████████████████████████████████████████████████████████████████████████████████████████████████████████| 1490/1490 [00:34<00:00, 43.71it/s]\n"
     ]
    },
    {
     "name": "stdout",
     "output_type": "stream",
     "text": [
      "tensor(0.3175, device='cuda:1', grad_fn=<NllLoss2DBackward>)\n",
      "tensor(356.5536, device='cuda:1', grad_fn=<AddBackward0>)\n",
      "Best loss: 357.0545654296875, Loss: 356.5535583496094\n",
      "epoch: 167 | loss: 0.23929769016752306\n"
     ]
    },
    {
     "name": "stderr",
     "output_type": "stream",
     "text": [
      "0.347: 100%|██████████████████████████████████████████████████████████████████████████████████████████████████████████████████████| 1490/1490 [00:33<00:00, 44.51it/s]\n"
     ]
    },
    {
     "name": "stdout",
     "output_type": "stream",
     "text": [
      "tensor(0.3471, device='cuda:1', grad_fn=<NllLoss2DBackward>)\n",
      "tensor(355.9288, device='cuda:1', grad_fn=<AddBackward0>)\n",
      "Best loss: 356.5535583496094, Loss: 355.9288024902344\n",
      "epoch: 168 | loss: 0.2388783909330432\n"
     ]
    },
    {
     "name": "stderr",
     "output_type": "stream",
     "text": [
      "0.577: 100%|██████████████████████████████████████████████████████████████████████████████████████████████████████████████████████| 1490/1490 [00:34<00:00, 43.67it/s]\n"
     ]
    },
    {
     "name": "stdout",
     "output_type": "stream",
     "text": [
      "tensor(0.5766, device='cuda:1', grad_fn=<NllLoss2DBackward>)\n",
      "tensor(356.0149, device='cuda:1', grad_fn=<AddBackward0>)\n",
      "epoch: 169 | loss: 0.2389361899971162\n"
     ]
    },
    {
     "name": "stderr",
     "output_type": "stream",
     "text": [
      "0.161: 100%|██████████████████████████████████████████████████████████████████████████████████████████████████████████████████████| 1490/1490 [00:35<00:00, 41.87it/s]\n"
     ]
    },
    {
     "name": "stdout",
     "output_type": "stream",
     "text": [
      "tensor(0.1608, device='cuda:1', grad_fn=<NllLoss2DBackward>)\n",
      "tensor(354.9634, device='cuda:1', grad_fn=<AddBackward0>)\n",
      "Best loss: 355.9288024902344, Loss: 354.9634094238281\n",
      "epoch: 170 | loss: 0.23823047612337458\n"
     ]
    },
    {
     "name": "stderr",
     "output_type": "stream",
     "text": [
      "0.280: 100%|██████████████████████████████████████████████████████████████████████████████████████████████████████████████████████| 1490/1490 [00:35<00:00, 42.29it/s]\n"
     ]
    },
    {
     "name": "stdout",
     "output_type": "stream",
     "text": [
      "tensor(0.2801, device='cuda:1', grad_fn=<NllLoss2DBackward>)\n",
      "tensor(355.1452, device='cuda:1', grad_fn=<AddBackward0>)\n",
      "epoch: 171 | loss: 0.23835250547268247\n"
     ]
    },
    {
     "name": "stderr",
     "output_type": "stream",
     "text": [
      "0.169: 100%|██████████████████████████████████████████████████████████████████████████████████████████████████████████████████████| 1490/1490 [00:36<00:00, 40.54it/s]\n"
     ]
    },
    {
     "name": "stdout",
     "output_type": "stream",
     "text": [
      "tensor(0.1686, device='cuda:1', grad_fn=<NllLoss2DBackward>)\n",
      "tensor(353.9878, device='cuda:1', grad_fn=<AddBackward0>)\n",
      "Best loss: 354.9634094238281, Loss: 353.98779296875\n",
      "epoch: 172 | loss: 0.23757569997902683\n"
     ]
    },
    {
     "name": "stderr",
     "output_type": "stream",
     "text": [
      "0.171: 100%|██████████████████████████████████████████████████████████████████████████████████████████████████████████████████████| 1490/1490 [00:36<00:00, 40.72it/s]\n"
     ]
    },
    {
     "name": "stdout",
     "output_type": "stream",
     "text": [
      "tensor(0.1708, device='cuda:1', grad_fn=<NllLoss2DBackward>)\n",
      "tensor(353.8165, device='cuda:1', grad_fn=<AddBackward0>)\n",
      "Best loss: 353.98779296875, Loss: 353.8164978027344\n",
      "epoch: 173 | loss: 0.23746073678035864\n"
     ]
    },
    {
     "name": "stderr",
     "output_type": "stream",
     "text": [
      "0.136: 100%|██████████████████████████████████████████████████████████████████████████████████████████████████████████████████████| 1490/1490 [00:35<00:00, 41.77it/s]\n"
     ]
    },
    {
     "name": "stdout",
     "output_type": "stream",
     "text": [
      "tensor(0.1358, device='cuda:1', grad_fn=<NllLoss2DBackward>)\n",
      "tensor(353.0269, device='cuda:1', grad_fn=<AddBackward0>)\n",
      "Best loss: 353.8164978027344, Loss: 353.02685546875\n",
      "epoch: 174 | loss: 0.23693077548238256\n"
     ]
    },
    {
     "name": "stderr",
     "output_type": "stream",
     "text": [
      "0.396: 100%|██████████████████████████████████████████████████████████████████████████████████████████████████████████████████████| 1490/1490 [00:35<00:00, 41.68it/s]\n"
     ]
    },
    {
     "name": "stdout",
     "output_type": "stream",
     "text": [
      "tensor(0.3959, device='cuda:1', grad_fn=<NllLoss2DBackward>)\n",
      "tensor(351.6531, device='cuda:1', grad_fn=<AddBackward0>)\n",
      "Best loss: 353.02685546875, Loss: 351.6531066894531\n",
      "epoch: 175 | loss: 0.23600879643587458\n"
     ]
    },
    {
     "name": "stderr",
     "output_type": "stream",
     "text": [
      "0.154: 100%|██████████████████████████████████████████████████████████████████████████████████████████████████████████████████████| 1490/1490 [00:36<00:00, 40.95it/s]\n"
     ]
    },
    {
     "name": "stdout",
     "output_type": "stream",
     "text": [
      "tensor(0.1539, device='cuda:1', grad_fn=<NllLoss2DBackward>)\n",
      "tensor(351.4097, device='cuda:1', grad_fn=<AddBackward0>)\n",
      "Best loss: 351.6531066894531, Loss: 351.40966796875\n",
      "epoch: 176 | loss: 0.2358454147441275\n"
     ]
    },
    {
     "name": "stderr",
     "output_type": "stream",
     "text": [
      "0.367: 100%|██████████████████████████████████████████████████████████████████████████████████████████████████████████████████████| 1490/1490 [00:36<00:00, 40.85it/s]\n"
     ]
    },
    {
     "name": "stdout",
     "output_type": "stream",
     "text": [
      "tensor(0.3669, device='cuda:1', grad_fn=<NllLoss2DBackward>)\n",
      "tensor(351.1036, device='cuda:1', grad_fn=<AddBackward0>)\n",
      "Best loss: 351.40966796875, Loss: 351.10357666015625\n",
      "epoch: 177 | loss: 0.23563998433567535\n"
     ]
    },
    {
     "name": "stderr",
     "output_type": "stream",
     "text": [
      "0.153: 100%|██████████████████████████████████████████████████████████████████████████████████████████████████████████████████████| 1490/1490 [00:37<00:00, 40.06it/s]\n"
     ]
    },
    {
     "name": "stdout",
     "output_type": "stream",
     "text": [
      "tensor(0.1531, device='cuda:1', grad_fn=<NllLoss2DBackward>)\n",
      "tensor(349.8521, device='cuda:1', grad_fn=<AddBackward0>)\n",
      "Best loss: 351.10357666015625, Loss: 349.8521423339844\n",
      "epoch: 178 | loss: 0.23480009552616402\n"
     ]
    },
    {
     "name": "stderr",
     "output_type": "stream",
     "text": [
      "0.200: 100%|██████████████████████████████████████████████████████████████████████████████████████████████████████████████████████| 1490/1490 [00:35<00:00, 41.74it/s]\n"
     ]
    },
    {
     "name": "stdout",
     "output_type": "stream",
     "text": [
      "tensor(0.2004, device='cuda:1', grad_fn=<NllLoss2DBackward>)\n",
      "tensor(350.8108, device='cuda:1', grad_fn=<AddBackward0>)\n",
      "epoch: 179 | loss: 0.23544346342150796\n"
     ]
    },
    {
     "name": "stderr",
     "output_type": "stream",
     "text": [
      "0.448: 100%|██████████████████████████████████████████████████████████████████████████████████████████████████████████████████████| 1490/1490 [00:36<00:00, 41.09it/s]\n"
     ]
    },
    {
     "name": "stdout",
     "output_type": "stream",
     "text": [
      "tensor(0.4482, device='cuda:1', grad_fn=<NllLoss2DBackward>)\n",
      "tensor(348.9264, device='cuda:1', grad_fn=<AddBackward0>)\n",
      "Best loss: 349.8521423339844, Loss: 348.9263916015625\n",
      "epoch: 180 | loss: 0.23417878630977348\n"
     ]
    },
    {
     "name": "stderr",
     "output_type": "stream",
     "text": [
      "0.173: 100%|██████████████████████████████████████████████████████████████████████████████████████████████████████████████████████| 1490/1490 [00:36<00:00, 40.83it/s]\n"
     ]
    },
    {
     "name": "stdout",
     "output_type": "stream",
     "text": [
      "tensor(0.1729, device='cuda:1', grad_fn=<NllLoss2DBackward>)\n",
      "tensor(348.7628, device='cuda:1', grad_fn=<AddBackward0>)\n",
      "Best loss: 348.9263916015625, Loss: 348.7628479003906\n",
      "epoch: 181 | loss: 0.23406902543650376\n"
     ]
    },
    {
     "name": "stderr",
     "output_type": "stream",
     "text": [
      "0.298: 100%|██████████████████████████████████████████████████████████████████████████████████████████████████████████████████████| 1490/1490 [00:34<00:00, 42.99it/s]\n"
     ]
    },
    {
     "name": "stdout",
     "output_type": "stream",
     "text": [
      "tensor(0.2981, device='cuda:1', grad_fn=<NllLoss2DBackward>)\n",
      "tensor(348.2941, device='cuda:1', grad_fn=<AddBackward0>)\n",
      "Best loss: 348.7628479003906, Loss: 348.2940673828125\n",
      "epoch: 182 | loss: 0.23375440763947147\n"
     ]
    },
    {
     "name": "stderr",
     "output_type": "stream",
     "text": [
      "0.191: 100%|██████████████████████████████████████████████████████████████████████████████████████████████████████████████████████| 1490/1490 [00:35<00:00, 41.70it/s]\n"
     ]
    },
    {
     "name": "stdout",
     "output_type": "stream",
     "text": [
      "tensor(0.1912, device='cuda:1', grad_fn=<NllLoss2DBackward>)\n",
      "tensor(347.2591, device='cuda:1', grad_fn=<AddBackward0>)\n",
      "Best loss: 348.2940673828125, Loss: 347.25909423828125\n",
      "epoch: 183 | loss: 0.23305979479079278\n"
     ]
    },
    {
     "name": "stderr",
     "output_type": "stream",
     "text": [
      "0.259: 100%|██████████████████████████████████████████████████████████████████████████████████████████████████████████████████████| 1490/1490 [00:35<00:00, 41.53it/s]\n"
     ]
    },
    {
     "name": "stdout",
     "output_type": "stream",
     "text": [
      "tensor(0.2595, device='cuda:1', grad_fn=<NllLoss2DBackward>)\n",
      "tensor(346.3948, device='cuda:1', grad_fn=<AddBackward0>)\n",
      "Best loss: 347.25909423828125, Loss: 346.39483642578125\n",
      "epoch: 184 | loss: 0.23247975599045723\n"
     ]
    },
    {
     "name": "stderr",
     "output_type": "stream",
     "text": [
      "0.157: 100%|██████████████████████████████████████████████████████████████████████████████████████████████████████████████████████| 1490/1490 [00:37<00:00, 40.00it/s]\n"
     ]
    },
    {
     "name": "stdout",
     "output_type": "stream",
     "text": [
      "tensor(0.1572, device='cuda:1', grad_fn=<NllLoss2DBackward>)\n",
      "tensor(346.6973, device='cuda:1', grad_fn=<AddBackward0>)\n",
      "epoch: 185 | loss: 0.23268276957057465\n"
     ]
    },
    {
     "name": "stderr",
     "output_type": "stream",
     "text": [
      "0.267: 100%|██████████████████████████████████████████████████████████████████████████████████████████████████████████████████████| 1490/1490 [00:36<00:00, 41.27it/s]\n"
     ]
    },
    {
     "name": "stdout",
     "output_type": "stream",
     "text": [
      "tensor(0.2672, device='cuda:1', grad_fn=<NllLoss2DBackward>)\n",
      "tensor(346.2059, device='cuda:1', grad_fn=<AddBackward0>)\n",
      "Best loss: 346.39483642578125, Loss: 346.2059326171875\n",
      "epoch: 186 | loss: 0.2323529749108641\n"
     ]
    },
    {
     "name": "stderr",
     "output_type": "stream",
     "text": [
      "0.318: 100%|██████████████████████████████████████████████████████████████████████████████████████████████████████████████████████| 1490/1490 [00:36<00:00, 41.22it/s]\n"
     ]
    },
    {
     "name": "stdout",
     "output_type": "stream",
     "text": [
      "tensor(0.3176, device='cuda:1', grad_fn=<NllLoss2DBackward>)\n",
      "tensor(346.4201, device='cuda:1', grad_fn=<AddBackward0>)\n",
      "epoch: 187 | loss: 0.23249671475199246\n"
     ]
    },
    {
     "name": "stderr",
     "output_type": "stream",
     "text": [
      "0.328: 100%|██████████████████████████████████████████████████████████████████████████████████████████████████████████████████████| 1490/1490 [00:36<00:00, 41.11it/s]\n"
     ]
    },
    {
     "name": "stdout",
     "output_type": "stream",
     "text": [
      "tensor(0.3275, device='cuda:1', grad_fn=<NllLoss2DBackward>)\n",
      "tensor(344.7190, device='cuda:1', grad_fn=<AddBackward0>)\n",
      "Best loss: 346.2059326171875, Loss: 344.718994140625\n",
      "epoch: 188 | loss: 0.23135502962458054\n"
     ]
    },
    {
     "name": "stderr",
     "output_type": "stream",
     "text": [
      "0.267: 100%|██████████████████████████████████████████████████████████████████████████████████████████████████████████████████████| 1490/1490 [00:36<00:00, 41.09it/s]\n"
     ]
    },
    {
     "name": "stdout",
     "output_type": "stream",
     "text": [
      "tensor(0.2666, device='cuda:1', grad_fn=<NllLoss2DBackward>)\n",
      "tensor(345.2108, device='cuda:1', grad_fn=<AddBackward0>)\n",
      "epoch: 189 | loss: 0.23168513150823197\n"
     ]
    },
    {
     "name": "stderr",
     "output_type": "stream",
     "text": [
      "0.180: 100%|██████████████████████████████████████████████████████████████████████████████████████████████████████████████████████| 1490/1490 [00:36<00:00, 40.41it/s]\n"
     ]
    },
    {
     "name": "stdout",
     "output_type": "stream",
     "text": [
      "tensor(0.1796, device='cuda:1', grad_fn=<NllLoss2DBackward>)\n",
      "tensor(343.7240, device='cuda:1', grad_fn=<AddBackward0>)\n",
      "Best loss: 344.718994140625, Loss: 343.7239990234375\n",
      "epoch: 190 | loss: 0.23068724766673657\n"
     ]
    },
    {
     "name": "stderr",
     "output_type": "stream",
     "text": [
      "0.355: 100%|██████████████████████████████████████████████████████████████████████████████████████████████████████████████████████| 1490/1490 [00:35<00:00, 41.86it/s]\n"
     ]
    },
    {
     "name": "stdout",
     "output_type": "stream",
     "text": [
      "tensor(0.3545, device='cuda:1', grad_fn=<NllLoss2DBackward>)\n",
      "tensor(343.6489, device='cuda:1', grad_fn=<AddBackward0>)\n",
      "Best loss: 343.7239990234375, Loss: 343.6488952636719\n",
      "epoch: 191 | loss: 0.2306368424588402\n"
     ]
    },
    {
     "name": "stderr",
     "output_type": "stream",
     "text": [
      "0.234: 100%|██████████████████████████████████████████████████████████████████████████████████████████████████████████████████████| 1490/1490 [00:35<00:00, 41.84it/s]\n"
     ]
    },
    {
     "name": "stdout",
     "output_type": "stream",
     "text": [
      "tensor(0.2342, device='cuda:1', grad_fn=<NllLoss2DBackward>)\n",
      "tensor(342.5387, device='cuda:1', grad_fn=<AddBackward0>)\n",
      "Best loss: 343.6488952636719, Loss: 342.5386657714844\n",
      "epoch: 192 | loss: 0.22989172199428481\n"
     ]
    },
    {
     "name": "stderr",
     "output_type": "stream",
     "text": [
      "0.382: 100%|██████████████████████████████████████████████████████████████████████████████████████████████████████████████████████| 1490/1490 [00:35<00:00, 42.07it/s]\n"
     ]
    },
    {
     "name": "stdout",
     "output_type": "stream",
     "text": [
      "tensor(0.3824, device='cuda:1', grad_fn=<NllLoss2DBackward>)\n",
      "tensor(341.8039, device='cuda:1', grad_fn=<AddBackward0>)\n",
      "Best loss: 342.5386657714844, Loss: 341.8039245605469\n",
      "epoch: 193 | loss: 0.22939860708761536\n"
     ]
    },
    {
     "name": "stderr",
     "output_type": "stream",
     "text": [
      "0.182: 100%|██████████████████████████████████████████████████████████████████████████████████████████████████████████████████████| 1490/1490 [00:36<00:00, 40.78it/s]\n"
     ]
    },
    {
     "name": "stdout",
     "output_type": "stream",
     "text": [
      "tensor(0.1816, device='cuda:1', grad_fn=<NllLoss2DBackward>)\n",
      "tensor(341.4092, device='cuda:1', grad_fn=<AddBackward0>)\n",
      "Best loss: 341.8039245605469, Loss: 341.40924072265625\n",
      "epoch: 194 | loss: 0.22913371860580956\n"
     ]
    },
    {
     "name": "stderr",
     "output_type": "stream",
     "text": [
      "0.206: 100%|██████████████████████████████████████████████████████████████████████████████████████████████████████████████████████| 1490/1490 [00:36<00:00, 41.13it/s]\n"
     ]
    },
    {
     "name": "stdout",
     "output_type": "stream",
     "text": [
      "tensor(0.2062, device='cuda:1', grad_fn=<NllLoss2DBackward>)\n",
      "tensor(340.8034, device='cuda:1', grad_fn=<AddBackward0>)\n",
      "Best loss: 341.40924072265625, Loss: 340.8034362792969\n",
      "epoch: 195 | loss: 0.22872713844248113\n"
     ]
    },
    {
     "name": "stderr",
     "output_type": "stream",
     "text": [
      "0.217: 100%|██████████████████████████████████████████████████████████████████████████████████████████████████████████████████████| 1490/1490 [00:35<00:00, 42.23it/s]\n"
     ]
    },
    {
     "name": "stdout",
     "output_type": "stream",
     "text": [
      "tensor(0.2168, device='cuda:1', grad_fn=<NllLoss2DBackward>)\n",
      "tensor(339.8541, device='cuda:1', grad_fn=<AddBackward0>)\n",
      "Best loss: 340.8034362792969, Loss: 339.8541259765625\n",
      "epoch: 196 | loss: 0.22809001743393456\n"
     ]
    },
    {
     "name": "stderr",
     "output_type": "stream",
     "text": [
      "0.351: 100%|██████████████████████████████████████████████████████████████████████████████████████████████████████████████████████| 1490/1490 [00:35<00:00, 41.80it/s]\n"
     ]
    },
    {
     "name": "stdout",
     "output_type": "stream",
     "text": [
      "tensor(0.3513, device='cuda:1', grad_fn=<NllLoss2DBackward>)\n",
      "tensor(340.6532, device='cuda:1', grad_fn=<AddBackward0>)\n",
      "epoch: 197 | loss: 0.22862628706349622\n"
     ]
    },
    {
     "name": "stderr",
     "output_type": "stream",
     "text": [
      "0.272: 100%|██████████████████████████████████████████████████████████████████████████████████████████████████████████████████████| 1490/1490 [00:33<00:00, 44.68it/s]\n"
     ]
    },
    {
     "name": "stdout",
     "output_type": "stream",
     "text": [
      "tensor(0.2716, device='cuda:1', grad_fn=<NllLoss2DBackward>)\n",
      "tensor(339.2666, device='cuda:1', grad_fn=<AddBackward0>)\n",
      "Best loss: 339.8541259765625, Loss: 339.2666015625\n",
      "epoch: 198 | loss: 0.2276957057466443\n"
     ]
    },
    {
     "name": "stderr",
     "output_type": "stream",
     "text": [
      "0.168: 100%|██████████████████████████████████████████████████████████████████████████████████████████████████████████████████████| 1490/1490 [00:32<00:00, 45.57it/s]\n"
     ]
    },
    {
     "name": "stdout",
     "output_type": "stream",
     "text": [
      "tensor(0.1680, device='cuda:1', grad_fn=<NllLoss2DBackward>)\n",
      "tensor(339.2874, device='cuda:1', grad_fn=<AddBackward0>)\n",
      "epoch: 199 | loss: 0.22770969467675126\n"
     ]
    },
    {
     "name": "stderr",
     "output_type": "stream",
     "text": [
      "0.271: 100%|██████████████████████████████████████████████████████████████████████████████████████████████████████████████████████| 1490/1490 [00:34<00:00, 43.62it/s]\n"
     ]
    },
    {
     "name": "stdout",
     "output_type": "stream",
     "text": [
      "tensor(0.2707, device='cuda:1', grad_fn=<NllLoss2DBackward>)\n",
      "tensor(338.2210, device='cuda:1', grad_fn=<AddBackward0>)\n",
      "Best loss: 339.2666015625, Loss: 338.22100830078125\n",
      "epoch: 200 | loss: 0.22699396530253776\n"
     ]
    },
    {
     "name": "stderr",
     "output_type": "stream",
     "text": [
      "0.216: 100%|██████████████████████████████████████████████████████████████████████████████████████████████████████████████████████| 1490/1490 [00:35<00:00, 41.98it/s]\n"
     ]
    },
    {
     "name": "stdout",
     "output_type": "stream",
     "text": [
      "tensor(0.2162, device='cuda:1', grad_fn=<NllLoss2DBackward>)\n",
      "tensor(337.4605, device='cuda:1', grad_fn=<AddBackward0>)\n",
      "Best loss: 338.22100830078125, Loss: 337.4604797363281\n",
      "epoch: 201 | loss: 0.2264835434472001\n"
     ]
    },
    {
     "name": "stderr",
     "output_type": "stream",
     "text": [
      "0.269: 100%|██████████████████████████████████████████████████████████████████████████████████████████████████████████████████████| 1490/1490 [00:34<00:00, 42.85it/s]\n"
     ]
    },
    {
     "name": "stdout",
     "output_type": "stream",
     "text": [
      "tensor(0.2686, device='cuda:1', grad_fn=<NllLoss2DBackward>)\n",
      "tensor(336.5104, device='cuda:1', grad_fn=<AddBackward0>)\n",
      "Best loss: 337.4604797363281, Loss: 336.51043701171875\n",
      "epoch: 202 | loss: 0.22584593088034816\n"
     ]
    },
    {
     "name": "stderr",
     "output_type": "stream",
     "text": [
      "0.156: 100%|██████████████████████████████████████████████████████████████████████████████████████████████████████████████████████| 1490/1490 [00:35<00:00, 42.45it/s]\n"
     ]
    },
    {
     "name": "stdout",
     "output_type": "stream",
     "text": [
      "tensor(0.1559, device='cuda:1', grad_fn=<NllLoss2DBackward>)\n",
      "tensor(336.7572, device='cuda:1', grad_fn=<AddBackward0>)\n",
      "epoch: 203 | loss: 0.2260115655476615\n"
     ]
    },
    {
     "name": "stderr",
     "output_type": "stream",
     "text": [
      "0.454: 100%|██████████████████████████████████████████████████████████████████████████████████████████████████████████████████████| 1490/1490 [00:34<00:00, 43.25it/s]\n"
     ]
    },
    {
     "name": "stdout",
     "output_type": "stream",
     "text": [
      "tensor(0.4539, device='cuda:1', grad_fn=<NllLoss2DBackward>)\n",
      "tensor(336.8852, device='cuda:1', grad_fn=<AddBackward0>)\n",
      "epoch: 204 | loss: 0.2260974448799287\n"
     ]
    },
    {
     "name": "stderr",
     "output_type": "stream",
     "text": [
      "0.152: 100%|██████████████████████████████████████████████████████████████████████████████████████████████████████████████████████| 1490/1490 [00:35<00:00, 42.54it/s]\n"
     ]
    },
    {
     "name": "stdout",
     "output_type": "stream",
     "text": [
      "tensor(0.1515, device='cuda:1', grad_fn=<NllLoss2DBackward>)\n",
      "tensor(335.8578, device='cuda:1', grad_fn=<AddBackward0>)\n",
      "Best loss: 336.51043701171875, Loss: 335.8577880859375\n",
      "epoch: 205 | loss: 0.22540791146707215\n"
     ]
    },
    {
     "name": "stderr",
     "output_type": "stream",
     "text": [
      "0.324: 100%|██████████████████████████████████████████████████████████████████████████████████████████████████████████████████████| 1490/1490 [00:36<00:00, 40.97it/s]\n"
     ]
    },
    {
     "name": "stdout",
     "output_type": "stream",
     "text": [
      "tensor(0.3238, device='cuda:1', grad_fn=<NllLoss2DBackward>)\n",
      "tensor(335.1877, device='cuda:1', grad_fn=<AddBackward0>)\n",
      "Best loss: 335.8577880859375, Loss: 335.18768310546875\n",
      "epoch: 206 | loss: 0.22495817658085152\n"
     ]
    },
    {
     "name": "stderr",
     "output_type": "stream",
     "text": [
      "0.169: 100%|██████████████████████████████████████████████████████████████████████████████████████████████████████████████████████| 1490/1490 [00:36<00:00, 41.17it/s]\n"
     ]
    },
    {
     "name": "stdout",
     "output_type": "stream",
     "text": [
      "tensor(0.1688, device='cuda:1', grad_fn=<NllLoss2DBackward>)\n",
      "tensor(334.3716, device='cuda:1', grad_fn=<AddBackward0>)\n",
      "Best loss: 335.18768310546875, Loss: 334.37158203125\n",
      "epoch: 207 | loss: 0.22441045773909396\n"
     ]
    },
    {
     "name": "stderr",
     "output_type": "stream",
     "text": [
      "0.189: 100%|██████████████████████████████████████████████████████████████████████████████████████████████████████████████████████| 1490/1490 [00:35<00:00, 41.57it/s]\n"
     ]
    },
    {
     "name": "stdout",
     "output_type": "stream",
     "text": [
      "tensor(0.1889, device='cuda:1', grad_fn=<NllLoss2DBackward>)\n",
      "tensor(334.2275, device='cuda:1', grad_fn=<AddBackward0>)\n",
      "Best loss: 334.37158203125, Loss: 334.22747802734375\n",
      "epoch: 208 | loss: 0.22431374364251258\n"
     ]
    },
    {
     "name": "stderr",
     "output_type": "stream",
     "text": [
      "0.205: 100%|██████████████████████████████████████████████████████████████████████████████████████████████████████████████████████| 1490/1490 [00:35<00:00, 41.42it/s]\n"
     ]
    },
    {
     "name": "stdout",
     "output_type": "stream",
     "text": [
      "tensor(0.2050, device='cuda:1', grad_fn=<NllLoss2DBackward>)\n",
      "tensor(334.1200, device='cuda:1', grad_fn=<AddBackward0>)\n",
      "Best loss: 334.22747802734375, Loss: 334.1199951171875\n",
      "epoch: 209 | loss: 0.22424160746119967\n"
     ]
    },
    {
     "name": "stderr",
     "output_type": "stream",
     "text": [
      "0.180: 100%|██████████████████████████████████████████████████████████████████████████████████████████████████████████████████████| 1490/1490 [00:35<00:00, 42.44it/s]\n"
     ]
    },
    {
     "name": "stdout",
     "output_type": "stream",
     "text": [
      "tensor(0.1805, device='cuda:1', grad_fn=<NllLoss2DBackward>)\n",
      "tensor(333.5937, device='cuda:1', grad_fn=<AddBackward0>)\n",
      "Best loss: 334.1199951171875, Loss: 333.59368896484375\n",
      "epoch: 210 | loss: 0.22388838185559984\n"
     ]
    },
    {
     "name": "stderr",
     "output_type": "stream",
     "text": [
      "0.128: 100%|██████████████████████████████████████████████████████████████████████████████████████████████████████████████████████| 1490/1490 [00:34<00:00, 42.61it/s]\n"
     ]
    },
    {
     "name": "stdout",
     "output_type": "stream",
     "text": [
      "tensor(0.1282, device='cuda:1', grad_fn=<NllLoss2DBackward>)\n",
      "tensor(332.6626, device='cuda:1', grad_fn=<AddBackward0>)\n",
      "Best loss: 333.59368896484375, Loss: 332.66259765625\n",
      "epoch: 211 | loss: 0.22326348835989934\n"
     ]
    },
    {
     "name": "stderr",
     "output_type": "stream",
     "text": [
      "0.169: 100%|██████████████████████████████████████████████████████████████████████████████████████████████████████████████████████| 1490/1490 [00:35<00:00, 41.71it/s]\n"
     ]
    },
    {
     "name": "stdout",
     "output_type": "stream",
     "text": [
      "tensor(0.1691, device='cuda:1', grad_fn=<NllLoss2DBackward>)\n",
      "tensor(332.1280, device='cuda:1', grad_fn=<AddBackward0>)\n",
      "Best loss: 332.66259765625, Loss: 332.1280212402344\n",
      "epoch: 212 | loss: 0.22290471224176803\n"
     ]
    },
    {
     "name": "stderr",
     "output_type": "stream",
     "text": [
      "0.131: 100%|██████████████████████████████████████████████████████████████████████████████████████████████████████████████████████| 1490/1490 [00:34<00:00, 42.60it/s]\n"
     ]
    },
    {
     "name": "stdout",
     "output_type": "stream",
     "text": [
      "tensor(0.1309, device='cuda:1', grad_fn=<NllLoss2DBackward>)\n",
      "tensor(332.2084, device='cuda:1', grad_fn=<AddBackward0>)\n",
      "epoch: 213 | loss: 0.2229586607657823\n"
     ]
    },
    {
     "name": "stderr",
     "output_type": "stream",
     "text": [
      "0.298: 100%|██████████████████████████████████████████████████████████████████████████████████████████████████████████████████████| 1490/1490 [00:36<00:00, 41.26it/s]\n"
     ]
    },
    {
     "name": "stdout",
     "output_type": "stream",
     "text": [
      "tensor(0.2982, device='cuda:1', grad_fn=<NllLoss2DBackward>)\n",
      "tensor(330.6792, device='cuda:1', grad_fn=<AddBackward0>)\n",
      "Best loss: 332.1280212402344, Loss: 330.6791687011719\n",
      "epoch: 214 | loss: 0.22193232798736368\n"
     ]
    },
    {
     "name": "stderr",
     "output_type": "stream",
     "text": [
      "0.218: 100%|██████████████████████████████████████████████████████████████████████████████████████████████████████████████████████| 1490/1490 [00:34<00:00, 42.58it/s]\n"
     ]
    },
    {
     "name": "stdout",
     "output_type": "stream",
     "text": [
      "tensor(0.2183, device='cuda:1', grad_fn=<NllLoss2DBackward>)\n",
      "tensor(330.9075, device='cuda:1', grad_fn=<AddBackward0>)\n",
      "epoch: 215 | loss: 0.22208555080746645\n"
     ]
    },
    {
     "name": "stderr",
     "output_type": "stream",
     "text": [
      "0.160: 100%|██████████████████████████████████████████████████████████████████████████████████████████████████████████████████████| 1490/1490 [00:35<00:00, 42.23it/s]\n"
     ]
    },
    {
     "name": "stdout",
     "output_type": "stream",
     "text": [
      "tensor(0.1600, device='cuda:1', grad_fn=<NllLoss2DBackward>)\n",
      "tensor(329.7283, device='cuda:1', grad_fn=<AddBackward0>)\n",
      "Best loss: 330.6791687011719, Loss: 329.7283020019531\n",
      "epoch: 216 | loss: 0.2212941624174182\n"
     ]
    },
    {
     "name": "stderr",
     "output_type": "stream",
     "text": [
      "0.394: 100%|██████████████████████████████████████████████████████████████████████████████████████████████████████████████████████| 1490/1490 [00:35<00:00, 41.59it/s]\n"
     ]
    },
    {
     "name": "stdout",
     "output_type": "stream",
     "text": [
      "tensor(0.3943, device='cuda:1', grad_fn=<NllLoss2DBackward>)\n",
      "tensor(330.9321, device='cuda:1', grad_fn=<AddBackward0>)\n",
      "epoch: 217 | loss: 0.22210209993708055\n"
     ]
    },
    {
     "name": "stderr",
     "output_type": "stream",
     "text": [
      "0.278: 100%|██████████████████████████████████████████████████████████████████████████████████████████████████████████████████████| 1490/1490 [00:36<00:00, 40.72it/s]\n"
     ]
    },
    {
     "name": "stdout",
     "output_type": "stream",
     "text": [
      "tensor(0.2777, device='cuda:1', grad_fn=<NllLoss2DBackward>)\n",
      "tensor(328.5192, device='cuda:1', grad_fn=<AddBackward0>)\n",
      "Best loss: 329.7283020019531, Loss: 328.51922607421875\n",
      "epoch: 218 | loss: 0.22048270206323406\n"
     ]
    },
    {
     "name": "stderr",
     "output_type": "stream",
     "text": [
      "0.515: 100%|██████████████████████████████████████████████████████████████████████████████████████████████████████████████████████| 1490/1490 [00:36<00:00, 41.38it/s]\n"
     ]
    },
    {
     "name": "stdout",
     "output_type": "stream",
     "text": [
      "tensor(0.5145, device='cuda:1', grad_fn=<NllLoss2DBackward>)\n",
      "tensor(330.0017, device='cuda:1', grad_fn=<AddBackward0>)\n",
      "epoch: 219 | loss: 0.22147765703649328\n"
     ]
    },
    {
     "name": "stderr",
     "output_type": "stream",
     "text": [
      "0.220: 100%|██████████████████████████████████████████████████████████████████████████████████████████████████████████████████████| 1490/1490 [00:36<00:00, 41.15it/s]\n"
     ]
    },
    {
     "name": "stdout",
     "output_type": "stream",
     "text": [
      "tensor(0.2203, device='cuda:1', grad_fn=<NllLoss2DBackward>)\n",
      "tensor(329.1066, device='cuda:1', grad_fn=<AddBackward0>)\n",
      "epoch: 220 | loss: 0.220876890860948\n"
     ]
    },
    {
     "name": "stderr",
     "output_type": "stream",
     "text": [
      "0.449: 100%|██████████████████████████████████████████████████████████████████████████████████████████████████████████████████████| 1490/1490 [00:35<00:00, 41.95it/s]\n"
     ]
    },
    {
     "name": "stdout",
     "output_type": "stream",
     "text": [
      "tensor(0.4489, device='cuda:1', grad_fn=<NllLoss2DBackward>)\n",
      "tensor(328.8766, device='cuda:1', grad_fn=<AddBackward0>)\n",
      "epoch: 221 | loss: 0.22072256203465815\n"
     ]
    },
    {
     "name": "stderr",
     "output_type": "stream",
     "text": [
      "0.252: 100%|██████████████████████████████████████████████████████████████████████████████████████████████████████████████████████| 1490/1490 [00:35<00:00, 41.52it/s]\n"
     ]
    },
    {
     "name": "stdout",
     "output_type": "stream",
     "text": [
      "tensor(0.2517, device='cuda:1', grad_fn=<NllLoss2DBackward>)\n",
      "tensor(327.4563, device='cuda:1', grad_fn=<AddBackward0>)\n",
      "Best loss: 328.51922607421875, Loss: 327.4563293457031\n",
      "epoch: 222 | loss: 0.21976934855416316\n"
     ]
    },
    {
     "name": "stderr",
     "output_type": "stream",
     "text": [
      "0.231: 100%|██████████████████████████████████████████████████████████████████████████████████████████████████████████████████████| 1490/1490 [00:34<00:00, 42.81it/s]\n"
     ]
    },
    {
     "name": "stdout",
     "output_type": "stream",
     "text": [
      "tensor(0.2312, device='cuda:1', grad_fn=<NllLoss2DBackward>)\n",
      "tensor(327.1885, device='cuda:1', grad_fn=<AddBackward0>)\n",
      "Best loss: 327.4563293457031, Loss: 327.18853759765625\n",
      "epoch: 223 | loss: 0.21958962254876258\n"
     ]
    },
    {
     "name": "stderr",
     "output_type": "stream",
     "text": [
      "0.247: 100%|██████████████████████████████████████████████████████████████████████████████████████████████████████████████████████| 1490/1490 [00:35<00:00, 41.79it/s]\n"
     ]
    },
    {
     "name": "stdout",
     "output_type": "stream",
     "text": [
      "tensor(0.2467, device='cuda:1', grad_fn=<NllLoss2DBackward>)\n",
      "tensor(326.5890, device='cuda:1', grad_fn=<AddBackward0>)\n",
      "Best loss: 327.18853759765625, Loss: 326.5890197753906\n",
      "epoch: 224 | loss: 0.2191872615942219\n"
     ]
    },
    {
     "name": "stderr",
     "output_type": "stream",
     "text": [
      "0.403: 100%|██████████████████████████████████████████████████████████████████████████████████████████████████████████████████████| 1490/1490 [00:34<00:00, 42.62it/s]\n"
     ]
    },
    {
     "name": "stdout",
     "output_type": "stream",
     "text": [
      "tensor(0.4027, device='cuda:1', grad_fn=<NllLoss2DBackward>)\n",
      "tensor(326.3955, device='cuda:1', grad_fn=<AddBackward0>)\n",
      "Best loss: 326.5890197753906, Loss: 326.3954772949219\n",
      "epoch: 225 | loss: 0.2190573673120281\n"
     ]
    },
    {
     "name": "stderr",
     "output_type": "stream",
     "text": [
      "0.248: 100%|██████████████████████████████████████████████████████████████████████████████████████████████████████████████████████| 1490/1490 [00:36<00:00, 41.13it/s]\n"
     ]
    },
    {
     "name": "stdout",
     "output_type": "stream",
     "text": [
      "tensor(0.2477, device='cuda:1', grad_fn=<NllLoss2DBackward>)\n",
      "tensor(325.1917, device='cuda:1', grad_fn=<AddBackward0>)\n",
      "Best loss: 326.3954772949219, Loss: 325.191650390625\n",
      "epoch: 226 | loss: 0.21824942979236578\n"
     ]
    },
    {
     "name": "stderr",
     "output_type": "stream",
     "text": [
      "0.201: 100%|██████████████████████████████████████████████████████████████████████████████████████████████████████████████████████| 1490/1490 [00:35<00:00, 41.91it/s]\n"
     ]
    },
    {
     "name": "stdout",
     "output_type": "stream",
     "text": [
      "tensor(0.2009, device='cuda:1', grad_fn=<NllLoss2DBackward>)\n",
      "tensor(325.4661, device='cuda:1', grad_fn=<AddBackward0>)\n",
      "epoch: 227 | loss: 0.21843360030411074\n"
     ]
    },
    {
     "name": "stderr",
     "output_type": "stream",
     "text": [
      "0.262: 100%|██████████████████████████████████████████████████████████████████████████████████████████████████████████████████████| 1490/1490 [00:36<00:00, 40.77it/s]\n"
     ]
    },
    {
     "name": "stdout",
     "output_type": "stream",
     "text": [
      "tensor(0.2624, device='cuda:1', grad_fn=<NllLoss2DBackward>)\n",
      "tensor(324.2945, device='cuda:1', grad_fn=<AddBackward0>)\n",
      "Best loss: 325.191650390625, Loss: 324.2945251464844\n",
      "epoch: 228 | loss: 0.21764733231307676\n"
     ]
    },
    {
     "name": "stderr",
     "output_type": "stream",
     "text": [
      "0.260: 100%|██████████████████████████████████████████████████████████████████████████████████████████████████████████████████████| 1490/1490 [00:35<00:00, 41.56it/s]\n"
     ]
    },
    {
     "name": "stdout",
     "output_type": "stream",
     "text": [
      "tensor(0.2599, device='cuda:1', grad_fn=<NllLoss2DBackward>)\n",
      "tensor(324.0597, device='cuda:1', grad_fn=<AddBackward0>)\n",
      "Best loss: 324.2945251464844, Loss: 324.0596923828125\n",
      "epoch: 229 | loss: 0.21748972643141778\n"
     ]
    },
    {
     "name": "stderr",
     "output_type": "stream",
     "text": [
      "0.275: 100%|██████████████████████████████████████████████████████████████████████████████████████████████████████████████████████| 1490/1490 [00:36<00:00, 41.09it/s]\n"
     ]
    },
    {
     "name": "stdout",
     "output_type": "stream",
     "text": [
      "tensor(0.2753, device='cuda:1', grad_fn=<NllLoss2DBackward>)\n",
      "tensor(322.9355, device='cuda:1', grad_fn=<AddBackward0>)\n",
      "Best loss: 324.0596923828125, Loss: 322.93548583984375\n",
      "epoch: 230 | loss: 0.2167352253958683\n"
     ]
    },
    {
     "name": "stderr",
     "output_type": "stream",
     "text": [
      "0.112: 100%|██████████████████████████████████████████████████████████████████████████████████████████████████████████████████████| 1490/1490 [00:35<00:00, 42.49it/s]\n"
     ]
    },
    {
     "name": "stdout",
     "output_type": "stream",
     "text": [
      "tensor(0.1121, device='cuda:1', grad_fn=<NllLoss2DBackward>)\n",
      "tensor(322.3145, device='cuda:1', grad_fn=<AddBackward0>)\n",
      "Best loss: 322.93548583984375, Loss: 322.314453125\n",
      "epoch: 231 | loss: 0.2163184249161074\n"
     ]
    },
    {
     "name": "stderr",
     "output_type": "stream",
     "text": [
      "0.220: 100%|██████████████████████████████████████████████████████████████████████████████████████████████████████████████████████| 1490/1490 [00:34<00:00, 43.21it/s]\n"
     ]
    },
    {
     "name": "stdout",
     "output_type": "stream",
     "text": [
      "tensor(0.2202, device='cuda:1', grad_fn=<NllLoss2DBackward>)\n",
      "tensor(322.0651, device='cuda:1', grad_fn=<AddBackward0>)\n",
      "Best loss: 322.314453125, Loss: 322.06512451171875\n",
      "epoch: 232 | loss: 0.21615109027632132\n"
     ]
    },
    {
     "name": "stderr",
     "output_type": "stream",
     "text": [
      "0.224: 100%|██████████████████████████████████████████████████████████████████████████████████████████████████████████████████████| 1490/1490 [00:34<00:00, 42.93it/s]\n"
     ]
    },
    {
     "name": "stdout",
     "output_type": "stream",
     "text": [
      "tensor(0.2242, device='cuda:1', grad_fn=<NllLoss2DBackward>)\n",
      "tensor(321.9404, device='cuda:1', grad_fn=<AddBackward0>)\n",
      "Best loss: 322.06512451171875, Loss: 321.9404296875\n",
      "epoch: 233 | loss: 0.21606740247483222\n"
     ]
    },
    {
     "name": "stderr",
     "output_type": "stream",
     "text": [
      "0.120: 100%|██████████████████████████████████████████████████████████████████████████████████████████████████████████████████████| 1490/1490 [00:34<00:00, 42.62it/s]\n"
     ]
    },
    {
     "name": "stdout",
     "output_type": "stream",
     "text": [
      "tensor(0.1195, device='cuda:1', grad_fn=<NllLoss2DBackward>)\n",
      "tensor(321.2794, device='cuda:1', grad_fn=<AddBackward0>)\n",
      "Best loss: 321.9404296875, Loss: 321.2793884277344\n",
      "epoch: 234 | loss: 0.21562375062264053\n"
     ]
    },
    {
     "name": "stderr",
     "output_type": "stream",
     "text": [
      "0.114: 100%|██████████████████████████████████████████████████████████████████████████████████████████████████████████████████████| 1490/1490 [00:36<00:00, 41.06it/s]\n"
     ]
    },
    {
     "name": "stdout",
     "output_type": "stream",
     "text": [
      "tensor(0.1145, device='cuda:1', grad_fn=<NllLoss2DBackward>)\n",
      "tensor(321.0139, device='cuda:1', grad_fn=<AddBackward0>)\n",
      "Best loss: 321.2793884277344, Loss: 321.013916015625\n",
      "epoch: 235 | loss: 0.21544558121854027\n"
     ]
    },
    {
     "name": "stderr",
     "output_type": "stream",
     "text": [
      "0.362: 100%|██████████████████████████████████████████████████████████████████████████████████████████████████████████████████████| 1490/1490 [00:35<00:00, 41.57it/s]\n"
     ]
    },
    {
     "name": "stdout",
     "output_type": "stream",
     "text": [
      "tensor(0.3619, device='cuda:1', grad_fn=<NllLoss2DBackward>)\n",
      "tensor(320.8190, device='cuda:1', grad_fn=<AddBackward0>)\n",
      "Best loss: 321.013916015625, Loss: 320.81903076171875\n",
      "epoch: 236 | loss: 0.21531478574611998\n"
     ]
    },
    {
     "name": "stderr",
     "output_type": "stream",
     "text": [
      "0.140: 100%|██████████████████████████████████████████████████████████████████████████████████████████████████████████████████████| 1490/1490 [00:35<00:00, 41.78it/s]\n"
     ]
    },
    {
     "name": "stdout",
     "output_type": "stream",
     "text": [
      "tensor(0.1398, device='cuda:1', grad_fn=<NllLoss2DBackward>)\n",
      "tensor(320.4568, device='cuda:1', grad_fn=<AddBackward0>)\n",
      "Best loss: 320.81903076171875, Loss: 320.45684814453125\n",
      "epoch: 237 | loss: 0.21507171016411494\n"
     ]
    },
    {
     "name": "stderr",
     "output_type": "stream",
     "text": [
      "0.301: 100%|██████████████████████████████████████████████████████████████████████████████████████████████████████████████████████| 1490/1490 [00:35<00:00, 41.80it/s]\n"
     ]
    },
    {
     "name": "stdout",
     "output_type": "stream",
     "text": [
      "tensor(0.3010, device='cuda:1', grad_fn=<NllLoss2DBackward>)\n",
      "tensor(321.0325, device='cuda:1', grad_fn=<AddBackward0>)\n",
      "epoch: 238 | loss: 0.21545807499213507\n"
     ]
    },
    {
     "name": "stderr",
     "output_type": "stream",
     "text": [
      "0.236: 100%|██████████████████████████████████████████████████████████████████████████████████████████████████████████████████████| 1490/1490 [00:36<00:00, 40.90it/s]\n"
     ]
    },
    {
     "name": "stdout",
     "output_type": "stream",
     "text": [
      "tensor(0.2364, device='cuda:1', grad_fn=<NllLoss2DBackward>)\n",
      "tensor(319.0125, device='cuda:1', grad_fn=<AddBackward0>)\n",
      "Best loss: 320.45684814453125, Loss: 319.0124816894531\n",
      "epoch: 239 | loss: 0.21410233670433096\n"
     ]
    },
    {
     "name": "stderr",
     "output_type": "stream",
     "text": [
      "0.211: 100%|██████████████████████████████████████████████████████████████████████████████████████████████████████████████████████| 1490/1490 [00:35<00:00, 41.58it/s]\n"
     ]
    },
    {
     "name": "stdout",
     "output_type": "stream",
     "text": [
      "tensor(0.2110, device='cuda:1', grad_fn=<NllLoss2DBackward>)\n",
      "tensor(318.6417, device='cuda:1', grad_fn=<AddBackward0>)\n",
      "Best loss: 319.0124816894531, Loss: 318.6416931152344\n",
      "epoch: 240 | loss: 0.21385348531223783\n"
     ]
    },
    {
     "name": "stderr",
     "output_type": "stream",
     "text": [
      "0.228: 100%|██████████████████████████████████████████████████████████████████████████████████████████████████████████████████████| 1490/1490 [00:36<00:00, 41.38it/s]\n"
     ]
    },
    {
     "name": "stdout",
     "output_type": "stream",
     "text": [
      "tensor(0.2281, device='cuda:1', grad_fn=<NllLoss2DBackward>)\n",
      "tensor(318.8023, device='cuda:1', grad_fn=<AddBackward0>)\n",
      "epoch: 241 | loss: 0.21396125947069003\n"
     ]
    },
    {
     "name": "stderr",
     "output_type": "stream",
     "text": [
      "0.199: 100%|██████████████████████████████████████████████████████████████████████████████████████████████████████████████████████| 1490/1490 [00:36<00:00, 41.11it/s]\n"
     ]
    },
    {
     "name": "stdout",
     "output_type": "stream",
     "text": [
      "tensor(0.1994, device='cuda:1', grad_fn=<NllLoss2DBackward>)\n",
      "tensor(317.5519, device='cuda:1', grad_fn=<AddBackward0>)\n",
      "Best loss: 318.6416931152344, Loss: 317.5518798828125\n",
      "epoch: 242 | loss: 0.21312206703544462\n"
     ]
    },
    {
     "name": "stderr",
     "output_type": "stream",
     "text": [
      "0.346: 100%|██████████████████████████████████████████████████████████████████████████████████████████████████████████████████████| 1490/1490 [00:36<00:00, 41.13it/s]\n"
     ]
    },
    {
     "name": "stdout",
     "output_type": "stream",
     "text": [
      "tensor(0.3456, device='cuda:1', grad_fn=<NllLoss2DBackward>)\n",
      "tensor(317.3073, device='cuda:1', grad_fn=<AddBackward0>)\n",
      "Best loss: 317.5518798828125, Loss: 317.3073425292969\n",
      "epoch: 243 | loss: 0.21295794800623952\n"
     ]
    },
    {
     "name": "stderr",
     "output_type": "stream",
     "text": [
      "0.213: 100%|██████████████████████████████████████████████████████████████████████████████████████████████████████████████████████| 1490/1490 [00:36<00:00, 40.71it/s]\n"
     ]
    },
    {
     "name": "stdout",
     "output_type": "stream",
     "text": [
      "tensor(0.2129, device='cuda:1', grad_fn=<NllLoss2DBackward>)\n",
      "tensor(316.6880, device='cuda:1', grad_fn=<AddBackward0>)\n",
      "Best loss: 317.3073425292969, Loss: 316.68798828125\n",
      "epoch: 244 | loss: 0.21254227401426173\n"
     ]
    },
    {
     "name": "stderr",
     "output_type": "stream",
     "text": [
      "0.273: 100%|██████████████████████████████████████████████████████████████████████████████████████████████████████████████████████| 1490/1490 [00:35<00:00, 41.54it/s]\n"
     ]
    },
    {
     "name": "stdout",
     "output_type": "stream",
     "text": [
      "tensor(0.2730, device='cuda:1', grad_fn=<NllLoss2DBackward>)\n",
      "tensor(317.0873, device='cuda:1', grad_fn=<AddBackward0>)\n",
      "epoch: 245 | loss: 0.21281025521707214\n"
     ]
    },
    {
     "name": "stderr",
     "output_type": "stream",
     "text": [
      "0.096: 100%|██████████████████████████████████████████████████████████████████████████████████████████████████████████████████████| 1490/1490 [00:35<00:00, 41.56it/s]\n"
     ]
    },
    {
     "name": "stdout",
     "output_type": "stream",
     "text": [
      "tensor(0.0956, device='cuda:1', grad_fn=<NllLoss2DBackward>)\n",
      "tensor(316.4596, device='cuda:1', grad_fn=<AddBackward0>)\n",
      "Best loss: 316.68798828125, Loss: 316.4595642089844\n",
      "epoch: 246 | loss: 0.21238896926777476\n"
     ]
    },
    {
     "name": "stderr",
     "output_type": "stream",
     "text": [
      "0.191: 100%|██████████████████████████████████████████████████████████████████████████████████████████████████████████████████████| 1490/1490 [00:34<00:00, 42.79it/s]\n"
     ]
    },
    {
     "name": "stdout",
     "output_type": "stream",
     "text": [
      "tensor(0.1913, device='cuda:1', grad_fn=<NllLoss2DBackward>)\n",
      "tensor(315.7601, device='cuda:1', grad_fn=<AddBackward0>)\n",
      "Best loss: 316.4595642089844, Loss: 315.7601013183594\n",
      "epoch: 247 | loss: 0.21191953108614722\n"
     ]
    },
    {
     "name": "stderr",
     "output_type": "stream",
     "text": [
      "0.255: 100%|██████████████████████████████████████████████████████████████████████████████████████████████████████████████████████| 1490/1490 [00:35<00:00, 41.77it/s]\n"
     ]
    },
    {
     "name": "stdout",
     "output_type": "stream",
     "text": [
      "tensor(0.2551, device='cuda:1', grad_fn=<NllLoss2DBackward>)\n",
      "tensor(315.3795, device='cuda:1', grad_fn=<AddBackward0>)\n",
      "Best loss: 315.7601013183594, Loss: 315.3795471191406\n",
      "epoch: 248 | loss: 0.21166412558331585\n"
     ]
    },
    {
     "name": "stderr",
     "output_type": "stream",
     "text": [
      "0.156: 100%|██████████████████████████████████████████████████████████████████████████████████████████████████████████████████████| 1490/1490 [00:35<00:00, 42.05it/s]\n"
     ]
    },
    {
     "name": "stdout",
     "output_type": "stream",
     "text": [
      "tensor(0.1560, device='cuda:1', grad_fn=<NllLoss2DBackward>)\n",
      "tensor(315.3998, device='cuda:1', grad_fn=<AddBackward0>)\n",
      "epoch: 249 | loss: 0.2116777458446938\n"
     ]
    },
    {
     "name": "stderr",
     "output_type": "stream",
     "text": [
      "0.241: 100%|██████████████████████████████████████████████████████████████████████████████████████████████████████████████████████| 1490/1490 [00:36<00:00, 41.22it/s]\n"
     ]
    },
    {
     "name": "stdout",
     "output_type": "stream",
     "text": [
      "tensor(0.2406, device='cuda:1', grad_fn=<NllLoss2DBackward>)\n",
      "tensor(315.3374, device='cuda:1', grad_fn=<AddBackward0>)\n",
      "Best loss: 315.3795471191406, Loss: 315.3374328613281\n",
      "epoch: 250 | loss: 0.21163586098075712\n"
     ]
    },
    {
     "name": "stderr",
     "output_type": "stream",
     "text": [
      "0.320: 100%|██████████████████████████████████████████████████████████████████████████████████████████████████████████████████████| 1490/1490 [00:35<00:00, 41.95it/s]\n"
     ]
    },
    {
     "name": "stdout",
     "output_type": "stream",
     "text": [
      "tensor(0.3200, device='cuda:1', grad_fn=<NllLoss2DBackward>)\n",
      "tensor(315.3012, device='cuda:1', grad_fn=<AddBackward0>)\n",
      "Best loss: 315.3374328613281, Loss: 315.3012390136719\n",
      "epoch: 251 | loss: 0.21161156980783347\n"
     ]
    },
    {
     "name": "stderr",
     "output_type": "stream",
     "text": [
      "0.164: 100%|██████████████████████████████████████████████████████████████████████████████████████████████████████████████████████| 1490/1490 [00:35<00:00, 41.63it/s]\n"
     ]
    },
    {
     "name": "stdout",
     "output_type": "stream",
     "text": [
      "tensor(0.1638, device='cuda:1', grad_fn=<NllLoss2DBackward>)\n",
      "tensor(313.9479, device='cuda:1', grad_fn=<AddBackward0>)\n",
      "Best loss: 315.3012390136719, Loss: 313.9478759765625\n",
      "epoch: 252 | loss: 0.2107032724674916\n"
     ]
    },
    {
     "name": "stderr",
     "output_type": "stream",
     "text": [
      "0.350: 100%|██████████████████████████████████████████████████████████████████████████████████████████████████████████████████████| 1490/1490 [00:35<00:00, 41.76it/s]\n"
     ]
    },
    {
     "name": "stdout",
     "output_type": "stream",
     "text": [
      "tensor(0.3499, device='cuda:1', grad_fn=<NllLoss2DBackward>)\n",
      "tensor(313.2244, device='cuda:1', grad_fn=<AddBackward0>)\n",
      "Best loss: 313.9478759765625, Loss: 313.2243957519531\n",
      "epoch: 253 | loss: 0.2102177152697672\n"
     ]
    },
    {
     "name": "stderr",
     "output_type": "stream",
     "text": [
      "0.169: 100%|██████████████████████████████████████████████████████████████████████████████████████████████████████████████████████| 1490/1490 [00:35<00:00, 41.98it/s]\n"
     ]
    },
    {
     "name": "stdout",
     "output_type": "stream",
     "text": [
      "tensor(0.1685, device='cuda:1', grad_fn=<NllLoss2DBackward>)\n",
      "tensor(312.7716, device='cuda:1', grad_fn=<AddBackward0>)\n",
      "Best loss: 313.2243957519531, Loss: 312.7716064453125\n",
      "epoch: 254 | loss: 0.20991382982906878\n"
     ]
    },
    {
     "name": "stderr",
     "output_type": "stream",
     "text": [
      "0.186: 100%|██████████████████████████████████████████████████████████████████████████████████████████████████████████████████████| 1490/1490 [00:35<00:00, 41.68it/s]\n"
     ]
    },
    {
     "name": "stdout",
     "output_type": "stream",
     "text": [
      "tensor(0.1857, device='cuda:1', grad_fn=<NllLoss2DBackward>)\n",
      "tensor(312.7315, device='cuda:1', grad_fn=<AddBackward0>)\n",
      "Best loss: 312.7716064453125, Loss: 312.73150634765625\n",
      "epoch: 255 | loss: 0.20988691701184983\n"
     ]
    },
    {
     "name": "stderr",
     "output_type": "stream",
     "text": [
      "0.260: 100%|██████████████████████████████████████████████████████████████████████████████████████████████████████████████████████| 1490/1490 [00:35<00:00, 41.46it/s]\n"
     ]
    },
    {
     "name": "stdout",
     "output_type": "stream",
     "text": [
      "tensor(0.2597, device='cuda:1', grad_fn=<NllLoss2DBackward>)\n",
      "tensor(311.1881, device='cuda:1', grad_fn=<AddBackward0>)\n",
      "Best loss: 312.73150634765625, Loss: 311.1881103515625\n",
      "epoch: 256 | loss: 0.20885108077286074\n"
     ]
    },
    {
     "name": "stderr",
     "output_type": "stream",
     "text": [
      "0.220: 100%|██████████████████████████████████████████████████████████████████████████████████████████████████████████████████████| 1490/1490 [00:36<00:00, 41.32it/s]\n"
     ]
    },
    {
     "name": "stdout",
     "output_type": "stream",
     "text": [
      "tensor(0.2198, device='cuda:1', grad_fn=<NllLoss2DBackward>)\n",
      "tensor(312.4605, device='cuda:1', grad_fn=<AddBackward0>)\n",
      "epoch: 257 | loss: 0.2097050199572672\n"
     ]
    },
    {
     "name": "stderr",
     "output_type": "stream",
     "text": [
      "0.247: 100%|██████████████████████████████████████████████████████████████████████████████████████████████████████████████████████| 1490/1490 [00:35<00:00, 41.53it/s]\n"
     ]
    },
    {
     "name": "stdout",
     "output_type": "stream",
     "text": [
      "tensor(0.2466, device='cuda:1', grad_fn=<NllLoss2DBackward>)\n",
      "tensor(310.2330, device='cuda:1', grad_fn=<AddBackward0>)\n",
      "Best loss: 311.1881103515625, Loss: 310.23297119140625\n",
      "epoch: 258 | loss: 0.20821004777946728\n"
     ]
    },
    {
     "name": "stderr",
     "output_type": "stream",
     "text": [
      "0.117: 100%|██████████████████████████████████████████████████████████████████████████████████████████████████████████████████████| 1490/1490 [00:36<00:00, 41.31it/s]\n"
     ]
    },
    {
     "name": "stdout",
     "output_type": "stream",
     "text": [
      "tensor(0.1175, device='cuda:1', grad_fn=<NllLoss2DBackward>)\n",
      "tensor(310.7691, device='cuda:1', grad_fn=<AddBackward0>)\n",
      "epoch: 259 | loss: 0.20856988894059353\n"
     ]
    },
    {
     "name": "stderr",
     "output_type": "stream",
     "text": [
      "0.211: 100%|██████████████████████████████████████████████████████████████████████████████████████████████████████████████████████| 1490/1490 [00:35<00:00, 41.83it/s]\n"
     ]
    },
    {
     "name": "stdout",
     "output_type": "stream",
     "text": [
      "tensor(0.2115, device='cuda:1', grad_fn=<NllLoss2DBackward>)\n",
      "tensor(310.4535, device='cuda:1', grad_fn=<AddBackward0>)\n",
      "epoch: 260 | loss: 0.2083580477925755\n"
     ]
    },
    {
     "name": "stderr",
     "output_type": "stream",
     "text": [
      "0.080: 100%|██████████████████████████████████████████████████████████████████████████████████████████████████████████████████████| 1490/1490 [00:35<00:00, 42.13it/s]\n"
     ]
    },
    {
     "name": "stdout",
     "output_type": "stream",
     "text": [
      "tensor(0.0799, device='cuda:1', grad_fn=<NllLoss2DBackward>)\n",
      "tensor(309.7757, device='cuda:1', grad_fn=<AddBackward0>)\n",
      "Best loss: 310.23297119140625, Loss: 309.77569580078125\n",
      "epoch: 261 | loss: 0.20790315154414848\n"
     ]
    },
    {
     "name": "stderr",
     "output_type": "stream",
     "text": [
      "0.192: 100%|██████████████████████████████████████████████████████████████████████████████████████████████████████████████████████| 1490/1490 [00:36<00:00, 40.56it/s]\n"
     ]
    },
    {
     "name": "stdout",
     "output_type": "stream",
     "text": [
      "tensor(0.1922, device='cuda:1', grad_fn=<NllLoss2DBackward>)\n",
      "tensor(309.7679, device='cuda:1', grad_fn=<AddBackward0>)\n",
      "Best loss: 309.77569580078125, Loss: 309.76788330078125\n",
      "epoch: 262 | loss: 0.20789790825555787\n"
     ]
    },
    {
     "name": "stderr",
     "output_type": "stream",
     "text": [
      "0.190: 100%|██████████████████████████████████████████████████████████████████████████████████████████████████████████████████████| 1490/1490 [00:36<00:00, 41.09it/s]\n"
     ]
    },
    {
     "name": "stdout",
     "output_type": "stream",
     "text": [
      "tensor(0.1902, device='cuda:1', grad_fn=<NllLoss2DBackward>)\n",
      "tensor(308.6327, device='cuda:1', grad_fn=<AddBackward0>)\n",
      "Best loss: 309.76788330078125, Loss: 308.6326599121094\n",
      "epoch: 263 | loss: 0.2071360133638318\n"
     ]
    },
    {
     "name": "stderr",
     "output_type": "stream",
     "text": [
      "0.235: 100%|██████████████████████████████████████████████████████████████████████████████████████████████████████████████████████| 1490/1490 [00:36<00:00, 40.93it/s]\n"
     ]
    },
    {
     "name": "stdout",
     "output_type": "stream",
     "text": [
      "tensor(0.2351, device='cuda:1', grad_fn=<NllLoss2DBackward>)\n",
      "tensor(309.5966, device='cuda:1', grad_fn=<AddBackward0>)\n",
      "epoch: 264 | loss: 0.20778292457529363\n"
     ]
    },
    {
     "name": "stderr",
     "output_type": "stream",
     "text": [
      "0.217: 100%|██████████████████████████████████████████████████████████████████████████████████████████████████████████████████████| 1490/1490 [00:35<00:00, 41.64it/s]\n"
     ]
    },
    {
     "name": "stdout",
     "output_type": "stream",
     "text": [
      "tensor(0.2172, device='cuda:1', grad_fn=<NllLoss2DBackward>)\n",
      "tensor(308.8480, device='cuda:1', grad_fn=<AddBackward0>)\n",
      "epoch: 265 | loss: 0.20728051102401426\n"
     ]
    },
    {
     "name": "stderr",
     "output_type": "stream",
     "text": [
      "0.284: 100%|██████████████████████████████████████████████████████████████████████████████████████████████████████████████████████| 1490/1490 [00:35<00:00, 41.45it/s]\n"
     ]
    },
    {
     "name": "stdout",
     "output_type": "stream",
     "text": [
      "tensor(0.2837, device='cuda:1', grad_fn=<NllLoss2DBackward>)\n",
      "tensor(308.1588, device='cuda:1', grad_fn=<AddBackward0>)\n",
      "Best loss: 308.6326599121094, Loss: 308.1587829589844\n",
      "epoch: 266 | loss: 0.20681797514025796\n"
     ]
    },
    {
     "name": "stderr",
     "output_type": "stream",
     "text": [
      "0.223: 100%|██████████████████████████████████████████████████████████████████████████████████████████████████████████████████████| 1490/1490 [00:35<00:00, 41.52it/s]\n"
     ]
    },
    {
     "name": "stdout",
     "output_type": "stream",
     "text": [
      "tensor(0.2226, device='cuda:1', grad_fn=<NllLoss2DBackward>)\n",
      "tensor(307.7708, device='cuda:1', grad_fn=<AddBackward0>)\n",
      "Best loss: 308.1587829589844, Loss: 307.7708435058594\n",
      "epoch: 267 | loss: 0.2065576130911808\n"
     ]
    },
    {
     "name": "stderr",
     "output_type": "stream",
     "text": [
      "0.159: 100%|██████████████████████████████████████████████████████████████████████████████████████████████████████████████████████| 1490/1490 [00:35<00:00, 42.15it/s]\n"
     ]
    },
    {
     "name": "stdout",
     "output_type": "stream",
     "text": [
      "tensor(0.1588, device='cuda:1', grad_fn=<NllLoss2DBackward>)\n",
      "tensor(307.4253, device='cuda:1', grad_fn=<AddBackward0>)\n",
      "Best loss: 307.7708435058594, Loss: 307.4253234863281\n",
      "epoch: 268 | loss: 0.2063257204606229\n"
     ]
    },
    {
     "name": "stderr",
     "output_type": "stream",
     "text": [
      "0.148: 100%|██████████████████████████████████████████████████████████████████████████████████████████████████████████████████████| 1490/1490 [00:35<00:00, 41.57it/s]\n"
     ]
    },
    {
     "name": "stdout",
     "output_type": "stream",
     "text": [
      "tensor(0.1483, device='cuda:1', grad_fn=<NllLoss2DBackward>)\n",
      "tensor(306.8652, device='cuda:1', grad_fn=<AddBackward0>)\n",
      "Best loss: 307.4253234863281, Loss: 306.865234375\n",
      "epoch: 269 | loss: 0.20594982172818793\n"
     ]
    },
    {
     "name": "stderr",
     "output_type": "stream",
     "text": [
      "0.197: 100%|██████████████████████████████████████████████████████████████████████████████████████████████████████████████████████| 1490/1490 [00:34<00:00, 42.81it/s]\n"
     ]
    },
    {
     "name": "stdout",
     "output_type": "stream",
     "text": [
      "tensor(0.1970, device='cuda:1', grad_fn=<NllLoss2DBackward>)\n",
      "tensor(306.4439, device='cuda:1', grad_fn=<AddBackward0>)\n",
      "Best loss: 306.865234375, Loss: 306.44390869140625\n",
      "epoch: 270 | loss: 0.20566705281302433\n"
     ]
    },
    {
     "name": "stderr",
     "output_type": "stream",
     "text": [
      "0.251: 100%|██████████████████████████████████████████████████████████████████████████████████████████████████████████████████████| 1490/1490 [00:36<00:00, 40.81it/s]\n"
     ]
    },
    {
     "name": "stdout",
     "output_type": "stream",
     "text": [
      "tensor(0.2512, device='cuda:1', grad_fn=<NllLoss2DBackward>)\n",
      "tensor(306.2982, device='cuda:1', grad_fn=<AddBackward0>)\n",
      "Best loss: 306.44390869140625, Loss: 306.2981872558594\n",
      "epoch: 271 | loss: 0.20556925319185193\n"
     ]
    },
    {
     "name": "stderr",
     "output_type": "stream",
     "text": [
      "0.191: 100%|██████████████████████████████████████████████████████████████████████████████████████████████████████████████████████| 1490/1490 [00:36<00:00, 40.62it/s]\n"
     ]
    },
    {
     "name": "stdout",
     "output_type": "stream",
     "text": [
      "tensor(0.1915, device='cuda:1', grad_fn=<NllLoss2DBackward>)\n",
      "tensor(304.7599, device='cuda:1', grad_fn=<AddBackward0>)\n",
      "Best loss: 306.2981872558594, Loss: 304.7598876953125\n",
      "epoch: 272 | loss: 0.20453683737940437\n"
     ]
    },
    {
     "name": "stderr",
     "output_type": "stream",
     "text": [
      "0.291: 100%|██████████████████████████████████████████████████████████████████████████████████████████████████████████████████████| 1490/1490 [00:35<00:00, 42.38it/s]\n"
     ]
    },
    {
     "name": "stdout",
     "output_type": "stream",
     "text": [
      "tensor(0.2914, device='cuda:1', grad_fn=<NllLoss2DBackward>)\n",
      "tensor(305.1924, device='cuda:1', grad_fn=<AddBackward0>)\n",
      "epoch: 273 | loss: 0.20482708207712877\n"
     ]
    },
    {
     "name": "stderr",
     "output_type": "stream",
     "text": [
      "0.207: 100%|██████████████████████████████████████████████████████████████████████████████████████████████████████████████████████| 1490/1490 [00:35<00:00, 41.71it/s]\n"
     ]
    },
    {
     "name": "stdout",
     "output_type": "stream",
     "text": [
      "tensor(0.2073, device='cuda:1', grad_fn=<NllLoss2DBackward>)\n",
      "tensor(303.9958, device='cuda:1', grad_fn=<AddBackward0>)\n",
      "Best loss: 304.7598876953125, Loss: 303.9958190917969\n",
      "epoch: 274 | loss: 0.20402403965892407\n"
     ]
    },
    {
     "name": "stderr",
     "output_type": "stream",
     "text": [
      "0.278: 100%|██████████████████████████████████████████████████████████████████████████████████████████████████████████████████████| 1490/1490 [00:33<00:00, 43.99it/s]\n"
     ]
    },
    {
     "name": "stdout",
     "output_type": "stream",
     "text": [
      "tensor(0.2776, device='cuda:1', grad_fn=<NllLoss2DBackward>)\n",
      "tensor(303.8931, device='cuda:1', grad_fn=<AddBackward0>)\n",
      "Best loss: 303.9958190917969, Loss: 303.89306640625\n",
      "epoch: 275 | loss: 0.203955078125\n"
     ]
    },
    {
     "name": "stderr",
     "output_type": "stream",
     "text": [
      "0.178: 100%|██████████████████████████████████████████████████████████████████████████████████████████████████████████████████████| 1490/1490 [00:35<00:00, 42.40it/s]\n"
     ]
    },
    {
     "name": "stdout",
     "output_type": "stream",
     "text": [
      "tensor(0.1779, device='cuda:1', grad_fn=<NllLoss2DBackward>)\n",
      "tensor(304.4277, device='cuda:1', grad_fn=<AddBackward0>)\n",
      "epoch: 276 | loss: 0.20431391568791946\n"
     ]
    },
    {
     "name": "stderr",
     "output_type": "stream",
     "text": [
      "0.332: 100%|██████████████████████████████████████████████████████████████████████████████████████████████████████████████████████| 1490/1490 [00:34<00:00, 43.21it/s]\n"
     ]
    },
    {
     "name": "stdout",
     "output_type": "stream",
     "text": [
      "tensor(0.3321, device='cuda:1', grad_fn=<NllLoss2DBackward>)\n",
      "tensor(303.2666, device='cuda:1', grad_fn=<AddBackward0>)\n",
      "Best loss: 303.89306640625, Loss: 303.2666320800781\n",
      "epoch: 277 | loss: 0.203534652402737\n"
     ]
    },
    {
     "name": "stderr",
     "output_type": "stream",
     "text": [
      "0.115: 100%|██████████████████████████████████████████████████████████████████████████████████████████████████████████████████████| 1490/1490 [00:35<00:00, 41.94it/s]\n"
     ]
    },
    {
     "name": "stdout",
     "output_type": "stream",
     "text": [
      "tensor(0.1153, device='cuda:1', grad_fn=<NllLoss2DBackward>)\n",
      "tensor(303.1188, device='cuda:1', grad_fn=<AddBackward0>)\n",
      "Best loss: 303.2666320800781, Loss: 303.1187744140625\n",
      "epoch: 278 | loss: 0.2034354190698406\n"
     ]
    },
    {
     "name": "stderr",
     "output_type": "stream",
     "text": [
      "0.241: 100%|██████████████████████████████████████████████████████████████████████████████████████████████████████████████████████| 1490/1490 [00:36<00:00, 41.27it/s]\n"
     ]
    },
    {
     "name": "stdout",
     "output_type": "stream",
     "text": [
      "tensor(0.2409, device='cuda:1', grad_fn=<NllLoss2DBackward>)\n",
      "tensor(302.0203, device='cuda:1', grad_fn=<AddBackward0>)\n",
      "Best loss: 303.1187744140625, Loss: 302.020263671875\n",
      "epoch: 279 | loss: 0.20269816353817113\n"
     ]
    },
    {
     "name": "stderr",
     "output_type": "stream",
     "text": [
      "0.205: 100%|██████████████████████████████████████████████████████████████████████████████████████████████████████████████████████| 1490/1490 [00:33<00:00, 44.18it/s]\n"
     ]
    },
    {
     "name": "stdout",
     "output_type": "stream",
     "text": [
      "tensor(0.2046, device='cuda:1', grad_fn=<NllLoss2DBackward>)\n",
      "tensor(303.2189, device='cuda:1', grad_fn=<AddBackward0>)\n",
      "epoch: 280 | loss: 0.20350263966809984\n"
     ]
    },
    {
     "name": "stderr",
     "output_type": "stream",
     "text": [
      "0.208: 100%|██████████████████████████████████████████████████████████████████████████████████████████████████████████████████████| 1490/1490 [00:35<00:00, 42.09it/s]\n"
     ]
    },
    {
     "name": "stdout",
     "output_type": "stream",
     "text": [
      "tensor(0.2077, device='cuda:1', grad_fn=<NllLoss2DBackward>)\n",
      "tensor(301.4775, device='cuda:1', grad_fn=<AddBackward0>)\n",
      "Best loss: 302.020263671875, Loss: 301.4775390625\n",
      "epoch: 281 | loss: 0.20233391883389262\n"
     ]
    },
    {
     "name": "stderr",
     "output_type": "stream",
     "text": [
      "0.164: 100%|██████████████████████████████████████████████████████████████████████████████████████████████████████████████████████| 1490/1490 [00:36<00:00, 40.78it/s]\n"
     ]
    },
    {
     "name": "stdout",
     "output_type": "stream",
     "text": [
      "tensor(0.1637, device='cuda:1', grad_fn=<NllLoss2DBackward>)\n",
      "tensor(301.0810, device='cuda:1', grad_fn=<AddBackward0>)\n",
      "Best loss: 301.4775390625, Loss: 301.0810241699219\n",
      "epoch: 282 | loss: 0.20206780145632341\n"
     ]
    },
    {
     "name": "stderr",
     "output_type": "stream",
     "text": [
      "0.128: 100%|██████████████████████████████████████████████████████████████████████████████████████████████████████████████████████| 1490/1490 [00:35<00:00, 42.26it/s]\n"
     ]
    },
    {
     "name": "stdout",
     "output_type": "stream",
     "text": [
      "tensor(0.1284, device='cuda:1', grad_fn=<NllLoss2DBackward>)\n",
      "tensor(300.9296, device='cuda:1', grad_fn=<AddBackward0>)\n",
      "Best loss: 301.0810241699219, Loss: 300.92962646484375\n",
      "epoch: 283 | loss: 0.20196619225828438\n"
     ]
    },
    {
     "name": "stderr",
     "output_type": "stream",
     "text": [
      "0.229: 100%|██████████████████████████████████████████████████████████████████████████████████████████████████████████████████████| 1490/1490 [00:34<00:00, 43.10it/s]\n"
     ]
    },
    {
     "name": "stdout",
     "output_type": "stream",
     "text": [
      "tensor(0.2288, device='cuda:1', grad_fn=<NllLoss2DBackward>)\n",
      "tensor(300.8846, device='cuda:1', grad_fn=<AddBackward0>)\n",
      "Best loss: 300.92962646484375, Loss: 300.8846130371094\n",
      "epoch: 284 | loss: 0.20193598190410025\n"
     ]
    },
    {
     "name": "stderr",
     "output_type": "stream",
     "text": [
      "0.148: 100%|██████████████████████████████████████████████████████████████████████████████████████████████████████████████████████| 1490/1490 [00:36<00:00, 40.73it/s]\n"
     ]
    },
    {
     "name": "stdout",
     "output_type": "stream",
     "text": [
      "tensor(0.1479, device='cuda:1', grad_fn=<NllLoss2DBackward>)\n",
      "tensor(300.9749, device='cuda:1', grad_fn=<AddBackward0>)\n",
      "epoch: 285 | loss: 0.20199660742842912\n"
     ]
    },
    {
     "name": "stderr",
     "output_type": "stream",
     "text": [
      "0.206: 100%|██████████████████████████████████████████████████████████████████████████████████████████████████████████████████████| 1490/1490 [00:36<00:00, 40.94it/s]\n"
     ]
    },
    {
     "name": "stdout",
     "output_type": "stream",
     "text": [
      "tensor(0.2064, device='cuda:1', grad_fn=<NllLoss2DBackward>)\n",
      "tensor(300.0623, device='cuda:1', grad_fn=<AddBackward0>)\n",
      "Best loss: 300.8846130371094, Loss: 300.06231689453125\n",
      "epoch: 286 | loss: 0.2013841052983431\n"
     ]
    },
    {
     "name": "stderr",
     "output_type": "stream",
     "text": [
      "0.249: 100%|██████████████████████████████████████████████████████████████████████████████████████████████████████████████████████| 1490/1490 [00:35<00:00, 42.25it/s]\n"
     ]
    },
    {
     "name": "stdout",
     "output_type": "stream",
     "text": [
      "tensor(0.2486, device='cuda:1', grad_fn=<NllLoss2DBackward>)\n",
      "tensor(299.6454, device='cuda:1', grad_fn=<AddBackward0>)\n",
      "Best loss: 300.06231689453125, Loss: 299.6453552246094\n",
      "epoch: 287 | loss: 0.2011042652514157\n"
     ]
    },
    {
     "name": "stderr",
     "output_type": "stream",
     "text": [
      "0.247: 100%|██████████████████████████████████████████████████████████████████████████████████████████████████████████████████████| 1490/1490 [00:35<00:00, 41.56it/s]\n"
     ]
    },
    {
     "name": "stdout",
     "output_type": "stream",
     "text": [
      "tensor(0.2469, device='cuda:1', grad_fn=<NllLoss2DBackward>)\n",
      "tensor(298.8211, device='cuda:1', grad_fn=<AddBackward0>)\n",
      "Best loss: 299.6453552246094, Loss: 298.8210754394531\n",
      "epoch: 288 | loss: 0.20055105734191486\n"
     ]
    },
    {
     "name": "stderr",
     "output_type": "stream",
     "text": [
      "0.133: 100%|██████████████████████████████████████████████████████████████████████████████████████████████████████████████████████| 1490/1490 [00:36<00:00, 41.05it/s]\n"
     ]
    },
    {
     "name": "stdout",
     "output_type": "stream",
     "text": [
      "tensor(0.1328, device='cuda:1', grad_fn=<NllLoss2DBackward>)\n",
      "tensor(298.3465, device='cuda:1', grad_fn=<AddBackward0>)\n",
      "Best loss: 298.8210754394531, Loss: 298.34649658203125\n",
      "epoch: 289 | loss: 0.2002325480416317\n"
     ]
    },
    {
     "name": "stderr",
     "output_type": "stream",
     "text": [
      "0.192: 100%|██████████████████████████████████████████████████████████████████████████████████████████████████████████████████████| 1490/1490 [00:34<00:00, 42.94it/s]\n"
     ]
    },
    {
     "name": "stdout",
     "output_type": "stream",
     "text": [
      "tensor(0.1925, device='cuda:1', grad_fn=<NllLoss2DBackward>)\n",
      "tensor(298.2913, device='cuda:1', grad_fn=<AddBackward0>)\n",
      "Best loss: 298.34649658203125, Loss: 298.29132080078125\n",
      "epoch: 290 | loss: 0.20019551731596058\n"
     ]
    },
    {
     "name": "stderr",
     "output_type": "stream",
     "text": [
      "0.093: 100%|██████████████████████████████████████████████████████████████████████████████████████████████████████████████████████| 1490/1490 [00:35<00:00, 41.72it/s]\n"
     ]
    },
    {
     "name": "stdout",
     "output_type": "stream",
     "text": [
      "tensor(0.0929, device='cuda:1', grad_fn=<NllLoss2DBackward>)\n",
      "tensor(298.4152, device='cuda:1', grad_fn=<AddBackward0>)\n",
      "epoch: 291 | loss: 0.20027865211435614\n"
     ]
    },
    {
     "name": "stderr",
     "output_type": "stream",
     "text": [
      "0.127: 100%|██████████████████████████████████████████████████████████████████████████████████████████████████████████████████████| 1490/1490 [00:36<00:00, 40.92it/s]\n"
     ]
    },
    {
     "name": "stdout",
     "output_type": "stream",
     "text": [
      "tensor(0.1274, device='cuda:1', grad_fn=<NllLoss2DBackward>)\n",
      "tensor(297.6317, device='cuda:1', grad_fn=<AddBackward0>)\n",
      "Best loss: 298.29132080078125, Loss: 297.6317138671875\n",
      "epoch: 292 | loss: 0.19975282809878356\n"
     ]
    },
    {
     "name": "stderr",
     "output_type": "stream",
     "text": [
      "0.262: 100%|██████████████████████████████████████████████████████████████████████████████████████████████████████████████████████| 1490/1490 [00:36<00:00, 41.11it/s]\n"
     ]
    },
    {
     "name": "stdout",
     "output_type": "stream",
     "text": [
      "tensor(0.2624, device='cuda:1', grad_fn=<NllLoss2DBackward>)\n",
      "tensor(297.4995, device='cuda:1', grad_fn=<AddBackward0>)\n",
      "Best loss: 297.6317138671875, Loss: 297.49951171875\n",
      "epoch: 293 | loss: 0.19966410182466443\n"
     ]
    },
    {
     "name": "stderr",
     "output_type": "stream",
     "text": [
      "0.200: 100%|██████████████████████████████████████████████████████████████████████████████████████████████████████████████████████| 1490/1490 [00:35<00:00, 41.97it/s]\n"
     ]
    },
    {
     "name": "stdout",
     "output_type": "stream",
     "text": [
      "tensor(0.1999, device='cuda:1', grad_fn=<NllLoss2DBackward>)\n",
      "tensor(296.6087, device='cuda:1', grad_fn=<AddBackward0>)\n",
      "Best loss: 297.49951171875, Loss: 296.6087341308594\n",
      "epoch: 294 | loss: 0.1990662645173553\n"
     ]
    },
    {
     "name": "stderr",
     "output_type": "stream",
     "text": [
      "0.217: 100%|██████████████████████████████████████████████████████████████████████████████████████████████████████████████████████| 1490/1490 [00:35<00:00, 41.93it/s]\n"
     ]
    },
    {
     "name": "stdout",
     "output_type": "stream",
     "text": [
      "tensor(0.2166, device='cuda:1', grad_fn=<NllLoss2DBackward>)\n",
      "tensor(296.6589, device='cuda:1', grad_fn=<AddBackward0>)\n",
      "epoch: 295 | loss: 0.19909993626127306\n"
     ]
    },
    {
     "name": "stderr",
     "output_type": "stream",
     "text": [
      "0.153: 100%|██████████████████████████████████████████████████████████████████████████████████████████████████████████████████████| 1490/1490 [00:35<00:00, 42.52it/s]\n"
     ]
    },
    {
     "name": "stdout",
     "output_type": "stream",
     "text": [
      "tensor(0.1530, device='cuda:1', grad_fn=<NllLoss2DBackward>)\n",
      "tensor(296.3270, device='cuda:1', grad_fn=<AddBackward0>)\n",
      "Best loss: 296.6087341308594, Loss: 296.3270263671875\n",
      "epoch: 296 | loss: 0.19887719890415267\n"
     ]
    },
    {
     "name": "stderr",
     "output_type": "stream",
     "text": [
      "0.226: 100%|██████████████████████████████████████████████████████████████████████████████████████████████████████████████████████| 1490/1490 [00:35<00:00, 42.46it/s]\n"
     ]
    },
    {
     "name": "stdout",
     "output_type": "stream",
     "text": [
      "tensor(0.2260, device='cuda:1', grad_fn=<NllLoss2DBackward>)\n",
      "tensor(296.6105, device='cuda:1', grad_fn=<AddBackward0>)\n",
      "epoch: 297 | loss: 0.1990674524499266\n"
     ]
    },
    {
     "name": "stderr",
     "output_type": "stream",
     "text": [
      "0.185: 100%|██████████████████████████████████████████████████████████████████████████████████████████████████████████████████████| 1490/1490 [00:35<00:00, 41.79it/s]\n"
     ]
    },
    {
     "name": "stdout",
     "output_type": "stream",
     "text": [
      "tensor(0.1848, device='cuda:1', grad_fn=<NllLoss2DBackward>)\n",
      "tensor(295.6644, device='cuda:1', grad_fn=<AddBackward0>)\n",
      "Best loss: 296.3270263671875, Loss: 295.6643981933594\n",
      "epoch: 298 | loss: 0.19843248200896602\n"
     ]
    },
    {
     "name": "stderr",
     "output_type": "stream",
     "text": [
      "0.197: 100%|██████████████████████████████████████████████████████████████████████████████████████████████████████████████████████| 1490/1490 [00:36<00:00, 41.25it/s]\n"
     ]
    },
    {
     "name": "stdout",
     "output_type": "stream",
     "text": [
      "tensor(0.1973, device='cuda:1', grad_fn=<NllLoss2DBackward>)\n",
      "tensor(294.7060, device='cuda:1', grad_fn=<AddBackward0>)\n",
      "Best loss: 295.6643981933594, Loss: 294.7060241699219\n",
      "epoch: 299 | loss: 0.1977892779663905\n"
     ]
    },
    {
     "name": "stderr",
     "output_type": "stream",
     "text": [
      "0.269: 100%|██████████████████████████████████████████████████████████████████████████████████████████████████████████████████████| 1490/1490 [00:34<00:00, 42.62it/s]\n"
     ]
    },
    {
     "name": "stdout",
     "output_type": "stream",
     "text": [
      "tensor(0.2695, device='cuda:1', grad_fn=<NllLoss2DBackward>)\n",
      "tensor(294.8069, device='cuda:1', grad_fn=<AddBackward0>)\n",
      "epoch: 300 | loss: 0.19785699012295513\n"
     ]
    },
    {
     "name": "stderr",
     "output_type": "stream",
     "text": [
      "0.141: 100%|██████████████████████████████████████████████████████████████████████████████████████████████████████████████████████| 1490/1490 [00:35<00:00, 42.26it/s]\n"
     ]
    },
    {
     "name": "stdout",
     "output_type": "stream",
     "text": [
      "tensor(0.1405, device='cuda:1', grad_fn=<NllLoss2DBackward>)\n",
      "tensor(294.1727, device='cuda:1', grad_fn=<AddBackward0>)\n",
      "Best loss: 294.7060241699219, Loss: 294.1727294921875\n",
      "epoch: 301 | loss: 0.19743136207529363\n"
     ]
    },
    {
     "name": "stderr",
     "output_type": "stream",
     "text": [
      "0.235: 100%|██████████████████████████████████████████████████████████████████████████████████████████████████████████████████████| 1490/1490 [00:35<00:00, 42.46it/s]\n"
     ]
    },
    {
     "name": "stdout",
     "output_type": "stream",
     "text": [
      "tensor(0.2351, device='cuda:1', grad_fn=<NllLoss2DBackward>)\n",
      "tensor(294.3865, device='cuda:1', grad_fn=<AddBackward0>)\n",
      "epoch: 302 | loss: 0.19757481517407718\n"
     ]
    },
    {
     "name": "stderr",
     "output_type": "stream",
     "text": [
      "0.204: 100%|██████████████████████████████████████████████████████████████████████████████████████████████████████████████████████| 1490/1490 [00:36<00:00, 40.65it/s]\n"
     ]
    },
    {
     "name": "stdout",
     "output_type": "stream",
     "text": [
      "tensor(0.2043, device='cuda:1', grad_fn=<NllLoss2DBackward>)\n",
      "tensor(293.6971, device='cuda:1', grad_fn=<AddBackward0>)\n",
      "Best loss: 294.1727294921875, Loss: 293.6971130371094\n",
      "epoch: 303 | loss: 0.19711215640074456\n"
     ]
    },
    {
     "name": "stderr",
     "output_type": "stream",
     "text": [
      "0.242: 100%|██████████████████████████████████████████████████████████████████████████████████████████████████████████████████████| 1490/1490 [00:36<00:00, 41.24it/s]\n"
     ]
    },
    {
     "name": "stdout",
     "output_type": "stream",
     "text": [
      "tensor(0.2418, device='cuda:1', grad_fn=<NllLoss2DBackward>)\n",
      "tensor(292.7199, device='cuda:1', grad_fn=<AddBackward0>)\n",
      "Best loss: 293.6971130371094, Loss: 292.7198791503906\n",
      "epoch: 304 | loss: 0.1964562947318058\n"
     ]
    },
    {
     "name": "stderr",
     "output_type": "stream",
     "text": [
      "0.242: 100%|██████████████████████████████████████████████████████████████████████████████████████████████████████████████████████| 1490/1490 [00:36<00:00, 41.12it/s]\n"
     ]
    },
    {
     "name": "stdout",
     "output_type": "stream",
     "text": [
      "tensor(0.2416, device='cuda:1', grad_fn=<NllLoss2DBackward>)\n",
      "tensor(293.8674, device='cuda:1', grad_fn=<AddBackward0>)\n",
      "epoch: 305 | loss: 0.1972264232251468\n"
     ]
    },
    {
     "name": "stderr",
     "output_type": "stream",
     "text": [
      "0.260: 100%|██████████████████████████████████████████████████████████████████████████████████████████████████████████████████████| 1490/1490 [00:35<00:00, 41.98it/s]\n"
     ]
    },
    {
     "name": "stdout",
     "output_type": "stream",
     "text": [
      "tensor(0.2595, device='cuda:1', grad_fn=<NllLoss2DBackward>)\n",
      "tensor(292.9593, device='cuda:1', grad_fn=<AddBackward0>)\n",
      "epoch: 306 | loss: 0.1966169933344694\n"
     ]
    },
    {
     "name": "stderr",
     "output_type": "stream",
     "text": [
      "0.248: 100%|██████████████████████████████████████████████████████████████████████████████████████████████████████████████████████| 1490/1490 [00:35<00:00, 42.34it/s]\n"
     ]
    },
    {
     "name": "stdout",
     "output_type": "stream",
     "text": [
      "tensor(0.2476, device='cuda:1', grad_fn=<NllLoss2DBackward>)\n",
      "tensor(292.3354, device='cuda:1', grad_fn=<AddBackward0>)\n",
      "Best loss: 292.7198791503906, Loss: 292.3354187011719\n",
      "epoch: 307 | loss: 0.19619826758467912\n"
     ]
    },
    {
     "name": "stderr",
     "output_type": "stream",
     "text": [
      "0.324: 100%|██████████████████████████████████████████████████████████████████████████████████████████████████████████████████████| 1490/1490 [00:36<00:00, 41.19it/s]\n"
     ]
    },
    {
     "name": "stdout",
     "output_type": "stream",
     "text": [
      "tensor(0.3243, device='cuda:1', grad_fn=<NllLoss2DBackward>)\n",
      "tensor(291.9292, device='cuda:1', grad_fn=<AddBackward0>)\n",
      "Best loss: 292.3354187011719, Loss: 291.9291687011719\n",
      "epoch: 308 | loss: 0.1959256165779677\n"
     ]
    },
    {
     "name": "stderr",
     "output_type": "stream",
     "text": [
      "0.317: 100%|██████████████████████████████████████████████████████████████████████████████████████████████████████████████████████| 1490/1490 [00:35<00:00, 41.86it/s]\n"
     ]
    },
    {
     "name": "stdout",
     "output_type": "stream",
     "text": [
      "tensor(0.3175, device='cuda:1', grad_fn=<NllLoss2DBackward>)\n",
      "tensor(291.5821, device='cuda:1', grad_fn=<AddBackward0>)\n",
      "Best loss: 291.9291687011719, Loss: 291.5820617675781\n",
      "epoch: 309 | loss: 0.19569265890441484\n"
     ]
    },
    {
     "name": "stderr",
     "output_type": "stream",
     "text": [
      "0.287: 100%|██████████████████████████████████████████████████████████████████████████████████████████████████████████████████████| 1490/1490 [00:35<00:00, 41.74it/s]\n"
     ]
    },
    {
     "name": "stdout",
     "output_type": "stream",
     "text": [
      "tensor(0.2872, device='cuda:1', grad_fn=<NllLoss2DBackward>)\n",
      "tensor(291.2564, device='cuda:1', grad_fn=<AddBackward0>)\n",
      "Best loss: 291.5820617675781, Loss: 291.2563781738281\n",
      "epoch: 310 | loss: 0.19547407931129404\n"
     ]
    },
    {
     "name": "stderr",
     "output_type": "stream",
     "text": [
      "0.305: 100%|██████████████████████████████████████████████████████████████████████████████████████████████████████████████████████| 1490/1490 [00:35<00:00, 41.61it/s]\n"
     ]
    },
    {
     "name": "stdout",
     "output_type": "stream",
     "text": [
      "tensor(0.3051, device='cuda:1', grad_fn=<NllLoss2DBackward>)\n",
      "tensor(291.4449, device='cuda:1', grad_fn=<AddBackward0>)\n",
      "epoch: 311 | loss: 0.19560059413013842\n"
     ]
    },
    {
     "name": "stderr",
     "output_type": "stream",
     "text": [
      "0.145: 100%|██████████████████████████████████████████████████████████████████████████████████████████████████████████████████████| 1490/1490 [00:34<00:00, 43.43it/s]\n"
     ]
    },
    {
     "name": "stdout",
     "output_type": "stream",
     "text": [
      "tensor(0.1454, device='cuda:1', grad_fn=<NllLoss2DBackward>)\n",
      "tensor(290.6504, device='cuda:1', grad_fn=<AddBackward0>)\n",
      "Best loss: 291.2563781738281, Loss: 290.6504211425781\n",
      "epoch: 312 | loss: 0.19506739673998533\n"
     ]
    },
    {
     "name": "stderr",
     "output_type": "stream",
     "text": [
      "0.321: 100%|██████████████████████████████████████████████████████████████████████████████████████████████████████████████████████| 1490/1490 [00:34<00:00, 42.65it/s]\n"
     ]
    },
    {
     "name": "stdout",
     "output_type": "stream",
     "text": [
      "tensor(0.3211, device='cuda:1', grad_fn=<NllLoss2DBackward>)\n",
      "tensor(290.5857, device='cuda:1', grad_fn=<AddBackward0>)\n",
      "Best loss: 290.6504211425781, Loss: 290.5856628417969\n",
      "epoch: 313 | loss: 0.19502393479315228\n"
     ]
    },
    {
     "name": "stderr",
     "output_type": "stream",
     "text": [
      "0.091: 100%|██████████████████████████████████████████████████████████████████████████████████████████████████████████████████████| 1490/1490 [00:35<00:00, 41.59it/s]\n"
     ]
    },
    {
     "name": "stdout",
     "output_type": "stream",
     "text": [
      "tensor(0.0908, device='cuda:1', grad_fn=<NllLoss2DBackward>)\n",
      "tensor(289.7791, device='cuda:1', grad_fn=<AddBackward0>)\n",
      "Best loss: 290.5856628417969, Loss: 289.7790832519531\n",
      "epoch: 314 | loss: 0.1944826062093645\n"
     ]
    },
    {
     "name": "stderr",
     "output_type": "stream",
     "text": [
      "0.146: 100%|██████████████████████████████████████████████████████████████████████████████████████████████████████████████████████| 1490/1490 [00:35<00:00, 41.63it/s]\n"
     ]
    },
    {
     "name": "stdout",
     "output_type": "stream",
     "text": [
      "tensor(0.1455, device='cuda:1', grad_fn=<NllLoss2DBackward>)\n",
      "tensor(290.0068, device='cuda:1', grad_fn=<AddBackward0>)\n",
      "epoch: 315 | loss: 0.19463546036073825\n"
     ]
    },
    {
     "name": "stderr",
     "output_type": "stream",
     "text": [
      "0.292: 100%|██████████████████████████████████████████████████████████████████████████████████████████████████████████████████████| 1490/1490 [00:35<00:00, 42.52it/s]\n"
     ]
    },
    {
     "name": "stdout",
     "output_type": "stream",
     "text": [
      "tensor(0.2924, device='cuda:1', grad_fn=<NllLoss2DBackward>)\n",
      "tensor(288.7221, device='cuda:1', grad_fn=<AddBackward0>)\n",
      "Best loss: 289.7790832519531, Loss: 288.7221374511719\n",
      "epoch: 316 | loss: 0.19377324661152476\n"
     ]
    },
    {
     "name": "stderr",
     "output_type": "stream",
     "text": [
      "0.274: 100%|██████████████████████████████████████████████████████████████████████████████████████████████████████████████████████| 1490/1490 [00:36<00:00, 41.22it/s]\n"
     ]
    },
    {
     "name": "stdout",
     "output_type": "stream",
     "text": [
      "tensor(0.2745, device='cuda:1', grad_fn=<NllLoss2DBackward>)\n",
      "tensor(288.5584, device='cuda:1', grad_fn=<AddBackward0>)\n",
      "Best loss: 288.7221374511719, Loss: 288.5584411621094\n",
      "epoch: 317 | loss: 0.19366338333027475\n"
     ]
    },
    {
     "name": "stderr",
     "output_type": "stream",
     "text": [
      "0.226: 100%|██████████████████████████████████████████████████████████████████████████████████████████████████████████████████████| 1490/1490 [00:35<00:00, 41.58it/s]\n"
     ]
    },
    {
     "name": "stdout",
     "output_type": "stream",
     "text": [
      "tensor(0.2261, device='cuda:1', grad_fn=<NllLoss2DBackward>)\n",
      "tensor(288.2248, device='cuda:1', grad_fn=<AddBackward0>)\n",
      "Best loss: 288.5584411621094, Loss: 288.2248229980469\n",
      "epoch: 318 | loss: 0.1934394785221791\n"
     ]
    },
    {
     "name": "stderr",
     "output_type": "stream",
     "text": [
      "0.151: 100%|██████████████████████████████████████████████████████████████████████████████████████████████████████████████████████| 1490/1490 [00:35<00:00, 42.21it/s]\n"
     ]
    },
    {
     "name": "stdout",
     "output_type": "stream",
     "text": [
      "tensor(0.1513, device='cuda:1', grad_fn=<NllLoss2DBackward>)\n",
      "tensor(287.8475, device='cuda:1', grad_fn=<AddBackward0>)\n",
      "Best loss: 288.2248229980469, Loss: 287.8475036621094\n",
      "epoch: 319 | loss: 0.19318624406852977\n"
     ]
    },
    {
     "name": "stderr",
     "output_type": "stream",
     "text": [
      "0.260: 100%|██████████████████████████████████████████████████████████████████████████████████████████████████████████████████████| 1490/1490 [00:36<00:00, 40.95it/s]\n"
     ]
    },
    {
     "name": "stdout",
     "output_type": "stream",
     "text": [
      "tensor(0.2599, device='cuda:1', grad_fn=<NllLoss2DBackward>)\n",
      "tensor(287.5380, device='cuda:1', grad_fn=<AddBackward0>)\n",
      "Best loss: 287.8475036621094, Loss: 287.5379638671875\n",
      "epoch: 320 | loss: 0.19297849923972316\n"
     ]
    },
    {
     "name": "stderr",
     "output_type": "stream",
     "text": [
      "0.189: 100%|██████████████████████████████████████████████████████████████████████████████████████████████████████████████████████| 1490/1490 [00:36<00:00, 41.26it/s]\n"
     ]
    },
    {
     "name": "stdout",
     "output_type": "stream",
     "text": [
      "tensor(0.1893, device='cuda:1', grad_fn=<NllLoss2DBackward>)\n",
      "tensor(287.2828, device='cuda:1', grad_fn=<AddBackward0>)\n",
      "Best loss: 287.5379638671875, Loss: 287.28277587890625\n",
      "epoch: 321 | loss: 0.19280723213349413\n"
     ]
    },
    {
     "name": "stderr",
     "output_type": "stream",
     "text": [
      "0.157: 100%|██████████████████████████████████████████████████████████████████████████████████████████████████████████████████████| 1490/1490 [00:35<00:00, 42.08it/s]\n"
     ]
    },
    {
     "name": "stdout",
     "output_type": "stream",
     "text": [
      "tensor(0.1571, device='cuda:1', grad_fn=<NllLoss2DBackward>)\n",
      "tensor(286.6810, device='cuda:1', grad_fn=<AddBackward0>)\n",
      "Best loss: 287.28277587890625, Loss: 286.68096923828125\n",
      "epoch: 322 | loss: 0.19240333505924917\n"
     ]
    },
    {
     "name": "stderr",
     "output_type": "stream",
     "text": [
      "0.419: 100%|██████████████████████████████████████████████████████████████████████████████████████████████████████████████████████| 1490/1490 [00:36<00:00, 41.38it/s]\n"
     ]
    },
    {
     "name": "stdout",
     "output_type": "stream",
     "text": [
      "tensor(0.4189, device='cuda:1', grad_fn=<NllLoss2DBackward>)\n",
      "tensor(286.2285, device='cuda:1', grad_fn=<AddBackward0>)\n",
      "Best loss: 286.68096923828125, Loss: 286.2284851074219\n",
      "epoch: 323 | loss: 0.19209965443451132\n"
     ]
    },
    {
     "name": "stderr",
     "output_type": "stream",
     "text": [
      "0.242: 100%|██████████████████████████████████████████████████████████████████████████████████████████████████████████████████████| 1490/1490 [00:35<00:00, 42.36it/s]\n"
     ]
    },
    {
     "name": "stdout",
     "output_type": "stream",
     "text": [
      "tensor(0.2422, device='cuda:1', grad_fn=<NllLoss2DBackward>)\n",
      "tensor(286.7238, device='cuda:1', grad_fn=<AddBackward0>)\n",
      "epoch: 324 | loss: 0.19243211170170932\n"
     ]
    },
    {
     "name": "stderr",
     "output_type": "stream",
     "text": [
      "0.341: 100%|██████████████████████████████████████████████████████████████████████████████████████████████████████████████████████| 1490/1490 [00:35<00:00, 42.20it/s]\n"
     ]
    },
    {
     "name": "stdout",
     "output_type": "stream",
     "text": [
      "tensor(0.3406, device='cuda:1', grad_fn=<NllLoss2DBackward>)\n",
      "tensor(286.2010, device='cuda:1', grad_fn=<AddBackward0>)\n",
      "Best loss: 286.2284851074219, Loss: 286.2010192871094\n",
      "epoch: 325 | loss: 0.19208122099806\n"
     ]
    },
    {
     "name": "stderr",
     "output_type": "stream",
     "text": [
      "0.197: 100%|██████████████████████████████████████████████████████████████████████████████████████████████████████████████████████| 1490/1490 [00:34<00:00, 42.79it/s]\n"
     ]
    },
    {
     "name": "stdout",
     "output_type": "stream",
     "text": [
      "tensor(0.1974, device='cuda:1', grad_fn=<NllLoss2DBackward>)\n",
      "tensor(285.5729, device='cuda:1', grad_fn=<AddBackward0>)\n",
      "Best loss: 286.2010192871094, Loss: 285.57293701171875\n",
      "epoch: 326 | loss: 0.1916596892696099\n"
     ]
    },
    {
     "name": "stderr",
     "output_type": "stream",
     "text": [
      "0.102: 100%|██████████████████████████████████████████████████████████████████████████████████████████████████████████████████████| 1490/1490 [00:36<00:00, 40.84it/s]\n"
     ]
    },
    {
     "name": "stdout",
     "output_type": "stream",
     "text": [
      "tensor(0.1018, device='cuda:1', grad_fn=<NllLoss2DBackward>)\n",
      "tensor(285.0146, device='cuda:1', grad_fn=<AddBackward0>)\n",
      "Best loss: 285.57293701171875, Loss: 285.0145568847656\n",
      "epoch: 327 | loss: 0.19128493750655412\n"
     ]
    },
    {
     "name": "stderr",
     "output_type": "stream",
     "text": [
      "0.188: 100%|██████████████████████████████████████████████████████████████████████████████████████████████████████████████████████| 1490/1490 [00:35<00:00, 42.02it/s]\n"
     ]
    },
    {
     "name": "stdout",
     "output_type": "stream",
     "text": [
      "tensor(0.1881, device='cuda:1', grad_fn=<NllLoss2DBackward>)\n",
      "tensor(284.8773, device='cuda:1', grad_fn=<AddBackward0>)\n",
      "Best loss: 285.0145568847656, Loss: 284.8773193359375\n",
      "epoch: 328 | loss: 0.19119283176908558\n"
     ]
    },
    {
     "name": "stderr",
     "output_type": "stream",
     "text": [
      "0.204: 100%|██████████████████████████████████████████████████████████████████████████████████████████████████████████████████████| 1490/1490 [00:35<00:00, 41.92it/s]\n"
     ]
    },
    {
     "name": "stdout",
     "output_type": "stream",
     "text": [
      "tensor(0.2036, device='cuda:1', grad_fn=<NllLoss2DBackward>)\n",
      "tensor(285.0692, device='cuda:1', grad_fn=<AddBackward0>)\n",
      "epoch: 329 | loss: 0.19132157908190017\n"
     ]
    },
    {
     "name": "stderr",
     "output_type": "stream",
     "text": [
      "0.128: 100%|██████████████████████████████████████████████████████████████████████████████████████████████████████████████████████| 1490/1490 [00:34<00:00, 42.89it/s]\n"
     ]
    },
    {
     "name": "stdout",
     "output_type": "stream",
     "text": [
      "tensor(0.1275, device='cuda:1', grad_fn=<NllLoss2DBackward>)\n",
      "tensor(284.4564, device='cuda:1', grad_fn=<AddBackward0>)\n",
      "Best loss: 284.8773193359375, Loss: 284.45635986328125\n",
      "epoch: 330 | loss: 0.19091030863307468\n"
     ]
    },
    {
     "name": "stderr",
     "output_type": "stream",
     "text": [
      "0.176: 100%|██████████████████████████████████████████████████████████████████████████████████████████████████████████████████████| 1490/1490 [00:34<00:00, 43.11it/s]\n"
     ]
    },
    {
     "name": "stdout",
     "output_type": "stream",
     "text": [
      "tensor(0.1759, device='cuda:1', grad_fn=<NllLoss2DBackward>)\n",
      "tensor(284.2422, device='cuda:1', grad_fn=<AddBackward0>)\n",
      "Best loss: 284.45635986328125, Loss: 284.2421875\n",
      "epoch: 331 | loss: 0.1907665687919463\n"
     ]
    },
    {
     "name": "stderr",
     "output_type": "stream",
     "text": [
      "0.349: 100%|██████████████████████████████████████████████████████████████████████████████████████████████████████████████████████| 1490/1490 [00:34<00:00, 42.62it/s]\n"
     ]
    },
    {
     "name": "stdout",
     "output_type": "stream",
     "text": [
      "tensor(0.3491, device='cuda:1', grad_fn=<NllLoss2DBackward>)\n",
      "tensor(283.6286, device='cuda:1', grad_fn=<AddBackward0>)\n",
      "Best loss: 284.2421875, Loss: 283.62860107421875\n",
      "epoch: 332 | loss: 0.19035476582162333\n"
     ]
    },
    {
     "name": "stderr",
     "output_type": "stream",
     "text": [
      "0.124: 100%|██████████████████████████████████████████████████████████████████████████████████████████████████████████████████████| 1490/1490 [00:35<00:00, 42.08it/s]\n"
     ]
    },
    {
     "name": "stdout",
     "output_type": "stream",
     "text": [
      "tensor(0.1241, device='cuda:1', grad_fn=<NllLoss2DBackward>)\n",
      "tensor(284.3495, device='cuda:1', grad_fn=<AddBackward0>)\n",
      "epoch: 333 | loss: 0.19083860256527893\n"
     ]
    },
    {
     "name": "stderr",
     "output_type": "stream",
     "text": [
      "0.134: 100%|██████████████████████████████████████████████████████████████████████████████████████████████████████████████████████| 1490/1490 [00:35<00:00, 41.71it/s]\n"
     ]
    },
    {
     "name": "stdout",
     "output_type": "stream",
     "text": [
      "tensor(0.1343, device='cuda:1', grad_fn=<NllLoss2DBackward>)\n",
      "tensor(282.1307, device='cuda:1', grad_fn=<AddBackward0>)\n",
      "Best loss: 283.62860107421875, Loss: 282.13067626953125\n",
      "epoch: 334 | loss: 0.18934944716075922\n"
     ]
    },
    {
     "name": "stderr",
     "output_type": "stream",
     "text": [
      "0.143: 100%|██████████████████████████████████████████████████████████████████████████████████████████████████████████████████████| 1490/1490 [00:35<00:00, 42.30it/s]\n"
     ]
    },
    {
     "name": "stdout",
     "output_type": "stream",
     "text": [
      "tensor(0.1433, device='cuda:1', grad_fn=<NllLoss2DBackward>)\n",
      "tensor(282.9103, device='cuda:1', grad_fn=<AddBackward0>)\n",
      "epoch: 335 | loss: 0.18987271097682468\n"
     ]
    },
    {
     "name": "stderr",
     "output_type": "stream",
     "text": [
      "0.131: 100%|██████████████████████████████████████████████████████████████████████████████████████████████████████████████████████| 1490/1490 [00:36<00:00, 40.85it/s]\n"
     ]
    },
    {
     "name": "stdout",
     "output_type": "stream",
     "text": [
      "tensor(0.1315, device='cuda:1', grad_fn=<NllLoss2DBackward>)\n",
      "tensor(281.5424, device='cuda:1', grad_fn=<AddBackward0>)\n",
      "Best loss: 282.13067626953125, Loss: 281.5424499511719\n",
      "epoch: 336 | loss: 0.18895466439675965\n"
     ]
    },
    {
     "name": "stderr",
     "output_type": "stream",
     "text": [
      "0.128: 100%|██████████████████████████████████████████████████████████████████████████████████████████████████████████████████████| 1490/1490 [00:35<00:00, 41.63it/s]\n"
     ]
    },
    {
     "name": "stdout",
     "output_type": "stream",
     "text": [
      "tensor(0.1281, device='cuda:1', grad_fn=<NllLoss2DBackward>)\n",
      "tensor(281.8511, device='cuda:1', grad_fn=<AddBackward0>)\n",
      "epoch: 337 | loss: 0.18916183574087667\n"
     ]
    },
    {
     "name": "stderr",
     "output_type": "stream",
     "text": [
      "0.143: 100%|██████████████████████████████████████████████████████████████████████████████████████████████████████████████████████| 1490/1490 [00:35<00:00, 42.57it/s]\n"
     ]
    },
    {
     "name": "stdout",
     "output_type": "stream",
     "text": [
      "tensor(0.1425, device='cuda:1', grad_fn=<NllLoss2DBackward>)\n",
      "tensor(282.1371, device='cuda:1', grad_fn=<AddBackward0>)\n",
      "epoch: 338 | loss: 0.18935376877752727\n"
     ]
    },
    {
     "name": "stderr",
     "output_type": "stream",
     "text": [
      "0.253: 100%|██████████████████████████████████████████████████████████████████████████████████████████████████████████████████████| 1490/1490 [00:33<00:00, 43.92it/s]\n"
     ]
    },
    {
     "name": "stdout",
     "output_type": "stream",
     "text": [
      "tensor(0.2530, device='cuda:1', grad_fn=<NllLoss2DBackward>)\n",
      "tensor(280.5321, device='cuda:1', grad_fn=<AddBackward0>)\n",
      "Best loss: 281.5424499511719, Loss: 280.5321350097656\n",
      "epoch: 339 | loss: 0.18827660067769506\n"
     ]
    },
    {
     "name": "stderr",
     "output_type": "stream",
     "text": [
      "0.197: 100%|██████████████████████████████████████████████████████████████████████████████████████████████████████████████████████| 1490/1490 [00:33<00:00, 44.84it/s]\n"
     ]
    },
    {
     "name": "stdout",
     "output_type": "stream",
     "text": [
      "tensor(0.1975, device='cuda:1', grad_fn=<NllLoss2DBackward>)\n",
      "tensor(280.3058, device='cuda:1', grad_fn=<AddBackward0>)\n",
      "Best loss: 280.5321350097656, Loss: 280.30584716796875\n",
      "epoch: 340 | loss: 0.18812472964293206\n"
     ]
    },
    {
     "name": "stderr",
     "output_type": "stream",
     "text": [
      "0.109: 100%|██████████████████████████████████████████████████████████████████████████████████████████████████████████████████████| 1490/1490 [00:35<00:00, 41.91it/s]\n"
     ]
    },
    {
     "name": "stdout",
     "output_type": "stream",
     "text": [
      "tensor(0.1087, device='cuda:1', grad_fn=<NllLoss2DBackward>)\n",
      "tensor(280.6924, device='cuda:1', grad_fn=<AddBackward0>)\n",
      "epoch: 341 | loss: 0.18838417002018665\n"
     ]
    },
    {
     "name": "stderr",
     "output_type": "stream",
     "text": [
      "0.139: 100%|██████████████████████████████████████████████████████████████████████████████████████████████████████████████████████| 1490/1490 [00:34<00:00, 43.82it/s]\n"
     ]
    },
    {
     "name": "stdout",
     "output_type": "stream",
     "text": [
      "tensor(0.1395, device='cuda:1', grad_fn=<NllLoss2DBackward>)\n",
      "tensor(279.8615, device='cuda:1', grad_fn=<AddBackward0>)\n",
      "Best loss: 280.30584716796875, Loss: 279.8614807128906\n",
      "epoch: 342 | loss: 0.18782649712274538\n"
     ]
    },
    {
     "name": "stderr",
     "output_type": "stream",
     "text": [
      "0.116: 100%|██████████████████████████████████████████████████████████████████████████████████████████████████████████████████████| 1490/1490 [00:34<00:00, 43.52it/s]\n"
     ]
    },
    {
     "name": "stdout",
     "output_type": "stream",
     "text": [
      "tensor(0.1159, device='cuda:1', grad_fn=<NllLoss2DBackward>)\n",
      "tensor(280.1606, device='cuda:1', grad_fn=<AddBackward0>)\n",
      "epoch: 343 | loss: 0.18802721676410444\n"
     ]
    },
    {
     "name": "stderr",
     "output_type": "stream",
     "text": [
      "0.186: 100%|██████████████████████████████████████████████████████████████████████████████████████████████████████████████████████| 1490/1490 [00:34<00:00, 43.78it/s]\n"
     ]
    },
    {
     "name": "stdout",
     "output_type": "stream",
     "text": [
      "tensor(0.1859, device='cuda:1', grad_fn=<NllLoss2DBackward>)\n",
      "tensor(279.3718, device='cuda:1', grad_fn=<AddBackward0>)\n",
      "Best loss: 279.8614807128906, Loss: 279.37176513671875\n",
      "epoch: 344 | loss: 0.18749782895081796\n"
     ]
    },
    {
     "name": "stderr",
     "output_type": "stream",
     "text": [
      "0.164: 100%|██████████████████████████████████████████████████████████████████████████████████████████████████████████████████████| 1490/1490 [00:34<00:00, 42.74it/s]\n"
     ]
    },
    {
     "name": "stdout",
     "output_type": "stream",
     "text": [
      "tensor(0.1641, device='cuda:1', grad_fn=<NllLoss2DBackward>)\n",
      "tensor(279.9563, device='cuda:1', grad_fn=<AddBackward0>)\n",
      "epoch: 345 | loss: 0.18789013344169464\n"
     ]
    },
    {
     "name": "stderr",
     "output_type": "stream",
     "text": [
      "0.184: 100%|██████████████████████████████████████████████████████████████████████████████████████████████████████████████████████| 1490/1490 [00:35<00:00, 42.44it/s]\n"
     ]
    },
    {
     "name": "stdout",
     "output_type": "stream",
     "text": [
      "tensor(0.1837, device='cuda:1', grad_fn=<NllLoss2DBackward>)\n",
      "tensor(278.8236, device='cuda:1', grad_fn=<AddBackward0>)\n",
      "Best loss: 279.37176513671875, Loss: 278.8235778808594\n",
      "epoch: 346 | loss: 0.18712991804084522\n"
     ]
    },
    {
     "name": "stderr",
     "output_type": "stream",
     "text": [
      "0.162: 100%|██████████████████████████████████████████████████████████████████████████████████████████████████████████████████████| 1490/1490 [00:34<00:00, 43.61it/s]\n"
     ]
    },
    {
     "name": "stdout",
     "output_type": "stream",
     "text": [
      "tensor(0.1616, device='cuda:1', grad_fn=<NllLoss2DBackward>)\n",
      "tensor(278.8724, device='cuda:1', grad_fn=<AddBackward0>)\n",
      "epoch: 347 | loss: 0.18716266811294044\n"
     ]
    },
    {
     "name": "stderr",
     "output_type": "stream",
     "text": [
      "0.258: 100%|██████████████████████████████████████████████████████████████████████████████████████████████████████████████████████| 1490/1490 [00:34<00:00, 43.16it/s]\n"
     ]
    },
    {
     "name": "stdout",
     "output_type": "stream",
     "text": [
      "tensor(0.2580, device='cuda:1', grad_fn=<NllLoss2DBackward>)\n",
      "tensor(279.2378, device='cuda:1', grad_fn=<AddBackward0>)\n",
      "epoch: 348 | loss: 0.18740791474412752\n"
     ]
    },
    {
     "name": "stderr",
     "output_type": "stream",
     "text": [
      "0.249: 100%|██████████████████████████████████████████████████████████████████████████████████████████████████████████████████████| 1490/1490 [00:35<00:00, 41.73it/s]\n"
     ]
    },
    {
     "name": "stdout",
     "output_type": "stream",
     "text": [
      "tensor(0.2486, device='cuda:1', grad_fn=<NllLoss2DBackward>)\n",
      "tensor(278.2955, device='cuda:1', grad_fn=<AddBackward0>)\n",
      "Best loss: 278.8235778808594, Loss: 278.2955322265625\n",
      "epoch: 349 | loss: 0.18677552498427014\n"
     ]
    },
    {
     "name": "stderr",
     "output_type": "stream",
     "text": [
      "0.201: 100%|██████████████████████████████████████████████████████████████████████████████████████████████████████████████████████| 1490/1490 [00:36<00:00, 41.19it/s]\n"
     ]
    },
    {
     "name": "stdout",
     "output_type": "stream",
     "text": [
      "tensor(0.2012, device='cuda:1', grad_fn=<NllLoss2DBackward>)\n",
      "tensor(278.4127, device='cuda:1', grad_fn=<AddBackward0>)\n",
      "epoch: 350 | loss: 0.18685415383153314\n"
     ]
    },
    {
     "name": "stderr",
     "output_type": "stream",
     "text": [
      "0.255: 100%|██████████████████████████████████████████████████████████████████████████████████████████████████████████████████████| 1490/1490 [00:36<00:00, 40.46it/s]\n"
     ]
    },
    {
     "name": "stdout",
     "output_type": "stream",
     "text": [
      "tensor(0.2553, device='cuda:1', grad_fn=<NllLoss2DBackward>)\n",
      "tensor(277.2467, device='cuda:1', grad_fn=<AddBackward0>)\n",
      "Best loss: 278.2955322265625, Loss: 277.2466735839844\n",
      "epoch: 351 | loss: 0.1860715930093855\n"
     ]
    },
    {
     "name": "stderr",
     "output_type": "stream",
     "text": [
      "0.242: 100%|██████████████████████████████████████████████████████████████████████████████████████████████████████████████████████| 1490/1490 [00:35<00:00, 41.80it/s]\n"
     ]
    },
    {
     "name": "stdout",
     "output_type": "stream",
     "text": [
      "tensor(0.2421, device='cuda:1', grad_fn=<NllLoss2DBackward>)\n",
      "tensor(277.3562, device='cuda:1', grad_fn=<AddBackward0>)\n",
      "epoch: 352 | loss: 0.18614508097603816\n"
     ]
    },
    {
     "name": "stderr",
     "output_type": "stream",
     "text": [
      "0.141: 100%|██████████████████████████████████████████████████████████████████████████████████████████████████████████████████████| 1490/1490 [00:35<00:00, 41.81it/s]\n"
     ]
    },
    {
     "name": "stdout",
     "output_type": "stream",
     "text": [
      "tensor(0.1415, device='cuda:1', grad_fn=<NllLoss2DBackward>)\n",
      "tensor(277.0052, device='cuda:1', grad_fn=<AddBackward0>)\n",
      "Best loss: 277.2466735839844, Loss: 277.0052490234375\n",
      "epoch: 353 | loss: 0.18590956310297818\n"
     ]
    },
    {
     "name": "stderr",
     "output_type": "stream",
     "text": [
      "0.178: 100%|██████████████████████████████████████████████████████████████████████████████████████████████████████████████████████| 1490/1490 [00:36<00:00, 41.24it/s]\n"
     ]
    },
    {
     "name": "stdout",
     "output_type": "stream",
     "text": [
      "tensor(0.1779, device='cuda:1', grad_fn=<NllLoss2DBackward>)\n",
      "tensor(277.1627, device='cuda:1', grad_fn=<AddBackward0>)\n",
      "epoch: 354 | loss: 0.18601524813863254\n"
     ]
    },
    {
     "name": "stderr",
     "output_type": "stream",
     "text": [
      "0.222: 100%|██████████████████████████████████████████████████████████████████████████████████████████████████████████████████████| 1490/1490 [00:36<00:00, 40.85it/s]\n"
     ]
    },
    {
     "name": "stdout",
     "output_type": "stream",
     "text": [
      "tensor(0.2223, device='cuda:1', grad_fn=<NllLoss2DBackward>)\n",
      "tensor(275.8138, device='cuda:1', grad_fn=<AddBackward0>)\n",
      "Best loss: 277.0052490234375, Loss: 275.8138122558594\n",
      "epoch: 355 | loss: 0.185109941111315\n"
     ]
    },
    {
     "name": "stderr",
     "output_type": "stream",
     "text": [
      "0.084: 100%|██████████████████████████████████████████████████████████████████████████████████████████████████████████████████████| 1490/1490 [00:34<00:00, 43.01it/s]\n"
     ]
    },
    {
     "name": "stdout",
     "output_type": "stream",
     "text": [
      "tensor(0.0840, device='cuda:1', grad_fn=<NllLoss2DBackward>)\n",
      "tensor(275.7405, device='cuda:1', grad_fn=<AddBackward0>)\n",
      "Best loss: 275.8138122558594, Loss: 275.7405090332031\n",
      "epoch: 356 | loss: 0.18506074431758598\n"
     ]
    },
    {
     "name": "stderr",
     "output_type": "stream",
     "text": [
      "0.165: 100%|██████████████████████████████████████████████████████████████████████████████████████████████████████████████████████| 1490/1490 [00:35<00:00, 42.42it/s]\n"
     ]
    },
    {
     "name": "stdout",
     "output_type": "stream",
     "text": [
      "tensor(0.1647, device='cuda:1', grad_fn=<NllLoss2DBackward>)\n",
      "tensor(275.2340, device='cuda:1', grad_fn=<AddBackward0>)\n",
      "Best loss: 275.7405090332031, Loss: 275.2339782714844\n",
      "epoch: 357 | loss: 0.18472079078623113\n"
     ]
    },
    {
     "name": "stderr",
     "output_type": "stream",
     "text": [
      "0.114: 100%|██████████████████████████████████████████████████████████████████████████████████████████████████████████████████████| 1490/1490 [00:33<00:00, 44.51it/s]\n"
     ]
    },
    {
     "name": "stdout",
     "output_type": "stream",
     "text": [
      "tensor(0.1141, device='cuda:1', grad_fn=<NllLoss2DBackward>)\n",
      "tensor(274.9298, device='cuda:1', grad_fn=<AddBackward0>)\n",
      "Best loss: 275.2339782714844, Loss: 274.9298400878906\n",
      "epoch: 358 | loss: 0.1845166711999266\n"
     ]
    },
    {
     "name": "stderr",
     "output_type": "stream",
     "text": [
      "0.153: 100%|██████████████████████████████████████████████████████████████████████████████████████████████████████████████████████| 1490/1490 [00:34<00:00, 42.82it/s]\n"
     ]
    },
    {
     "name": "stdout",
     "output_type": "stream",
     "text": [
      "tensor(0.1531, device='cuda:1', grad_fn=<NllLoss2DBackward>)\n",
      "tensor(275.7076, device='cuda:1', grad_fn=<AddBackward0>)\n",
      "epoch: 359 | loss: 0.18503862419384437\n"
     ]
    },
    {
     "name": "stderr",
     "output_type": "stream",
     "text": [
      "0.139: 100%|██████████████████████████████████████████████████████████████████████████████████████████████████████████████████████| 1490/1490 [00:34<00:00, 43.61it/s]\n"
     ]
    },
    {
     "name": "stdout",
     "output_type": "stream",
     "text": [
      "tensor(0.1395, device='cuda:1', grad_fn=<NllLoss2DBackward>)\n",
      "tensor(274.6716, device='cuda:1', grad_fn=<AddBackward0>)\n",
      "Best loss: 274.9298400878906, Loss: 274.67156982421875\n",
      "epoch: 360 | loss: 0.18434333545249582\n"
     ]
    },
    {
     "name": "stderr",
     "output_type": "stream",
     "text": [
      "0.214: 100%|██████████████████████████████████████████████████████████████████████████████████████████████████████████████████████| 1490/1490 [00:33<00:00, 44.46it/s]\n"
     ]
    },
    {
     "name": "stdout",
     "output_type": "stream",
     "text": [
      "tensor(0.2139, device='cuda:1', grad_fn=<NllLoss2DBackward>)\n",
      "tensor(274.4184, device='cuda:1', grad_fn=<AddBackward0>)\n",
      "Best loss: 274.67156982421875, Loss: 274.4184265136719\n",
      "epoch: 361 | loss: 0.1841734406132026\n"
     ]
    },
    {
     "name": "stderr",
     "output_type": "stream",
     "text": [
      "0.135: 100%|██████████████████████████████████████████████████████████████████████████████████████████████████████████████████████| 1490/1490 [00:36<00:00, 40.69it/s]\n"
     ]
    },
    {
     "name": "stdout",
     "output_type": "stream",
     "text": [
      "tensor(0.1351, device='cuda:1', grad_fn=<NllLoss2DBackward>)\n",
      "tensor(273.9282, device='cuda:1', grad_fn=<AddBackward0>)\n",
      "Best loss: 274.4184265136719, Loss: 273.9281921386719\n",
      "epoch: 362 | loss: 0.18384442425414219\n"
     ]
    },
    {
     "name": "stderr",
     "output_type": "stream",
     "text": [
      "0.164: 100%|██████████████████████████████████████████████████████████████████████████████████████████████████████████████████████| 1490/1490 [00:36<00:00, 40.62it/s]\n"
     ]
    },
    {
     "name": "stdout",
     "output_type": "stream",
     "text": [
      "tensor(0.1639, device='cuda:1', grad_fn=<NllLoss2DBackward>)\n",
      "tensor(273.2120, device='cuda:1', grad_fn=<AddBackward0>)\n",
      "Best loss: 273.9281921386719, Loss: 273.2120361328125\n",
      "epoch: 363 | loss: 0.18336378263947148\n"
     ]
    },
    {
     "name": "stderr",
     "output_type": "stream",
     "text": [
      "0.227: 100%|██████████████████████████████████████████████████████████████████████████████████████████████████████████████████████| 1490/1490 [00:35<00:00, 41.54it/s]\n"
     ]
    },
    {
     "name": "stdout",
     "output_type": "stream",
     "text": [
      "tensor(0.2269, device='cuda:1', grad_fn=<NllLoss2DBackward>)\n",
      "tensor(273.5389, device='cuda:1', grad_fn=<AddBackward0>)\n",
      "epoch: 364 | loss: 0.18358318149643457\n"
     ]
    },
    {
     "name": "stderr",
     "output_type": "stream",
     "text": [
      "0.188: 100%|██████████████████████████████████████████████████████████████████████████████████████████████████████████████████████| 1490/1490 [00:36<00:00, 40.51it/s]\n"
     ]
    },
    {
     "name": "stdout",
     "output_type": "stream",
     "text": [
      "tensor(0.1877, device='cuda:1', grad_fn=<NllLoss2DBackward>)\n",
      "tensor(273.3307, device='cuda:1', grad_fn=<AddBackward0>)\n",
      "epoch: 365 | loss: 0.18344339460334522\n"
     ]
    },
    {
     "name": "stderr",
     "output_type": "stream",
     "text": [
      "0.093: 100%|██████████████████████████████████████████████████████████████████████████████████████████████████████████████████████| 1490/1490 [00:35<00:00, 41.67it/s]\n"
     ]
    },
    {
     "name": "stdout",
     "output_type": "stream",
     "text": [
      "tensor(0.0931, device='cuda:1', grad_fn=<NllLoss2DBackward>)\n",
      "tensor(272.7787, device='cuda:1', grad_fn=<AddBackward0>)\n",
      "Best loss: 273.2120361328125, Loss: 272.7786865234375\n",
      "epoch: 366 | loss: 0.18307294397546142\n"
     ]
    },
    {
     "name": "stderr",
     "output_type": "stream",
     "text": [
      "0.255: 100%|██████████████████████████████████████████████████████████████████████████████████████████████████████████████████████| 1490/1490 [00:35<00:00, 42.06it/s]\n"
     ]
    },
    {
     "name": "stdout",
     "output_type": "stream",
     "text": [
      "tensor(0.2552, device='cuda:1', grad_fn=<NllLoss2DBackward>)\n",
      "tensor(272.0395, device='cuda:1', grad_fn=<AddBackward0>)\n",
      "Best loss: 272.7786865234375, Loss: 272.0395202636719\n",
      "epoch: 367 | loss: 0.18257685923736366\n"
     ]
    },
    {
     "name": "stderr",
     "output_type": "stream",
     "text": [
      "0.177: 100%|██████████████████████████████████████████████████████████████████████████████████████████████████████████████████████| 1490/1490 [00:35<00:00, 42.01it/s]\n"
     ]
    },
    {
     "name": "stdout",
     "output_type": "stream",
     "text": [
      "tensor(0.1775, device='cuda:1', grad_fn=<NllLoss2DBackward>)\n",
      "tensor(273.0732, device='cuda:1', grad_fn=<AddBackward0>)\n",
      "epoch: 368 | loss: 0.18327059137741192\n"
     ]
    },
    {
     "name": "stderr",
     "output_type": "stream",
     "text": [
      "0.198: 100%|██████████████████████████████████████████████████████████████████████████████████████████████████████████████████████| 1490/1490 [00:34<00:00, 43.45it/s]\n"
     ]
    },
    {
     "name": "stdout",
     "output_type": "stream",
     "text": [
      "tensor(0.1983, device='cuda:1', grad_fn=<NllLoss2DBackward>)\n",
      "tensor(272.4178, device='cuda:1', grad_fn=<AddBackward0>)\n",
      "epoch: 369 | loss: 0.18283072862049077\n"
     ]
    },
    {
     "name": "stderr",
     "output_type": "stream",
     "text": [
      "0.318: 100%|██████████████████████████████████████████████████████████████████████████████████████████████████████████████████████| 1490/1490 [00:35<00:00, 41.95it/s]\n"
     ]
    },
    {
     "name": "stdout",
     "output_type": "stream",
     "text": [
      "tensor(0.3181, device='cuda:1', grad_fn=<NllLoss2DBackward>)\n",
      "tensor(271.3831, device='cuda:1', grad_fn=<AddBackward0>)\n",
      "Best loss: 272.0395202636719, Loss: 271.383056640625\n",
      "epoch: 370 | loss: 0.18213627962458054\n"
     ]
    },
    {
     "name": "stderr",
     "output_type": "stream",
     "text": [
      "0.141: 100%|██████████████████████████████████████████████████████████████████████████████████████████████████████████████████████| 1490/1490 [00:37<00:00, 40.14it/s]\n"
     ]
    },
    {
     "name": "stdout",
     "output_type": "stream",
     "text": [
      "tensor(0.1414, device='cuda:1', grad_fn=<NllLoss2DBackward>)\n",
      "tensor(271.8810, device='cuda:1', grad_fn=<AddBackward0>)\n",
      "epoch: 371 | loss: 0.18247045734584733\n"
     ]
    },
    {
     "name": "stderr",
     "output_type": "stream",
     "text": [
      "0.318: 100%|██████████████████████████████████████████████████████████████████████████████████████████████████████████████████████| 1490/1490 [00:35<00:00, 42.44it/s]\n"
     ]
    },
    {
     "name": "stdout",
     "output_type": "stream",
     "text": [
      "tensor(0.3176, device='cuda:1', grad_fn=<NllLoss2DBackward>)\n",
      "tensor(271.6893, device='cuda:1', grad_fn=<AddBackward0>)\n",
      "epoch: 372 | loss: 0.18234179195941694\n"
     ]
    },
    {
     "name": "stderr",
     "output_type": "stream",
     "text": [
      "0.254: 100%|██████████████████████████████████████████████████████████████████████████████████████████████████████████████████████| 1490/1490 [00:36<00:00, 40.54it/s]\n"
     ]
    },
    {
     "name": "stdout",
     "output_type": "stream",
     "text": [
      "tensor(0.2541, device='cuda:1', grad_fn=<NllLoss2DBackward>)\n",
      "tensor(271.0831, device='cuda:1', grad_fn=<AddBackward0>)\n",
      "Best loss: 271.383056640625, Loss: 271.0830993652344\n",
      "epoch: 373 | loss: 0.18193496601693582\n"
     ]
    },
    {
     "name": "stderr",
     "output_type": "stream",
     "text": [
      "0.160: 100%|██████████████████████████████████████████████████████████████████████████████████████████████████████████████████████| 1490/1490 [00:35<00:00, 42.45it/s]\n"
     ]
    },
    {
     "name": "stdout",
     "output_type": "stream",
     "text": [
      "tensor(0.1600, device='cuda:1', grad_fn=<NllLoss2DBackward>)\n",
      "tensor(270.3471, device='cuda:1', grad_fn=<AddBackward0>)\n",
      "Best loss: 271.0830993652344, Loss: 270.34710693359375\n",
      "epoch: 374 | loss: 0.18144101136482801\n"
     ]
    },
    {
     "name": "stderr",
     "output_type": "stream",
     "text": [
      "0.091: 100%|██████████████████████████████████████████████████████████████████████████████████████████████████████████████████████| 1490/1490 [00:35<00:00, 41.80it/s]\n"
     ]
    },
    {
     "name": "stdout",
     "output_type": "stream",
     "text": [
      "tensor(0.0914, device='cuda:1', grad_fn=<NllLoss2DBackward>)\n",
      "tensor(270.0490, device='cuda:1', grad_fn=<AddBackward0>)\n",
      "Best loss: 270.34710693359375, Loss: 270.0490417480469\n",
      "epoch: 375 | loss: 0.18124096761613884\n"
     ]
    },
    {
     "name": "stderr",
     "output_type": "stream",
     "text": [
      "0.197: 100%|██████████████████████████████████████████████████████████████████████████████████████████████████████████████████████| 1490/1490 [00:41<00:00, 36.33it/s]\n"
     ]
    },
    {
     "name": "stdout",
     "output_type": "stream",
     "text": [
      "tensor(0.1968, device='cuda:1', grad_fn=<NllLoss2DBackward>)\n",
      "tensor(270.2032, device='cuda:1', grad_fn=<AddBackward0>)\n",
      "epoch: 376 | loss: 0.18134442015782298\n"
     ]
    },
    {
     "name": "stderr",
     "output_type": "stream",
     "text": [
      "0.106: 100%|██████████████████████████████████████████████████████████████████████████████████████████████████████████████████████| 1490/1490 [00:36<00:00, 40.49it/s]\n"
     ]
    },
    {
     "name": "stdout",
     "output_type": "stream",
     "text": [
      "tensor(0.1056, device='cuda:1', grad_fn=<NllLoss2DBackward>)\n",
      "tensor(270.4029, device='cuda:1', grad_fn=<AddBackward0>)\n",
      "epoch: 377 | loss: 0.18147843124082425\n"
     ]
    },
    {
     "name": "stderr",
     "output_type": "stream",
     "text": [
      "0.208: 100%|██████████████████████████████████████████████████████████████████████████████████████████████████████████████████████| 1490/1490 [00:35<00:00, 41.44it/s]\n"
     ]
    },
    {
     "name": "stdout",
     "output_type": "stream",
     "text": [
      "tensor(0.2080, device='cuda:1', grad_fn=<NllLoss2DBackward>)\n",
      "tensor(270.1947, device='cuda:1', grad_fn=<AddBackward0>)\n",
      "epoch: 378 | loss: 0.18133870579252306\n"
     ]
    },
    {
     "name": "stderr",
     "output_type": "stream",
     "text": [
      "0.205: 100%|██████████████████████████████████████████████████████████████████████████████████████████████████████████████████████| 1490/1490 [00:35<00:00, 41.66it/s]\n"
     ]
    },
    {
     "name": "stdout",
     "output_type": "stream",
     "text": [
      "tensor(0.2055, device='cuda:1', grad_fn=<NllLoss2DBackward>)\n",
      "tensor(269.1547, device='cuda:1', grad_fn=<AddBackward0>)\n",
      "Best loss: 270.0490417480469, Loss: 269.15472412109375\n",
      "epoch: 379 | loss: 0.18064075444368707\n"
     ]
    },
    {
     "name": "stderr",
     "output_type": "stream",
     "text": [
      "0.200: 100%|██████████████████████████████████████████████████████████████████████████████████████████████████████████████████████| 1490/1490 [00:34<00:00, 42.58it/s]\n"
     ]
    },
    {
     "name": "stdout",
     "output_type": "stream",
     "text": [
      "tensor(0.1999, device='cuda:1', grad_fn=<NllLoss2DBackward>)\n",
      "tensor(269.2159, device='cuda:1', grad_fn=<AddBackward0>)\n",
      "epoch: 380 | loss: 0.1806817995621854\n"
     ]
    },
    {
     "name": "stderr",
     "output_type": "stream",
     "text": [
      "0.075: 100%|██████████████████████████████████████████████████████████████████████████████████████████████████████████████████████| 1490/1490 [00:35<00:00, 41.56it/s]\n"
     ]
    },
    {
     "name": "stdout",
     "output_type": "stream",
     "text": [
      "tensor(0.0752, device='cuda:1', grad_fn=<NllLoss2DBackward>)\n",
      "tensor(268.7551, device='cuda:1', grad_fn=<AddBackward0>)\n",
      "Best loss: 269.15472412109375, Loss: 268.7550964355469\n",
      "epoch: 381 | loss: 0.18037254794332006\n"
     ]
    },
    {
     "name": "stderr",
     "output_type": "stream",
     "text": [
      "0.244: 100%|██████████████████████████████████████████████████████████████████████████████████████████████████████████████████████| 1490/1490 [00:34<00:00, 42.72it/s]\n"
     ]
    },
    {
     "name": "stdout",
     "output_type": "stream",
     "text": [
      "tensor(0.2440, device='cuda:1', grad_fn=<NllLoss2DBackward>)\n",
      "tensor(269.1461, device='cuda:1', grad_fn=<AddBackward0>)\n",
      "epoch: 382 | loss: 0.18063497863359898\n"
     ]
    },
    {
     "name": "stderr",
     "output_type": "stream",
     "text": [
      "0.061: 100%|██████████████████████████████████████████████████████████████████████████████████████████████████████████████████████| 1490/1490 [00:35<00:00, 41.74it/s]\n"
     ]
    },
    {
     "name": "stdout",
     "output_type": "stream",
     "text": [
      "tensor(0.0609, device='cuda:1', grad_fn=<NllLoss2DBackward>)\n",
      "tensor(268.4574, device='cuda:1', grad_fn=<AddBackward0>)\n",
      "Best loss: 268.7550964355469, Loss: 268.4574279785156\n",
      "epoch: 383 | loss: 0.1801727704553796\n"
     ]
    },
    {
     "name": "stderr",
     "output_type": "stream",
     "text": [
      "0.201: 100%|██████████████████████████████████████████████████████████████████████████████████████████████████████████████████████| 1490/1490 [00:35<00:00, 41.55it/s]\n"
     ]
    },
    {
     "name": "stdout",
     "output_type": "stream",
     "text": [
      "tensor(0.2007, device='cuda:1', grad_fn=<NllLoss2DBackward>)\n",
      "tensor(268.1237, device='cuda:1', grad_fn=<AddBackward0>)\n",
      "Best loss: 268.4574279785156, Loss: 268.12371826171875\n",
      "epoch: 384 | loss: 0.17994880420249582\n"
     ]
    },
    {
     "name": "stderr",
     "output_type": "stream",
     "text": [
      "0.353: 100%|██████████████████████████████████████████████████████████████████████████████████████████████████████████████████████| 1490/1490 [00:34<00:00, 42.82it/s]\n"
     ]
    },
    {
     "name": "stdout",
     "output_type": "stream",
     "text": [
      "tensor(0.3530, device='cuda:1', grad_fn=<NllLoss2DBackward>)\n",
      "tensor(267.9952, device='cuda:1', grad_fn=<AddBackward0>)\n",
      "Best loss: 268.12371826171875, Loss: 267.9952087402344\n",
      "epoch: 385 | loss: 0.17986255620149957\n"
     ]
    },
    {
     "name": "stderr",
     "output_type": "stream",
     "text": [
      "0.065: 100%|██████████████████████████████████████████████████████████████████████████████████████████████████████████████████████| 1490/1490 [00:36<00:00, 40.43it/s]\n"
     ]
    },
    {
     "name": "stdout",
     "output_type": "stream",
     "text": [
      "tensor(0.0650, device='cuda:1', grad_fn=<NllLoss2DBackward>)\n",
      "tensor(267.9865, device='cuda:1', grad_fn=<AddBackward0>)\n",
      "Best loss: 267.9952087402344, Loss: 267.9865417480469\n",
      "epoch: 386 | loss: 0.1798567394282194\n"
     ]
    },
    {
     "name": "stderr",
     "output_type": "stream",
     "text": [
      "0.273: 100%|██████████████████████████████████████████████████████████████████████████████████████████████████████████████████████| 1490/1490 [00:35<00:00, 41.79it/s]\n"
     ]
    },
    {
     "name": "stdout",
     "output_type": "stream",
     "text": [
      "tensor(0.2732, device='cuda:1', grad_fn=<NllLoss2DBackward>)\n",
      "tensor(267.1812, device='cuda:1', grad_fn=<AddBackward0>)\n",
      "Best loss: 267.9865417480469, Loss: 267.1811828613281\n",
      "epoch: 387 | loss: 0.1793162301082739\n"
     ]
    },
    {
     "name": "stderr",
     "output_type": "stream",
     "text": [
      "0.116: 100%|██████████████████████████████████████████████████████████████████████████████████████████████████████████████████████| 1490/1490 [00:35<00:00, 42.12it/s]\n"
     ]
    },
    {
     "name": "stdout",
     "output_type": "stream",
     "text": [
      "tensor(0.1158, device='cuda:1', grad_fn=<NllLoss2DBackward>)\n",
      "tensor(266.7193, device='cuda:1', grad_fn=<AddBackward0>)\n",
      "Best loss: 267.1811828613281, Loss: 266.71929931640625\n",
      "epoch: 388 | loss: 0.1790062411519505\n"
     ]
    },
    {
     "name": "stderr",
     "output_type": "stream",
     "text": [
      "0.140: 100%|██████████████████████████████████████████████████████████████████████████████████████████████████████████████████████| 1490/1490 [00:36<00:00, 41.32it/s]\n"
     ]
    },
    {
     "name": "stdout",
     "output_type": "stream",
     "text": [
      "tensor(0.1404, device='cuda:1', grad_fn=<NllLoss2DBackward>)\n",
      "tensor(266.6057, device='cuda:1', grad_fn=<AddBackward0>)\n",
      "Best loss: 266.71929931640625, Loss: 266.60565185546875\n",
      "epoch: 389 | loss: 0.17892996768823405\n"
     ]
    },
    {
     "name": "stderr",
     "output_type": "stream",
     "text": [
      "0.139: 100%|██████████████████████████████████████████████████████████████████████████████████████████████████████████████████████| 1490/1490 [00:34<00:00, 42.74it/s]\n"
     ]
    },
    {
     "name": "stdout",
     "output_type": "stream",
     "text": [
      "tensor(0.1387, device='cuda:1', grad_fn=<NllLoss2DBackward>)\n",
      "tensor(266.6828, device='cuda:1', grad_fn=<AddBackward0>)\n",
      "epoch: 390 | loss: 0.17898176564466234\n"
     ]
    },
    {
     "name": "stderr",
     "output_type": "stream",
     "text": [
      "0.220: 100%|██████████████████████████████████████████████████████████████████████████████████████████████████████████████████████| 1490/1490 [00:33<00:00, 44.91it/s]\n"
     ]
    },
    {
     "name": "stdout",
     "output_type": "stream",
     "text": [
      "tensor(0.2204, device='cuda:1', grad_fn=<NllLoss2DBackward>)\n",
      "tensor(265.3690, device='cuda:1', grad_fn=<AddBackward0>)\n",
      "Best loss: 266.60565185546875, Loss: 265.3690490722656\n",
      "epoch: 391 | loss: 0.17810003293440646\n"
     ]
    },
    {
     "name": "stderr",
     "output_type": "stream",
     "text": [
      "0.117: 100%|██████████████████████████████████████████████████████████████████████████████████████████████████████████████████████| 1490/1490 [00:35<00:00, 41.49it/s]\n"
     ]
    },
    {
     "name": "stdout",
     "output_type": "stream",
     "text": [
      "tensor(0.1172, device='cuda:1', grad_fn=<NllLoss2DBackward>)\n",
      "tensor(266.4579, device='cuda:1', grad_fn=<AddBackward0>)\n",
      "epoch: 392 | loss: 0.1788308162817219\n"
     ]
    },
    {
     "name": "stderr",
     "output_type": "stream",
     "text": [
      "0.211: 100%|██████████████████████████████████████████████████████████████████████████████████████████████████████████████████████| 1490/1490 [00:35<00:00, 42.19it/s]\n"
     ]
    },
    {
     "name": "stdout",
     "output_type": "stream",
     "text": [
      "tensor(0.2108, device='cuda:1', grad_fn=<NllLoss2DBackward>)\n",
      "tensor(265.5277, device='cuda:1', grad_fn=<AddBackward0>)\n",
      "epoch: 393 | loss: 0.178206496270711\n"
     ]
    },
    {
     "name": "stderr",
     "output_type": "stream",
     "text": [
      "0.202: 100%|██████████████████████████████████████████████████████████████████████████████████████████████████████████████████████| 1490/1490 [00:35<00:00, 42.11it/s]\n"
     ]
    },
    {
     "name": "stdout",
     "output_type": "stream",
     "text": [
      "tensor(0.2021, device='cuda:1', grad_fn=<NllLoss2DBackward>)\n",
      "tensor(264.3235, device='cuda:1', grad_fn=<AddBackward0>)\n",
      "Best loss: 265.3690490722656, Loss: 264.32354736328125\n",
      "epoch: 394 | loss: 0.1773983539350881\n"
     ]
    },
    {
     "name": "stderr",
     "output_type": "stream",
     "text": [
      "0.169: 100%|██████████████████████████████████████████████████████████████████████████████████████████████████████████████████████| 1490/1490 [00:35<00:00, 42.27it/s]\n"
     ]
    },
    {
     "name": "stdout",
     "output_type": "stream",
     "text": [
      "tensor(0.1688, device='cuda:1', grad_fn=<NllLoss2DBackward>)\n",
      "tensor(264.4670, device='cuda:1', grad_fn=<AddBackward0>)\n",
      "epoch: 395 | loss: 0.17749465839974832\n"
     ]
    },
    {
     "name": "stderr",
     "output_type": "stream",
     "text": [
      "0.125: 100%|██████████████████████████████████████████████████████████████████████████████████████████████████████████████████████| 1490/1490 [00:35<00:00, 42.18it/s]\n"
     ]
    },
    {
     "name": "stdout",
     "output_type": "stream",
     "text": [
      "tensor(0.1254, device='cuda:1', grad_fn=<NllLoss2DBackward>)\n",
      "tensor(265.4062, device='cuda:1', grad_fn=<AddBackward0>)\n",
      "epoch: 396 | loss: 0.178125\n"
     ]
    },
    {
     "name": "stderr",
     "output_type": "stream",
     "text": [
      "0.105: 100%|██████████████████████████████████████████████████████████████████████████████████████████████████████████████████████| 1490/1490 [00:35<00:00, 41.60it/s]\n"
     ]
    },
    {
     "name": "stdout",
     "output_type": "stream",
     "text": [
      "tensor(0.1047, device='cuda:1', grad_fn=<NllLoss2DBackward>)\n",
      "tensor(264.3484, device='cuda:1', grad_fn=<AddBackward0>)\n",
      "epoch: 397 | loss: 0.17741502595427852\n"
     ]
    },
    {
     "name": "stderr",
     "output_type": "stream",
     "text": [
      "0.150: 100%|██████████████████████████████████████████████████████████████████████████████████████████████████████████████████████| 1490/1490 [00:36<00:00, 41.02it/s]\n"
     ]
    },
    {
     "name": "stdout",
     "output_type": "stream",
     "text": [
      "tensor(0.1498, device='cuda:1', grad_fn=<NllLoss2DBackward>)\n",
      "tensor(263.4676, device='cuda:1', grad_fn=<AddBackward0>)\n",
      "Best loss: 264.32354736328125, Loss: 263.4676208496094\n",
      "epoch: 398 | loss: 0.1768239066104761\n"
     ]
    },
    {
     "name": "stderr",
     "output_type": "stream",
     "text": [
      "0.194: 100%|██████████████████████████████████████████████████████████████████████████████████████████████████████████████████████| 1490/1490 [00:36<00:00, 41.31it/s]\n"
     ]
    },
    {
     "name": "stdout",
     "output_type": "stream",
     "text": [
      "tensor(0.1945, device='cuda:1', grad_fn=<NllLoss2DBackward>)\n",
      "tensor(264.2136, device='cuda:1', grad_fn=<AddBackward0>)\n",
      "epoch: 399 | loss: 0.17732455874449454\n"
     ]
    },
    {
     "name": "stderr",
     "output_type": "stream",
     "text": [
      "0.226: 100%|██████████████████████████████████████████████████████████████████████████████████████████████████████████████████████| 1490/1490 [00:35<00:00, 41.44it/s]\n"
     ]
    },
    {
     "name": "stdout",
     "output_type": "stream",
     "text": [
      "tensor(0.2257, device='cuda:1', grad_fn=<NllLoss2DBackward>)\n",
      "tensor(263.8423, device='cuda:1', grad_fn=<AddBackward0>)\n",
      "epoch: 400 | loss: 0.1770753796468645\n"
     ]
    },
    {
     "name": "stderr",
     "output_type": "stream",
     "text": [
      "0.122: 100%|██████████████████████████████████████████████████████████████████████████████████████████████████████████████████████| 1490/1490 [00:36<00:00, 40.83it/s]\n"
     ]
    },
    {
     "name": "stdout",
     "output_type": "stream",
     "text": [
      "tensor(0.1224, device='cuda:1', grad_fn=<NllLoss2DBackward>)\n",
      "tensor(263.2607, device='cuda:1', grad_fn=<AddBackward0>)\n",
      "Best loss: 263.4676208496094, Loss: 263.2606506347656\n",
      "epoch: 401 | loss: 0.1766850004260172\n"
     ]
    },
    {
     "name": "stderr",
     "output_type": "stream",
     "text": [
      "0.191: 100%|██████████████████████████████████████████████████████████████████████████████████████████████████████████████████████| 1490/1490 [00:35<00:00, 42.14it/s]\n"
     ]
    },
    {
     "name": "stdout",
     "output_type": "stream",
     "text": [
      "tensor(0.1914, device='cuda:1', grad_fn=<NllLoss2DBackward>)\n",
      "tensor(262.6902, device='cuda:1', grad_fn=<AddBackward0>)\n",
      "Best loss: 263.2606506347656, Loss: 262.6901550292969\n",
      "epoch: 402 | loss: 0.17630211746932675\n"
     ]
    },
    {
     "name": "stderr",
     "output_type": "stream",
     "text": [
      "0.201: 100%|██████████████████████████████████████████████████████████████████████████████████████████████████████████████████████| 1490/1490 [00:36<00:00, 41.04it/s]\n"
     ]
    },
    {
     "name": "stdout",
     "output_type": "stream",
     "text": [
      "tensor(0.2011, device='cuda:1', grad_fn=<NllLoss2DBackward>)\n",
      "tensor(262.5019, device='cuda:1', grad_fn=<AddBackward0>)\n",
      "Best loss: 262.6901550292969, Loss: 262.5019226074219\n",
      "epoch: 403 | loss: 0.1761757869848469\n"
     ]
    },
    {
     "name": "stderr",
     "output_type": "stream",
     "text": [
      "0.132: 100%|██████████████████████████████████████████████████████████████████████████████████████████████████████████████████████| 1490/1490 [00:34<00:00, 42.81it/s]\n"
     ]
    },
    {
     "name": "stdout",
     "output_type": "stream",
     "text": [
      "tensor(0.1319, device='cuda:1', grad_fn=<NllLoss2DBackward>)\n",
      "tensor(262.0912, device='cuda:1', grad_fn=<AddBackward0>)\n",
      "Best loss: 262.5019226074219, Loss: 262.0912170410156\n",
      "epoch: 404 | loss: 0.17590014566511117\n"
     ]
    },
    {
     "name": "stderr",
     "output_type": "stream",
     "text": [
      "0.119: 100%|██████████████████████████████████████████████████████████████████████████████████████████████████████████████████████| 1490/1490 [00:35<00:00, 42.05it/s]\n"
     ]
    },
    {
     "name": "stdout",
     "output_type": "stream",
     "text": [
      "tensor(0.1194, device='cuda:1', grad_fn=<NllLoss2DBackward>)\n",
      "tensor(262.8256, device='cuda:1', grad_fn=<AddBackward0>)\n",
      "epoch: 405 | loss: 0.1763929943110319\n"
     ]
    },
    {
     "name": "stderr",
     "output_type": "stream",
     "text": [
      "0.272: 100%|██████████████████████████████████████████████████████████████████████████████████████████████████████████████████████| 1490/1490 [00:35<00:00, 41.46it/s]\n"
     ]
    },
    {
     "name": "stdout",
     "output_type": "stream",
     "text": [
      "tensor(0.2722, device='cuda:1', grad_fn=<NllLoss2DBackward>)\n",
      "tensor(262.2290, device='cuda:1', grad_fn=<AddBackward0>)\n",
      "epoch: 406 | loss: 0.17599259958971267\n"
     ]
    },
    {
     "name": "stderr",
     "output_type": "stream",
     "text": [
      "0.246: 100%|██████████████████████████████████████████████████████████████████████████████████████████████████████████████████████| 1490/1490 [00:35<00:00, 42.38it/s]\n"
     ]
    },
    {
     "name": "stdout",
     "output_type": "stream",
     "text": [
      "tensor(0.2459, device='cuda:1', grad_fn=<NllLoss2DBackward>)\n",
      "tensor(261.9133, device='cuda:1', grad_fn=<AddBackward0>)\n",
      "Best loss: 262.0912170410156, Loss: 261.913330078125\n",
      "epoch: 407 | loss: 0.17578075844169463\n"
     ]
    },
    {
     "name": "stderr",
     "output_type": "stream",
     "text": [
      "0.136: 100%|██████████████████████████████████████████████████████████████████████████████████████████████████████████████████████| 1490/1490 [00:34<00:00, 43.41it/s]\n"
     ]
    },
    {
     "name": "stdout",
     "output_type": "stream",
     "text": [
      "tensor(0.1361, device='cuda:1', grad_fn=<NllLoss2DBackward>)\n",
      "tensor(260.9333, device='cuda:1', grad_fn=<AddBackward0>)\n",
      "Best loss: 261.913330078125, Loss: 260.93328857421875\n",
      "epoch: 408 | loss: 0.17512301246591863\n"
     ]
    },
    {
     "name": "stderr",
     "output_type": "stream",
     "text": [
      "0.239: 100%|██████████████████████████████████████████████████████████████████████████████████████████████████████████████████████| 1490/1490 [00:34<00:00, 42.65it/s]\n"
     ]
    },
    {
     "name": "stdout",
     "output_type": "stream",
     "text": [
      "tensor(0.2387, device='cuda:1', grad_fn=<NllLoss2DBackward>)\n",
      "tensor(261.2686, device='cuda:1', grad_fn=<AddBackward0>)\n",
      "epoch: 409 | loss: 0.1753480847249895\n"
     ]
    },
    {
     "name": "stderr",
     "output_type": "stream",
     "text": [
      "0.221: 100%|██████████████████████████████████████████████████████████████████████████████████████████████████████████████████████| 1490/1490 [00:34<00:00, 43.09it/s]\n"
     ]
    },
    {
     "name": "stdout",
     "output_type": "stream",
     "text": [
      "tensor(0.2213, device='cuda:1', grad_fn=<NllLoss2DBackward>)\n",
      "tensor(261.2511, device='cuda:1', grad_fn=<AddBackward0>)\n",
      "epoch: 410 | loss: 0.17533632828885276\n"
     ]
    },
    {
     "name": "stderr",
     "output_type": "stream",
     "text": [
      "0.130: 100%|██████████████████████████████████████████████████████████████████████████████████████████████████████████████████████| 1490/1490 [00:35<00:00, 41.50it/s]\n"
     ]
    },
    {
     "name": "stdout",
     "output_type": "stream",
     "text": [
      "tensor(0.1299, device='cuda:1', grad_fn=<NllLoss2DBackward>)\n",
      "tensor(260.6898, device='cuda:1', grad_fn=<AddBackward0>)\n",
      "Best loss: 260.93328857421875, Loss: 260.68975830078125\n",
      "epoch: 411 | loss: 0.1749595693293834\n"
     ]
    },
    {
     "name": "stderr",
     "output_type": "stream",
     "text": [
      "0.248: 100%|██████████████████████████████████████████████████████████████████████████████████████████████████████████████████████| 1490/1490 [00:35<00:00, 42.00it/s]\n"
     ]
    },
    {
     "name": "stdout",
     "output_type": "stream",
     "text": [
      "tensor(0.2478, device='cuda:1', grad_fn=<NllLoss2DBackward>)\n",
      "tensor(259.9459, device='cuda:1', grad_fn=<AddBackward0>)\n",
      "Best loss: 260.68975830078125, Loss: 259.9458923339844\n",
      "epoch: 412 | loss: 0.17446033042549286\n"
     ]
    },
    {
     "name": "stderr",
     "output_type": "stream",
     "text": [
      "0.136: 100%|██████████████████████████████████████████████████████████████████████████████████████████████████████████████████████| 1490/1490 [00:36<00:00, 40.43it/s]\n"
     ]
    },
    {
     "name": "stdout",
     "output_type": "stream",
     "text": [
      "tensor(0.1362, device='cuda:1', grad_fn=<NllLoss2DBackward>)\n",
      "tensor(260.1249, device='cuda:1', grad_fn=<AddBackward0>)\n",
      "epoch: 413 | loss: 0.17458045498636746\n"
     ]
    },
    {
     "name": "stderr",
     "output_type": "stream",
     "text": [
      "0.211: 100%|██████████████████████████████████████████████████████████████████████████████████████████████████████████████████████| 1490/1490 [00:37<00:00, 40.18it/s]\n"
     ]
    },
    {
     "name": "stdout",
     "output_type": "stream",
     "text": [
      "tensor(0.2109, device='cuda:1', grad_fn=<NllLoss2DBackward>)\n",
      "tensor(260.0215, device='cuda:1', grad_fn=<AddBackward0>)\n",
      "epoch: 414 | loss: 0.1745110633389262\n"
     ]
    },
    {
     "name": "stderr",
     "output_type": "stream",
     "text": [
      "0.221: 100%|██████████████████████████████████████████████████████████████████████████████████████████████████████████████████████| 1490/1490 [00:36<00:00, 40.78it/s]\n"
     ]
    },
    {
     "name": "stdout",
     "output_type": "stream",
     "text": [
      "tensor(0.2211, device='cuda:1', grad_fn=<NllLoss2DBackward>)\n",
      "tensor(260.2359, device='cuda:1', grad_fn=<AddBackward0>)\n",
      "epoch: 415 | loss: 0.17465498751441905\n"
     ]
    },
    {
     "name": "stderr",
     "output_type": "stream",
     "text": [
      "0.215: 100%|██████████████████████████████████████████████████████████████████████████████████████████████████████████████████████| 1490/1490 [00:35<00:00, 41.65it/s]\n"
     ]
    },
    {
     "name": "stdout",
     "output_type": "stream",
     "text": [
      "tensor(0.2152, device='cuda:1', grad_fn=<NllLoss2DBackward>)\n",
      "tensor(259.6002, device='cuda:1', grad_fn=<AddBackward0>)\n",
      "Best loss: 259.9458923339844, Loss: 259.60015869140625\n",
      "epoch: 416 | loss: 0.1742282944237626\n"
     ]
    },
    {
     "name": "stderr",
     "output_type": "stream",
     "text": [
      "0.165: 100%|██████████████████████████████████████████████████████████████████████████████████████████████████████████████████████| 1490/1490 [00:36<00:00, 40.48it/s]\n"
     ]
    },
    {
     "name": "stdout",
     "output_type": "stream",
     "text": [
      "tensor(0.1651, device='cuda:1', grad_fn=<NllLoss2DBackward>)\n",
      "tensor(258.5730, device='cuda:1', grad_fn=<AddBackward0>)\n",
      "Best loss: 259.60015869140625, Loss: 258.5730285644531\n",
      "epoch: 417 | loss: 0.17353894534527056\n"
     ]
    },
    {
     "name": "stderr",
     "output_type": "stream",
     "text": [
      "0.114: 100%|██████████████████████████████████████████████████████████████████████████████████████████████████████████████████████| 1490/1490 [00:35<00:00, 42.57it/s]\n"
     ]
    },
    {
     "name": "stdout",
     "output_type": "stream",
     "text": [
      "tensor(0.1139, device='cuda:1', grad_fn=<NllLoss2DBackward>)\n",
      "tensor(259.1010, device='cuda:1', grad_fn=<AddBackward0>)\n",
      "epoch: 418 | loss: 0.17389325647546142\n"
     ]
    },
    {
     "name": "stderr",
     "output_type": "stream",
     "text": [
      "0.139: 100%|██████████████████████████████████████████████████████████████████████████████████████████████████████████████████████| 1490/1490 [00:36<00:00, 41.35it/s]\n"
     ]
    },
    {
     "name": "stdout",
     "output_type": "stream",
     "text": [
      "tensor(0.1385, device='cuda:1', grad_fn=<NllLoss2DBackward>)\n",
      "tensor(257.8434, device='cuda:1', grad_fn=<AddBackward0>)\n",
      "Best loss: 258.5730285644531, Loss: 257.8434143066406\n",
      "epoch: 419 | loss: 0.17304927134673867\n"
     ]
    },
    {
     "name": "stderr",
     "output_type": "stream",
     "text": [
      "0.175: 100%|██████████████████████████████████████████████████████████████████████████████████████████████████████████████████████| 1490/1490 [00:35<00:00, 42.17it/s]\n"
     ]
    },
    {
     "name": "stdout",
     "output_type": "stream",
     "text": [
      "tensor(0.1746, device='cuda:1', grad_fn=<NllLoss2DBackward>)\n",
      "tensor(258.2373, device='cuda:1', grad_fn=<AddBackward0>)\n",
      "epoch: 420 | loss: 0.17331362730704697\n"
     ]
    },
    {
     "name": "stderr",
     "output_type": "stream",
     "text": [
      "0.182: 100%|██████████████████████████████████████████████████████████████████████████████████████████████████████████████████████| 1490/1490 [00:36<00:00, 40.94it/s]\n"
     ]
    },
    {
     "name": "stdout",
     "output_type": "stream",
     "text": [
      "tensor(0.1825, device='cuda:1', grad_fn=<NllLoss2DBackward>)\n",
      "tensor(258.2139, device='cuda:1', grad_fn=<AddBackward0>)\n",
      "epoch: 421 | loss: 0.17329791792287122\n"
     ]
    },
    {
     "name": "stderr",
     "output_type": "stream",
     "text": [
      "0.241: 100%|██████████████████████████████████████████████████████████████████████████████████████████████████████████████████████| 1490/1490 [00:36<00:00, 41.20it/s]\n"
     ]
    },
    {
     "name": "stdout",
     "output_type": "stream",
     "text": [
      "tensor(0.2407, device='cuda:1', grad_fn=<NllLoss2DBackward>)\n",
      "tensor(258.4563, device='cuda:1', grad_fn=<AddBackward0>)\n",
      "epoch: 422 | loss: 0.17346060324035234\n"
     ]
    },
    {
     "name": "stderr",
     "output_type": "stream",
     "text": [
      "0.207: 100%|██████████████████████████████████████████████████████████████████████████████████████████████████████████████████████| 1490/1490 [00:35<00:00, 41.57it/s]\n"
     ]
    },
    {
     "name": "stdout",
     "output_type": "stream",
     "text": [
      "tensor(0.2075, device='cuda:1', grad_fn=<NllLoss2DBackward>)\n",
      "tensor(258.3917, device='cuda:1', grad_fn=<AddBackward0>)\n",
      "epoch: 423 | loss: 0.17341724370149958\n"
     ]
    },
    {
     "name": "stderr",
     "output_type": "stream",
     "text": [
      "0.214: 100%|██████████████████████████████████████████████████████████████████████████████████████████████████████████████████████| 1490/1490 [00:35<00:00, 41.81it/s]\n"
     ]
    },
    {
     "name": "stdout",
     "output_type": "stream",
     "text": [
      "tensor(0.2141, device='cuda:1', grad_fn=<NllLoss2DBackward>)\n",
      "tensor(257.9436, device='cuda:1', grad_fn=<AddBackward0>)\n",
      "epoch: 424 | loss: 0.17311653290819\n"
     ]
    },
    {
     "name": "stderr",
     "output_type": "stream",
     "text": [
      "0.185: 100%|██████████████████████████████████████████████████████████████████████████████████████████████████████████████████████| 1490/1490 [00:36<00:00, 41.25it/s]\n"
     ]
    },
    {
     "name": "stdout",
     "output_type": "stream",
     "text": [
      "tensor(0.1851, device='cuda:1', grad_fn=<NllLoss2DBackward>)\n",
      "tensor(256.6534, device='cuda:1', grad_fn=<AddBackward0>)\n",
      "Best loss: 257.8434143066406, Loss: 256.65338134765625\n",
      "epoch: 425 | loss: 0.17225059150849412\n"
     ]
    },
    {
     "name": "stderr",
     "output_type": "stream",
     "text": [
      "0.098: 100%|██████████████████████████████████████████████████████████████████████████████████████████████████████████████████████| 1490/1490 [00:36<00:00, 40.89it/s]\n"
     ]
    },
    {
     "name": "stdout",
     "output_type": "stream",
     "text": [
      "tensor(0.0985, device='cuda:1', grad_fn=<NllLoss2DBackward>)\n",
      "tensor(256.0083, device='cuda:1', grad_fn=<AddBackward0>)\n",
      "Best loss: 256.65338134765625, Loss: 256.0082702636719\n",
      "epoch: 426 | loss: 0.17181763104944422\n"
     ]
    },
    {
     "name": "stderr",
     "output_type": "stream",
     "text": [
      "0.382: 100%|██████████████████████████████████████████████████████████████████████████████████████████████████████████████████████| 1490/1490 [00:36<00:00, 40.94it/s]\n"
     ]
    },
    {
     "name": "stdout",
     "output_type": "stream",
     "text": [
      "tensor(0.3821, device='cuda:1', grad_fn=<NllLoss2DBackward>)\n",
      "tensor(255.9986, device='cuda:1', grad_fn=<AddBackward0>)\n",
      "Best loss: 256.0082702636719, Loss: 255.9986114501953\n",
      "epoch: 427 | loss: 0.17181114862429214\n"
     ]
    },
    {
     "name": "stderr",
     "output_type": "stream",
     "text": [
      "0.219: 100%|██████████████████████████████████████████████████████████████████████████████████████████████████████████████████████| 1490/1490 [00:34<00:00, 42.96it/s]\n"
     ]
    },
    {
     "name": "stdout",
     "output_type": "stream",
     "text": [
      "tensor(0.2188, device='cuda:1', grad_fn=<NllLoss2DBackward>)\n",
      "tensor(255.9438, device='cuda:1', grad_fn=<AddBackward0>)\n",
      "Best loss: 255.9986114501953, Loss: 255.9438018798828\n",
      "epoch: 428 | loss: 0.1717743636777737\n"
     ]
    },
    {
     "name": "stderr",
     "output_type": "stream",
     "text": [
      "0.194: 100%|██████████████████████████████████████████████████████████████████████████████████████████████████████████████████████| 1490/1490 [00:35<00:00, 42.04it/s]\n"
     ]
    },
    {
     "name": "stdout",
     "output_type": "stream",
     "text": [
      "tensor(0.1936, device='cuda:1', grad_fn=<NllLoss2DBackward>)\n",
      "tensor(256.3538, device='cuda:1', grad_fn=<AddBackward0>)\n",
      "epoch: 429 | loss: 0.17204950319840603\n"
     ]
    },
    {
     "name": "stderr",
     "output_type": "stream",
     "text": [
      "0.143: 100%|██████████████████████████████████████████████████████████████████████████████████████████████████████████████████████| 1490/1490 [00:35<00:00, 42.03it/s]\n"
     ]
    },
    {
     "name": "stdout",
     "output_type": "stream",
     "text": [
      "tensor(0.1429, device='cuda:1', grad_fn=<NllLoss2DBackward>)\n",
      "tensor(255.1037, device='cuda:1', grad_fn=<AddBackward0>)\n",
      "Best loss: 255.9438018798828, Loss: 255.10372924804688\n",
      "epoch: 430 | loss: 0.17121055654231335\n"
     ]
    },
    {
     "name": "stderr",
     "output_type": "stream",
     "text": [
      "0.171: 100%|██████████████████████████████████████████████████████████████████████████████████████████████████████████████████████| 1490/1490 [00:34<00:00, 42.71it/s]\n"
     ]
    },
    {
     "name": "stdout",
     "output_type": "stream",
     "text": [
      "tensor(0.1709, device='cuda:1', grad_fn=<NllLoss2DBackward>)\n",
      "tensor(255.6551, device='cuda:1', grad_fn=<AddBackward0>)\n",
      "epoch: 431 | loss: 0.17158060777907402\n"
     ]
    },
    {
     "name": "stderr",
     "output_type": "stream",
     "text": [
      "0.091: 100%|██████████████████████████████████████████████████████████████████████████████████████████████████████████████████████| 1490/1490 [00:35<00:00, 42.14it/s]\n"
     ]
    },
    {
     "name": "stdout",
     "output_type": "stream",
     "text": [
      "tensor(0.0913, device='cuda:1', grad_fn=<NllLoss2DBackward>)\n",
      "tensor(255.0335, device='cuda:1', grad_fn=<AddBackward0>)\n",
      "Best loss: 255.10372924804688, Loss: 255.03347778320312\n",
      "epoch: 432 | loss: 0.17116340790819\n"
     ]
    },
    {
     "name": "stderr",
     "output_type": "stream",
     "text": [
      "0.149: 100%|██████████████████████████████████████████████████████████████████████████████████████████████████████████████████████| 1490/1490 [00:35<00:00, 41.59it/s]\n"
     ]
    },
    {
     "name": "stdout",
     "output_type": "stream",
     "text": [
      "tensor(0.1495, device='cuda:1', grad_fn=<NllLoss2DBackward>)\n",
      "tensor(254.8545, device='cuda:1', grad_fn=<AddBackward0>)\n",
      "Best loss: 255.03347778320312, Loss: 254.85450744628906\n",
      "epoch: 433 | loss: 0.17104329358811346\n"
     ]
    },
    {
     "name": "stderr",
     "output_type": "stream",
     "text": [
      "0.105: 100%|██████████████████████████████████████████████████████████████████████████████████████████████████████████████████████| 1490/1490 [00:36<00:00, 41.09it/s]\n"
     ]
    },
    {
     "name": "stdout",
     "output_type": "stream",
     "text": [
      "tensor(0.1052, device='cuda:1', grad_fn=<NllLoss2DBackward>)\n",
      "tensor(254.7328, device='cuda:1', grad_fn=<AddBackward0>)\n",
      "Best loss: 254.85450744628906, Loss: 254.73277282714844\n",
      "epoch: 434 | loss: 0.1709615925014419\n"
     ]
    },
    {
     "name": "stderr",
     "output_type": "stream",
     "text": [
      "0.196: 100%|██████████████████████████████████████████████████████████████████████████████████████████████████████████████████████| 1490/1490 [00:36<00:00, 41.21it/s]\n"
     ]
    },
    {
     "name": "stdout",
     "output_type": "stream",
     "text": [
      "tensor(0.1964, device='cuda:1', grad_fn=<NllLoss2DBackward>)\n",
      "tensor(255.2684, device='cuda:1', grad_fn=<AddBackward0>)\n",
      "epoch: 435 | loss: 0.17132107523463716\n"
     ]
    },
    {
     "name": "stderr",
     "output_type": "stream",
     "text": [
      "0.168: 100%|██████████████████████████████████████████████████████████████████████████████████████████████████████████████████████| 1490/1490 [00:35<00:00, 41.93it/s]\n"
     ]
    },
    {
     "name": "stdout",
     "output_type": "stream",
     "text": [
      "tensor(0.1676, device='cuda:1', grad_fn=<NllLoss2DBackward>)\n",
      "tensor(254.5518, device='cuda:1', grad_fn=<AddBackward0>)\n",
      "Best loss: 254.73277282714844, Loss: 254.5518035888672\n",
      "epoch: 436 | loss: 0.17084013663682363\n"
     ]
    },
    {
     "name": "stderr",
     "output_type": "stream",
     "text": [
      "0.110: 100%|██████████████████████████████████████████████████████████████████████████████████████████████████████████████████████| 1490/1490 [00:34<00:00, 42.90it/s]\n"
     ]
    },
    {
     "name": "stdout",
     "output_type": "stream",
     "text": [
      "tensor(0.1099, device='cuda:1', grad_fn=<NllLoss2DBackward>)\n",
      "tensor(253.6861, device='cuda:1', grad_fn=<AddBackward0>)\n",
      "Best loss: 254.5518035888672, Loss: 253.6860809326172\n",
      "epoch: 437 | loss: 0.1702591147198773\n"
     ]
    },
    {
     "name": "stderr",
     "output_type": "stream",
     "text": [
      "0.159: 100%|██████████████████████████████████████████████████████████████████████████████████████████████████████████████████████| 1490/1490 [00:35<00:00, 41.91it/s]\n"
     ]
    },
    {
     "name": "stdout",
     "output_type": "stream",
     "text": [
      "tensor(0.1588, device='cuda:1', grad_fn=<NllLoss2DBackward>)\n",
      "tensor(253.1542, device='cuda:1', grad_fn=<AddBackward0>)\n",
      "Best loss: 253.6860809326172, Loss: 253.15415954589844\n",
      "epoch: 438 | loss: 0.16990212050060297\n"
     ]
    },
    {
     "name": "stderr",
     "output_type": "stream",
     "text": [
      "0.238: 100%|██████████████████████████████████████████████████████████████████████████████████████████████████████████████████████| 1490/1490 [00:35<00:00, 42.02it/s]\n"
     ]
    },
    {
     "name": "stdout",
     "output_type": "stream",
     "text": [
      "tensor(0.2377, device='cuda:1', grad_fn=<NllLoss2DBackward>)\n",
      "tensor(253.6012, device='cuda:1', grad_fn=<AddBackward0>)\n",
      "epoch: 439 | loss: 0.1702021656420407\n"
     ]
    },
    {
     "name": "stderr",
     "output_type": "stream",
     "text": [
      "0.208: 100%|██████████████████████████████████████████████████████████████████████████████████████████████████████████████████████| 1490/1490 [00:34<00:00, 42.83it/s]\n"
     ]
    },
    {
     "name": "stdout",
     "output_type": "stream",
     "text": [
      "tensor(0.2077, device='cuda:1', grad_fn=<NllLoss2DBackward>)\n",
      "tensor(253.6575, device='cuda:1', grad_fn=<AddBackward0>)\n",
      "epoch: 440 | loss: 0.17023995418676593\n"
     ]
    },
    {
     "name": "stderr",
     "output_type": "stream",
     "text": [
      "0.264: 100%|██████████████████████████████████████████████████████████████████████████████████████████████████████████████████████| 1490/1490 [00:36<00:00, 41.15it/s]\n"
     ]
    },
    {
     "name": "stdout",
     "output_type": "stream",
     "text": [
      "tensor(0.2639, device='cuda:1', grad_fn=<NllLoss2DBackward>)\n",
      "tensor(253.3998, device='cuda:1', grad_fn=<AddBackward0>)\n",
      "epoch: 441 | loss: 0.17006700758966023\n"
     ]
    },
    {
     "name": "stderr",
     "output_type": "stream",
     "text": [
      "0.179: 100%|██████████████████████████████████████████████████████████████████████████████████████████████████████████████████████| 1490/1490 [00:34<00:00, 43.27it/s]\n"
     ]
    },
    {
     "name": "stdout",
     "output_type": "stream",
     "text": [
      "tensor(0.1790, device='cuda:1', grad_fn=<NllLoss2DBackward>)\n",
      "tensor(252.7121, device='cuda:1', grad_fn=<AddBackward0>)\n",
      "Best loss: 253.15415954589844, Loss: 252.71209716796875\n",
      "epoch: 442 | loss: 0.16960543434091863\n"
     ]
    },
    {
     "name": "stderr",
     "output_type": "stream",
     "text": [
      "0.179: 100%|██████████████████████████████████████████████████████████████████████████████████████████████████████████████████████| 1490/1490 [00:34<00:00, 42.78it/s]\n"
     ]
    },
    {
     "name": "stdout",
     "output_type": "stream",
     "text": [
      "tensor(0.1786, device='cuda:1', grad_fn=<NllLoss2DBackward>)\n",
      "tensor(253.1071, device='cuda:1', grad_fn=<AddBackward0>)\n",
      "epoch: 443 | loss: 0.16987050715708893\n"
     ]
    },
    {
     "name": "stderr",
     "output_type": "stream",
     "text": [
      "0.146: 100%|██████████████████████████████████████████████████████████████████████████████████████████████████████████████████████| 1490/1490 [00:35<00:00, 42.26it/s]\n"
     ]
    },
    {
     "name": "stdout",
     "output_type": "stream",
     "text": [
      "tensor(0.1465, device='cuda:1', grad_fn=<NllLoss2DBackward>)\n",
      "tensor(251.9938, device='cuda:1', grad_fn=<AddBackward0>)\n",
      "Best loss: 252.71209716796875, Loss: 251.9938201904297\n",
      "epoch: 444 | loss: 0.16912336925532193\n"
     ]
    },
    {
     "name": "stderr",
     "output_type": "stream",
     "text": [
      "0.198: 100%|██████████████████████████████████████████████████████████████████████████████████████████████████████████████████████| 1490/1490 [00:36<00:00, 41.33it/s]\n"
     ]
    },
    {
     "name": "stdout",
     "output_type": "stream",
     "text": [
      "tensor(0.1984, device='cuda:1', grad_fn=<NllLoss2DBackward>)\n",
      "tensor(252.5253, device='cuda:1', grad_fn=<AddBackward0>)\n",
      "epoch: 445 | loss: 0.16948009721384752\n"
     ]
    },
    {
     "name": "stderr",
     "output_type": "stream",
     "text": [
      "0.296: 100%|██████████████████████████████████████████████████████████████████████████████████████████████████████████████████████| 1490/1490 [00:36<00:00, 40.72it/s]\n"
     ]
    },
    {
     "name": "stdout",
     "output_type": "stream",
     "text": [
      "tensor(0.2963, device='cuda:1', grad_fn=<NllLoss2DBackward>)\n",
      "tensor(252.3139, device='cuda:1', grad_fn=<AddBackward0>)\n",
      "epoch: 446 | loss: 0.16933819047556628\n"
     ]
    },
    {
     "name": "stderr",
     "output_type": "stream",
     "text": [
      "0.093: 100%|██████████████████████████████████████████████████████████████████████████████████████████████████████████████████████| 1490/1490 [00:34<00:00, 43.17it/s]\n"
     ]
    },
    {
     "name": "stdout",
     "output_type": "stream",
     "text": [
      "tensor(0.0929, device='cuda:1', grad_fn=<NllLoss2DBackward>)\n",
      "tensor(251.5801, device='cuda:1', grad_fn=<AddBackward0>)\n",
      "Best loss: 251.9938201904297, Loss: 251.58013916015625\n",
      "epoch: 447 | loss: 0.16884573097997063\n"
     ]
    },
    {
     "name": "stderr",
     "output_type": "stream",
     "text": [
      "0.092: 100%|██████████████████████████████████████████████████████████████████████████████████████████████████████████████████████| 1490/1490 [00:36<00:00, 41.32it/s]\n"
     ]
    },
    {
     "name": "stdout",
     "output_type": "stream",
     "text": [
      "tensor(0.0919, device='cuda:1', grad_fn=<NllLoss2DBackward>)\n",
      "tensor(251.8944, device='cuda:1', grad_fn=<AddBackward0>)\n",
      "epoch: 448 | loss: 0.16905662997457005\n"
     ]
    },
    {
     "name": "stderr",
     "output_type": "stream",
     "text": [
      "0.155: 100%|██████████████████████████████████████████████████████████████████████████████████████████████████████████████████████| 1490/1490 [00:36<00:00, 40.69it/s]\n"
     ]
    },
    {
     "name": "stdout",
     "output_type": "stream",
     "text": [
      "tensor(0.1554, device='cuda:1', grad_fn=<NllLoss2DBackward>)\n",
      "tensor(251.3053, device='cuda:1', grad_fn=<AddBackward0>)\n",
      "Best loss: 251.58013916015625, Loss: 251.3052978515625\n",
      "epoch: 449 | loss: 0.16866127372588088\n"
     ]
    },
    {
     "name": "stderr",
     "output_type": "stream",
     "text": [
      "0.036: 100%|██████████████████████████████████████████████████████████████████████████████████████████████████████████████████████| 1490/1490 [00:35<00:00, 41.81it/s]\n"
     ]
    },
    {
     "name": "stdout",
     "output_type": "stream",
     "text": [
      "tensor(0.0359, device='cuda:1', grad_fn=<NllLoss2DBackward>)\n",
      "tensor(250.8366, device='cuda:1', grad_fn=<AddBackward0>)\n",
      "Best loss: 251.3052978515625, Loss: 250.83663940429688\n",
      "epoch: 450 | loss: 0.1683467378552328\n"
     ]
    },
    {
     "name": "stderr",
     "output_type": "stream",
     "text": [
      "0.168: 100%|██████████████████████████████████████████████████████████████████████████████████████████████████████████████████████| 1490/1490 [00:34<00:00, 42.71it/s]\n"
     ]
    },
    {
     "name": "stdout",
     "output_type": "stream",
     "text": [
      "tensor(0.1677, device='cuda:1', grad_fn=<NllLoss2DBackward>)\n",
      "tensor(250.9639, device='cuda:1', grad_fn=<AddBackward0>)\n",
      "epoch: 451 | loss: 0.1684321153883966\n"
     ]
    },
    {
     "name": "stderr",
     "output_type": "stream",
     "text": [
      "0.108: 100%|██████████████████████████████████████████████████████████████████████████████████████████████████████████████████████| 1490/1490 [00:36<00:00, 41.36it/s]\n"
     ]
    },
    {
     "name": "stdout",
     "output_type": "stream",
     "text": [
      "tensor(0.1082, device='cuda:1', grad_fn=<NllLoss2DBackward>)\n",
      "tensor(251.0128, device='cuda:1', grad_fn=<AddBackward0>)\n",
      "epoch: 452 | loss: 0.16846494738687603\n"
     ]
    },
    {
     "name": "stderr",
     "output_type": "stream",
     "text": [
      "0.135: 100%|██████████████████████████████████████████████████████████████████████████████████████████████████████████████████████| 1490/1490 [00:35<00:00, 42.07it/s]\n"
     ]
    },
    {
     "name": "stdout",
     "output_type": "stream",
     "text": [
      "tensor(0.1355, device='cuda:1', grad_fn=<NllLoss2DBackward>)\n",
      "tensor(249.8611, device='cuda:1', grad_fn=<AddBackward0>)\n",
      "Best loss: 250.83663940429688, Loss: 249.86105346679688\n",
      "epoch: 453 | loss: 0.16769198219248113\n"
     ]
    },
    {
     "name": "stderr",
     "output_type": "stream",
     "text": [
      "0.109: 100%|██████████████████████████████████████████████████████████████████████████████████████████████████████████████████████| 1490/1490 [00:36<00:00, 41.14it/s]\n"
     ]
    },
    {
     "name": "stdout",
     "output_type": "stream",
     "text": [
      "tensor(0.1087, device='cuda:1', grad_fn=<NllLoss2DBackward>)\n",
      "tensor(250.9238, device='cuda:1', grad_fn=<AddBackward0>)\n",
      "epoch: 454 | loss: 0.1684052537751678\n"
     ]
    },
    {
     "name": "stderr",
     "output_type": "stream",
     "text": [
      "0.182: 100%|██████████████████████████████████████████████████████████████████████████████████████████████████████████████████████| 1490/1490 [00:36<00:00, 41.15it/s]\n"
     ]
    },
    {
     "name": "stdout",
     "output_type": "stream",
     "text": [
      "tensor(0.1820, device='cuda:1', grad_fn=<NllLoss2DBackward>)\n",
      "tensor(250.2923, device='cuda:1', grad_fn=<AddBackward0>)\n",
      "epoch: 455 | loss: 0.1679813871447672\n"
     ]
    },
    {
     "name": "stderr",
     "output_type": "stream",
     "text": [
      "0.260: 100%|██████████████████████████████████████████████████████████████████████████████████████████████████████████████████████| 1490/1490 [00:36<00:00, 41.27it/s]\n"
     ]
    },
    {
     "name": "stdout",
     "output_type": "stream",
     "text": [
      "tensor(0.2599, device='cuda:1', grad_fn=<NllLoss2DBackward>)\n",
      "tensor(249.7800, device='cuda:1', grad_fn=<AddBackward0>)\n",
      "Best loss: 249.86105346679688, Loss: 249.7799835205078\n",
      "epoch: 456 | loss: 0.1676375728325556\n"
     ]
    },
    {
     "name": "stderr",
     "output_type": "stream",
     "text": [
      "0.170: 100%|██████████████████████████████████████████████████████████████████████████████████████████████████████████████████████| 1490/1490 [00:36<00:00, 41.24it/s]\n"
     ]
    },
    {
     "name": "stdout",
     "output_type": "stream",
     "text": [
      "tensor(0.1699, device='cuda:1', grad_fn=<NllLoss2DBackward>)\n",
      "tensor(249.0925, device='cuda:1', grad_fn=<AddBackward0>)\n",
      "Best loss: 249.7799835205078, Loss: 249.0924530029297\n",
      "epoch: 457 | loss: 0.16717614295498637\n"
     ]
    },
    {
     "name": "stderr",
     "output_type": "stream",
     "text": [
      "0.211: 100%|██████████████████████████████████████████████████████████████████████████████████████████████████████████████████████| 1490/1490 [00:35<00:00, 42.10it/s]\n"
     ]
    },
    {
     "name": "stdout",
     "output_type": "stream",
     "text": [
      "tensor(0.2108, device='cuda:1', grad_fn=<NllLoss2DBackward>)\n",
      "tensor(249.9117, device='cuda:1', grad_fn=<AddBackward0>)\n",
      "epoch: 458 | loss: 0.16772595091954173\n"
     ]
    },
    {
     "name": "stderr",
     "output_type": "stream",
     "text": [
      "0.217: 100%|██████████████████████████████████████████████████████████████████████████████████████████████████████████████████████| 1490/1490 [00:34<00:00, 42.92it/s]\n"
     ]
    },
    {
     "name": "stdout",
     "output_type": "stream",
     "text": [
      "tensor(0.2170, device='cuda:1', grad_fn=<NllLoss2DBackward>)\n",
      "tensor(248.8612, device='cuda:1', grad_fn=<AddBackward0>)\n",
      "Best loss: 249.0924530029297, Loss: 248.86117553710938\n",
      "epoch: 459 | loss: 0.16702092317926803\n"
     ]
    },
    {
     "name": "stderr",
     "output_type": "stream",
     "text": [
      "0.212: 100%|██████████████████████████████████████████████████████████████████████████████████████████████████████████████████████| 1490/1490 [00:36<00:00, 40.36it/s]\n"
     ]
    },
    {
     "name": "stdout",
     "output_type": "stream",
     "text": [
      "tensor(0.2121, device='cuda:1', grad_fn=<NllLoss2DBackward>)\n",
      "tensor(248.7343, device='cuda:1', grad_fn=<AddBackward0>)\n",
      "Best loss: 248.86117553710938, Loss: 248.73426818847656\n",
      "epoch: 460 | loss: 0.1669357504620648\n"
     ]
    },
    {
     "name": "stderr",
     "output_type": "stream",
     "text": [
      "0.255: 100%|██████████████████████████████████████████████████████████████████████████████████████████████████████████████████████| 1490/1490 [00:35<00:00, 41.85it/s]\n"
     ]
    },
    {
     "name": "stdout",
     "output_type": "stream",
     "text": [
      "tensor(0.2550, device='cuda:1', grad_fn=<NllLoss2DBackward>)\n",
      "tensor(248.4289, device='cuda:1', grad_fn=<AddBackward0>)\n",
      "Best loss: 248.73426818847656, Loss: 248.4289093017578\n",
      "epoch: 461 | loss: 0.166730811611918\n"
     ]
    },
    {
     "name": "stderr",
     "output_type": "stream",
     "text": [
      "0.079: 100%|██████████████████████████████████████████████████████████████████████████████████████████████████████████████████████| 1490/1490 [00:34<00:00, 43.58it/s]\n"
     ]
    },
    {
     "name": "stdout",
     "output_type": "stream",
     "text": [
      "tensor(0.0785, device='cuda:1', grad_fn=<NllLoss2DBackward>)\n",
      "tensor(248.0229, device='cuda:1', grad_fn=<AddBackward0>)\n",
      "Best loss: 248.4289093017578, Loss: 248.02291870117188\n",
      "epoch: 462 | loss: 0.16645833469877308\n"
     ]
    },
    {
     "name": "stderr",
     "output_type": "stream",
     "text": [
      "0.171: 100%|██████████████████████████████████████████████████████████████████████████████████████████████████████████████████████| 1490/1490 [00:35<00:00, 42.36it/s]\n"
     ]
    },
    {
     "name": "stdout",
     "output_type": "stream",
     "text": [
      "tensor(0.1712, device='cuda:1', grad_fn=<NllLoss2DBackward>)\n",
      "tensor(248.4521, device='cuda:1', grad_fn=<AddBackward0>)\n",
      "epoch: 463 | loss: 0.16674637762492134\n"
     ]
    },
    {
     "name": "stderr",
     "output_type": "stream",
     "text": [
      "0.094: 100%|██████████████████████████████████████████████████████████████████████████████████████████████████████████████████████| 1490/1490 [00:36<00:00, 40.35it/s]\n"
     ]
    },
    {
     "name": "stdout",
     "output_type": "stream",
     "text": [
      "tensor(0.0941, device='cuda:1', grad_fn=<NllLoss2DBackward>)\n",
      "tensor(247.6153, device='cuda:1', grad_fn=<AddBackward0>)\n",
      "Best loss: 248.02291870117188, Loss: 247.61526489257812\n",
      "epoch: 464 | loss: 0.16618474153864304\n"
     ]
    },
    {
     "name": "stderr",
     "output_type": "stream",
     "text": [
      "0.210: 100%|██████████████████████████████████████████████████████████████████████████████████████████████████████████████████████| 1490/1490 [00:36<00:00, 40.85it/s]\n"
     ]
    },
    {
     "name": "stdout",
     "output_type": "stream",
     "text": [
      "tensor(0.2103, device='cuda:1', grad_fn=<NllLoss2DBackward>)\n",
      "tensor(247.6177, device='cuda:1', grad_fn=<AddBackward0>)\n",
      "epoch: 465 | loss: 0.16618635958473155\n"
     ]
    },
    {
     "name": "stderr",
     "output_type": "stream",
     "text": [
      "0.232: 100%|██████████████████████████████████████████████████████████████████████████████████████████████████████████████████████| 1490/1490 [00:36<00:00, 41.25it/s]\n"
     ]
    },
    {
     "name": "stdout",
     "output_type": "stream",
     "text": [
      "tensor(0.2321, device='cuda:1', grad_fn=<NllLoss2DBackward>)\n",
      "tensor(247.0094, device='cuda:1', grad_fn=<AddBackward0>)\n",
      "Best loss: 247.61526489257812, Loss: 247.00936889648438\n",
      "epoch: 466 | loss: 0.16577809993052642\n"
     ]
    },
    {
     "name": "stderr",
     "output_type": "stream",
     "text": [
      "0.152: 100%|██████████████████████████████████████████████████████████████████████████████████████████████████████████████████████| 1490/1490 [00:35<00:00, 42.39it/s]\n"
     ]
    },
    {
     "name": "stdout",
     "output_type": "stream",
     "text": [
      "tensor(0.1524, device='cuda:1', grad_fn=<NllLoss2DBackward>)\n",
      "tensor(247.6330, device='cuda:1', grad_fn=<AddBackward0>)\n",
      "epoch: 467 | loss: 0.1661966413459522\n"
     ]
    },
    {
     "name": "stderr",
     "output_type": "stream",
     "text": [
      "0.194: 100%|██████████████████████████████████████████████████████████████████████████████████████████████████████████████████████| 1490/1490 [00:34<00:00, 42.85it/s]\n"
     ]
    },
    {
     "name": "stdout",
     "output_type": "stream",
     "text": [
      "tensor(0.1943, device='cuda:1', grad_fn=<NllLoss2DBackward>)\n",
      "tensor(246.7774, device='cuda:1', grad_fn=<AddBackward0>)\n",
      "Best loss: 247.00936889648438, Loss: 246.77735900878906\n",
      "epoch: 468 | loss: 0.16562238859650272\n"
     ]
    },
    {
     "name": "stderr",
     "output_type": "stream",
     "text": [
      "0.117: 100%|██████████████████████████████████████████████████████████████████████████████████████████████████████████████████████| 1490/1490 [00:34<00:00, 43.19it/s]\n"
     ]
    },
    {
     "name": "stdout",
     "output_type": "stream",
     "text": [
      "tensor(0.1172, device='cuda:1', grad_fn=<NllLoss2DBackward>)\n",
      "tensor(246.7834, device='cuda:1', grad_fn=<AddBackward0>)\n",
      "epoch: 469 | loss: 0.16562645419332006\n"
     ]
    },
    {
     "name": "stderr",
     "output_type": "stream",
     "text": [
      "0.203: 100%|██████████████████████████████████████████████████████████████████████████████████████████████████████████████████████| 1490/1490 [00:35<00:00, 41.71it/s]\n"
     ]
    },
    {
     "name": "stdout",
     "output_type": "stream",
     "text": [
      "tensor(0.2026, device='cuda:1', grad_fn=<NllLoss2DBackward>)\n",
      "tensor(246.2117, device='cuda:1', grad_fn=<AddBackward0>)\n",
      "Best loss: 246.77735900878906, Loss: 246.21173095703125\n",
      "epoch: 470 | loss: 0.1652427724543834\n"
     ]
    },
    {
     "name": "stderr",
     "output_type": "stream",
     "text": [
      "0.111: 100%|██████████████████████████████████████████████████████████████████████████████████████████████████████████████████████| 1490/1490 [00:35<00:00, 42.01it/s]\n"
     ]
    },
    {
     "name": "stdout",
     "output_type": "stream",
     "text": [
      "tensor(0.1107, device='cuda:1', grad_fn=<NllLoss2DBackward>)\n",
      "tensor(245.2902, device='cuda:1', grad_fn=<AddBackward0>)\n",
      "Best loss: 246.21173095703125, Loss: 245.29017639160156\n",
      "epoch: 471 | loss: 0.1646242794574507\n"
     ]
    },
    {
     "name": "stderr",
     "output_type": "stream",
     "text": [
      "0.130: 100%|██████████████████████████████████████████████████████████████████████████████████████████████████████████████████████| 1490/1490 [00:35<00:00, 41.64it/s]\n"
     ]
    },
    {
     "name": "stdout",
     "output_type": "stream",
     "text": [
      "tensor(0.1295, device='cuda:1', grad_fn=<NllLoss2DBackward>)\n",
      "tensor(246.1602, device='cuda:1', grad_fn=<AddBackward0>)\n",
      "epoch: 472 | loss: 0.16520817903864304\n"
     ]
    },
    {
     "name": "stderr",
     "output_type": "stream",
     "text": [
      "0.184: 100%|██████████████████████████████████████████████████████████████████████████████████████████████████████████████████████| 1490/1490 [00:35<00:00, 42.49it/s]\n"
     ]
    },
    {
     "name": "stdout",
     "output_type": "stream",
     "text": [
      "tensor(0.1840, device='cuda:1', grad_fn=<NllLoss2DBackward>)\n",
      "tensor(245.5033, device='cuda:1', grad_fn=<AddBackward0>)\n",
      "epoch: 473 | loss: 0.16476732292431312\n"
     ]
    },
    {
     "name": "stderr",
     "output_type": "stream",
     "text": [
      "0.132: 100%|██████████████████████████████████████████████████████████████████████████████████████████████████████████████████████| 1490/1490 [00:35<00:00, 42.27it/s]\n"
     ]
    },
    {
     "name": "stdout",
     "output_type": "stream",
     "text": [
      "tensor(0.1318, device='cuda:1', grad_fn=<NllLoss2DBackward>)\n",
      "tensor(245.8220, device='cuda:1', grad_fn=<AddBackward0>)\n",
      "epoch: 474 | loss: 0.16498120199113883\n"
     ]
    },
    {
     "name": "stderr",
     "output_type": "stream",
     "text": [
      "0.193: 100%|██████████████████████████████████████████████████████████████████████████████████████████████████████████████████████| 1490/1490 [00:35<00:00, 42.46it/s]\n"
     ]
    },
    {
     "name": "stdout",
     "output_type": "stream",
     "text": [
      "tensor(0.1929, device='cuda:1', grad_fn=<NllLoss2DBackward>)\n",
      "tensor(246.0994, device='cuda:1', grad_fn=<AddBackward0>)\n",
      "epoch: 475 | loss: 0.16516738994009542\n"
     ]
    },
    {
     "name": "stderr",
     "output_type": "stream",
     "text": [
      "0.261: 100%|██████████████████████████████████████████████████████████████████████████████████████████████████████████████████████| 1490/1490 [00:35<00:00, 41.50it/s]\n"
     ]
    },
    {
     "name": "stdout",
     "output_type": "stream",
     "text": [
      "tensor(0.2612, device='cuda:1', grad_fn=<NllLoss2DBackward>)\n",
      "tensor(245.0013, device='cuda:1', grad_fn=<AddBackward0>)\n",
      "Best loss: 245.29017639160156, Loss: 245.0012664794922\n",
      "epoch: 476 | loss: 0.16443038018757866\n"
     ]
    },
    {
     "name": "stderr",
     "output_type": "stream",
     "text": [
      "0.070: 100%|██████████████████████████████████████████████████████████████████████████████████████████████████████████████████████| 1490/1490 [00:35<00:00, 41.83it/s]\n"
     ]
    },
    {
     "name": "stdout",
     "output_type": "stream",
     "text": [
      "tensor(0.0700, device='cuda:1', grad_fn=<NllLoss2DBackward>)\n",
      "tensor(244.5585, device='cuda:1', grad_fn=<AddBackward0>)\n",
      "Best loss: 245.0012664794922, Loss: 244.55845642089844\n",
      "epoch: 477 | loss: 0.1641331922287909\n"
     ]
    },
    {
     "name": "stderr",
     "output_type": "stream",
     "text": [
      "0.188: 100%|██████████████████████████████████████████████████████████████████████████████████████████████████████████████████████| 1490/1490 [00:35<00:00, 41.64it/s]\n"
     ]
    },
    {
     "name": "stdout",
     "output_type": "stream",
     "text": [
      "tensor(0.1879, device='cuda:1', grad_fn=<NllLoss2DBackward>)\n",
      "tensor(244.9383, device='cuda:1', grad_fn=<AddBackward0>)\n",
      "epoch: 478 | loss: 0.1643881061733169\n"
     ]
    },
    {
     "name": "stderr",
     "output_type": "stream",
     "text": [
      "0.077: 100%|██████████████████████████████████████████████████████████████████████████████████████████████████████████████████████| 1490/1490 [00:35<00:00, 41.55it/s]\n"
     ]
    },
    {
     "name": "stdout",
     "output_type": "stream",
     "text": [
      "tensor(0.0774, device='cuda:1', grad_fn=<NllLoss2DBackward>)\n",
      "tensor(244.3101, device='cuda:1', grad_fn=<AddBackward0>)\n",
      "Best loss: 244.55845642089844, Loss: 244.31011962890625\n",
      "epoch: 479 | loss: 0.16396652324087668\n"
     ]
    },
    {
     "name": "stderr",
     "output_type": "stream",
     "text": [
      "0.055: 100%|██████████████████████████████████████████████████████████████████████████████████████████████████████████████████████| 1490/1490 [00:33<00:00, 43.92it/s]\n"
     ]
    },
    {
     "name": "stdout",
     "output_type": "stream",
     "text": [
      "tensor(0.0545, device='cuda:1', grad_fn=<NllLoss2DBackward>)\n",
      "tensor(243.4046, device='cuda:1', grad_fn=<AddBackward0>)\n",
      "Best loss: 244.31011962890625, Loss: 243.40455627441406\n",
      "epoch: 480 | loss: 0.1633587626002779\n"
     ]
    },
    {
     "name": "stderr",
     "output_type": "stream",
     "text": [
      "0.149: 100%|██████████████████████████████████████████████████████████████████████████████████████████████████████████████████████| 1490/1490 [00:35<00:00, 41.43it/s]\n"
     ]
    },
    {
     "name": "stdout",
     "output_type": "stream",
     "text": [
      "tensor(0.1490, device='cuda:1', grad_fn=<NllLoss2DBackward>)\n",
      "tensor(243.4729, device='cuda:1', grad_fn=<AddBackward0>)\n",
      "epoch: 481 | loss: 0.16340466185704175\n"
     ]
    },
    {
     "name": "stderr",
     "output_type": "stream",
     "text": [
      "0.147: 100%|██████████████████████████████████████████████████████████████████████████████████████████████████████████████████████| 1490/1490 [00:37<00:00, 40.04it/s]\n"
     ]
    },
    {
     "name": "stdout",
     "output_type": "stream",
     "text": [
      "tensor(0.1472, device='cuda:1', grad_fn=<NllLoss2DBackward>)\n",
      "tensor(243.4950, device='cuda:1', grad_fn=<AddBackward0>)\n",
      "epoch: 482 | loss: 0.1634194393285969\n"
     ]
    },
    {
     "name": "stderr",
     "output_type": "stream",
     "text": [
      "0.217: 100%|██████████████████████████████████████████████████████████████████████████████████████████████████████████████████████| 1490/1490 [00:36<00:00, 41.29it/s]\n"
     ]
    },
    {
     "name": "stdout",
     "output_type": "stream",
     "text": [
      "tensor(0.2171, device='cuda:1', grad_fn=<NllLoss2DBackward>)\n",
      "tensor(243.3988, device='cuda:1', grad_fn=<AddBackward0>)\n",
      "Best loss: 243.40455627441406, Loss: 243.39883422851562\n",
      "epoch: 483 | loss: 0.1633549223010172\n"
     ]
    },
    {
     "name": "stderr",
     "output_type": "stream",
     "text": [
      "0.234: 100%|██████████████████████████████████████████████████████████████████████████████████████████████████████████████████████| 1490/1490 [00:35<00:00, 41.89it/s]\n"
     ]
    },
    {
     "name": "stdout",
     "output_type": "stream",
     "text": [
      "tensor(0.2335, device='cuda:1', grad_fn=<NllLoss2DBackward>)\n",
      "tensor(243.7686, device='cuda:1', grad_fn=<AddBackward0>)\n",
      "epoch: 484 | loss: 0.16360306707804634\n"
     ]
    },
    {
     "name": "stderr",
     "output_type": "stream",
     "text": [
      "0.209: 100%|██████████████████████████████████████████████████████████████████████████████████████████████████████████████████████| 1490/1490 [00:36<00:00, 41.19it/s]\n"
     ]
    },
    {
     "name": "stdout",
     "output_type": "stream",
     "text": [
      "tensor(0.2087, device='cuda:1', grad_fn=<NllLoss2DBackward>)\n",
      "tensor(243.4891, device='cuda:1', grad_fn=<AddBackward0>)\n",
      "epoch: 485 | loss: 0.1634154966213559\n"
     ]
    },
    {
     "name": "stderr",
     "output_type": "stream",
     "text": [
      "0.109: 100%|██████████████████████████████████████████████████████████████████████████████████████████████████████████████████████| 1490/1490 [00:36<00:00, 40.90it/s]\n"
     ]
    },
    {
     "name": "stdout",
     "output_type": "stream",
     "text": [
      "tensor(0.1092, device='cuda:1', grad_fn=<NllLoss2DBackward>)\n",
      "tensor(241.8537, device='cuda:1', grad_fn=<AddBackward0>)\n",
      "Best loss: 243.39883422851562, Loss: 241.85365295410156\n",
      "epoch: 486 | loss: 0.16231788788865878\n"
     ]
    },
    {
     "name": "stderr",
     "output_type": "stream",
     "text": [
      "0.212: 100%|██████████████████████████████████████████████████████████████████████████████████████████████████████████████████████| 1490/1490 [00:35<00:00, 41.64it/s]\n"
     ]
    },
    {
     "name": "stdout",
     "output_type": "stream",
     "text": [
      "tensor(0.2118, device='cuda:1', grad_fn=<NllLoss2DBackward>)\n",
      "tensor(242.5090, device='cuda:1', grad_fn=<AddBackward0>)\n",
      "epoch: 487 | loss: 0.1627577404047819\n"
     ]
    },
    {
     "name": "stderr",
     "output_type": "stream",
     "text": [
      "0.156: 100%|██████████████████████████████████████████████████████████████████████████████████████████████████████████████████████| 1490/1490 [00:34<00:00, 42.75it/s]\n"
     ]
    },
    {
     "name": "stdout",
     "output_type": "stream",
     "text": [
      "tensor(0.1555, device='cuda:1', grad_fn=<NllLoss2DBackward>)\n",
      "tensor(242.6525, device='cuda:1', grad_fn=<AddBackward0>)\n",
      "epoch: 488 | loss: 0.16285401414704803\n"
     ]
    },
    {
     "name": "stderr",
     "output_type": "stream",
     "text": [
      "0.117: 100%|██████████████████████████████████████████████████████████████████████████████████████████████████████████████████████| 1490/1490 [00:34<00:00, 43.33it/s]\n"
     ]
    },
    {
     "name": "stdout",
     "output_type": "stream",
     "text": [
      "tensor(0.1166, device='cuda:1', grad_fn=<NllLoss2DBackward>)\n",
      "tensor(242.2109, device='cuda:1', grad_fn=<AddBackward0>)\n",
      "epoch: 489 | loss: 0.16255764545210255\n"
     ]
    },
    {
     "name": "stderr",
     "output_type": "stream",
     "text": [
      "0.169: 100%|██████████████████████████████████████████████████████████████████████████████████████████████████████████████████████| 1490/1490 [00:35<00:00, 42.32it/s]\n"
     ]
    },
    {
     "name": "stdout",
     "output_type": "stream",
     "text": [
      "tensor(0.1687, device='cuda:1', grad_fn=<NllLoss2DBackward>)\n",
      "tensor(241.5915, device='cuda:1', grad_fn=<AddBackward0>)\n",
      "Best loss: 241.85365295410156, Loss: 241.59153747558594\n",
      "epoch: 490 | loss: 0.1621419714601248\n"
     ]
    },
    {
     "name": "stderr",
     "output_type": "stream",
     "text": [
      "0.113: 100%|██████████████████████████████████████████████████████████████████████████████████████████████████████████████████████| 1490/1490 [00:35<00:00, 42.22it/s]\n"
     ]
    },
    {
     "name": "stdout",
     "output_type": "stream",
     "text": [
      "tensor(0.1127, device='cuda:1', grad_fn=<NllLoss2DBackward>)\n",
      "tensor(242.3070, device='cuda:1', grad_fn=<AddBackward0>)\n",
      "epoch: 491 | loss: 0.1626221727204803\n"
     ]
    },
    {
     "name": "stderr",
     "output_type": "stream",
     "text": [
      "0.114: 100%|██████████████████████████████████████████████████████████████████████████████████████████████████████████████████████| 1490/1490 [00:34<00:00, 43.57it/s]\n"
     ]
    },
    {
     "name": "stdout",
     "output_type": "stream",
     "text": [
      "tensor(0.1141, device='cuda:1', grad_fn=<NllLoss2DBackward>)\n",
      "tensor(241.5839, device='cuda:1', grad_fn=<AddBackward0>)\n",
      "Best loss: 241.59153747558594, Loss: 241.5838623046875\n",
      "epoch: 492 | loss: 0.16213682033871643\n"
     ]
    },
    {
     "name": "stderr",
     "output_type": "stream",
     "text": [
      "0.101: 100%|██████████████████████████████████████████████████████████████████████████████████████████████████████████████████████| 1490/1490 [00:35<00:00, 41.72it/s]\n"
     ]
    },
    {
     "name": "stdout",
     "output_type": "stream",
     "text": [
      "tensor(0.1006, device='cuda:1', grad_fn=<NllLoss2DBackward>)\n",
      "tensor(240.8073, device='cuda:1', grad_fn=<AddBackward0>)\n",
      "Best loss: 241.5838623046875, Loss: 240.80728149414062\n",
      "epoch: 493 | loss: 0.16161562516385278\n"
     ]
    },
    {
     "name": "stderr",
     "output_type": "stream",
     "text": [
      "0.240: 100%|██████████████████████████████████████████████████████████████████████████████████████████████████████████████████████| 1490/1490 [00:36<00:00, 41.18it/s]\n"
     ]
    },
    {
     "name": "stdout",
     "output_type": "stream",
     "text": [
      "tensor(0.2404, device='cuda:1', grad_fn=<NllLoss2DBackward>)\n",
      "tensor(239.9389, device='cuda:1', grad_fn=<AddBackward0>)\n",
      "Best loss: 240.80728149414062, Loss: 239.9388885498047\n",
      "epoch: 494 | loss: 0.16103281110725146\n"
     ]
    },
    {
     "name": "stderr",
     "output_type": "stream",
     "text": [
      "0.274: 100%|██████████████████████████████████████████████████████████████████████████████████████████████████████████████████████| 1490/1490 [00:36<00:00, 41.37it/s]\n"
     ]
    },
    {
     "name": "stdout",
     "output_type": "stream",
     "text": [
      "tensor(0.2742, device='cuda:1', grad_fn=<NllLoss2DBackward>)\n",
      "tensor(240.7867, device='cuda:1', grad_fn=<AddBackward0>)\n",
      "epoch: 495 | loss: 0.16160180008651426\n"
     ]
    },
    {
     "name": "stderr",
     "output_type": "stream",
     "text": [
      "0.196: 100%|██████████████████████████████████████████████████████████████████████████████████████████████████████████████████████| 1490/1490 [00:36<00:00, 40.77it/s]\n"
     ]
    },
    {
     "name": "stdout",
     "output_type": "stream",
     "text": [
      "tensor(0.1960, device='cuda:1', grad_fn=<NllLoss2DBackward>)\n",
      "tensor(241.3530, device='cuda:1', grad_fn=<AddBackward0>)\n",
      "epoch: 496 | loss: 0.16198190778693897\n"
     ]
    },
    {
     "name": "stderr",
     "output_type": "stream",
     "text": [
      "0.163: 100%|██████████████████████████████████████████████████████████████████████████████████████████████████████████████████████| 1490/1490 [00:35<00:00, 41.39it/s]\n"
     ]
    },
    {
     "name": "stdout",
     "output_type": "stream",
     "text": [
      "tensor(0.1632, device='cuda:1', grad_fn=<NllLoss2DBackward>)\n",
      "tensor(240.7170, device='cuda:1', grad_fn=<AddBackward0>)\n",
      "epoch: 497 | loss: 0.16155503036191798\n"
     ]
    },
    {
     "name": "stderr",
     "output_type": "stream",
     "text": [
      "0.208: 100%|██████████████████████████████████████████████████████████████████████████████████████████████████████████████████████| 1490/1490 [00:35<00:00, 41.71it/s]\n"
     ]
    },
    {
     "name": "stdout",
     "output_type": "stream",
     "text": [
      "tensor(0.2081, device='cuda:1', grad_fn=<NllLoss2DBackward>)\n",
      "tensor(240.4387, device='cuda:1', grad_fn=<AddBackward0>)\n",
      "epoch: 498 | loss: 0.1613682586874738\n"
     ]
    },
    {
     "name": "stderr",
     "output_type": "stream",
     "text": [
      "0.230: 100%|██████████████████████████████████████████████████████████████████████████████████████████████████████████████████████| 1490/1490 [00:35<00:00, 42.08it/s]\n"
     ]
    },
    {
     "name": "stdout",
     "output_type": "stream",
     "text": [
      "tensor(0.2302, device='cuda:1', grad_fn=<NllLoss2DBackward>)\n",
      "tensor(240.3912, device='cuda:1', grad_fn=<AddBackward0>)\n",
      "epoch: 499 | loss: 0.161336389324009\n"
     ]
    },
    {
     "name": "stderr",
     "output_type": "stream",
     "text": [
      "0.148: 100%|██████████████████████████████████████████████████████████████████████████████████████████████████████████████████████| 1490/1490 [00:35<00:00, 41.91it/s]\n"
     ]
    },
    {
     "name": "stdout",
     "output_type": "stream",
     "text": [
      "tensor(0.1478, device='cuda:1', grad_fn=<NllLoss2DBackward>)\n",
      "tensor(240.3408, device='cuda:1', grad_fn=<AddBackward0>)\n",
      "epoch: 500 | loss: 0.1613025230049287\n"
     ]
    },
    {
     "name": "stderr",
     "output_type": "stream",
     "text": [
      "0.168: 100%|██████████████████████████████████████████████████████████████████████████████████████████████████████████████████████| 1490/1490 [00:34<00:00, 42.74it/s]\n"
     ]
    },
    {
     "name": "stdout",
     "output_type": "stream",
     "text": [
      "tensor(0.1678, device='cuda:1', grad_fn=<NllLoss2DBackward>)\n",
      "tensor(240.0502, device='cuda:1', grad_fn=<AddBackward0>)\n",
      "epoch: 501 | loss: 0.1611074972472735\n"
     ]
    },
    {
     "name": "stderr",
     "output_type": "stream",
     "text": [
      "0.159: 100%|██████████████████████████████████████████████████████████████████████████████████████████████████████████████████████| 1490/1490 [00:34<00:00, 42.99it/s]\n"
     ]
    },
    {
     "name": "stdout",
     "output_type": "stream",
     "text": [
      "tensor(0.1594, device='cuda:1', grad_fn=<NllLoss2DBackward>)\n",
      "tensor(239.4100, device='cuda:1', grad_fn=<AddBackward0>)\n",
      "Best loss: 239.9388885498047, Loss: 239.41001892089844\n",
      "epoch: 502 | loss: 0.16067786504758286\n"
     ]
    },
    {
     "name": "stderr",
     "output_type": "stream",
     "text": [
      "0.151: 100%|██████████████████████████████████████████████████████████████████████████████████████████████████████████████████████| 1490/1490 [00:35<00:00, 42.33it/s]\n"
     ]
    },
    {
     "name": "stdout",
     "output_type": "stream",
     "text": [
      "tensor(0.1508, device='cuda:1', grad_fn=<NllLoss2DBackward>)\n",
      "tensor(238.8136, device='cuda:1', grad_fn=<AddBackward0>)\n",
      "Best loss: 239.41001892089844, Loss: 238.81356811523438\n",
      "epoch: 503 | loss: 0.16027756249344588\n"
     ]
    },
    {
     "name": "stderr",
     "output_type": "stream",
     "text": [
      "0.224: 100%|██████████████████████████████████████████████████████████████████████████████████████████████████████████████████████| 1490/1490 [00:36<00:00, 41.32it/s]\n"
     ]
    },
    {
     "name": "stdout",
     "output_type": "stream",
     "text": [
      "tensor(0.2241, device='cuda:1', grad_fn=<NllLoss2DBackward>)\n",
      "tensor(238.9768, device='cuda:1', grad_fn=<AddBackward0>)\n",
      "epoch: 504 | loss: 0.16038712879155306\n"
     ]
    },
    {
     "name": "stderr",
     "output_type": "stream",
     "text": [
      "0.251: 100%|██████████████████████████████████████████████████████████████████████████████████████████████████████████████████████| 1490/1490 [00:35<00:00, 41.93it/s]\n"
     ]
    },
    {
     "name": "stdout",
     "output_type": "stream",
     "text": [
      "tensor(0.2509, device='cuda:1', grad_fn=<NllLoss2DBackward>)\n",
      "tensor(238.6568, device='cuda:1', grad_fn=<AddBackward0>)\n",
      "Best loss: 238.81356811523438, Loss: 238.6568145751953\n",
      "epoch: 505 | loss: 0.16017235877529887\n"
     ]
    },
    {
     "name": "stderr",
     "output_type": "stream",
     "text": [
      "0.127: 100%|██████████████████████████████████████████████████████████████████████████████████████████████████████████████████████| 1490/1490 [00:33<00:00, 43.95it/s]\n"
     ]
    },
    {
     "name": "stdout",
     "output_type": "stream",
     "text": [
      "tensor(0.1270, device='cuda:1', grad_fn=<NllLoss2DBackward>)\n",
      "tensor(238.1245, device='cuda:1', grad_fn=<AddBackward0>)\n",
      "Best loss: 238.6568145751953, Loss: 238.12454223632812\n",
      "epoch: 506 | loss: 0.1598151290176699\n"
     ]
    },
    {
     "name": "stderr",
     "output_type": "stream",
     "text": [
      "0.108: 100%|██████████████████████████████████████████████████████████████████████████████████████████████████████████████████████| 1490/1490 [00:32<00:00, 45.28it/s]\n"
     ]
    },
    {
     "name": "stdout",
     "output_type": "stream",
     "text": [
      "tensor(0.1078, device='cuda:1', grad_fn=<NllLoss2DBackward>)\n",
      "tensor(239.3283, device='cuda:1', grad_fn=<AddBackward0>)\n",
      "epoch: 507 | loss: 0.16062304605573616\n"
     ]
    },
    {
     "name": "stderr",
     "output_type": "stream",
     "text": [
      "0.151: 100%|██████████████████████████████████████████████████████████████████████████████████████████████████████████████████████| 1490/1490 [00:32<00:00, 46.15it/s]\n"
     ]
    },
    {
     "name": "stdout",
     "output_type": "stream",
     "text": [
      "tensor(0.1514, device='cuda:1', grad_fn=<NllLoss2DBackward>)\n",
      "tensor(237.5715, device='cuda:1', grad_fn=<AddBackward0>)\n",
      "Best loss: 238.12454223632812, Loss: 237.57154846191406\n",
      "epoch: 508 | loss: 0.15944399225631817\n"
     ]
    },
    {
     "name": "stderr",
     "output_type": "stream",
     "text": [
      "0.167: 100%|██████████████████████████████████████████████████████████████████████████████████████████████████████████████████████| 1490/1490 [00:34<00:00, 43.13it/s]\n"
     ]
    },
    {
     "name": "stdout",
     "output_type": "stream",
     "text": [
      "tensor(0.1673, device='cuda:1', grad_fn=<NllLoss2DBackward>)\n",
      "tensor(238.0961, device='cuda:1', grad_fn=<AddBackward0>)\n",
      "epoch: 509 | loss: 0.1597960299293467\n"
     ]
    },
    {
     "name": "stderr",
     "output_type": "stream",
     "text": [
      "0.317: 100%|██████████████████████████████████████████████████████████████████████████████████████████████████████████████████████| 1490/1490 [00:32<00:00, 45.92it/s]\n"
     ]
    },
    {
     "name": "stdout",
     "output_type": "stream",
     "text": [
      "tensor(0.3171, device='cuda:1', grad_fn=<NllLoss2DBackward>)\n",
      "tensor(238.0680, device='cuda:1', grad_fn=<AddBackward0>)\n",
      "epoch: 510 | loss: 0.1597771868609742\n"
     ]
    },
    {
     "name": "stderr",
     "output_type": "stream",
     "text": [
      "0.099: 100%|██████████████████████████████████████████████████████████████████████████████████████████████████████████████████████| 1490/1490 [00:36<00:00, 41.11it/s]\n"
     ]
    },
    {
     "name": "stdout",
     "output_type": "stream",
     "text": [
      "tensor(0.0990, device='cuda:1', grad_fn=<NllLoss2DBackward>)\n",
      "tensor(237.3544, device='cuda:1', grad_fn=<AddBackward0>)\n",
      "Best loss: 237.57154846191406, Loss: 237.3543701171875\n",
      "epoch: 511 | loss: 0.15929823497797818\n"
     ]
    },
    {
     "name": "stderr",
     "output_type": "stream",
     "text": [
      "0.145: 100%|██████████████████████████████████████████████████████████████████████████████████████████████████████████████████████| 1490/1490 [00:34<00:00, 43.15it/s]\n"
     ]
    },
    {
     "name": "stdout",
     "output_type": "stream",
     "text": [
      "tensor(0.1452, device='cuda:1', grad_fn=<NllLoss2DBackward>)\n",
      "tensor(237.4042, device='cuda:1', grad_fn=<AddBackward0>)\n",
      "epoch: 512 | loss: 0.15933167118354133\n"
     ]
    },
    {
     "name": "stderr",
     "output_type": "stream",
     "text": [
      "0.233: 100%|██████████████████████████████████████████████████████████████████████████████████████████████████████████████████████| 1490/1490 [00:35<00:00, 41.52it/s]\n"
     ]
    },
    {
     "name": "stdout",
     "output_type": "stream",
     "text": [
      "tensor(0.2329, device='cuda:1', grad_fn=<NllLoss2DBackward>)\n",
      "tensor(237.4825, device='cuda:1', grad_fn=<AddBackward0>)\n",
      "epoch: 513 | loss: 0.15938423719982173\n"
     ]
    },
    {
     "name": "stderr",
     "output_type": "stream",
     "text": [
      "0.068: 100%|██████████████████████████████████████████████████████████████████████████████████████████████████████████████████████| 1490/1490 [00:35<00:00, 42.26it/s]\n"
     ]
    },
    {
     "name": "stdout",
     "output_type": "stream",
     "text": [
      "tensor(0.0681, device='cuda:1', grad_fn=<NllLoss2DBackward>)\n",
      "tensor(236.8547, device='cuda:1', grad_fn=<AddBackward0>)\n",
      "Best loss: 237.3543701171875, Loss: 236.8546905517578\n",
      "epoch: 514 | loss: 0.15896287956493813\n"
     ]
    },
    {
     "name": "stderr",
     "output_type": "stream",
     "text": [
      "0.098: 100%|██████████████████████████████████████████████████████████████████████████████████████████████████████████████████████| 1490/1490 [00:35<00:00, 42.43it/s]\n"
     ]
    },
    {
     "name": "stdout",
     "output_type": "stream",
     "text": [
      "tensor(0.0983, device='cuda:1', grad_fn=<NllLoss2DBackward>)\n",
      "tensor(236.6223, device='cuda:1', grad_fn=<AddBackward0>)\n",
      "Best loss: 236.8546905517578, Loss: 236.62228393554688\n",
      "epoch: 515 | loss: 0.1588069019701657\n"
     ]
    },
    {
     "name": "stderr",
     "output_type": "stream",
     "text": [
      "0.211: 100%|██████████████████████████████████████████████████████████████████████████████████████████████████████████████████████| 1490/1490 [00:34<00:00, 43.51it/s]\n"
     ]
    },
    {
     "name": "stdout",
     "output_type": "stream",
     "text": [
      "tensor(0.2111, device='cuda:1', grad_fn=<NllLoss2DBackward>)\n",
      "tensor(236.4997, device='cuda:1', grad_fn=<AddBackward0>)\n",
      "Best loss: 236.62228393554688, Loss: 236.49969482421875\n",
      "epoch: 516 | loss: 0.15872462739880452\n"
     ]
    },
    {
     "name": "stderr",
     "output_type": "stream",
     "text": [
      "0.115: 100%|██████████████████████████████████████████████████████████████████████████████████████████████████████████████████████| 1490/1490 [00:35<00:00, 42.52it/s]\n"
     ]
    },
    {
     "name": "stdout",
     "output_type": "stream",
     "text": [
      "tensor(0.1147, device='cuda:1', grad_fn=<NllLoss2DBackward>)\n",
      "tensor(236.1455, device='cuda:1', grad_fn=<AddBackward0>)\n",
      "Best loss: 236.49969482421875, Loss: 236.14553833007812\n",
      "epoch: 517 | loss: 0.1584869384765625\n"
     ]
    },
    {
     "name": "stderr",
     "output_type": "stream",
     "text": [
      "0.099: 100%|██████████████████████████████████████████████████████████████████████████████████████████████████████████████████████| 1490/1490 [00:35<00:00, 41.68it/s]\n"
     ]
    },
    {
     "name": "stdout",
     "output_type": "stream",
     "text": [
      "tensor(0.0986, device='cuda:1', grad_fn=<NllLoss2DBackward>)\n",
      "tensor(236.3873, device='cuda:1', grad_fn=<AddBackward0>)\n",
      "epoch: 518 | loss: 0.1586491834397284\n"
     ]
    },
    {
     "name": "stderr",
     "output_type": "stream",
     "text": [
      "0.109: 100%|██████████████████████████████████████████████████████████████████████████████████████████████████████████████████████| 1490/1490 [00:35<00:00, 42.38it/s]\n"
     ]
    },
    {
     "name": "stdout",
     "output_type": "stream",
     "text": [
      "tensor(0.1090, device='cuda:1', grad_fn=<NllLoss2DBackward>)\n",
      "tensor(236.2505, device='cuda:1', grad_fn=<AddBackward0>)\n",
      "epoch: 519 | loss: 0.15855736444460466\n"
     ]
    },
    {
     "name": "stderr",
     "output_type": "stream",
     "text": [
      "0.133: 100%|██████████████████████████████████████████████████████████████████████████████████████████████████████████████████████| 1490/1490 [00:36<00:00, 40.83it/s]\n"
     ]
    },
    {
     "name": "stdout",
     "output_type": "stream",
     "text": [
      "tensor(0.1332, device='cuda:1', grad_fn=<NllLoss2DBackward>)\n",
      "tensor(235.8949, device='cuda:1', grad_fn=<AddBackward0>)\n",
      "Best loss: 236.14553833007812, Loss: 235.89486694335938\n",
      "epoch: 520 | loss: 0.1583187026465499\n"
     ]
    },
    {
     "name": "stderr",
     "output_type": "stream",
     "text": [
      "0.166: 100%|██████████████████████████████████████████████████████████████████████████████████████████████████████████████████████| 1490/1490 [00:35<00:00, 41.73it/s]\n"
     ]
    },
    {
     "name": "stdout",
     "output_type": "stream",
     "text": [
      "tensor(0.1656, device='cuda:1', grad_fn=<NllLoss2DBackward>)\n",
      "tensor(235.6706, device='cuda:1', grad_fn=<AddBackward0>)\n",
      "Best loss: 235.89486694335938, Loss: 235.6706085205078\n",
      "epoch: 521 | loss: 0.1581681936379247\n"
     ]
    },
    {
     "name": "stderr",
     "output_type": "stream",
     "text": [
      "0.147: 100%|██████████████████████████████████████████████████████████████████████████████████████████████████████████████████████| 1490/1490 [00:36<00:00, 41.05it/s]\n"
     ]
    },
    {
     "name": "stdout",
     "output_type": "stream",
     "text": [
      "tensor(0.1472, device='cuda:1', grad_fn=<NllLoss2DBackward>)\n",
      "tensor(235.2700, device='cuda:1', grad_fn=<AddBackward0>)\n",
      "Best loss: 235.6706085205078, Loss: 235.2699737548828\n",
      "epoch: 522 | loss: 0.1578993112448878\n"
     ]
    },
    {
     "name": "stderr",
     "output_type": "stream",
     "text": [
      "0.053: 100%|██████████████████████████████████████████████████████████████████████████████████████████████████████████████████████| 1490/1490 [00:34<00:00, 42.73it/s]\n"
     ]
    },
    {
     "name": "stdout",
     "output_type": "stream",
     "text": [
      "tensor(0.0532, device='cuda:1', grad_fn=<NllLoss2DBackward>)\n",
      "tensor(234.9058, device='cuda:1', grad_fn=<AddBackward0>)\n",
      "Best loss: 235.2699737548828, Loss: 234.9058074951172\n",
      "epoch: 523 | loss: 0.15765490435913906\n"
     ]
    },
    {
     "name": "stderr",
     "output_type": "stream",
     "text": [
      "0.165: 100%|██████████████████████████████████████████████████████████████████████████████████████████████████████████████████████| 1490/1490 [00:36<00:00, 41.16it/s]\n"
     ]
    },
    {
     "name": "stdout",
     "output_type": "stream",
     "text": [
      "tensor(0.1645, device='cuda:1', grad_fn=<NllLoss2DBackward>)\n",
      "tensor(234.9908, device='cuda:1', grad_fn=<AddBackward0>)\n",
      "epoch: 524 | loss: 0.157711966085754\n"
     ]
    },
    {
     "name": "stderr",
     "output_type": "stream",
     "text": [
      "0.137: 100%|██████████████████████████████████████████████████████████████████████████████████████████████████████████████████████| 1490/1490 [00:36<00:00, 40.96it/s]\n"
     ]
    },
    {
     "name": "stdout",
     "output_type": "stream",
     "text": [
      "tensor(0.1366, device='cuda:1', grad_fn=<NllLoss2DBackward>)\n",
      "tensor(234.2667, device='cuda:1', grad_fn=<AddBackward0>)\n",
      "Best loss: 234.9058074951172, Loss: 234.26670837402344\n",
      "epoch: 525 | loss: 0.1572259787745124\n"
     ]
    },
    {
     "name": "stderr",
     "output_type": "stream",
     "text": [
      "0.157: 100%|██████████████████████████████████████████████████████████████████████████████████████████████████████████████████████| 1490/1490 [00:34<00:00, 43.44it/s]\n"
     ]
    },
    {
     "name": "stdout",
     "output_type": "stream",
     "text": [
      "tensor(0.1572, device='cuda:1', grad_fn=<NllLoss2DBackward>)\n",
      "tensor(234.9832, device='cuda:1', grad_fn=<AddBackward0>)\n",
      "epoch: 526 | loss: 0.15770681496434563\n"
     ]
    },
    {
     "name": "stderr",
     "output_type": "stream",
     "text": [
      "0.271: 100%|██████████████████████████████████████████████████████████████████████████████████████████████████████████████████████| 1490/1490 [00:34<00:00, 43.05it/s]\n"
     ]
    },
    {
     "name": "stdout",
     "output_type": "stream",
     "text": [
      "tensor(0.2713, device='cuda:1', grad_fn=<NllLoss2DBackward>)\n",
      "tensor(234.7162, device='cuda:1', grad_fn=<AddBackward0>)\n",
      "epoch: 527 | loss: 0.15752767268443268\n"
     ]
    },
    {
     "name": "stderr",
     "output_type": "stream",
     "text": [
      "0.127: 100%|██████████████████████████████████████████████████████████████████████████████████████████████████████████████████████| 1490/1490 [00:35<00:00, 42.04it/s]\n"
     ]
    },
    {
     "name": "stdout",
     "output_type": "stream",
     "text": [
      "tensor(0.1266, device='cuda:1', grad_fn=<NllLoss2DBackward>)\n",
      "tensor(235.3185, device='cuda:1', grad_fn=<AddBackward0>)\n",
      "epoch: 528 | loss: 0.1579318462602244\n"
     ]
    },
    {
     "name": "stderr",
     "output_type": "stream",
     "text": [
      "0.122: 100%|██████████████████████████████████████████████████████████████████████████████████████████████████████████████████████| 1490/1490 [00:36<00:00, 40.97it/s]\n"
     ]
    },
    {
     "name": "stdout",
     "output_type": "stream",
     "text": [
      "tensor(0.1222, device='cuda:1', grad_fn=<NllLoss2DBackward>)\n",
      "tensor(234.3300, device='cuda:1', grad_fn=<AddBackward0>)\n",
      "epoch: 529 | loss: 0.15726845760473468\n"
     ]
    },
    {
     "name": "stderr",
     "output_type": "stream",
     "text": [
      "0.083: 100%|██████████████████████████████████████████████████████████████████████████████████████████████████████████████████████| 1490/1490 [00:36<00:00, 40.81it/s]\n"
     ]
    },
    {
     "name": "stdout",
     "output_type": "stream",
     "text": [
      "tensor(0.0829, device='cuda:1', grad_fn=<NllLoss2DBackward>)\n",
      "tensor(233.3231, device='cuda:1', grad_fn=<AddBackward0>)\n",
      "Best loss: 234.26670837402344, Loss: 233.32308959960938\n",
      "epoch: 530 | loss: 0.15659267758363046\n"
     ]
    },
    {
     "name": "stderr",
     "output_type": "stream",
     "text": [
      "0.179: 100%|██████████████████████████████████████████████████████████████████████████████████████████████████████████████████████| 1490/1490 [00:36<00:00, 40.80it/s]\n"
     ]
    },
    {
     "name": "stdout",
     "output_type": "stream",
     "text": [
      "tensor(0.1789, device='cuda:1', grad_fn=<NllLoss2DBackward>)\n",
      "tensor(233.7341, device='cuda:1', grad_fn=<AddBackward0>)\n",
      "epoch: 531 | loss: 0.15686854420092283\n"
     ]
    },
    {
     "name": "stderr",
     "output_type": "stream",
     "text": [
      "0.209: 100%|██████████████████████████████████████████████████████████████████████████████████████████████████████████████████████| 1490/1490 [00:36<00:00, 41.26it/s]\n"
     ]
    },
    {
     "name": "stdout",
     "output_type": "stream",
     "text": [
      "tensor(0.2085, device='cuda:1', grad_fn=<NllLoss2DBackward>)\n",
      "tensor(233.3128, device='cuda:1', grad_fn=<AddBackward0>)\n",
      "Best loss: 233.32308959960938, Loss: 233.31283569335938\n",
      "epoch: 532 | loss: 0.1565857957673553\n"
     ]
    },
    {
     "name": "stderr",
     "output_type": "stream",
     "text": [
      "0.165: 100%|██████████████████████████████████████████████████████████████████████████████████████████████████████████████████████| 1490/1490 [00:35<00:00, 42.22it/s]\n"
     ]
    },
    {
     "name": "stdout",
     "output_type": "stream",
     "text": [
      "tensor(0.1654, device='cuda:1', grad_fn=<NllLoss2DBackward>)\n",
      "tensor(233.3255, device='cuda:1', grad_fn=<AddBackward0>)\n",
      "epoch: 533 | loss: 0.15659432635211304\n"
     ]
    },
    {
     "name": "stderr",
     "output_type": "stream",
     "text": [
      "0.086: 100%|██████████████████████████████████████████████████████████████████████████████████████████████████████████████████████| 1490/1490 [00:34<00:00, 43.06it/s]\n"
     ]
    },
    {
     "name": "stdout",
     "output_type": "stream",
     "text": [
      "tensor(0.0856, device='cuda:1', grad_fn=<NllLoss2DBackward>)\n",
      "tensor(233.2534, device='cuda:1', grad_fn=<AddBackward0>)\n",
      "Best loss: 233.31283569335938, Loss: 233.25341796875\n",
      "epoch: 534 | loss: 0.1565459180998322\n"
     ]
    },
    {
     "name": "stderr",
     "output_type": "stream",
     "text": [
      "0.248: 100%|██████████████████████████████████████████████████████████████████████████████████████████████████████████████████████| 1490/1490 [00:35<00:00, 41.86it/s]\n"
     ]
    },
    {
     "name": "stdout",
     "output_type": "stream",
     "text": [
      "tensor(0.2479, device='cuda:1', grad_fn=<NllLoss2DBackward>)\n",
      "tensor(232.5520, device='cuda:1', grad_fn=<AddBackward0>)\n",
      "Best loss: 233.25341796875, Loss: 232.55197143554688\n",
      "epoch: 535 | loss: 0.15607514861446098\n"
     ]
    },
    {
     "name": "stderr",
     "output_type": "stream",
     "text": [
      "0.169: 100%|██████████████████████████████████████████████████████████████████████████████████████████████████████████████████████| 1490/1490 [00:34<00:00, 43.13it/s]\n"
     ]
    },
    {
     "name": "stdout",
     "output_type": "stream",
     "text": [
      "tensor(0.1695, device='cuda:1', grad_fn=<NllLoss2DBackward>)\n",
      "tensor(232.6631, device='cuda:1', grad_fn=<AddBackward0>)\n",
      "epoch: 536 | loss: 0.15614974258730074\n"
     ]
    },
    {
     "name": "stderr",
     "output_type": "stream",
     "text": [
      "0.129: 100%|██████████████████████████████████████████████████████████████████████████████████████████████████████████████████████| 1490/1490 [00:36<00:00, 41.39it/s]\n"
     ]
    },
    {
     "name": "stdout",
     "output_type": "stream",
     "text": [
      "tensor(0.1290, device='cuda:1', grad_fn=<NllLoss2DBackward>)\n",
      "tensor(232.5513, device='cuda:1', grad_fn=<AddBackward0>)\n",
      "Best loss: 232.55197143554688, Loss: 232.5513458251953\n",
      "epoch: 537 | loss: 0.15607472874174183\n"
     ]
    },
    {
     "name": "stderr",
     "output_type": "stream",
     "text": [
      "0.198: 100%|██████████████████████████████████████████████████████████████████████████████████████████████████████████████████████| 1490/1490 [00:35<00:00, 41.93it/s]\n"
     ]
    },
    {
     "name": "stdout",
     "output_type": "stream",
     "text": [
      "tensor(0.1976, device='cuda:1', grad_fn=<NllLoss2DBackward>)\n",
      "tensor(232.3772, device='cuda:1', grad_fn=<AddBackward0>)\n",
      "Best loss: 232.5513458251953, Loss: 232.37718200683594\n",
      "epoch: 538 | loss: 0.15595784027304424\n"
     ]
    },
    {
     "name": "stderr",
     "output_type": "stream",
     "text": [
      "0.198: 100%|██████████████████████████████████████████████████████████████████████████████████████████████████████████████████████| 1490/1490 [00:36<00:00, 41.15it/s]\n"
     ]
    },
    {
     "name": "stdout",
     "output_type": "stream",
     "text": [
      "tensor(0.1982, device='cuda:1', grad_fn=<NllLoss2DBackward>)\n",
      "tensor(232.3577, device='cuda:1', grad_fn=<AddBackward0>)\n",
      "Best loss: 232.37718200683594, Loss: 232.3577117919922\n",
      "epoch: 539 | loss: 0.15594477301475987\n"
     ]
    },
    {
     "name": "stderr",
     "output_type": "stream",
     "text": [
      "0.165: 100%|██████████████████████████████████████████████████████████████████████████████████████████████████████████████████████| 1490/1490 [00:36<00:00, 41.31it/s]\n"
     ]
    },
    {
     "name": "stdout",
     "output_type": "stream",
     "text": [
      "tensor(0.1645, device='cuda:1', grad_fn=<NllLoss2DBackward>)\n",
      "tensor(232.7860, device='cuda:1', grad_fn=<AddBackward0>)\n",
      "epoch: 540 | loss: 0.1562321912522284\n"
     ]
    },
    {
     "name": "stderr",
     "output_type": "stream",
     "text": [
      "0.139: 100%|██████████████████████████████████████████████████████████████████████████████████████████████████████████████████████| 1490/1490 [00:36<00:00, 41.19it/s]\n"
     ]
    },
    {
     "name": "stdout",
     "output_type": "stream",
     "text": [
      "tensor(0.1393, device='cuda:1', grad_fn=<NllLoss2DBackward>)\n",
      "tensor(232.0581, device='cuda:1', grad_fn=<AddBackward0>)\n",
      "Best loss: 232.3577117919922, Loss: 232.05813598632812\n",
      "epoch: 541 | loss: 0.15574371542706586\n"
     ]
    },
    {
     "name": "stderr",
     "output_type": "stream",
     "text": [
      "0.163: 100%|██████████████████████████████████████████████████████████████████████████████████████████████████████████████████████| 1490/1490 [00:36<00:00, 41.06it/s]\n"
     ]
    },
    {
     "name": "stdout",
     "output_type": "stream",
     "text": [
      "tensor(0.1629, device='cuda:1', grad_fn=<NllLoss2DBackward>)\n",
      "tensor(232.4318, device='cuda:1', grad_fn=<AddBackward0>)\n",
      "epoch: 542 | loss: 0.15599447160759228\n"
     ]
    },
    {
     "name": "stderr",
     "output_type": "stream",
     "text": [
      "0.126: 100%|██████████████████████████████████████████████████████████████████████████████████████████████████████████████████████| 1490/1490 [00:35<00:00, 42.24it/s]\n"
     ]
    },
    {
     "name": "stdout",
     "output_type": "stream",
     "text": [
      "tensor(0.1265, device='cuda:1', grad_fn=<NllLoss2DBackward>)\n",
      "tensor(230.8607, device='cuda:1', grad_fn=<AddBackward0>)\n",
      "Best loss: 232.05813598632812, Loss: 230.8606719970703\n",
      "epoch: 543 | loss: 0.1549400483201814\n"
     ]
    },
    {
     "name": "stderr",
     "output_type": "stream",
     "text": [
      "0.205: 100%|██████████████████████████████████████████████████████████████████████████████████████████████████████████████████████| 1490/1490 [00:35<00:00, 41.91it/s]\n"
     ]
    },
    {
     "name": "stdout",
     "output_type": "stream",
     "text": [
      "tensor(0.2054, device='cuda:1', grad_fn=<NllLoss2DBackward>)\n",
      "tensor(231.1335, device='cuda:1', grad_fn=<AddBackward0>)\n",
      "epoch: 544 | loss: 0.1551231537889314\n"
     ]
    },
    {
     "name": "stderr",
     "output_type": "stream",
     "text": [
      "0.162: 100%|██████████████████████████████████████████████████████████████████████████████████████████████████████████████████████| 1490/1490 [00:36<00:00, 40.83it/s]\n"
     ]
    },
    {
     "name": "stdout",
     "output_type": "stream",
     "text": [
      "tensor(0.1621, device='cuda:1', grad_fn=<NllLoss2DBackward>)\n",
      "tensor(231.5092, device='cuda:1', grad_fn=<AddBackward0>)\n",
      "epoch: 545 | loss: 0.15537528223639366\n"
     ]
    },
    {
     "name": "stderr",
     "output_type": "stream",
     "text": [
      "0.265: 100%|██████████████████████████████████████████████████████████████████████████████████████████████████████████████████████| 1490/1490 [00:35<00:00, 41.42it/s]\n"
     ]
    },
    {
     "name": "stdout",
     "output_type": "stream",
     "text": [
      "tensor(0.2647, device='cuda:1', grad_fn=<NllLoss2DBackward>)\n",
      "tensor(230.5604, device='cuda:1', grad_fn=<AddBackward0>)\n",
      "Best loss: 230.8606719970703, Loss: 230.56044006347656\n",
      "epoch: 546 | loss: 0.1547385503781722\n"
     ]
    },
    {
     "name": "stderr",
     "output_type": "stream",
     "text": [
      "0.207: 100%|██████████████████████████████████████████████████████████████████████████████████████████████████████████████████████| 1490/1490 [00:36<00:00, 41.33it/s]\n"
     ]
    },
    {
     "name": "stdout",
     "output_type": "stream",
     "text": [
      "tensor(0.2067, device='cuda:1', grad_fn=<NllLoss2DBackward>)\n",
      "tensor(230.1793, device='cuda:1', grad_fn=<AddBackward0>)\n",
      "Best loss: 230.56044006347656, Loss: 230.17929077148438\n",
      "epoch: 547 | loss: 0.1544827454842177\n"
     ]
    },
    {
     "name": "stderr",
     "output_type": "stream",
     "text": [
      "0.190: 100%|██████████████████████████████████████████████████████████████████████████████████████████████████████████████████████| 1490/1490 [00:34<00:00, 42.78it/s]\n"
     ]
    },
    {
     "name": "stdout",
     "output_type": "stream",
     "text": [
      "tensor(0.1896, device='cuda:1', grad_fn=<NllLoss2DBackward>)\n",
      "tensor(230.4308, device='cuda:1', grad_fn=<AddBackward0>)\n",
      "epoch: 548 | loss: 0.15465157528051593\n"
     ]
    },
    {
     "name": "stderr",
     "output_type": "stream",
     "text": [
      "0.185: 100%|██████████████████████████████████████████████████████████████████████████████████████████████████████████████████████| 1490/1490 [00:36<00:00, 41.35it/s]\n"
     ]
    },
    {
     "name": "stdout",
     "output_type": "stream",
     "text": [
      "tensor(0.1855, device='cuda:1', grad_fn=<NllLoss2DBackward>)\n",
      "tensor(230.8668, device='cuda:1', grad_fn=<AddBackward0>)\n",
      "epoch: 549 | loss: 0.15494416512098888\n"
     ]
    },
    {
     "name": "stderr",
     "output_type": "stream",
     "text": [
      "0.260: 100%|██████████████████████████████████████████████████████████████████████████████████████████████████████████████████████| 1490/1490 [00:35<00:00, 41.88it/s]\n"
     ]
    },
    {
     "name": "stdout",
     "output_type": "stream",
     "text": [
      "tensor(0.2605, device='cuda:1', grad_fn=<NllLoss2DBackward>)\n",
      "tensor(230.1790, device='cuda:1', grad_fn=<AddBackward0>)\n",
      "Best loss: 230.17929077148438, Loss: 230.17897033691406\n",
      "epoch: 550 | loss: 0.1544825304274591\n"
     ]
    },
    {
     "name": "stderr",
     "output_type": "stream",
     "text": [
      "0.111: 100%|██████████████████████████████████████████████████████████████████████████████████████████████████████████████████████| 1490/1490 [00:35<00:00, 42.15it/s]\n"
     ]
    },
    {
     "name": "stdout",
     "output_type": "stream",
     "text": [
      "tensor(0.1108, device='cuda:1', grad_fn=<NllLoss2DBackward>)\n",
      "tensor(230.0578, device='cuda:1', grad_fn=<AddBackward0>)\n",
      "Best loss: 230.17897033691406, Loss: 230.05783081054688\n",
      "epoch: 551 | loss: 0.15440122873191064\n"
     ]
    },
    {
     "name": "stderr",
     "output_type": "stream",
     "text": [
      "0.166: 100%|██████████████████████████████████████████████████████████████████████████████████████████████████████████████████████| 1490/1490 [00:34<00:00, 43.74it/s]\n"
     ]
    },
    {
     "name": "stdout",
     "output_type": "stream",
     "text": [
      "tensor(0.1655, device='cuda:1', grad_fn=<NllLoss2DBackward>)\n",
      "tensor(229.0482, device='cuda:1', grad_fn=<AddBackward0>)\n",
      "Best loss: 230.05783081054688, Loss: 229.04820251464844\n",
      "epoch: 552 | loss: 0.15372362584875734\n"
     ]
    },
    {
     "name": "stderr",
     "output_type": "stream",
     "text": [
      "0.146: 100%|██████████████████████████████████████████████████████████████████████████████████████████████████████████████████████| 1490/1490 [00:35<00:00, 42.55it/s]\n"
     ]
    },
    {
     "name": "stdout",
     "output_type": "stream",
     "text": [
      "tensor(0.1460, device='cuda:1', grad_fn=<NllLoss2DBackward>)\n",
      "tensor(229.2449, device='cuda:1', grad_fn=<AddBackward0>)\n",
      "epoch: 553 | loss: 0.15385563997614304\n"
     ]
    },
    {
     "name": "stderr",
     "output_type": "stream",
     "text": [
      "0.166: 100%|██████████████████████████████████████████████████████████████████████████████████████████████████████████████████████| 1490/1490 [00:36<00:00, 41.10it/s]\n"
     ]
    },
    {
     "name": "stdout",
     "output_type": "stream",
     "text": [
      "tensor(0.1659, device='cuda:1', grad_fn=<NllLoss2DBackward>)\n",
      "tensor(228.4765, device='cuda:1', grad_fn=<AddBackward0>)\n",
      "Best loss: 229.04820251464844, Loss: 228.47645568847656\n",
      "epoch: 554 | loss: 0.15333990314662857\n"
     ]
    },
    {
     "name": "stderr",
     "output_type": "stream",
     "text": [
      "0.119: 100%|██████████████████████████████████████████████████████████████████████████████████████████████████████████████████████| 1490/1490 [00:34<00:00, 42.69it/s]\n"
     ]
    },
    {
     "name": "stdout",
     "output_type": "stream",
     "text": [
      "tensor(0.1195, device='cuda:1', grad_fn=<NllLoss2DBackward>)\n",
      "tensor(229.1140, device='cuda:1', grad_fn=<AddBackward0>)\n",
      "epoch: 555 | loss: 0.15376781489225042\n"
     ]
    },
    {
     "name": "stderr",
     "output_type": "stream",
     "text": [
      "0.145: 100%|██████████████████████████████████████████████████████████████████████████████████████████████████████████████████████| 1490/1490 [00:36<00:00, 40.40it/s]\n"
     ]
    },
    {
     "name": "stdout",
     "output_type": "stream",
     "text": [
      "tensor(0.1446, device='cuda:1', grad_fn=<NllLoss2DBackward>)\n",
      "tensor(228.4344, device='cuda:1', grad_fn=<AddBackward0>)\n",
      "Best loss: 228.47645568847656, Loss: 228.4344482421875\n",
      "epoch: 556 | loss: 0.15331171022965603\n"
     ]
    },
    {
     "name": "stderr",
     "output_type": "stream",
     "text": [
      "0.131: 100%|██████████████████████████████████████████████████████████████████████████████████████████████████████████████████████| 1490/1490 [00:37<00:00, 39.86it/s]\n"
     ]
    },
    {
     "name": "stdout",
     "output_type": "stream",
     "text": [
      "tensor(0.1307, device='cuda:1', grad_fn=<NllLoss2DBackward>)\n",
      "tensor(228.6491, device='cuda:1', grad_fn=<AddBackward0>)\n",
      "epoch: 557 | loss: 0.15345576753552329\n"
     ]
    },
    {
     "name": "stderr",
     "output_type": "stream",
     "text": [
      "0.064: 100%|██████████████████████████████████████████████████████████████████████████████████████████████████████████████████████| 1490/1490 [00:36<00:00, 40.76it/s]\n"
     ]
    },
    {
     "name": "stdout",
     "output_type": "stream",
     "text": [
      "tensor(0.0643, device='cuda:1', grad_fn=<NllLoss2DBackward>)\n",
      "tensor(227.9734, device='cuda:1', grad_fn=<AddBackward0>)\n",
      "Best loss: 228.4344482421875, Loss: 227.97340393066406\n",
      "epoch: 558 | loss: 0.1530022845172242\n"
     ]
    },
    {
     "name": "stderr",
     "output_type": "stream",
     "text": [
      "0.149: 100%|██████████████████████████████████████████████████████████████████████████████████████████████████████████████████████| 1490/1490 [00:34<00:00, 43.80it/s]\n"
     ]
    },
    {
     "name": "stdout",
     "output_type": "stream",
     "text": [
      "tensor(0.1491, device='cuda:1', grad_fn=<NllLoss2DBackward>)\n",
      "tensor(227.1792, device='cuda:1', grad_fn=<AddBackward0>)\n",
      "Best loss: 227.97340393066406, Loss: 227.17922973632812\n",
      "epoch: 559 | loss: 0.15246928170223364\n"
     ]
    },
    {
     "name": "stderr",
     "output_type": "stream",
     "text": [
      "0.177: 100%|██████████████████████████████████████████████████████████████████████████████████████████████████████████████████████| 1490/1490 [00:38<00:00, 38.92it/s]\n"
     ]
    },
    {
     "name": "stdout",
     "output_type": "stream",
     "text": [
      "tensor(0.1773, device='cuda:1', grad_fn=<NllLoss2DBackward>)\n",
      "tensor(229.3067, device='cuda:1', grad_fn=<AddBackward0>)\n",
      "epoch: 560 | loss: 0.1538971254489566\n"
     ]
    },
    {
     "name": "stderr",
     "output_type": "stream",
     "text": [
      "0.139: 100%|██████████████████████████████████████████████████████████████████████████████████████████████████████████████████████| 1490/1490 [00:35<00:00, 41.56it/s]\n"
     ]
    },
    {
     "name": "stdout",
     "output_type": "stream",
     "text": [
      "tensor(0.1392, device='cuda:1', grad_fn=<NllLoss2DBackward>)\n",
      "tensor(228.6069, device='cuda:1', grad_fn=<AddBackward0>)\n",
      "epoch: 561 | loss: 0.15342744148817639\n"
     ]
    },
    {
     "name": "stderr",
     "output_type": "stream",
     "text": [
      "0.231: 100%|██████████████████████████████████████████████████████████████████████████████████████████████████████████████████████| 1490/1490 [00:37<00:00, 40.24it/s]\n"
     ]
    },
    {
     "name": "stdout",
     "output_type": "stream",
     "text": [
      "tensor(0.2307, device='cuda:1', grad_fn=<NllLoss2DBackward>)\n",
      "tensor(227.5053, device='cuda:1', grad_fn=<AddBackward0>)\n",
      "epoch: 562 | loss: 0.1526881275561032\n"
     ]
    },
    {
     "name": "stderr",
     "output_type": "stream",
     "text": [
      "0.208: 100%|██████████████████████████████████████████████████████████████████████████████████████████████████████████████████████| 1490/1490 [00:35<00:00, 42.11it/s]\n"
     ]
    },
    {
     "name": "stdout",
     "output_type": "stream",
     "text": [
      "tensor(0.2082, device='cuda:1', grad_fn=<NllLoss2DBackward>)\n",
      "tensor(227.9317, device='cuda:1', grad_fn=<AddBackward0>)\n",
      "epoch: 563 | loss: 0.15297430665701028\n"
     ]
    },
    {
     "name": "stderr",
     "output_type": "stream",
     "text": [
      "0.234: 100%|██████████████████████████████████████████████████████████████████████████████████████████████████████████████████████| 1490/1490 [00:36<00:00, 41.11it/s]\n"
     ]
    },
    {
     "name": "stdout",
     "output_type": "stream",
     "text": [
      "tensor(0.2338, device='cuda:1', grad_fn=<NllLoss2DBackward>)\n",
      "tensor(227.2901, device='cuda:1', grad_fn=<AddBackward0>)\n",
      "epoch: 564 | loss: 0.152543722063103\n"
     ]
    },
    {
     "name": "stderr",
     "output_type": "stream",
     "text": [
      "0.127: 100%|██████████████████████████████████████████████████████████████████████████████████████████████████████████████████████| 1490/1490 [00:35<00:00, 42.32it/s]\n"
     ]
    },
    {
     "name": "stdout",
     "output_type": "stream",
     "text": [
      "tensor(0.1273, device='cuda:1', grad_fn=<NllLoss2DBackward>)\n",
      "tensor(227.2295, device='cuda:1', grad_fn=<AddBackward0>)\n",
      "epoch: 565 | loss: 0.1525030456133337\n"
     ]
    },
    {
     "name": "stderr",
     "output_type": "stream",
     "text": [
      "0.104: 100%|██████████████████████████████████████████████████████████████████████████████████████████████████████████████████████| 1490/1490 [00:36<00:00, 41.01it/s]\n"
     ]
    },
    {
     "name": "stdout",
     "output_type": "stream",
     "text": [
      "tensor(0.1041, device='cuda:1', grad_fn=<NllLoss2DBackward>)\n",
      "tensor(227.5350, device='cuda:1', grad_fn=<AddBackward0>)\n",
      "epoch: 566 | loss: 0.15270803566747063\n"
     ]
    },
    {
     "name": "stderr",
     "output_type": "stream",
     "text": [
      "0.181: 100%|██████████████████████████████████████████████████████████████████████████████████████████████████████████████████████| 1490/1490 [00:36<00:00, 40.94it/s]\n"
     ]
    },
    {
     "name": "stdout",
     "output_type": "stream",
     "text": [
      "tensor(0.1815, device='cuda:1', grad_fn=<NllLoss2DBackward>)\n",
      "tensor(227.3118, device='cuda:1', grad_fn=<AddBackward0>)\n",
      "epoch: 567 | loss: 0.1525582742371015\n"
     ]
    },
    {
     "name": "stderr",
     "output_type": "stream",
     "text": [
      "0.081: 100%|██████████████████████████████████████████████████████████████████████████████████████████████████████████████████████| 1490/1490 [00:36<00:00, 41.02it/s]\n"
     ]
    },
    {
     "name": "stdout",
     "output_type": "stream",
     "text": [
      "tensor(0.0805, device='cuda:1', grad_fn=<NllLoss2DBackward>)\n",
      "tensor(226.3188, device='cuda:1', grad_fn=<AddBackward0>)\n",
      "Best loss: 227.17922973632812, Loss: 226.3188018798828\n",
      "epoch: 568 | loss: 0.15189181334220322\n"
     ]
    },
    {
     "name": "stderr",
     "output_type": "stream",
     "text": [
      "0.137: 100%|██████████████████████████████████████████████████████████████████████████████████████████████████████████████████████| 1490/1490 [00:35<00:00, 42.57it/s]\n"
     ]
    },
    {
     "name": "stdout",
     "output_type": "stream",
     "text": [
      "tensor(0.1375, device='cuda:1', grad_fn=<NllLoss2DBackward>)\n",
      "tensor(226.6384, device='cuda:1', grad_fn=<AddBackward0>)\n",
      "epoch: 569 | loss: 0.1521062863753146\n"
     ]
    },
    {
     "name": "stderr",
     "output_type": "stream",
     "text": [
      "0.195: 100%|██████████████████████████████████████████████████████████████████████████████████████████████████████████████████████| 1490/1490 [00:35<00:00, 41.75it/s]\n"
     ]
    },
    {
     "name": "stdout",
     "output_type": "stream",
     "text": [
      "tensor(0.1954, device='cuda:1', grad_fn=<NllLoss2DBackward>)\n",
      "tensor(227.0187, device='cuda:1', grad_fn=<AddBackward0>)\n",
      "epoch: 570 | loss: 0.1523615177845795\n"
     ]
    },
    {
     "name": "stderr",
     "output_type": "stream",
     "text": [
      "0.242: 100%|██████████████████████████████████████████████████████████████████████████████████████████████████████████████████████| 1490/1490 [00:36<00:00, 40.60it/s]\n"
     ]
    },
    {
     "name": "stdout",
     "output_type": "stream",
     "text": [
      "tensor(0.2417, device='cuda:1', grad_fn=<NllLoss2DBackward>)\n",
      "tensor(226.5147, device='cuda:1', grad_fn=<AddBackward0>)\n",
      "epoch: 571 | loss: 0.15202330518888948\n"
     ]
    },
    {
     "name": "stderr",
     "output_type": "stream",
     "text": [
      "0.125: 100%|██████████████████████████████████████████████████████████████████████████████████████████████████████████████████████| 1490/1490 [00:35<00:00, 41.45it/s]\n"
     ]
    },
    {
     "name": "stdout",
     "output_type": "stream",
     "text": [
      "tensor(0.1255, device='cuda:1', grad_fn=<NllLoss2DBackward>)\n",
      "tensor(226.0870, device='cuda:1', grad_fn=<AddBackward0>)\n",
      "Best loss: 226.3188018798828, Loss: 226.08700561523438\n",
      "epoch: 572 | loss: 0.15173624537935193\n"
     ]
    },
    {
     "name": "stderr",
     "output_type": "stream",
     "text": [
      "0.095: 100%|██████████████████████████████████████████████████████████████████████████████████████████████████████████████████████| 1490/1490 [00:36<00:00, 40.92it/s]\n"
     ]
    },
    {
     "name": "stdout",
     "output_type": "stream",
     "text": [
      "tensor(0.0954, device='cuda:1', grad_fn=<NllLoss2DBackward>)\n",
      "tensor(224.5968, device='cuda:1', grad_fn=<AddBackward0>)\n",
      "Best loss: 226.08700561523438, Loss: 224.59678649902344\n",
      "epoch: 573 | loss: 0.15073609832149223\n"
     ]
    },
    {
     "name": "stderr",
     "output_type": "stream",
     "text": [
      "0.120: 100%|██████████████████████████████████████████████████████████████████████████████████████████████████████████████████████| 1490/1490 [00:36<00:00, 41.23it/s]\n"
     ]
    },
    {
     "name": "stdout",
     "output_type": "stream",
     "text": [
      "tensor(0.1205, device='cuda:1', grad_fn=<NllLoss2DBackward>)\n",
      "tensor(225.5873, device='cuda:1', grad_fn=<AddBackward0>)\n",
      "epoch: 574 | loss: 0.15140085924391777\n"
     ]
    },
    {
     "name": "stderr",
     "output_type": "stream",
     "text": [
      "0.138: 100%|██████████████████████████████████████████████████████████████████████████████████████████████████████████████████████| 1490/1490 [00:36<00:00, 40.75it/s]\n"
     ]
    },
    {
     "name": "stdout",
     "output_type": "stream",
     "text": [
      "tensor(0.1385, device='cuda:1', grad_fn=<NllLoss2DBackward>)\n",
      "tensor(224.7693, device='cuda:1', grad_fn=<AddBackward0>)\n",
      "epoch: 575 | loss: 0.15085186030240666\n"
     ]
    },
    {
     "name": "stderr",
     "output_type": "stream",
     "text": [
      "0.110: 100%|██████████████████████████████████████████████████████████████████████████████████████████████████████████████████████| 1490/1490 [00:34<00:00, 42.78it/s]\n"
     ]
    },
    {
     "name": "stdout",
     "output_type": "stream",
     "text": [
      "tensor(0.1103, device='cuda:1', grad_fn=<NllLoss2DBackward>)\n",
      "tensor(225.3393, device='cuda:1', grad_fn=<AddBackward0>)\n",
      "epoch: 576 | loss: 0.15123441555356018\n"
     ]
    },
    {
     "name": "stderr",
     "output_type": "stream",
     "text": [
      "0.126: 100%|██████████████████████████████████████████████████████████████████████████████████████████████████████████████████████| 1490/1490 [00:34<00:00, 43.33it/s]\n"
     ]
    },
    {
     "name": "stdout",
     "output_type": "stream",
     "text": [
      "tensor(0.1259, device='cuda:1', grad_fn=<NllLoss2DBackward>)\n",
      "tensor(225.5661, device='cuda:1', grad_fn=<AddBackward0>)\n",
      "epoch: 577 | loss: 0.1513866142938601\n"
     ]
    },
    {
     "name": "stderr",
     "output_type": "stream",
     "text": [
      "0.164: 100%|██████████████████████████████████████████████████████████████████████████████████████████████████████████████████████| 1490/1490 [00:36<00:00, 41.20it/s]\n"
     ]
    },
    {
     "name": "stdout",
     "output_type": "stream",
     "text": [
      "tensor(0.1642, device='cuda:1', grad_fn=<NllLoss2DBackward>)\n",
      "tensor(225.2111, device='cuda:1', grad_fn=<AddBackward0>)\n",
      "epoch: 578 | loss: 0.15114838260932256\n"
     ]
    },
    {
     "name": "stderr",
     "output_type": "stream",
     "text": [
      "0.203: 100%|██████████████████████████████████████████████████████████████████████████████████████████████████████████████████████| 1490/1490 [00:35<00:00, 42.16it/s]\n"
     ]
    },
    {
     "name": "stdout",
     "output_type": "stream",
     "text": [
      "tensor(0.2026, device='cuda:1', grad_fn=<NllLoss2DBackward>)\n",
      "tensor(225.2595, device='cuda:1', grad_fn=<AddBackward0>)\n",
      "epoch: 579 | loss: 0.1511808869022651\n"
     ]
    },
    {
     "name": "stderr",
     "output_type": "stream",
     "text": [
      "0.173: 100%|██████████████████████████████████████████████████████████████████████████████████████████████████████████████████████| 1490/1490 [00:35<00:00, 41.93it/s]\n"
     ]
    },
    {
     "name": "stdout",
     "output_type": "stream",
     "text": [
      "tensor(0.1731, device='cuda:1', grad_fn=<NllLoss2DBackward>)\n",
      "tensor(224.8092, device='cuda:1', grad_fn=<AddBackward0>)\n",
      "epoch: 580 | loss: 0.1508786911932414\n"
     ]
    },
    {
     "name": "stderr",
     "output_type": "stream",
     "text": [
      "0.141: 100%|██████████████████████████████████████████████████████████████████████████████████████████████████████████████████████| 1490/1490 [00:35<00:00, 41.42it/s]\n"
     ]
    },
    {
     "name": "stdout",
     "output_type": "stream",
     "text": [
      "tensor(0.1414, device='cuda:1', grad_fn=<NllLoss2DBackward>)\n",
      "tensor(224.0345, device='cuda:1', grad_fn=<AddBackward0>)\n",
      "Best loss: 224.59678649902344, Loss: 224.0344696044922\n",
      "epoch: 581 | loss: 0.1503587044325451\n"
     ]
    },
    {
     "name": "stderr",
     "output_type": "stream",
     "text": [
      "0.102: 100%|██████████████████████████████████████████████████████████████████████████████████████████████████████████████████████| 1490/1490 [00:36<00:00, 40.50it/s]\n"
     ]
    },
    {
     "name": "stdout",
     "output_type": "stream",
     "text": [
      "tensor(0.1024, device='cuda:1', grad_fn=<NllLoss2DBackward>)\n",
      "tensor(224.4971, device='cuda:1', grad_fn=<AddBackward0>)\n",
      "epoch: 582 | loss: 0.1506691951879719\n"
     ]
    },
    {
     "name": "stderr",
     "output_type": "stream",
     "text": [
      "0.245: 100%|██████████████████████████████████████████████████████████████████████████████████████████████████████████████████████| 1490/1490 [00:34<00:00, 43.10it/s]\n"
     ]
    },
    {
     "name": "stdout",
     "output_type": "stream",
     "text": [
      "tensor(0.2450, device='cuda:1', grad_fn=<NllLoss2DBackward>)\n",
      "tensor(223.3454, device='cuda:1', grad_fn=<AddBackward0>)\n",
      "Best loss: 224.0344696044922, Loss: 223.34544372558594\n",
      "epoch: 583 | loss: 0.14989627095676908\n"
     ]
    },
    {
     "name": "stderr",
     "output_type": "stream",
     "text": [
      "0.105: 100%|██████████████████████████████████████████████████████████████████████████████████████████████████████████████████████| 1490/1490 [00:35<00:00, 42.17it/s]\n"
     ]
    },
    {
     "name": "stdout",
     "output_type": "stream",
     "text": [
      "tensor(0.1055, device='cuda:1', grad_fn=<NllLoss2DBackward>)\n",
      "tensor(223.3667, device='cuda:1', grad_fn=<AddBackward0>)\n",
      "epoch: 584 | loss: 0.14991054662922085\n"
     ]
    },
    {
     "name": "stderr",
     "output_type": "stream",
     "text": [
      "0.095: 100%|██████████████████████████████████████████████████████████████████████████████████████████████████████████████████████| 1490/1490 [00:36<00:00, 40.56it/s]\n"
     ]
    },
    {
     "name": "stdout",
     "output_type": "stream",
     "text": [
      "tensor(0.0953, device='cuda:1', grad_fn=<NllLoss2DBackward>)\n",
      "tensor(223.3760, device='cuda:1', grad_fn=<AddBackward0>)\n",
      "epoch: 585 | loss: 0.14991675255282613\n"
     ]
    },
    {
     "name": "stderr",
     "output_type": "stream",
     "text": [
      "0.105: 100%|██████████████████████████████████████████████████████████████████████████████████████████████████████████████████████| 1490/1490 [00:35<00:00, 42.44it/s]\n"
     ]
    },
    {
     "name": "stdout",
     "output_type": "stream",
     "text": [
      "tensor(0.1052, device='cuda:1', grad_fn=<NllLoss2DBackward>)\n",
      "tensor(223.3970, device='cuda:1', grad_fn=<AddBackward0>)\n",
      "epoch: 586 | loss: 0.14993087461330748\n"
     ]
    },
    {
     "name": "stderr",
     "output_type": "stream",
     "text": [
      "0.176: 100%|██████████████████████████████████████████████████████████████████████████████████████████████████████████████████████| 1490/1490 [00:33<00:00, 44.63it/s]\n"
     ]
    },
    {
     "name": "stdout",
     "output_type": "stream",
     "text": [
      "tensor(0.1763, device='cuda:1', grad_fn=<NllLoss2DBackward>)\n",
      "tensor(223.3881, device='cuda:1', grad_fn=<AddBackward0>)\n",
      "epoch: 587 | loss: 0.14992490422805685\n"
     ]
    },
    {
     "name": "stderr",
     "output_type": "stream",
     "text": [
      "0.083: 100%|██████████████████████████████████████████████████████████████████████████████████████████████████████████████████████| 1490/1490 [00:44<00:00, 33.63it/s]\n"
     ]
    },
    {
     "name": "stdout",
     "output_type": "stream",
     "text": [
      "tensor(0.0828, device='cuda:1', grad_fn=<NllLoss2DBackward>)\n",
      "tensor(223.0374, device='cuda:1', grad_fn=<AddBackward0>)\n",
      "Best loss: 223.34544372558594, Loss: 223.0374298095703\n",
      "epoch: 588 | loss: 0.1496895502077653\n"
     ]
    },
    {
     "name": "stderr",
     "output_type": "stream",
     "text": [
      "0.095: 100%|██████████████████████████████████████████████████████████████████████████████████████████████████████████████████████| 1490/1490 [00:35<00:00, 42.14it/s]\n"
     ]
    },
    {
     "name": "stdout",
     "output_type": "stream",
     "text": [
      "tensor(0.0951, device='cuda:1', grad_fn=<NllLoss2DBackward>)\n",
      "tensor(223.6183, device='cuda:1', grad_fn=<AddBackward0>)\n",
      "epoch: 589 | loss: 0.15007939690711514\n"
     ]
    },
    {
     "name": "stderr",
     "output_type": "stream",
     "text": [
      "0.109: 100%|██████████████████████████████████████████████████████████████████████████████████████████████████████████████████████| 1490/1490 [00:35<00:00, 41.49it/s]\n"
     ]
    },
    {
     "name": "stdout",
     "output_type": "stream",
     "text": [
      "tensor(0.1094, device='cuda:1', grad_fn=<NllLoss2DBackward>)\n",
      "tensor(223.7551, device='cuda:1', grad_fn=<AddBackward0>)\n",
      "epoch: 590 | loss: 0.1501711851798448\n"
     ]
    },
    {
     "name": "stderr",
     "output_type": "stream",
     "text": [
      "0.186: 100%|██████████████████████████████████████████████████████████████████████████████████████████████████████████████████████| 1490/1490 [00:35<00:00, 42.22it/s]\n"
     ]
    },
    {
     "name": "stdout",
     "output_type": "stream",
     "text": [
      "tensor(0.1862, device='cuda:1', grad_fn=<NllLoss2DBackward>)\n",
      "tensor(222.8543, device='cuda:1', grad_fn=<AddBackward0>)\n",
      "Best loss: 223.0374298095703, Loss: 222.8542938232422\n",
      "epoch: 591 | loss: 0.14956664014982698\n"
     ]
    },
    {
     "name": "stderr",
     "output_type": "stream",
     "text": [
      "0.194: 100%|██████████████████████████████████████████████████████████████████████████████████████████████████████████████████████| 1490/1490 [00:35<00:00, 42.23it/s]\n"
     ]
    },
    {
     "name": "stdout",
     "output_type": "stream",
     "text": [
      "tensor(0.1944, device='cuda:1', grad_fn=<NllLoss2DBackward>)\n",
      "tensor(222.7681, device='cuda:1', grad_fn=<AddBackward0>)\n",
      "Best loss: 222.8542938232422, Loss: 222.76812744140625\n",
      "epoch: 592 | loss: 0.1495088103633599\n"
     ]
    },
    {
     "name": "stderr",
     "output_type": "stream",
     "text": [
      "0.280: 100%|██████████████████████████████████████████████████████████████████████████████████████████████████████████████████████| 1490/1490 [00:35<00:00, 42.28it/s]\n"
     ]
    },
    {
     "name": "stdout",
     "output_type": "stream",
     "text": [
      "tensor(0.2804, device='cuda:1', grad_fn=<NllLoss2DBackward>)\n",
      "tensor(222.4592, device='cuda:1', grad_fn=<AddBackward0>)\n",
      "Best loss: 222.76812744140625, Loss: 222.459228515625\n",
      "epoch: 593 | loss: 0.14930149564807046\n"
     ]
    },
    {
     "name": "stderr",
     "output_type": "stream",
     "text": [
      "0.129: 100%|██████████████████████████████████████████████████████████████████████████████████████████████████████████████████████| 1490/1490 [00:34<00:00, 42.60it/s]\n"
     ]
    },
    {
     "name": "stdout",
     "output_type": "stream",
     "text": [
      "tensor(0.1289, device='cuda:1', grad_fn=<NllLoss2DBackward>)\n",
      "tensor(222.4678, device='cuda:1', grad_fn=<AddBackward0>)\n",
      "epoch: 594 | loss: 0.14930723049496644\n"
     ]
    },
    {
     "name": "stderr",
     "output_type": "stream",
     "text": [
      "0.137: 100%|██████████████████████████████████████████████████████████████████████████████████████████████████████████████████████| 1490/1490 [00:36<00:00, 41.29it/s]\n"
     ]
    },
    {
     "name": "stdout",
     "output_type": "stream",
     "text": [
      "tensor(0.1371, device='cuda:1', grad_fn=<NllLoss2DBackward>)\n",
      "tensor(223.0050, device='cuda:1', grad_fn=<AddBackward0>)\n",
      "epoch: 595 | loss: 0.14966777827115668\n"
     ]
    },
    {
     "name": "stderr",
     "output_type": "stream",
     "text": [
      "0.067: 100%|██████████████████████████████████████████████████████████████████████████████████████████████████████████████████████| 1490/1490 [00:35<00:00, 41.85it/s]\n"
     ]
    },
    {
     "name": "stdout",
     "output_type": "stream",
     "text": [
      "tensor(0.0673, device='cuda:1', grad_fn=<NllLoss2DBackward>)\n",
      "tensor(222.1673, device='cuda:1', grad_fn=<AddBackward0>)\n",
      "Best loss: 222.459228515625, Loss: 222.1672821044922\n",
      "epoch: 596 | loss: 0.14910555845939072\n"
     ]
    },
    {
     "name": "stderr",
     "output_type": "stream",
     "text": [
      "0.197: 100%|██████████████████████████████████████████████████████████████████████████████████████████████████████████████████████| 1490/1490 [00:34<00:00, 43.46it/s]\n"
     ]
    },
    {
     "name": "stdout",
     "output_type": "stream",
     "text": [
      "tensor(0.1971, device='cuda:1', grad_fn=<NllLoss2DBackward>)\n",
      "tensor(221.7018, device='cuda:1', grad_fn=<AddBackward0>)\n",
      "Best loss: 222.1672821044922, Loss: 221.7018280029297\n",
      "epoch: 597 | loss: 0.14879317315632865\n"
     ]
    },
    {
     "name": "stderr",
     "output_type": "stream",
     "text": [
      "0.198: 100%|██████████████████████████████████████████████████████████████████████████████████████████████████████████████████████| 1490/1490 [00:35<00:00, 42.25it/s]\n"
     ]
    },
    {
     "name": "stdout",
     "output_type": "stream",
     "text": [
      "tensor(0.1985, device='cuda:1', grad_fn=<NllLoss2DBackward>)\n",
      "tensor(222.0177, device='cuda:1', grad_fn=<AddBackward0>)\n",
      "epoch: 598 | loss: 0.14900518839791316\n"
     ]
    },
    {
     "name": "stderr",
     "output_type": "stream",
     "text": [
      "0.285: 100%|██████████████████████████████████████████████████████████████████████████████████████████████████████████████████████| 1490/1490 [00:35<00:00, 41.53it/s]\n"
     ]
    },
    {
     "name": "stdout",
     "output_type": "stream",
     "text": [
      "tensor(0.2847, device='cuda:1', grad_fn=<NllLoss2DBackward>)\n",
      "tensor(221.2847, device='cuda:1', grad_fn=<AddBackward0>)\n",
      "Best loss: 221.7018280029297, Loss: 221.28469848632812\n",
      "epoch: 599 | loss: 0.1485132204606229\n"
     ]
    },
    {
     "name": "stderr",
     "output_type": "stream",
     "text": [
      "0.139: 100%|██████████████████████████████████████████████████████████████████████████████████████████████████████████████████████| 1490/1490 [00:35<00:00, 41.62it/s]\n"
     ]
    },
    {
     "name": "stdout",
     "output_type": "stream",
     "text": [
      "tensor(0.1387, device='cuda:1', grad_fn=<NllLoss2DBackward>)\n",
      "tensor(221.3883, device='cuda:1', grad_fn=<AddBackward0>)\n",
      "epoch: 600 | loss: 0.14858277596083264\n"
     ]
    },
    {
     "name": "stderr",
     "output_type": "stream",
     "text": [
      "0.040: 100%|██████████████████████████████████████████████████████████████████████████████████████████████████████████████████████| 1490/1490 [00:36<00:00, 41.17it/s]\n"
     ]
    },
    {
     "name": "stdout",
     "output_type": "stream",
     "text": [
      "tensor(0.0396, device='cuda:1', grad_fn=<NllLoss2DBackward>)\n",
      "tensor(220.7061, device='cuda:1', grad_fn=<AddBackward0>)\n",
      "Best loss: 221.28469848632812, Loss: 220.70611572265625\n",
      "epoch: 601 | loss: 0.14812490988097735\n"
     ]
    },
    {
     "name": "stderr",
     "output_type": "stream",
     "text": [
      "0.129: 100%|██████████████████████████████████████████████████████████████████████████████████████████████████████████████████████| 1490/1490 [00:34<00:00, 42.99it/s]\n"
     ]
    },
    {
     "name": "stdout",
     "output_type": "stream",
     "text": [
      "tensor(0.1285, device='cuda:1', grad_fn=<NllLoss2DBackward>)\n",
      "tensor(220.3216, device='cuda:1', grad_fn=<AddBackward0>)\n",
      "Best loss: 220.70611572265625, Loss: 220.32164001464844\n",
      "epoch: 602 | loss: 0.14786687249305264\n"
     ]
    },
    {
     "name": "stderr",
     "output_type": "stream",
     "text": [
      "0.159: 100%|██████████████████████████████████████████████████████████████████████████████████████████████████████████████████████| 1490/1490 [00:35<00:00, 41.43it/s]\n"
     ]
    },
    {
     "name": "stdout",
     "output_type": "stream",
     "text": [
      "tensor(0.1586, device='cuda:1', grad_fn=<NllLoss2DBackward>)\n",
      "tensor(220.7654, device='cuda:1', grad_fn=<AddBackward0>)\n",
      "epoch: 603 | loss: 0.14816469538131816\n"
     ]
    },
    {
     "name": "stderr",
     "output_type": "stream",
     "text": [
      "0.186: 100%|██████████████████████████████████████████████████████████████████████████████████████████████████████████████████████| 1490/1490 [00:36<00:00, 41.31it/s]\n"
     ]
    },
    {
     "name": "stdout",
     "output_type": "stream",
     "text": [
      "tensor(0.1855, device='cuda:1', grad_fn=<NllLoss2DBackward>)\n",
      "tensor(220.5550, device='cuda:1', grad_fn=<AddBackward0>)\n",
      "epoch: 604 | loss: 0.14802348501730286\n"
     ]
    },
    {
     "name": "stderr",
     "output_type": "stream",
     "text": [
      "0.236: 100%|██████████████████████████████████████████████████████████████████████████████████████████████████████████████████████| 1490/1490 [00:35<00:00, 41.67it/s]\n"
     ]
    },
    {
     "name": "stdout",
     "output_type": "stream",
     "text": [
      "tensor(0.2362, device='cuda:1', grad_fn=<NllLoss2DBackward>)\n",
      "tensor(220.2980, device='cuda:1', grad_fn=<AddBackward0>)\n",
      "Best loss: 220.32164001464844, Loss: 220.29800415039062\n",
      "epoch: 605 | loss: 0.14785100949690647\n"
     ]
    },
    {
     "name": "stderr",
     "output_type": "stream",
     "text": [
      "0.297: 100%|██████████████████████████████████████████████████████████████████████████████████████████████████████████████████████| 1490/1490 [00:35<00:00, 42.34it/s]\n"
     ]
    },
    {
     "name": "stdout",
     "output_type": "stream",
     "text": [
      "tensor(0.2973, device='cuda:1', grad_fn=<NllLoss2DBackward>)\n",
      "tensor(220.5013, device='cuda:1', grad_fn=<AddBackward0>)\n",
      "epoch: 606 | loss: 0.14798746813063654\n"
     ]
    },
    {
     "name": "stderr",
     "output_type": "stream",
     "text": [
      "0.173: 100%|██████████████████████████████████████████████████████████████████████████████████████████████████████████████████████| 1490/1490 [00:36<00:00, 40.97it/s]\n"
     ]
    },
    {
     "name": "stdout",
     "output_type": "stream",
     "text": [
      "tensor(0.1732, device='cuda:1', grad_fn=<NllLoss2DBackward>)\n",
      "tensor(219.5813, device='cuda:1', grad_fn=<AddBackward0>)\n",
      "Best loss: 220.29800415039062, Loss: 219.5812530517578\n",
      "epoch: 607 | loss: 0.1473699684911126\n"
     ]
    },
    {
     "name": "stderr",
     "output_type": "stream",
     "text": [
      "0.126: 100%|██████████████████████████████████████████████████████████████████████████████████████████████████████████████████████| 1490/1490 [00:36<00:00, 41.16it/s]\n"
     ]
    },
    {
     "name": "stdout",
     "output_type": "stream",
     "text": [
      "tensor(0.1260, device='cuda:1', grad_fn=<NllLoss2DBackward>)\n",
      "tensor(219.3513, device='cuda:1', grad_fn=<AddBackward0>)\n",
      "Best loss: 219.5812530517578, Loss: 219.3512725830078\n",
      "epoch: 608 | loss: 0.14721561918322673\n"
     ]
    },
    {
     "name": "stderr",
     "output_type": "stream",
     "text": [
      "0.043: 100%|██████████████████████████████████████████████████████████████████████████████████████████████████████████████████████| 1490/1490 [00:35<00:00, 42.06it/s]\n"
     ]
    },
    {
     "name": "stdout",
     "output_type": "stream",
     "text": [
      "tensor(0.0429, device='cuda:1', grad_fn=<NllLoss2DBackward>)\n",
      "tensor(220.3728, device='cuda:1', grad_fn=<AddBackward0>)\n",
      "epoch: 609 | loss: 0.14790123037043834\n"
     ]
    },
    {
     "name": "stderr",
     "output_type": "stream",
     "text": [
      "0.089: 100%|██████████████████████████████████████████████████████████████████████████████████████████████████████████████████████| 1490/1490 [00:35<00:00, 42.27it/s]\n"
     ]
    },
    {
     "name": "stdout",
     "output_type": "stream",
     "text": [
      "tensor(0.0886, device='cuda:1', grad_fn=<NllLoss2DBackward>)\n",
      "tensor(219.1511, device='cuda:1', grad_fn=<AddBackward0>)\n",
      "Best loss: 219.3512725830078, Loss: 219.15113830566406\n",
      "epoch: 610 | loss: 0.1470813008762846\n"
     ]
    },
    {
     "name": "stderr",
     "output_type": "stream",
     "text": [
      "0.210: 100%|██████████████████████████████████████████████████████████████████████████████████████████████████████████████████████| 1490/1490 [00:35<00:00, 41.45it/s]\n"
     ]
    },
    {
     "name": "stdout",
     "output_type": "stream",
     "text": [
      "tensor(0.2099, device='cuda:1', grad_fn=<NllLoss2DBackward>)\n",
      "tensor(219.7051, device='cuda:1', grad_fn=<AddBackward0>)\n",
      "epoch: 611 | loss: 0.1474530725671141\n"
     ]
    },
    {
     "name": "stderr",
     "output_type": "stream",
     "text": [
      "0.188: 100%|██████████████████████████████████████████████████████████████████████████████████████████████████████████████████████| 1490/1490 [00:35<00:00, 42.27it/s]\n"
     ]
    },
    {
     "name": "stdout",
     "output_type": "stream",
     "text": [
      "tensor(0.1879, device='cuda:1', grad_fn=<NllLoss2DBackward>)\n",
      "tensor(219.9247, device='cuda:1', grad_fn=<AddBackward0>)\n",
      "epoch: 612 | loss: 0.14760043765074454\n"
     ]
    },
    {
     "name": "stderr",
     "output_type": "stream",
     "text": [
      "0.156: 100%|██████████████████████████████████████████████████████████████████████████████████████████████████████████████████████| 1490/1490 [00:36<00:00, 41.11it/s]\n"
     ]
    },
    {
     "name": "stdout",
     "output_type": "stream",
     "text": [
      "tensor(0.1565, device='cuda:1', grad_fn=<NllLoss2DBackward>)\n",
      "tensor(218.8851, device='cuda:1', grad_fn=<AddBackward0>)\n",
      "Best loss: 219.15113830566406, Loss: 218.88507080078125\n",
      "epoch: 613 | loss: 0.14690273208106125\n"
     ]
    },
    {
     "name": "stderr",
     "output_type": "stream",
     "text": [
      "0.119: 100%|██████████████████████████████████████████████████████████████████████████████████████████████████████████████████████| 1490/1490 [00:36<00:00, 41.15it/s]\n"
     ]
    },
    {
     "name": "stdout",
     "output_type": "stream",
     "text": [
      "tensor(0.1190, device='cuda:1', grad_fn=<NllLoss2DBackward>)\n",
      "tensor(217.8436, device='cuda:1', grad_fn=<AddBackward0>)\n",
      "Best loss: 218.88507080078125, Loss: 217.84356689453125\n",
      "epoch: 614 | loss: 0.14620373617082635\n"
     ]
    },
    {
     "name": "stderr",
     "output_type": "stream",
     "text": [
      "0.152: 100%|██████████████████████████████████████████████████████████████████████████████████████████████████████████████████████| 1490/1490 [00:36<00:00, 41.23it/s]\n"
     ]
    },
    {
     "name": "stdout",
     "output_type": "stream",
     "text": [
      "tensor(0.1515, device='cuda:1', grad_fn=<NllLoss2DBackward>)\n",
      "tensor(218.9207, device='cuda:1', grad_fn=<AddBackward0>)\n",
      "epoch: 615 | loss: 0.1469266341036598\n"
     ]
    },
    {
     "name": "stderr",
     "output_type": "stream",
     "text": [
      "0.139: 100%|██████████████████████████████████████████████████████████████████████████████████████████████████████████████████████| 1490/1490 [00:35<00:00, 42.14it/s]\n"
     ]
    },
    {
     "name": "stdout",
     "output_type": "stream",
     "text": [
      "tensor(0.1392, device='cuda:1', grad_fn=<NllLoss2DBackward>)\n",
      "tensor(219.4304, device='cuda:1', grad_fn=<AddBackward0>)\n",
      "epoch: 616 | loss: 0.14726872796180265\n"
     ]
    },
    {
     "name": "stderr",
     "output_type": "stream",
     "text": [
      "0.131: 100%|██████████████████████████████████████████████████████████████████████████████████████████████████████████████████████| 1490/1490 [00:35<00:00, 42.12it/s]\n"
     ]
    },
    {
     "name": "stdout",
     "output_type": "stream",
     "text": [
      "tensor(0.1309, device='cuda:1', grad_fn=<NllLoss2DBackward>)\n",
      "tensor(218.3039, device='cuda:1', grad_fn=<AddBackward0>)\n",
      "epoch: 617 | loss: 0.14651269080654886\n"
     ]
    },
    {
     "name": "stderr",
     "output_type": "stream",
     "text": [
      "0.181: 100%|██████████████████████████████████████████████████████████████████████████████████████████████████████████████████████| 1490/1490 [00:35<00:00, 41.68it/s]\n"
     ]
    },
    {
     "name": "stdout",
     "output_type": "stream",
     "text": [
      "tensor(0.1809, device='cuda:1', grad_fn=<NllLoss2DBackward>)\n",
      "tensor(218.3368, device='cuda:1', grad_fn=<AddBackward0>)\n",
      "epoch: 618 | loss: 0.14653475972630034\n"
     ]
    },
    {
     "name": "stderr",
     "output_type": "stream",
     "text": [
      "0.178: 100%|██████████████████████████████████████████████████████████████████████████████████████████████████████████████████████| 1490/1490 [00:35<00:00, 42.04it/s]\n"
     ]
    },
    {
     "name": "stdout",
     "output_type": "stream",
     "text": [
      "tensor(0.1783, device='cuda:1', grad_fn=<NllLoss2DBackward>)\n",
      "tensor(219.0701, device='cuda:1', grad_fn=<AddBackward0>)\n",
      "epoch: 619 | loss: 0.14702688127556104\n"
     ]
    },
    {
     "name": "stderr",
     "output_type": "stream",
     "text": [
      "0.153: 100%|██████████████████████████████████████████████████████████████████████████████████████████████████████████████████████| 1490/1490 [00:36<00:00, 40.53it/s]\n"
     ]
    },
    {
     "name": "stdout",
     "output_type": "stream",
     "text": [
      "tensor(0.1530, device='cuda:1', grad_fn=<NllLoss2DBackward>)\n",
      "tensor(218.3353, device='cuda:1', grad_fn=<AddBackward0>)\n",
      "epoch: 620 | loss: 0.14653372540569945\n"
     ]
    },
    {
     "name": "stderr",
     "output_type": "stream",
     "text": [
      "0.124: 100%|██████████████████████████████████████████████████████████████████████████████████████████████████████████████████████| 1490/1490 [00:36<00:00, 41.18it/s]\n"
     ]
    },
    {
     "name": "stdout",
     "output_type": "stream",
     "text": [
      "tensor(0.1240, device='cuda:1', grad_fn=<NllLoss2DBackward>)\n",
      "tensor(218.9348, device='cuda:1', grad_fn=<AddBackward0>)\n",
      "epoch: 621 | loss: 0.1469361375642303\n"
     ]
    },
    {
     "name": "stderr",
     "output_type": "stream",
     "text": [
      "0.174: 100%|██████████████████████████████████████████████████████████████████████████████████████████████████████████████████████| 1490/1490 [00:35<00:00, 42.05it/s]\n"
     ]
    },
    {
     "name": "stdout",
     "output_type": "stream",
     "text": [
      "tensor(0.1740, device='cuda:1', grad_fn=<NllLoss2DBackward>)\n",
      "tensor(217.3368, device='cuda:1', grad_fn=<AddBackward0>)\n",
      "Best loss: 217.84356689453125, Loss: 217.33677673339844\n",
      "epoch: 622 | loss: 0.145863608545905\n"
     ]
    },
    {
     "name": "stderr",
     "output_type": "stream",
     "text": [
      "0.155: 100%|██████████████████████████████████████████████████████████████████████████████████████████████████████████████████████| 1490/1490 [00:35<00:00, 41.97it/s]\n"
     ]
    },
    {
     "name": "stdout",
     "output_type": "stream",
     "text": [
      "tensor(0.1552, device='cuda:1', grad_fn=<NllLoss2DBackward>)\n",
      "tensor(217.2788, device='cuda:1', grad_fn=<AddBackward0>)\n",
      "Best loss: 217.33677673339844, Loss: 217.27879333496094\n",
      "epoch: 623 | loss: 0.1458246935133966\n"
     ]
    },
    {
     "name": "stderr",
     "output_type": "stream",
     "text": [
      "0.180: 100%|██████████████████████████████████████████████████████████████████████████████████████████████████████████████████████| 1490/1490 [00:34<00:00, 42.60it/s]\n"
     ]
    },
    {
     "name": "stdout",
     "output_type": "stream",
     "text": [
      "tensor(0.1795, device='cuda:1', grad_fn=<NllLoss2DBackward>)\n",
      "tensor(217.5460, device='cuda:1', grad_fn=<AddBackward0>)\n",
      "epoch: 624 | loss: 0.14600399964607802\n"
     ]
    },
    {
     "name": "stderr",
     "output_type": "stream",
     "text": [
      "0.161: 100%|██████████████████████████████████████████████████████████████████████████████████████████████████████████████████████| 1490/1490 [00:35<00:00, 42.40it/s]\n"
     ]
    },
    {
     "name": "stdout",
     "output_type": "stream",
     "text": [
      "tensor(0.1607, device='cuda:1', grad_fn=<NllLoss2DBackward>)\n",
      "tensor(217.0027, device='cuda:1', grad_fn=<AddBackward0>)\n",
      "Best loss: 217.27879333496094, Loss: 217.002685546875\n",
      "epoch: 625 | loss: 0.14563938627307046\n"
     ]
    },
    {
     "name": "stderr",
     "output_type": "stream",
     "text": [
      "0.132: 100%|██████████████████████████████████████████████████████████████████████████████████████████████████████████████████████| 1490/1490 [00:35<00:00, 42.41it/s]\n"
     ]
    },
    {
     "name": "stdout",
     "output_type": "stream",
     "text": [
      "tensor(0.1321, device='cuda:1', grad_fn=<NllLoss2DBackward>)\n",
      "tensor(217.1649, device='cuda:1', grad_fn=<AddBackward0>)\n",
      "epoch: 626 | loss: 0.14574826643770974\n"
     ]
    },
    {
     "name": "stderr",
     "output_type": "stream",
     "text": [
      "0.136: 100%|██████████████████████████████████████████████████████████████████████████████████████████████████████████████████████| 1490/1490 [00:34<00:00, 42.97it/s]\n"
     ]
    },
    {
     "name": "stdout",
     "output_type": "stream",
     "text": [
      "tensor(0.1356, device='cuda:1', grad_fn=<NllLoss2DBackward>)\n",
      "tensor(216.4915, device='cuda:1', grad_fn=<AddBackward0>)\n",
      "Best loss: 217.002685546875, Loss: 216.49151611328125\n",
      "epoch: 627 | loss: 0.14529631953911493\n"
     ]
    },
    {
     "name": "stderr",
     "output_type": "stream",
     "text": [
      "0.099: 100%|██████████████████████████████████████████████████████████████████████████████████████████████████████████████████████| 1490/1490 [00:35<00:00, 41.76it/s]\n"
     ]
    },
    {
     "name": "stdout",
     "output_type": "stream",
     "text": [
      "tensor(0.0994, device='cuda:1', grad_fn=<NllLoss2DBackward>)\n",
      "tensor(216.4695, device='cuda:1', grad_fn=<AddBackward0>)\n",
      "Best loss: 216.49151611328125, Loss: 216.46954345703125\n",
      "epoch: 628 | loss: 0.14528157278995385\n"
     ]
    },
    {
     "name": "stderr",
     "output_type": "stream",
     "text": [
      "0.063: 100%|██████████████████████████████████████████████████████████████████████████████████████████████████████████████████████| 1490/1490 [00:36<00:00, 40.91it/s]\n"
     ]
    },
    {
     "name": "stdout",
     "output_type": "stream",
     "text": [
      "tensor(0.0631, device='cuda:1', grad_fn=<NllLoss2DBackward>)\n",
      "tensor(216.7541, device='cuda:1', grad_fn=<AddBackward0>)\n",
      "epoch: 629 | loss: 0.14547257391398385\n"
     ]
    },
    {
     "name": "stderr",
     "output_type": "stream",
     "text": [
      "0.119: 100%|██████████████████████████████████████████████████████████████████████████████████████████████████████████████████████| 1490/1490 [00:34<00:00, 43.07it/s]\n"
     ]
    },
    {
     "name": "stdout",
     "output_type": "stream",
     "text": [
      "tensor(0.1188, device='cuda:1', grad_fn=<NllLoss2DBackward>)\n",
      "tensor(216.2994, device='cuda:1', grad_fn=<AddBackward0>)\n",
      "Best loss: 216.46954345703125, Loss: 216.29940795898438\n",
      "epoch: 630 | loss: 0.1451673878919358\n"
     ]
    },
    {
     "name": "stderr",
     "output_type": "stream",
     "text": [
      "0.196: 100%|██████████████████████████████████████████████████████████████████████████████████████████████████████████████████████| 1490/1490 [00:36<00:00, 41.11it/s]\n"
     ]
    },
    {
     "name": "stdout",
     "output_type": "stream",
     "text": [
      "tensor(0.1957, device='cuda:1', grad_fn=<NllLoss2DBackward>)\n",
      "tensor(216.6283, device='cuda:1', grad_fn=<AddBackward0>)\n",
      "epoch: 631 | loss: 0.14538813853423868\n"
     ]
    },
    {
     "name": "stderr",
     "output_type": "stream",
     "text": [
      "0.230: 100%|██████████████████████████████████████████████████████████████████████████████████████████████████████████████████████| 1490/1490 [00:34<00:00, 42.98it/s]\n"
     ]
    },
    {
     "name": "stdout",
     "output_type": "stream",
     "text": [
      "tensor(0.2298, device='cuda:1', grad_fn=<NllLoss2DBackward>)\n",
      "tensor(216.3613, device='cuda:1', grad_fn=<AddBackward0>)\n",
      "epoch: 632 | loss: 0.14520893480953753\n"
     ]
    },
    {
     "name": "stderr",
     "output_type": "stream",
     "text": [
      "0.145: 100%|██████████████████████████████████████████████████████████████████████████████████████████████████████████████████████| 1490/1490 [00:35<00:00, 41.40it/s]\n"
     ]
    },
    {
     "name": "stdout",
     "output_type": "stream",
     "text": [
      "tensor(0.1449, device='cuda:1', grad_fn=<NllLoss2DBackward>)\n",
      "tensor(215.9325, device='cuda:1', grad_fn=<AddBackward0>)\n",
      "Best loss: 216.29940795898438, Loss: 215.93247985839844\n",
      "epoch: 633 | loss: 0.14492112742174393\n"
     ]
    },
    {
     "name": "stderr",
     "output_type": "stream",
     "text": [
      "0.068: 100%|██████████████████████████████████████████████████████████████████████████████████████████████████████████████████████| 1490/1490 [00:35<00:00, 41.58it/s]\n"
     ]
    },
    {
     "name": "stdout",
     "output_type": "stream",
     "text": [
      "tensor(0.0676, device='cuda:1', grad_fn=<NllLoss2DBackward>)\n",
      "tensor(215.6423, device='cuda:1', grad_fn=<AddBackward0>)\n",
      "Best loss: 215.93247985839844, Loss: 215.642333984375\n",
      "epoch: 634 | loss: 0.14472639864723155\n"
     ]
    },
    {
     "name": "stderr",
     "output_type": "stream",
     "text": [
      "0.155: 100%|██████████████████████████████████████████████████████████████████████████████████████████████████████████████████████| 1490/1490 [00:35<00:00, 42.39it/s]\n"
     ]
    },
    {
     "name": "stdout",
     "output_type": "stream",
     "text": [
      "tensor(0.1552, device='cuda:1', grad_fn=<NllLoss2DBackward>)\n",
      "tensor(215.5266, device='cuda:1', grad_fn=<AddBackward0>)\n",
      "Best loss: 215.642333984375, Loss: 215.526611328125\n",
      "epoch: 635 | loss: 0.14464873243498322\n"
     ]
    },
    {
     "name": "stderr",
     "output_type": "stream",
     "text": [
      "0.199: 100%|██████████████████████████████████████████████████████████████████████████████████████████████████████████████████████| 1490/1490 [00:35<00:00, 41.76it/s]\n"
     ]
    },
    {
     "name": "stdout",
     "output_type": "stream",
     "text": [
      "tensor(0.1994, device='cuda:1', grad_fn=<NllLoss2DBackward>)\n",
      "tensor(215.6310, device='cuda:1', grad_fn=<AddBackward0>)\n",
      "epoch: 636 | loss: 0.14471879997509438\n"
     ]
    },
    {
     "name": "stderr",
     "output_type": "stream",
     "text": [
      "0.114: 100%|██████████████████████████████████████████████████████████████████████████████████████████████████████████████████████| 1490/1490 [00:35<00:00, 41.59it/s]\n"
     ]
    },
    {
     "name": "stdout",
     "output_type": "stream",
     "text": [
      "tensor(0.1137, device='cuda:1', grad_fn=<NllLoss2DBackward>)\n",
      "tensor(215.4679, device='cuda:1', grad_fn=<AddBackward0>)\n",
      "Best loss: 215.526611328125, Loss: 215.4679412841797\n",
      "epoch: 637 | loss: 0.14460935656656354\n"
     ]
    },
    {
     "name": "stderr",
     "output_type": "stream",
     "text": [
      "0.282: 100%|██████████████████████████████████████████████████████████████████████████████████████████████████████████████████████| 1490/1490 [00:33<00:00, 44.22it/s]\n"
     ]
    },
    {
     "name": "stdout",
     "output_type": "stream",
     "text": [
      "tensor(0.2819, device='cuda:1', grad_fn=<NllLoss2DBackward>)\n",
      "tensor(215.3149, device='cuda:1', grad_fn=<AddBackward0>)\n",
      "Best loss: 215.4679412841797, Loss: 215.31491088867188\n",
      "epoch: 638 | loss: 0.1445066516031355\n"
     ]
    },
    {
     "name": "stderr",
     "output_type": "stream",
     "text": [
      "0.127: 100%|██████████████████████████████████████████████████████████████████████████████████████████████████████████████████████| 1490/1490 [00:34<00:00, 42.60it/s]\n"
     ]
    },
    {
     "name": "stdout",
     "output_type": "stream",
     "text": [
      "tensor(0.1271, device='cuda:1', grad_fn=<NllLoss2DBackward>)\n",
      "tensor(215.3070, device='cuda:1', grad_fn=<AddBackward0>)\n",
      "Best loss: 215.31491088867188, Loss: 215.30702209472656\n",
      "epoch: 639 | loss: 0.14450135711055473\n"
     ]
    },
    {
     "name": "stderr",
     "output_type": "stream",
     "text": [
      "0.217: 100%|██████████████████████████████████████████████████████████████████████████████████████████████████████████████████████| 1490/1490 [00:35<00:00, 41.57it/s]\n"
     ]
    },
    {
     "name": "stdout",
     "output_type": "stream",
     "text": [
      "tensor(0.2165, device='cuda:1', grad_fn=<NllLoss2DBackward>)\n",
      "tensor(214.8232, device='cuda:1', grad_fn=<AddBackward0>)\n",
      "Best loss: 215.30702209472656, Loss: 214.82318115234375\n",
      "epoch: 640 | loss: 0.14417663164586828\n"
     ]
    },
    {
     "name": "stderr",
     "output_type": "stream",
     "text": [
      "0.206: 100%|██████████████████████████████████████████████████████████████████████████████████████████████████████████████████████| 1490/1490 [00:35<00:00, 41.67it/s]\n"
     ]
    },
    {
     "name": "stdout",
     "output_type": "stream",
     "text": [
      "tensor(0.2057, device='cuda:1', grad_fn=<NllLoss2DBackward>)\n",
      "tensor(214.8515, device='cuda:1', grad_fn=<AddBackward0>)\n",
      "epoch: 641 | loss: 0.1441956692894033\n"
     ]
    },
    {
     "name": "stderr",
     "output_type": "stream",
     "text": [
      "0.175: 100%|██████████████████████████████████████████████████████████████████████████████████████████████████████████████████████| 1490/1490 [00:34<00:00, 43.67it/s]\n"
     ]
    },
    {
     "name": "stdout",
     "output_type": "stream",
     "text": [
      "tensor(0.1752, device='cuda:1', grad_fn=<NllLoss2DBackward>)\n",
      "tensor(214.4966, device='cuda:1', grad_fn=<AddBackward0>)\n",
      "Best loss: 214.82318115234375, Loss: 214.49655151367188\n",
      "epoch: 642 | loss: 0.1439574171232697\n"
     ]
    },
    {
     "name": "stderr",
     "output_type": "stream",
     "text": [
      "0.165: 100%|██████████████████████████████████████████████████████████████████████████████████████████████████████████████████████| 1490/1490 [00:35<00:00, 42.00it/s]\n"
     ]
    },
    {
     "name": "stdout",
     "output_type": "stream",
     "text": [
      "tensor(0.1655, device='cuda:1', grad_fn=<NllLoss2DBackward>)\n",
      "tensor(214.5815, device='cuda:1', grad_fn=<AddBackward0>)\n",
      "epoch: 643 | loss: 0.1440144174050965\n"
     ]
    },
    {
     "name": "stderr",
     "output_type": "stream",
     "text": [
      "0.115: 100%|██████████████████████████████████████████████████████████████████████████████████████████████████████████████████████| 1490/1490 [00:34<00:00, 42.59it/s]\n"
     ]
    },
    {
     "name": "stdout",
     "output_type": "stream",
     "text": [
      "tensor(0.1154, device='cuda:1', grad_fn=<NllLoss2DBackward>)\n",
      "tensor(213.4502, device='cuda:1', grad_fn=<AddBackward0>)\n",
      "Best loss: 214.49655151367188, Loss: 213.45022583007812\n",
      "epoch: 644 | loss: 0.1432551851208578\n"
     ]
    },
    {
     "name": "stderr",
     "output_type": "stream",
     "text": [
      "0.105: 100%|██████████████████████████████████████████████████████████████████████████████████████████████████████████████████████| 1490/1490 [00:34<00:00, 43.47it/s]\n"
     ]
    },
    {
     "name": "stdout",
     "output_type": "stream",
     "text": [
      "tensor(0.1053, device='cuda:1', grad_fn=<NllLoss2DBackward>)\n",
      "tensor(213.9319, device='cuda:1', grad_fn=<AddBackward0>)\n",
      "epoch: 645 | loss: 0.1435784563922242\n"
     ]
    },
    {
     "name": "stderr",
     "output_type": "stream",
     "text": [
      "0.113: 100%|██████████████████████████████████████████████████████████████████████████████████████████████████████████████████████| 1490/1490 [00:34<00:00, 43.14it/s]\n"
     ]
    },
    {
     "name": "stdout",
     "output_type": "stream",
     "text": [
      "tensor(0.1131, device='cuda:1', grad_fn=<NllLoss2DBackward>)\n",
      "tensor(213.3214, device='cuda:1', grad_fn=<AddBackward0>)\n",
      "Best loss: 213.45022583007812, Loss: 213.3213653564453\n",
      "epoch: 646 | loss: 0.1431687015815069\n"
     ]
    },
    {
     "name": "stderr",
     "output_type": "stream",
     "text": [
      "0.266: 100%|██████████████████████████████████████████████████████████████████████████████████████████████████████████████████████| 1490/1490 [00:34<00:00, 43.60it/s]\n"
     ]
    },
    {
     "name": "stdout",
     "output_type": "stream",
     "text": [
      "tensor(0.2656, device='cuda:1', grad_fn=<NllLoss2DBackward>)\n",
      "tensor(213.9554, device='cuda:1', grad_fn=<AddBackward0>)\n",
      "epoch: 647 | loss: 0.14359420673959208\n"
     ]
    },
    {
     "name": "stderr",
     "output_type": "stream",
     "text": [
      "0.161: 100%|██████████████████████████████████████████████████████████████████████████████████████████████████████████████████████| 1490/1490 [00:34<00:00, 42.68it/s]\n"
     ]
    },
    {
     "name": "stdout",
     "output_type": "stream",
     "text": [
      "tensor(0.1606, device='cuda:1', grad_fn=<NllLoss2DBackward>)\n",
      "tensor(213.1327, device='cuda:1', grad_fn=<AddBackward0>)\n",
      "Best loss: 213.3213653564453, Loss: 213.1326904296875\n",
      "epoch: 648 | loss: 0.14304207411388423\n"
     ]
    },
    {
     "name": "stderr",
     "output_type": "stream",
     "text": [
      "0.283: 100%|██████████████████████████████████████████████████████████████████████████████████████████████████████████████████████| 1490/1490 [00:34<00:00, 43.59it/s]\n"
     ]
    },
    {
     "name": "stdout",
     "output_type": "stream",
     "text": [
      "tensor(0.2827, device='cuda:1', grad_fn=<NllLoss2DBackward>)\n",
      "tensor(213.9914, device='cuda:1', grad_fn=<AddBackward0>)\n",
      "epoch: 649 | loss: 0.14361839550453545\n"
     ]
    },
    {
     "name": "stderr",
     "output_type": "stream",
     "text": [
      "0.118: 100%|██████████████████████████████████████████████████████████████████████████████████████████████████████████████████████| 1490/1490 [00:34<00:00, 42.64it/s]\n"
     ]
    },
    {
     "name": "stdout",
     "output_type": "stream",
     "text": [
      "tensor(0.1181, device='cuda:1', grad_fn=<NllLoss2DBackward>)\n",
      "tensor(213.0009, device='cuda:1', grad_fn=<AddBackward0>)\n",
      "Best loss: 213.1326904296875, Loss: 213.00088500976562\n",
      "epoch: 650 | loss: 0.14295361410051385\n"
     ]
    },
    {
     "name": "stderr",
     "output_type": "stream",
     "text": [
      "0.068: 100%|██████████████████████████████████████████████████████████████████████████████████████████████████████████████████████| 1490/1490 [00:35<00:00, 41.95it/s]\n"
     ]
    },
    {
     "name": "stdout",
     "output_type": "stream",
     "text": [
      "tensor(0.0678, device='cuda:1', grad_fn=<NllLoss2DBackward>)\n",
      "tensor(212.2861, device='cuda:1', grad_fn=<AddBackward0>)\n",
      "Best loss: 213.00088500976562, Loss: 212.28610229492188\n",
      "epoch: 651 | loss: 0.14247389415766568\n"
     ]
    },
    {
     "name": "stderr",
     "output_type": "stream",
     "text": [
      "0.163: 100%|██████████████████████████████████████████████████████████████████████████████████████████████████████████████████████| 1490/1490 [00:36<00:00, 41.02it/s]\n"
     ]
    },
    {
     "name": "stdout",
     "output_type": "stream",
     "text": [
      "tensor(0.1634, device='cuda:1', grad_fn=<NllLoss2DBackward>)\n",
      "tensor(212.3709, device='cuda:1', grad_fn=<AddBackward0>)\n",
      "epoch: 652 | loss: 0.1425308022723102\n"
     ]
    },
    {
     "name": "stderr",
     "output_type": "stream",
     "text": [
      "0.167: 100%|██████████████████████████████████████████████████████████████████████████████████████████████████████████████████████| 1490/1490 [00:33<00:00, 43.91it/s]\n"
     ]
    },
    {
     "name": "stdout",
     "output_type": "stream",
     "text": [
      "tensor(0.1667, device='cuda:1', grad_fn=<NllLoss2DBackward>)\n",
      "tensor(213.1357, device='cuda:1', grad_fn=<AddBackward0>)\n",
      "epoch: 653 | loss: 0.1430440710694998\n"
     ]
    },
    {
     "name": "stderr",
     "output_type": "stream",
     "text": [
      "0.116: 100%|██████████████████████████████████████████████████████████████████████████████████████████████████████████████████████| 1490/1490 [00:33<00:00, 45.13it/s]\n"
     ]
    },
    {
     "name": "stdout",
     "output_type": "stream",
     "text": [
      "tensor(0.1158, device='cuda:1', grad_fn=<NllLoss2DBackward>)\n",
      "tensor(212.6650, device='cuda:1', grad_fn=<AddBackward0>)\n",
      "epoch: 654 | loss: 0.1427281629319159\n"
     ]
    },
    {
     "name": "stderr",
     "output_type": "stream",
     "text": [
      "0.130: 100%|██████████████████████████████████████████████████████████████████████████████████████████████████████████████████████| 1490/1490 [00:34<00:00, 43.20it/s]\n"
     ]
    },
    {
     "name": "stdout",
     "output_type": "stream",
     "text": [
      "tensor(0.1299, device='cuda:1', grad_fn=<NllLoss2DBackward>)\n",
      "tensor(212.2836, device='cuda:1', grad_fn=<AddBackward0>)\n",
      "Best loss: 212.28610229492188, Loss: 212.2836151123047\n",
      "epoch: 655 | loss: 0.14247222490758704\n"
     ]
    },
    {
     "name": "stderr",
     "output_type": "stream",
     "text": [
      "0.133: 100%|██████████████████████████████████████████████████████████████████████████████████████████████████████████████████████| 1490/1490 [00:33<00:00, 44.10it/s]\n"
     ]
    },
    {
     "name": "stdout",
     "output_type": "stream",
     "text": [
      "tensor(0.1326, device='cuda:1', grad_fn=<NllLoss2DBackward>)\n",
      "tensor(212.4314, device='cuda:1', grad_fn=<AddBackward0>)\n",
      "epoch: 656 | loss: 0.14257139679569525\n"
     ]
    },
    {
     "name": "stderr",
     "output_type": "stream",
     "text": [
      "0.076: 100%|██████████████████████████████████████████████████████████████████████████████████████████████████████████████████████| 1490/1490 [00:32<00:00, 45.81it/s]\n"
     ]
    },
    {
     "name": "stdout",
     "output_type": "stream",
     "text": [
      "tensor(0.0764, device='cuda:1', grad_fn=<NllLoss2DBackward>)\n",
      "tensor(212.2230, device='cuda:1', grad_fn=<AddBackward0>)\n",
      "Best loss: 212.2836151123047, Loss: 212.2230224609375\n",
      "epoch: 657 | loss: 0.14243155869861576\n"
     ]
    },
    {
     "name": "stderr",
     "output_type": "stream",
     "text": [
      "0.089: 100%|██████████████████████████████████████████████████████████████████████████████████████████████████████████████████████| 1490/1490 [00:33<00:00, 44.70it/s]\n"
     ]
    },
    {
     "name": "stdout",
     "output_type": "stream",
     "text": [
      "tensor(0.0887, device='cuda:1', grad_fn=<NllLoss2DBackward>)\n",
      "tensor(212.0844, device='cuda:1', grad_fn=<AddBackward0>)\n",
      "Best loss: 212.2230224609375, Loss: 212.08436584472656\n",
      "epoch: 658 | loss: 0.1423385005669306\n"
     ]
    },
    {
     "name": "stderr",
     "output_type": "stream",
     "text": [
      "0.074: 100%|██████████████████████████████████████████████████████████████████████████████████████████████████████████████████████| 1490/1490 [00:34<00:00, 42.89it/s]\n"
     ]
    },
    {
     "name": "stdout",
     "output_type": "stream",
     "text": [
      "tensor(0.0743, device='cuda:1', grad_fn=<NllLoss2DBackward>)\n",
      "tensor(212.6651, device='cuda:1', grad_fn=<AddBackward0>)\n",
      "epoch: 659 | loss: 0.14272825509909814\n"
     ]
    },
    {
     "name": "stderr",
     "output_type": "stream",
     "text": [
      "0.096: 100%|██████████████████████████████████████████████████████████████████████████████████████████████████████████████████████| 1490/1490 [00:36<00:00, 40.81it/s]\n"
     ]
    },
    {
     "name": "stdout",
     "output_type": "stream",
     "text": [
      "tensor(0.0960, device='cuda:1', grad_fn=<NllLoss2DBackward>)\n",
      "tensor(211.4967, device='cuda:1', grad_fn=<AddBackward0>)\n",
      "Best loss: 212.08436584472656, Loss: 211.4967498779297\n",
      "epoch: 660 | loss: 0.14194412743485213\n"
     ]
    },
    {
     "name": "stderr",
     "output_type": "stream",
     "text": [
      "0.095: 100%|██████████████████████████████████████████████████████████████████████████████████████████████████████████████████████| 1490/1490 [00:35<00:00, 41.45it/s]\n"
     ]
    },
    {
     "name": "stdout",
     "output_type": "stream",
     "text": [
      "tensor(0.0947, device='cuda:1', grad_fn=<NllLoss2DBackward>)\n",
      "tensor(211.3195, device='cuda:1', grad_fn=<AddBackward0>)\n",
      "Best loss: 211.4967498779297, Loss: 211.3195037841797\n",
      "epoch: 661 | loss: 0.14182517032495282\n"
     ]
    },
    {
     "name": "stderr",
     "output_type": "stream",
     "text": [
      "0.094: 100%|██████████████████████████████████████████████████████████████████████████████████████████████████████████████████████| 1490/1490 [00:35<00:00, 42.34it/s]\n"
     ]
    },
    {
     "name": "stdout",
     "output_type": "stream",
     "text": [
      "tensor(0.0938, device='cuda:1', grad_fn=<NllLoss2DBackward>)\n",
      "tensor(211.4332, device='cuda:1', grad_fn=<AddBackward0>)\n",
      "epoch: 662 | loss: 0.14190147451106333\n"
     ]
    },
    {
     "name": "stderr",
     "output_type": "stream",
     "text": [
      "0.185: 100%|██████████████████████████████████████████████████████████████████████████████████████████████████████████████████████| 1490/1490 [00:35<00:00, 41.49it/s]\n"
     ]
    },
    {
     "name": "stdout",
     "output_type": "stream",
     "text": [
      "tensor(0.1853, device='cuda:1', grad_fn=<NllLoss2DBackward>)\n",
      "tensor(210.8807, device='cuda:1', grad_fn=<AddBackward0>)\n",
      "Best loss: 211.3195037841797, Loss: 210.8806610107422\n",
      "epoch: 663 | loss: 0.14153064497365248\n"
     ]
    },
    {
     "name": "stderr",
     "output_type": "stream",
     "text": [
      "0.114: 100%|██████████████████████████████████████████████████████████████████████████████████████████████████████████████████████| 1490/1490 [00:36<00:00, 41.24it/s]\n"
     ]
    },
    {
     "name": "stdout",
     "output_type": "stream",
     "text": [
      "tensor(0.1140, device='cuda:1', grad_fn=<NllLoss2DBackward>)\n",
      "tensor(211.4330, device='cuda:1', grad_fn=<AddBackward0>)\n",
      "epoch: 664 | loss: 0.14190136186228502\n"
     ]
    },
    {
     "name": "stderr",
     "output_type": "stream",
     "text": [
      "0.150: 100%|██████████████████████████████████████████████████████████████████████████████████████████████████████████████████████| 1490/1490 [00:36<00:00, 41.24it/s]\n"
     ]
    },
    {
     "name": "stdout",
     "output_type": "stream",
     "text": [
      "tensor(0.1495, device='cuda:1', grad_fn=<NllLoss2DBackward>)\n",
      "tensor(211.2472, device='cuda:1', grad_fn=<AddBackward0>)\n",
      "epoch: 665 | loss: 0.1417766596646917\n"
     ]
    },
    {
     "name": "stderr",
     "output_type": "stream",
     "text": [
      "0.260: 100%|██████████████████████████████████████████████████████████████████████████████████████████████████████████████████████| 1490/1490 [00:35<00:00, 42.53it/s]\n"
     ]
    },
    {
     "name": "stdout",
     "output_type": "stream",
     "text": [
      "tensor(0.2603, device='cuda:1', grad_fn=<NllLoss2DBackward>)\n",
      "tensor(211.0511, device='cuda:1', grad_fn=<AddBackward0>)\n",
      "epoch: 666 | loss: 0.14164505516922715\n"
     ]
    },
    {
     "name": "stderr",
     "output_type": "stream",
     "text": [
      "0.105: 100%|██████████████████████████████████████████████████████████████████████████████████████████████████████████████████████| 1490/1490 [00:35<00:00, 41.48it/s]\n"
     ]
    },
    {
     "name": "stdout",
     "output_type": "stream",
     "text": [
      "tensor(0.1049, device='cuda:1', grad_fn=<NllLoss2DBackward>)\n",
      "tensor(210.4042, device='cuda:1', grad_fn=<AddBackward0>)\n",
      "Best loss: 210.8806610107422, Loss: 210.40420532226562\n",
      "epoch: 667 | loss: 0.14121087605521182\n"
     ]
    },
    {
     "name": "stderr",
     "output_type": "stream",
     "text": [
      "0.156: 100%|██████████████████████████████████████████████████████████████████████████████████████████████████████████████████████| 1490/1490 [00:35<00:00, 42.56it/s]\n"
     ]
    },
    {
     "name": "stdout",
     "output_type": "stream",
     "text": [
      "tensor(0.1559, device='cuda:1', grad_fn=<NllLoss2DBackward>)\n",
      "tensor(210.2634, device='cuda:1', grad_fn=<AddBackward0>)\n",
      "Best loss: 210.40420532226562, Loss: 210.26336669921875\n",
      "epoch: 668 | loss: 0.14111635348940857\n"
     ]
    },
    {
     "name": "stderr",
     "output_type": "stream",
     "text": [
      "0.126: 100%|██████████████████████████████████████████████████████████████████████████████████████████████████████████████████████| 1490/1490 [00:35<00:00, 42.09it/s]\n"
     ]
    },
    {
     "name": "stdout",
     "output_type": "stream",
     "text": [
      "tensor(0.1261, device='cuda:1', grad_fn=<NllLoss2DBackward>)\n",
      "tensor(210.6581, device='cuda:1', grad_fn=<AddBackward0>)\n",
      "epoch: 669 | loss: 0.14138130341600252\n"
     ]
    },
    {
     "name": "stderr",
     "output_type": "stream",
     "text": [
      "0.228: 100%|██████████████████████████████████████████████████████████████████████████████████████████████████████████████████████| 1490/1490 [00:35<00:00, 41.58it/s]\n"
     ]
    },
    {
     "name": "stdout",
     "output_type": "stream",
     "text": [
      "tensor(0.2283, device='cuda:1', grad_fn=<NllLoss2DBackward>)\n",
      "tensor(210.2837, device='cuda:1', grad_fn=<AddBackward0>)\n",
      "epoch: 670 | loss: 0.14113000447318058\n"
     ]
    },
    {
     "name": "stderr",
     "output_type": "stream",
     "text": [
      "0.108: 100%|██████████████████████████████████████████████████████████████████████████████████████████████████████████████████████| 1490/1490 [00:35<00:00, 41.91it/s]\n"
     ]
    },
    {
     "name": "stdout",
     "output_type": "stream",
     "text": [
      "tensor(0.1081, device='cuda:1', grad_fn=<NllLoss2DBackward>)\n",
      "tensor(209.7752, device='cuda:1', grad_fn=<AddBackward0>)\n",
      "Best loss: 210.26336669921875, Loss: 209.77520751953125\n",
      "epoch: 671 | loss: 0.14078872987888003\n"
     ]
    },
    {
     "name": "stderr",
     "output_type": "stream",
     "text": [
      "0.146: 100%|██████████████████████████████████████████████████████████████████████████████████████████████████████████████████████| 1490/1490 [00:40<00:00, 36.78it/s]\n"
     ]
    },
    {
     "name": "stdout",
     "output_type": "stream",
     "text": [
      "tensor(0.1457, device='cuda:1', grad_fn=<NllLoss2DBackward>)\n",
      "tensor(210.3872, device='cuda:1', grad_fn=<AddBackward0>)\n",
      "epoch: 672 | loss: 0.14119947804700608\n"
     ]
    },
    {
     "name": "stderr",
     "output_type": "stream",
     "text": [
      "0.173: 100%|██████████████████████████████████████████████████████████████████████████████████████████████████████████████████████| 1490/1490 [00:35<00:00, 42.02it/s]\n"
     ]
    },
    {
     "name": "stdout",
     "output_type": "stream",
     "text": [
      "tensor(0.1728, device='cuda:1', grad_fn=<NllLoss2DBackward>)\n",
      "tensor(210.1512, device='cuda:1', grad_fn=<AddBackward0>)\n",
      "epoch: 673 | loss: 0.14104109386469693\n"
     ]
    },
    {
     "name": "stderr",
     "output_type": "stream",
     "text": [
      "0.191: 100%|██████████████████████████████████████████████████████████████████████████████████████████████████████████████████████| 1490/1490 [00:35<00:00, 41.91it/s]\n"
     ]
    },
    {
     "name": "stdout",
     "output_type": "stream",
     "text": [
      "tensor(0.1910, device='cuda:1', grad_fn=<NllLoss2DBackward>)\n",
      "tensor(209.1553, device='cuda:1', grad_fn=<AddBackward0>)\n",
      "Best loss: 209.77520751953125, Loss: 209.1553192138672\n",
      "epoch: 674 | loss: 0.14037269745897127\n"
     ]
    },
    {
     "name": "stderr",
     "output_type": "stream",
     "text": [
      "0.131: 100%|██████████████████████████████████████████████████████████████████████████████████████████████████████████████████████| 1490/1490 [00:36<00:00, 41.30it/s]\n"
     ]
    },
    {
     "name": "stdout",
     "output_type": "stream",
     "text": [
      "tensor(0.1307, device='cuda:1', grad_fn=<NllLoss2DBackward>)\n",
      "tensor(209.5540, device='cuda:1', grad_fn=<AddBackward0>)\n",
      "epoch: 675 | loss: 0.14064027927065856\n"
     ]
    },
    {
     "name": "stderr",
     "output_type": "stream",
     "text": [
      "0.169: 100%|██████████████████████████████████████████████████████████████████████████████████████████████████████████████████████| 1490/1490 [00:36<00:00, 41.32it/s]\n"
     ]
    },
    {
     "name": "stdout",
     "output_type": "stream",
     "text": [
      "tensor(0.1689, device='cuda:1', grad_fn=<NllLoss2DBackward>)\n",
      "tensor(209.7477, device='cuda:1', grad_fn=<AddBackward0>)\n",
      "epoch: 676 | loss: 0.14077028620163065\n"
     ]
    },
    {
     "name": "stderr",
     "output_type": "stream",
     "text": [
      "0.116: 100%|██████████████████████████████████████████████████████████████████████████████████████████████████████████████████████| 1490/1490 [00:34<00:00, 42.74it/s]\n"
     ]
    },
    {
     "name": "stdout",
     "output_type": "stream",
     "text": [
      "tensor(0.1158, device='cuda:1', grad_fn=<NllLoss2DBackward>)\n",
      "tensor(208.8226, device='cuda:1', grad_fn=<AddBackward0>)\n",
      "Best loss: 209.1553192138672, Loss: 208.8225555419922\n",
      "epoch: 677 | loss: 0.14014936613556522\n"
     ]
    },
    {
     "name": "stderr",
     "output_type": "stream",
     "text": [
      "0.085: 100%|██████████████████████████████████████████████████████████████████████████████████████████████████████████████████████| 1490/1490 [00:36<00:00, 40.67it/s]\n"
     ]
    },
    {
     "name": "stdout",
     "output_type": "stream",
     "text": [
      "tensor(0.0850, device='cuda:1', grad_fn=<NllLoss2DBackward>)\n",
      "tensor(209.5323, device='cuda:1', grad_fn=<AddBackward0>)\n",
      "epoch: 678 | loss: 0.1406256758926699\n"
     ]
    },
    {
     "name": "stderr",
     "output_type": "stream",
     "text": [
      "0.118: 100%|██████████████████████████████████████████████████████████████████████████████████████████████████████████████████████| 1490/1490 [00:36<00:00, 41.02it/s]\n"
     ]
    },
    {
     "name": "stdout",
     "output_type": "stream",
     "text": [
      "tensor(0.1182, device='cuda:1', grad_fn=<NllLoss2DBackward>)\n",
      "tensor(208.9226, device='cuda:1', grad_fn=<AddBackward0>)\n",
      "epoch: 679 | loss: 0.14021653552983432\n"
     ]
    },
    {
     "name": "stderr",
     "output_type": "stream",
     "text": [
      "0.268: 100%|██████████████████████████████████████████████████████████████████████████████████████████████████████████████████████| 1490/1490 [00:36<00:00, 41.38it/s]\n"
     ]
    },
    {
     "name": "stdout",
     "output_type": "stream",
     "text": [
      "tensor(0.2683, device='cuda:1', grad_fn=<NllLoss2DBackward>)\n",
      "tensor(208.4859, device='cuda:1', grad_fn=<AddBackward0>)\n",
      "Best loss: 208.8225555419922, Loss: 208.4858856201172\n",
      "epoch: 680 | loss: 0.13992341316786389\n"
     ]
    },
    {
     "name": "stderr",
     "output_type": "stream",
     "text": [
      "0.132: 100%|██████████████████████████████████████████████████████████████████████████████████████████████████████████████████████| 1490/1490 [00:36<00:00, 41.19it/s]\n"
     ]
    },
    {
     "name": "stdout",
     "output_type": "stream",
     "text": [
      "tensor(0.1321, device='cuda:1', grad_fn=<NllLoss2DBackward>)\n",
      "tensor(209.2593, device='cuda:1', grad_fn=<AddBackward0>)\n",
      "epoch: 681 | loss: 0.1404424680159396\n"
     ]
    },
    {
     "name": "stderr",
     "output_type": "stream",
     "text": [
      "0.105: 100%|██████████████████████████████████████████████████████████████████████████████████████████████████████████████████████| 1490/1490 [00:34<00:00, 42.79it/s]\n"
     ]
    },
    {
     "name": "stdout",
     "output_type": "stream",
     "text": [
      "tensor(0.1050, device='cuda:1', grad_fn=<NllLoss2DBackward>)\n",
      "tensor(208.8221, device='cuda:1', grad_fn=<AddBackward0>)\n",
      "epoch: 682 | loss: 0.14014907939322044\n"
     ]
    },
    {
     "name": "stderr",
     "output_type": "stream",
     "text": [
      "0.196: 100%|██████████████████████████████████████████████████████████████████████████████████████████████████████████████████████| 1490/1490 [00:35<00:00, 41.96it/s]\n"
     ]
    },
    {
     "name": "stdout",
     "output_type": "stream",
     "text": [
      "tensor(0.1962, device='cuda:1', grad_fn=<NllLoss2DBackward>)\n",
      "tensor(208.4322, device='cuda:1', grad_fn=<AddBackward0>)\n",
      "Best loss: 208.4858856201172, Loss: 208.43215942382812\n",
      "epoch: 683 | loss: 0.13988735531800545\n"
     ]
    },
    {
     "name": "stderr",
     "output_type": "stream",
     "text": [
      "0.171: 100%|██████████████████████████████████████████████████████████████████████████████████████████████████████████████████████| 1490/1490 [00:34<00:00, 43.37it/s]\n"
     ]
    },
    {
     "name": "stdout",
     "output_type": "stream",
     "text": [
      "tensor(0.1710, device='cuda:1', grad_fn=<NllLoss2DBackward>)\n",
      "tensor(208.3271, device='cuda:1', grad_fn=<AddBackward0>)\n",
      "Best loss: 208.43215942382812, Loss: 208.32705688476562\n",
      "epoch: 684 | loss: 0.13981681670118498\n"
     ]
    },
    {
     "name": "stderr",
     "output_type": "stream",
     "text": [
      "0.191: 100%|██████████████████████████████████████████████████████████████████████████████████████████████████████████████████████| 1490/1490 [00:34<00:00, 42.83it/s]\n"
     ]
    },
    {
     "name": "stdout",
     "output_type": "stream",
     "text": [
      "tensor(0.1913, device='cuda:1', grad_fn=<NllLoss2DBackward>)\n",
      "tensor(208.7006, device='cuda:1', grad_fn=<AddBackward0>)\n",
      "epoch: 685 | loss: 0.1400675011961252\n"
     ]
    },
    {
     "name": "stderr",
     "output_type": "stream",
     "text": [
      "0.137: 100%|██████████████████████████████████████████████████████████████████████████████████████████████████████████████████████| 1490/1490 [00:35<00:00, 42.15it/s]\n"
     ]
    },
    {
     "name": "stdout",
     "output_type": "stream",
     "text": [
      "tensor(0.1366, device='cuda:1', grad_fn=<NllLoss2DBackward>)\n",
      "tensor(208.5145, device='cuda:1', grad_fn=<AddBackward0>)\n",
      "epoch: 686 | loss: 0.1399426351457634\n"
     ]
    },
    {
     "name": "stderr",
     "output_type": "stream",
     "text": [
      "0.104: 100%|██████████████████████████████████████████████████████████████████████████████████████████████████████████████████████| 1490/1490 [00:35<00:00, 42.55it/s]\n"
     ]
    },
    {
     "name": "stdout",
     "output_type": "stream",
     "text": [
      "tensor(0.1036, device='cuda:1', grad_fn=<NllLoss2DBackward>)\n",
      "tensor(207.2204, device='cuda:1', grad_fn=<AddBackward0>)\n",
      "Best loss: 208.32705688476562, Loss: 207.22044372558594\n",
      "epoch: 687 | loss: 0.13907412330576238\n"
     ]
    },
    {
     "name": "stderr",
     "output_type": "stream",
     "text": [
      "0.148: 100%|██████████████████████████████████████████████████████████████████████████████████████████████████████████████████████| 1490/1490 [00:35<00:00, 41.69it/s]\n"
     ]
    },
    {
     "name": "stdout",
     "output_type": "stream",
     "text": [
      "tensor(0.1480, device='cuda:1', grad_fn=<NllLoss2DBackward>)\n",
      "tensor(207.7862, device='cuda:1', grad_fn=<AddBackward0>)\n",
      "epoch: 688 | loss: 0.13945385209666003\n"
     ]
    },
    {
     "name": "stderr",
     "output_type": "stream",
     "text": [
      "0.090: 100%|██████████████████████████████████████████████████████████████████████████████████████████████████████████████████████| 1490/1490 [00:35<00:00, 41.91it/s]\n"
     ]
    },
    {
     "name": "stdout",
     "output_type": "stream",
     "text": [
      "tensor(0.0900, device='cuda:1', grad_fn=<NllLoss2DBackward>)\n",
      "tensor(207.7634, device='cuda:1', grad_fn=<AddBackward0>)\n",
      "epoch: 689 | loss: 0.13943850114041526\n"
     ]
    },
    {
     "name": "stderr",
     "output_type": "stream",
     "text": [
      "0.199: 100%|██████████████████████████████████████████████████████████████████████████████████████████████████████████████████████| 1490/1490 [00:36<00:00, 41.27it/s]\n"
     ]
    },
    {
     "name": "stdout",
     "output_type": "stream",
     "text": [
      "tensor(0.1994, device='cuda:1', grad_fn=<NllLoss2DBackward>)\n",
      "tensor(208.2846, device='cuda:1', grad_fn=<AddBackward0>)\n",
      "epoch: 690 | loss: 0.13978833704186766\n"
     ]
    },
    {
     "name": "stderr",
     "output_type": "stream",
     "text": [
      "0.058: 100%|██████████████████████████████████████████████████████████████████████████████████████████████████████████████████████| 1490/1490 [00:34<00:00, 43.33it/s]\n"
     ]
    },
    {
     "name": "stdout",
     "output_type": "stream",
     "text": [
      "tensor(0.0580, device='cuda:1', grad_fn=<NllLoss2DBackward>)\n",
      "tensor(207.2314, device='cuda:1', grad_fn=<AddBackward0>)\n",
      "epoch: 691 | loss: 0.13908144547635276\n"
     ]
    },
    {
     "name": "stderr",
     "output_type": "stream",
     "text": [
      "0.110: 100%|██████████████████████████████████████████████████████████████████████████████████████████████████████████████████████| 1490/1490 [00:34<00:00, 42.67it/s]\n"
     ]
    },
    {
     "name": "stdout",
     "output_type": "stream",
     "text": [
      "tensor(0.1105, device='cuda:1', grad_fn=<NllLoss2DBackward>)\n",
      "tensor(206.7060, device='cuda:1', grad_fn=<AddBackward0>)\n",
      "Best loss: 207.22044372558594, Loss: 206.7060089111328\n",
      "epoch: 692 | loss: 0.13872886504102874\n"
     ]
    },
    {
     "name": "stderr",
     "output_type": "stream",
     "text": [
      "0.166: 100%|██████████████████████████████████████████████████████████████████████████████████████████████████████████████████████| 1490/1490 [00:34<00:00, 42.74it/s]\n"
     ]
    },
    {
     "name": "stdout",
     "output_type": "stream",
     "text": [
      "tensor(0.1663, device='cuda:1', grad_fn=<NllLoss2DBackward>)\n",
      "tensor(207.3683, device='cuda:1', grad_fn=<AddBackward0>)\n",
      "epoch: 693 | loss: 0.1391733668794568\n"
     ]
    },
    {
     "name": "stderr",
     "output_type": "stream",
     "text": [
      "0.131: 100%|██████████████████████████████████████████████████████████████████████████████████████████████████████████████████████| 1490/1490 [00:35<00:00, 42.50it/s]\n"
     ]
    },
    {
     "name": "stdout",
     "output_type": "stream",
     "text": [
      "tensor(0.1306, device='cuda:1', grad_fn=<NllLoss2DBackward>)\n",
      "tensor(206.7945, device='cuda:1', grad_fn=<AddBackward0>)\n",
      "epoch: 694 | loss: 0.1387882719103922\n"
     ]
    },
    {
     "name": "stderr",
     "output_type": "stream",
     "text": [
      "0.176: 100%|██████████████████████████████████████████████████████████████████████████████████████████████████████████████████████| 1490/1490 [00:35<00:00, 41.94it/s]\n"
     ]
    },
    {
     "name": "stdout",
     "output_type": "stream",
     "text": [
      "tensor(0.1756, device='cuda:1', grad_fn=<NllLoss2DBackward>)\n",
      "tensor(206.5061, device='cuda:1', grad_fn=<AddBackward0>)\n",
      "Best loss: 206.7060089111328, Loss: 206.5060577392578\n",
      "epoch: 695 | loss: 0.13859466962366296\n"
     ]
    },
    {
     "name": "stderr",
     "output_type": "stream",
     "text": [
      "0.110: 100%|██████████████████████████████████████████████████████████████████████████████████████████████████████████████████████| 1490/1490 [00:34<00:00, 42.88it/s]\n"
     ]
    },
    {
     "name": "stdout",
     "output_type": "stream",
     "text": [
      "tensor(0.1098, device='cuda:1', grad_fn=<NllLoss2DBackward>)\n",
      "tensor(206.3570, device='cuda:1', grad_fn=<AddBackward0>)\n",
      "Best loss: 206.5060577392578, Loss: 206.3569793701172\n",
      "epoch: 696 | loss: 0.13849461702692428\n"
     ]
    },
    {
     "name": "stderr",
     "output_type": "stream",
     "text": [
      "0.161: 100%|██████████████████████████████████████████████████████████████████████████████████████████████████████████████████████| 1490/1490 [00:34<00:00, 42.74it/s]\n"
     ]
    },
    {
     "name": "stdout",
     "output_type": "stream",
     "text": [
      "tensor(0.1605, device='cuda:1', grad_fn=<NllLoss2DBackward>)\n",
      "tensor(206.5321, device='cuda:1', grad_fn=<AddBackward0>)\n",
      "epoch: 697 | loss: 0.13861215066589766\n"
     ]
    },
    {
     "name": "stderr",
     "output_type": "stream",
     "text": [
      "0.084: 100%|██████████████████████████████████████████████████████████████████████████████████████████████████████████████████████| 1490/1490 [00:35<00:00, 41.39it/s]\n"
     ]
    },
    {
     "name": "stdout",
     "output_type": "stream",
     "text": [
      "tensor(0.0843, device='cuda:1', grad_fn=<NllLoss2DBackward>)\n",
      "tensor(206.4615, device='cuda:1', grad_fn=<AddBackward0>)\n",
      "epoch: 698 | loss: 0.13856478697501573\n"
     ]
    },
    {
     "name": "stderr",
     "output_type": "stream",
     "text": [
      "0.074: 100%|██████████████████████████████████████████████████████████████████████████████████████████████████████████████████████| 1490/1490 [00:36<00:00, 41.17it/s]\n"
     ]
    },
    {
     "name": "stdout",
     "output_type": "stream",
     "text": [
      "tensor(0.0738, device='cuda:1', grad_fn=<NllLoss2DBackward>)\n",
      "tensor(205.9457, device='cuda:1', grad_fn=<AddBackward0>)\n",
      "Best loss: 206.3569793701172, Loss: 205.94570922851562\n",
      "epoch: 699 | loss: 0.1382185967976615\n"
     ]
    },
    {
     "name": "stderr",
     "output_type": "stream",
     "text": [
      "0.235: 100%|██████████████████████████████████████████████████████████████████████████████████████████████████████████████████████| 1490/1490 [00:35<00:00, 41.90it/s]\n"
     ]
    },
    {
     "name": "stdout",
     "output_type": "stream",
     "text": [
      "tensor(0.2350, device='cuda:1', grad_fn=<NllLoss2DBackward>)\n",
      "tensor(205.8878, device='cuda:1', grad_fn=<AddBackward0>)\n",
      "Best loss: 205.94570922851562, Loss: 205.88778686523438\n",
      "epoch: 700 | loss: 0.13817972272834522\n"
     ]
    },
    {
     "name": "stderr",
     "output_type": "stream",
     "text": [
      "0.171: 100%|██████████████████████████████████████████████████████████████████████████████████████████████████████████████████████| 1490/1490 [00:34<00:00, 42.86it/s]\n"
     ]
    },
    {
     "name": "stdout",
     "output_type": "stream",
     "text": [
      "tensor(0.1711, device='cuda:1', grad_fn=<NllLoss2DBackward>)\n",
      "tensor(205.4556, device='cuda:1', grad_fn=<AddBackward0>)\n",
      "Best loss: 205.88778686523438, Loss: 205.4556427001953\n",
      "epoch: 701 | loss: 0.13788969308737942\n"
     ]
    },
    {
     "name": "stderr",
     "output_type": "stream",
     "text": [
      "0.145: 100%|██████████████████████████████████████████████████████████████████████████████████████████████████████████████████████| 1490/1490 [00:33<00:00, 44.26it/s]\n"
     ]
    },
    {
     "name": "stdout",
     "output_type": "stream",
     "text": [
      "tensor(0.1451, device='cuda:1', grad_fn=<NllLoss2DBackward>)\n",
      "tensor(206.1974, device='cuda:1', grad_fn=<AddBackward0>)\n",
      "epoch: 702 | loss: 0.138387518761142\n"
     ]
    },
    {
     "name": "stderr",
     "output_type": "stream",
     "text": [
      "0.180: 100%|██████████████████████████████████████████████████████████████████████████████████████████████████████████████████████| 1490/1490 [00:34<00:00, 42.84it/s]\n"
     ]
    },
    {
     "name": "stdout",
     "output_type": "stream",
     "text": [
      "tensor(0.1800, device='cuda:1', grad_fn=<NllLoss2DBackward>)\n",
      "tensor(205.0696, device='cuda:1', grad_fn=<AddBackward0>)\n",
      "Best loss: 205.4556427001953, Loss: 205.06956481933594\n",
      "epoch: 703 | loss: 0.1376305804156617\n"
     ]
    },
    {
     "name": "stderr",
     "output_type": "stream",
     "text": [
      "0.305: 100%|██████████████████████████████████████████████████████████████████████████████████████████████████████████████████████| 1490/1490 [00:41<00:00, 36.02it/s]\n"
     ]
    },
    {
     "name": "stdout",
     "output_type": "stream",
     "text": [
      "tensor(0.3048, device='cuda:1', grad_fn=<NllLoss2DBackward>)\n",
      "tensor(204.3682, device='cuda:1', grad_fn=<AddBackward0>)\n",
      "Best loss: 205.06956481933594, Loss: 204.3682403564453\n",
      "epoch: 704 | loss: 0.1371598928566747\n"
     ]
    },
    {
     "name": "stderr",
     "output_type": "stream",
     "text": [
      "0.090: 100%|██████████████████████████████████████████████████████████████████████████████████████████████████████████████████████| 1490/1490 [00:36<00:00, 41.38it/s]\n"
     ]
    },
    {
     "name": "stdout",
     "output_type": "stream",
     "text": [
      "tensor(0.0902, device='cuda:1', grad_fn=<NllLoss2DBackward>)\n",
      "tensor(205.4734, device='cuda:1', grad_fn=<AddBackward0>)\n",
      "epoch: 705 | loss: 0.13790162361708264\n"
     ]
    },
    {
     "name": "stderr",
     "output_type": "stream",
     "text": [
      "0.182: 100%|██████████████████████████████████████████████████████████████████████████████████████████████████████████████████████| 1490/1490 [00:36<00:00, 40.51it/s]\n"
     ]
    },
    {
     "name": "stdout",
     "output_type": "stream",
     "text": [
      "tensor(0.1825, device='cuda:1', grad_fn=<NllLoss2DBackward>)\n",
      "tensor(205.1066, device='cuda:1', grad_fn=<AddBackward0>)\n",
      "epoch: 706 | loss: 0.13765541435088088\n"
     ]
    },
    {
     "name": "stderr",
     "output_type": "stream",
     "text": [
      "0.154: 100%|██████████████████████████████████████████████████████████████████████████████████████████████████████████████████████| 1490/1490 [00:36<00:00, 41.17it/s]\n"
     ]
    },
    {
     "name": "stdout",
     "output_type": "stream",
     "text": [
      "tensor(0.1536, device='cuda:1', grad_fn=<NllLoss2DBackward>)\n",
      "tensor(204.7460, device='cuda:1', grad_fn=<AddBackward0>)\n",
      "epoch: 707 | loss: 0.13741344477506293\n"
     ]
    },
    {
     "name": "stderr",
     "output_type": "stream",
     "text": [
      "0.156: 100%|██████████████████████████████████████████████████████████████████████████████████████████████████████████████████████| 1490/1490 [00:36<00:00, 41.29it/s]\n"
     ]
    },
    {
     "name": "stdout",
     "output_type": "stream",
     "text": [
      "tensor(0.1561, device='cuda:1', grad_fn=<NllLoss2DBackward>)\n",
      "tensor(204.9299, device='cuda:1', grad_fn=<AddBackward0>)\n",
      "epoch: 708 | loss: 0.13753686687290267\n"
     ]
    },
    {
     "name": "stderr",
     "output_type": "stream",
     "text": [
      "0.155: 100%|██████████████████████████████████████████████████████████████████████████████████████████████████████████████████████| 1490/1490 [00:36<00:00, 41.23it/s]\n"
     ]
    },
    {
     "name": "stdout",
     "output_type": "stream",
     "text": [
      "tensor(0.1546, device='cuda:1', grad_fn=<NllLoss2DBackward>)\n",
      "tensor(204.8082, device='cuda:1', grad_fn=<AddBackward0>)\n",
      "epoch: 709 | loss: 0.13745514530463507\n"
     ]
    },
    {
     "name": "stderr",
     "output_type": "stream",
     "text": [
      "0.285: 100%|██████████████████████████████████████████████████████████████████████████████████████████████████████████████████████| 1490/1490 [00:35<00:00, 41.59it/s]\n"
     ]
    },
    {
     "name": "stdout",
     "output_type": "stream",
     "text": [
      "tensor(0.2849, device='cuda:1', grad_fn=<NllLoss2DBackward>)\n",
      "tensor(204.0595, device='cuda:1', grad_fn=<AddBackward0>)\n",
      "Best loss: 204.3682403564453, Loss: 204.0594940185547\n",
      "epoch: 710 | loss: 0.13695268054936557\n"
     ]
    },
    {
     "name": "stderr",
     "output_type": "stream",
     "text": [
      "0.165: 100%|██████████████████████████████████████████████████████████████████████████████████████████████████████████████████████| 1490/1490 [00:35<00:00, 41.73it/s]\n"
     ]
    },
    {
     "name": "stdout",
     "output_type": "stream",
     "text": [
      "tensor(0.1645, device='cuda:1', grad_fn=<NllLoss2DBackward>)\n",
      "tensor(204.8391, device='cuda:1', grad_fn=<AddBackward0>)\n",
      "epoch: 711 | loss: 0.1374759136430369\n"
     ]
    },
    {
     "name": "stderr",
     "output_type": "stream",
     "text": [
      "0.102: 100%|██████████████████████████████████████████████████████████████████████████████████████████████████████████████████████| 1490/1490 [00:34<00:00, 42.84it/s]\n"
     ]
    },
    {
     "name": "stdout",
     "output_type": "stream",
     "text": [
      "tensor(0.1022, device='cuda:1', grad_fn=<NllLoss2DBackward>)\n",
      "tensor(204.7132, device='cuda:1', grad_fn=<AddBackward0>)\n",
      "epoch: 712 | loss: 0.1373913963369075\n"
     ]
    },
    {
     "name": "stderr",
     "output_type": "stream",
     "text": [
      "0.118: 100%|██████████████████████████████████████████████████████████████████████████████████████████████████████████████████████| 1490/1490 [00:34<00:00, 42.71it/s]\n"
     ]
    },
    {
     "name": "stdout",
     "output_type": "stream",
     "text": [
      "tensor(0.1185, device='cuda:1', grad_fn=<NllLoss2DBackward>)\n",
      "tensor(204.4469, device='cuda:1', grad_fn=<AddBackward0>)\n",
      "epoch: 713 | loss: 0.13721267392971373\n"
     ]
    },
    {
     "name": "stderr",
     "output_type": "stream",
     "text": [
      "0.111: 100%|██████████████████████████████████████████████████████████████████████████████████████████████████████████████████████| 1490/1490 [00:36<00:00, 40.74it/s]\n"
     ]
    },
    {
     "name": "stdout",
     "output_type": "stream",
     "text": [
      "tensor(0.1106, device='cuda:1', grad_fn=<NllLoss2DBackward>)\n",
      "tensor(204.0218, device='cuda:1', grad_fn=<AddBackward0>)\n",
      "Best loss: 204.0594940185547, Loss: 204.0218048095703\n",
      "epoch: 714 | loss: 0.1369273857782351\n"
     ]
    },
    {
     "name": "stderr",
     "output_type": "stream",
     "text": [
      "0.111: 100%|██████████████████████████████████████████████████████████████████████████████████████████████████████████████████████| 1490/1490 [00:36<00:00, 40.93it/s]\n"
     ]
    },
    {
     "name": "stdout",
     "output_type": "stream",
     "text": [
      "tensor(0.1110, device='cuda:1', grad_fn=<NllLoss2DBackward>)\n",
      "tensor(204.2321, device='cuda:1', grad_fn=<AddBackward0>)\n",
      "epoch: 715 | loss: 0.1370685449382603\n"
     ]
    },
    {
     "name": "stderr",
     "output_type": "stream",
     "text": [
      "0.239: 100%|██████████████████████████████████████████████████████████████████████████████████████████████████████████████████████| 1490/1490 [00:44<00:00, 33.41it/s]\n"
     ]
    },
    {
     "name": "stdout",
     "output_type": "stream",
     "text": [
      "tensor(0.2390, device='cuda:1', grad_fn=<NllLoss2DBackward>)\n",
      "tensor(204.7962, device='cuda:1', grad_fn=<AddBackward0>)\n",
      "epoch: 716 | loss: 0.13744710627818268\n"
     ]
    },
    {
     "name": "stderr",
     "output_type": "stream",
     "text": [
      "0.213: 100%|██████████████████████████████████████████████████████████████████████████████████████████████████████████████████████| 1490/1490 [00:39<00:00, 37.79it/s]\n"
     ]
    },
    {
     "name": "stdout",
     "output_type": "stream",
     "text": [
      "tensor(0.2128, device='cuda:1', grad_fn=<NllLoss2DBackward>)\n",
      "tensor(204.0440, device='cuda:1', grad_fn=<AddBackward0>)\n",
      "epoch: 717 | loss: 0.1369422861393666\n"
     ]
    },
    {
     "name": "stderr",
     "output_type": "stream",
     "text": [
      "0.124: 100%|██████████████████████████████████████████████████████████████████████████████████████████████████████████████████████| 1490/1490 [00:39<00:00, 37.74it/s]\n"
     ]
    },
    {
     "name": "stdout",
     "output_type": "stream",
     "text": [
      "tensor(0.1240, device='cuda:1', grad_fn=<NllLoss2DBackward>)\n",
      "tensor(203.7242, device='cuda:1', grad_fn=<AddBackward0>)\n",
      "Best loss: 204.0218048095703, Loss: 203.72421264648438\n",
      "epoch: 718 | loss: 0.1367276594942848\n"
     ]
    },
    {
     "name": "stderr",
     "output_type": "stream",
     "text": [
      "0.109: 100%|██████████████████████████████████████████████████████████████████████████████████████████████████████████████████████| 1490/1490 [00:39<00:00, 37.63it/s]\n"
     ]
    },
    {
     "name": "stdout",
     "output_type": "stream",
     "text": [
      "tensor(0.1086, device='cuda:1', grad_fn=<NllLoss2DBackward>)\n",
      "tensor(203.9725, device='cuda:1', grad_fn=<AddBackward0>)\n",
      "epoch: 719 | loss: 0.13689430800060298\n"
     ]
    },
    {
     "name": "stderr",
     "output_type": "stream",
     "text": [
      "0.138: 100%|██████████████████████████████████████████████████████████████████████████████████████████████████████████████████████| 1490/1490 [00:39<00:00, 37.55it/s]\n"
     ]
    },
    {
     "name": "stdout",
     "output_type": "stream",
     "text": [
      "tensor(0.1384, device='cuda:1', grad_fn=<NllLoss2DBackward>)\n",
      "tensor(203.8184, device='cuda:1', grad_fn=<AddBackward0>)\n",
      "epoch: 720 | loss: 0.13679089642211095\n"
     ]
    },
    {
     "name": "stderr",
     "output_type": "stream",
     "text": [
      "0.257: 100%|██████████████████████████████████████████████████████████████████████████████████████████████████████████████████████| 1490/1490 [00:38<00:00, 38.48it/s]\n"
     ]
    },
    {
     "name": "stdout",
     "output_type": "stream",
     "text": [
      "tensor(0.2575, device='cuda:1', grad_fn=<NllLoss2DBackward>)\n",
      "tensor(203.4676, device='cuda:1', grad_fn=<AddBackward0>)\n",
      "Best loss: 203.72421264648438, Loss: 203.4675750732422\n",
      "epoch: 721 | loss: 0.1365554195122431\n"
     ]
    },
    {
     "name": "stderr",
     "output_type": "stream",
     "text": [
      "0.140: 100%|██████████████████████████████████████████████████████████████████████████████████████████████████████████████████████| 1490/1490 [00:38<00:00, 38.52it/s]\n"
     ]
    },
    {
     "name": "stdout",
     "output_type": "stream",
     "text": [
      "tensor(0.1396, device='cuda:1', grad_fn=<NllLoss2DBackward>)\n",
      "tensor(202.9076, device='cuda:1', grad_fn=<AddBackward0>)\n",
      "Best loss: 203.4675750732422, Loss: 202.90762329101562\n",
      "epoch: 722 | loss: 0.13617961294699035\n"
     ]
    },
    {
     "name": "stderr",
     "output_type": "stream",
     "text": [
      "0.217: 100%|██████████████████████████████████████████████████████████████████████████████████████████████████████████████████████| 1490/1490 [00:40<00:00, 37.17it/s]\n"
     ]
    },
    {
     "name": "stdout",
     "output_type": "stream",
     "text": [
      "tensor(0.2169, device='cuda:1', grad_fn=<NllLoss2DBackward>)\n",
      "tensor(202.6708, device='cuda:1', grad_fn=<AddBackward0>)\n",
      "Best loss: 202.90762329101562, Loss: 202.67080688476562\n",
      "epoch: 723 | loss: 0.13602067576158766\n"
     ]
    },
    {
     "name": "stderr",
     "output_type": "stream",
     "text": [
      "0.137: 100%|██████████████████████████████████████████████████████████████████████████████████████████████████████████████████████| 1490/1490 [00:38<00:00, 38.43it/s]\n"
     ]
    },
    {
     "name": "stdout",
     "output_type": "stream",
     "text": [
      "tensor(0.1371, device='cuda:1', grad_fn=<NllLoss2DBackward>)\n",
      "tensor(203.0621, device='cuda:1', grad_fn=<AddBackward0>)\n",
      "epoch: 724 | loss: 0.13628327030463508\n"
     ]
    },
    {
     "name": "stderr",
     "output_type": "stream",
     "text": [
      "0.068: 100%|██████████████████████████████████████████████████████████████████████████████████████████████████████████████████████| 1490/1490 [00:39<00:00, 37.61it/s]\n"
     ]
    },
    {
     "name": "stdout",
     "output_type": "stream",
     "text": [
      "tensor(0.0683, device='cuda:1', grad_fn=<NllLoss2DBackward>)\n",
      "tensor(202.9395, device='cuda:1', grad_fn=<AddBackward0>)\n",
      "epoch: 725 | loss: 0.13620100597407195\n"
     ]
    },
    {
     "name": "stderr",
     "output_type": "stream",
     "text": [
      "0.146: 100%|██████████████████████████████████████████████████████████████████████████████████████████████████████████████████████| 1490/1490 [00:44<00:00, 33.40it/s]\n"
     ]
    },
    {
     "name": "stdout",
     "output_type": "stream",
     "text": [
      "tensor(0.1460, device='cuda:1', grad_fn=<NllLoss2DBackward>)\n",
      "tensor(202.7058, device='cuda:1', grad_fn=<AddBackward0>)\n",
      "epoch: 726 | loss: 0.13604415791146707\n"
     ]
    },
    {
     "name": "stderr",
     "output_type": "stream",
     "text": [
      "0.193: 100%|██████████████████████████████████████████████████████████████████████████████████████████████████████████████████████| 1490/1490 [00:37<00:00, 39.68it/s]\n"
     ]
    },
    {
     "name": "stdout",
     "output_type": "stream",
     "text": [
      "tensor(0.1928, device='cuda:1', grad_fn=<NllLoss2DBackward>)\n",
      "tensor(202.4302, device='cuda:1', grad_fn=<AddBackward0>)\n",
      "Best loss: 202.67080688476562, Loss: 202.43016052246094\n",
      "epoch: 727 | loss: 0.13585916813587984\n"
     ]
    },
    {
     "name": "stderr",
     "output_type": "stream",
     "text": [
      "0.228: 100%|██████████████████████████████████████████████████████████████████████████████████████████████████████████████████████| 1490/1490 [00:39<00:00, 37.41it/s]\n"
     ]
    },
    {
     "name": "stdout",
     "output_type": "stream",
     "text": [
      "tensor(0.2276, device='cuda:1', grad_fn=<NllLoss2DBackward>)\n",
      "tensor(203.0717, device='cuda:1', grad_fn=<AddBackward0>)\n",
      "epoch: 728 | loss: 0.13628971176659502\n"
     ]
    },
    {
     "name": "stderr",
     "output_type": "stream",
     "text": [
      "0.150: 100%|██████████████████████████████████████████████████████████████████████████████████████████████████████████████████████| 1490/1490 [00:42<00:00, 35.43it/s]\n"
     ]
    },
    {
     "name": "stdout",
     "output_type": "stream",
     "text": [
      "tensor(0.1502, device='cuda:1', grad_fn=<NllLoss2DBackward>)\n",
      "tensor(202.3289, device='cuda:1', grad_fn=<AddBackward0>)\n",
      "Best loss: 202.43016052246094, Loss: 202.3289337158203\n",
      "epoch: 729 | loss: 0.1357912306817586\n"
     ]
    },
    {
     "name": "stderr",
     "output_type": "stream",
     "text": [
      "0.161: 100%|██████████████████████████████████████████████████████████████████████████████████████████████████████████████████████| 1490/1490 [00:33<00:00, 43.86it/s]\n"
     ]
    },
    {
     "name": "stdout",
     "output_type": "stream",
     "text": [
      "tensor(0.1612, device='cuda:1', grad_fn=<NllLoss2DBackward>)\n",
      "tensor(201.1552, device='cuda:1', grad_fn=<AddBackward0>)\n",
      "Best loss: 202.3289337158203, Loss: 201.1552276611328\n",
      "epoch: 730 | loss: 0.13500350849740458\n"
     ]
    },
    {
     "name": "stderr",
     "output_type": "stream",
     "text": [
      "0.105: 100%|██████████████████████████████████████████████████████████████████████████████████████████████████████████████████████| 1490/1490 [00:36<00:00, 40.95it/s]\n"
     ]
    },
    {
     "name": "stdout",
     "output_type": "stream",
     "text": [
      "tensor(0.1051, device='cuda:1', grad_fn=<NllLoss2DBackward>)\n",
      "tensor(202.0234, device='cuda:1', grad_fn=<AddBackward0>)\n",
      "epoch: 731 | loss: 0.1355861587012374\n"
     ]
    },
    {
     "name": "stderr",
     "output_type": "stream",
     "text": [
      "0.133: 100%|██████████████████████████████████████████████████████████████████████████████████████████████████████████████████████| 1490/1490 [00:35<00:00, 42.32it/s]\n"
     ]
    },
    {
     "name": "stdout",
     "output_type": "stream",
     "text": [
      "tensor(0.1326, device='cuda:1', grad_fn=<NllLoss2DBackward>)\n",
      "tensor(201.8170, device='cuda:1', grad_fn=<AddBackward0>)\n",
      "epoch: 732 | loss: 0.13544762118550754\n"
     ]
    },
    {
     "name": "stderr",
     "output_type": "stream",
     "text": [
      "0.172: 100%|██████████████████████████████████████████████████████████████████████████████████████████████████████████████████████| 1490/1490 [00:35<00:00, 42.13it/s]\n"
     ]
    },
    {
     "name": "stdout",
     "output_type": "stream",
     "text": [
      "tensor(0.1724, device='cuda:1', grad_fn=<NllLoss2DBackward>)\n",
      "tensor(201.3827, device='cuda:1', grad_fn=<AddBackward0>)\n",
      "epoch: 733 | loss: 0.13515616807361577\n"
     ]
    },
    {
     "name": "stderr",
     "output_type": "stream",
     "text": [
      "0.104: 100%|██████████████████████████████████████████████████████████████████████████████████████████████████████████████████████| 1490/1490 [00:36<00:00, 40.63it/s]\n"
     ]
    },
    {
     "name": "stdout",
     "output_type": "stream",
     "text": [
      "tensor(0.1039, device='cuda:1', grad_fn=<NllLoss2DBackward>)\n",
      "tensor(201.5954, device='cuda:1', grad_fn=<AddBackward0>)\n",
      "epoch: 734 | loss: 0.13529895552052748\n"
     ]
    },
    {
     "name": "stderr",
     "output_type": "stream",
     "text": [
      "0.155: 100%|██████████████████████████████████████████████████████████████████████████████████████████████████████████████████████| 1490/1490 [00:35<00:00, 41.60it/s]\n"
     ]
    },
    {
     "name": "stdout",
     "output_type": "stream",
     "text": [
      "tensor(0.1552, device='cuda:1', grad_fn=<NllLoss2DBackward>)\n",
      "tensor(201.2736, device='cuda:1', grad_fn=<AddBackward0>)\n",
      "epoch: 735 | loss: 0.13508294636771184\n"
     ]
    },
    {
     "name": "stderr",
     "output_type": "stream",
     "text": [
      "0.160: 100%|██████████████████████████████████████████████████████████████████████████████████████████████████████████████████████| 1490/1490 [00:36<00:00, 41.23it/s]\n"
     ]
    },
    {
     "name": "stdout",
     "output_type": "stream",
     "text": [
      "tensor(0.1598, device='cuda:1', grad_fn=<NllLoss2DBackward>)\n",
      "tensor(201.0633, device='cuda:1', grad_fn=<AddBackward0>)\n",
      "Best loss: 201.1552276611328, Loss: 201.0632781982422\n",
      "epoch: 736 | loss: 0.1349417974484847\n"
     ]
    },
    {
     "name": "stderr",
     "output_type": "stream",
     "text": [
      "0.102: 100%|██████████████████████████████████████████████████████████████████████████████████████████████████████████████████████| 1490/1490 [00:35<00:00, 41.87it/s]\n"
     ]
    },
    {
     "name": "stdout",
     "output_type": "stream",
     "text": [
      "tensor(0.1016, device='cuda:1', grad_fn=<NllLoss2DBackward>)\n",
      "tensor(201.4231, device='cuda:1', grad_fn=<AddBackward0>)\n",
      "epoch: 737 | loss: 0.13518326522519925\n"
     ]
    },
    {
     "name": "stderr",
     "output_type": "stream",
     "text": [
      "0.123: 100%|██████████████████████████████████████████████████████████████████████████████████████████████████████████████████████| 1490/1490 [00:35<00:00, 41.77it/s]\n"
     ]
    },
    {
     "name": "stdout",
     "output_type": "stream",
     "text": [
      "tensor(0.1231, device='cuda:1', grad_fn=<NllLoss2DBackward>)\n",
      "tensor(200.8120, device='cuda:1', grad_fn=<AddBackward0>)\n",
      "Best loss: 201.0632781982422, Loss: 200.81201171875\n",
      "epoch: 738 | loss: 0.134773162227349\n"
     ]
    },
    {
     "name": "stderr",
     "output_type": "stream",
     "text": [
      "0.087: 100%|██████████████████████████████████████████████████████████████████████████████████████████████████████████████████████| 1490/1490 [00:36<00:00, 40.97it/s]\n"
     ]
    },
    {
     "name": "stdout",
     "output_type": "stream",
     "text": [
      "tensor(0.0865, device='cuda:1', grad_fn=<NllLoss2DBackward>)\n",
      "tensor(200.7406, device='cuda:1', grad_fn=<AddBackward0>)\n",
      "Best loss: 200.81201171875, Loss: 200.7406463623047\n",
      "epoch: 739 | loss: 0.1347252660149696\n"
     ]
    },
    {
     "name": "stderr",
     "output_type": "stream",
     "text": [
      "0.266: 100%|██████████████████████████████████████████████████████████████████████████████████████████████████████████████████████| 1490/1490 [00:36<00:00, 40.90it/s]\n"
     ]
    },
    {
     "name": "stdout",
     "output_type": "stream",
     "text": [
      "tensor(0.2663, device='cuda:1', grad_fn=<NllLoss2DBackward>)\n",
      "tensor(201.5870, device='cuda:1', grad_fn=<AddBackward0>)\n",
      "epoch: 740 | loss: 0.13529328211841968\n"
     ]
    },
    {
     "name": "stderr",
     "output_type": "stream",
     "text": [
      "0.056: 100%|██████████████████████████████████████████████████████████████████████████████████████████████████████████████████████| 1490/1490 [00:34<00:00, 43.72it/s]\n"
     ]
    },
    {
     "name": "stdout",
     "output_type": "stream",
     "text": [
      "tensor(0.0560, device='cuda:1', grad_fn=<NllLoss2DBackward>)\n",
      "tensor(200.7950, device='cuda:1', grad_fn=<AddBackward0>)\n",
      "epoch: 741 | loss: 0.13476176421914324\n"
     ]
    },
    {
     "name": "stderr",
     "output_type": "stream",
     "text": [
      "0.084: 100%|██████████████████████████████████████████████████████████████████████████████████████████████████████████████████████| 1490/1490 [00:35<00:00, 42.41it/s]\n"
     ]
    },
    {
     "name": "stdout",
     "output_type": "stream",
     "text": [
      "tensor(0.0836, device='cuda:1', grad_fn=<NllLoss2DBackward>)\n",
      "tensor(200.2767, device='cuda:1', grad_fn=<AddBackward0>)\n",
      "Best loss: 200.7406463623047, Loss: 200.27671813964844\n",
      "epoch: 742 | loss: 0.13441390479171036\n"
     ]
    },
    {
     "name": "stderr",
     "output_type": "stream",
     "text": [
      "0.164: 100%|██████████████████████████████████████████████████████████████████████████████████████████████████████████████████████| 1490/1490 [00:36<00:00, 40.53it/s]\n"
     ]
    },
    {
     "name": "stdout",
     "output_type": "stream",
     "text": [
      "tensor(0.1635, device='cuda:1', grad_fn=<NllLoss2DBackward>)\n",
      "tensor(200.2213, device='cuda:1', grad_fn=<AddBackward0>)\n",
      "Best loss: 200.27671813964844, Loss: 200.22128295898438\n",
      "epoch: 743 | loss: 0.13437669997247273\n"
     ]
    },
    {
     "name": "stderr",
     "output_type": "stream",
     "text": [
      "0.128: 100%|██████████████████████████████████████████████████████████████████████████████████████████████████████████████████████| 1490/1490 [00:35<00:00, 42.08it/s]\n"
     ]
    },
    {
     "name": "stdout",
     "output_type": "stream",
     "text": [
      "tensor(0.1278, device='cuda:1', grad_fn=<NllLoss2DBackward>)\n",
      "tensor(200.4796, device='cuda:1', grad_fn=<AddBackward0>)\n",
      "epoch: 744 | loss: 0.13455007668309563\n"
     ]
    },
    {
     "name": "stderr",
     "output_type": "stream",
     "text": [
      "0.180: 100%|██████████████████████████████████████████████████████████████████████████████████████████████████████████████████████| 1490/1490 [00:36<00:00, 41.28it/s]\n"
     ]
    },
    {
     "name": "stdout",
     "output_type": "stream",
     "text": [
      "tensor(0.1803, device='cuda:1', grad_fn=<NllLoss2DBackward>)\n",
      "tensor(200.8821, device='cuda:1', grad_fn=<AddBackward0>)\n",
      "epoch: 745 | loss: 0.13482022893508808\n"
     ]
    },
    {
     "name": "stderr",
     "output_type": "stream",
     "text": [
      "0.184: 100%|██████████████████████████████████████████████████████████████████████████████████████████████████████████████████████| 1490/1490 [00:36<00:00, 41.21it/s]\n"
     ]
    },
    {
     "name": "stdout",
     "output_type": "stream",
     "text": [
      "tensor(0.1842, device='cuda:1', grad_fn=<NllLoss2DBackward>)\n",
      "tensor(199.7900, device='cuda:1', grad_fn=<AddBackward0>)\n",
      "Best loss: 200.22128295898438, Loss: 199.79002380371094\n",
      "epoch: 746 | loss: 0.13408726429779258\n"
     ]
    },
    {
     "name": "stderr",
     "output_type": "stream",
     "text": [
      "0.161: 100%|██████████████████████████████████████████████████████████████████████████████████████████████████████████████████████| 1490/1490 [00:35<00:00, 42.00it/s]\n"
     ]
    },
    {
     "name": "stdout",
     "output_type": "stream",
     "text": [
      "tensor(0.1605, device='cuda:1', grad_fn=<NllLoss2DBackward>)\n",
      "tensor(199.5310, device='cuda:1', grad_fn=<AddBackward0>)\n",
      "Best loss: 199.79002380371094, Loss: 199.5309600830078\n",
      "epoch: 747 | loss: 0.1339133960288643\n"
     ]
    },
    {
     "name": "stderr",
     "output_type": "stream",
     "text": [
      "0.175: 100%|██████████████████████████████████████████████████████████████████████████████████████████████████████████████████████| 1490/1490 [00:36<00:00, 41.23it/s]\n"
     ]
    },
    {
     "name": "stdout",
     "output_type": "stream",
     "text": [
      "tensor(0.1747, device='cuda:1', grad_fn=<NllLoss2DBackward>)\n",
      "tensor(200.0881, device='cuda:1', grad_fn=<AddBackward0>)\n",
      "epoch: 748 | loss: 0.13428731828727977\n"
     ]
    },
    {
     "name": "stderr",
     "output_type": "stream",
     "text": [
      "0.191: 100%|██████████████████████████████████████████████████████████████████████████████████████████████████████████████████████| 1490/1490 [00:35<00:00, 41.47it/s]\n"
     ]
    },
    {
     "name": "stdout",
     "output_type": "stream",
     "text": [
      "tensor(0.1907, device='cuda:1', grad_fn=<NllLoss2DBackward>)\n",
      "tensor(199.4068, device='cuda:1', grad_fn=<AddBackward0>)\n",
      "Best loss: 199.5309600830078, Loss: 199.40682983398438\n",
      "epoch: 749 | loss: 0.13383008713690225\n"
     ]
    },
    {
     "name": "stderr",
     "output_type": "stream",
     "text": [
      "0.134: 100%|██████████████████████████████████████████████████████████████████████████████████████████████████████████████████████| 1490/1490 [00:35<00:00, 41.84it/s]\n"
     ]
    },
    {
     "name": "stdout",
     "output_type": "stream",
     "text": [
      "tensor(0.1338, device='cuda:1', grad_fn=<NllLoss2DBackward>)\n",
      "tensor(198.5716, device='cuda:1', grad_fn=<AddBackward0>)\n",
      "Best loss: 199.40682983398438, Loss: 198.57159423828125\n",
      "epoch: 750 | loss: 0.13326952633441694\n"
     ]
    },
    {
     "name": "stderr",
     "output_type": "stream",
     "text": [
      "0.163: 100%|██████████████████████████████████████████████████████████████████████████████████████████████████████████████████████| 1490/1490 [00:35<00:00, 42.02it/s]\n"
     ]
    },
    {
     "name": "stdout",
     "output_type": "stream",
     "text": [
      "tensor(0.1635, device='cuda:1', grad_fn=<NllLoss2DBackward>)\n",
      "tensor(199.4448, device='cuda:1', grad_fn=<AddBackward0>)\n",
      "epoch: 751 | loss: 0.13385556624239722\n"
     ]
    },
    {
     "name": "stderr",
     "output_type": "stream",
     "text": [
      "0.166: 100%|██████████████████████████████████████████████████████████████████████████████████████████████████████████████████████| 1490/1490 [00:35<00:00, 41.98it/s]\n"
     ]
    },
    {
     "name": "stdout",
     "output_type": "stream",
     "text": [
      "tensor(0.1661, device='cuda:1', grad_fn=<NllLoss2DBackward>)\n",
      "tensor(199.5623, device='cuda:1', grad_fn=<AddBackward0>)\n",
      "epoch: 752 | loss: 0.13393446135040898\n"
     ]
    },
    {
     "name": "stderr",
     "output_type": "stream",
     "text": [
      "0.174: 100%|██████████████████████████████████████████████████████████████████████████████████████████████████████████████████████| 1490/1490 [00:34<00:00, 42.71it/s]\n"
     ]
    },
    {
     "name": "stdout",
     "output_type": "stream",
     "text": [
      "tensor(0.1736, device='cuda:1', grad_fn=<NllLoss2DBackward>)\n",
      "tensor(199.7493, device='cuda:1', grad_fn=<AddBackward0>)\n",
      "epoch: 753 | loss: 0.13405990088546035\n"
     ]
    },
    {
     "name": "stderr",
     "output_type": "stream",
     "text": [
      "0.209: 100%|██████████████████████████████████████████████████████████████████████████████████████████████████████████████████████| 1490/1490 [00:34<00:00, 42.65it/s]\n"
     ]
    },
    {
     "name": "stdout",
     "output_type": "stream",
     "text": [
      "tensor(0.2087, device='cuda:1', grad_fn=<NllLoss2DBackward>)\n",
      "tensor(199.1533, device='cuda:1', grad_fn=<AddBackward0>)\n",
      "epoch: 754 | loss: 0.13365993627765835\n"
     ]
    },
    {
     "name": "stderr",
     "output_type": "stream",
     "text": [
      "0.155: 100%|██████████████████████████████████████████████████████████████████████████████████████████████████████████████████████| 1490/1490 [00:34<00:00, 43.20it/s]\n"
     ]
    },
    {
     "name": "stdout",
     "output_type": "stream",
     "text": [
      "tensor(0.1547, device='cuda:1', grad_fn=<NllLoss2DBackward>)\n",
      "tensor(199.5489, device='cuda:1', grad_fn=<AddBackward0>)\n",
      "epoch: 755 | loss: 0.13392541872574978\n"
     ]
    },
    {
     "name": "stderr",
     "output_type": "stream",
     "text": [
      "0.137: 100%|██████████████████████████████████████████████████████████████████████████████████████████████████████████████████████| 1490/1490 [00:35<00:00, 41.80it/s]\n"
     ]
    },
    {
     "name": "stdout",
     "output_type": "stream",
     "text": [
      "tensor(0.1371, device='cuda:1', grad_fn=<NllLoss2DBackward>)\n",
      "tensor(198.3152, device='cuda:1', grad_fn=<AddBackward0>)\n",
      "Best loss: 198.57159423828125, Loss: 198.31517028808594\n",
      "epoch: 756 | loss: 0.1330974297235476\n"
     ]
    },
    {
     "name": "stderr",
     "output_type": "stream",
     "text": [
      "0.081: 100%|██████████████████████████████████████████████████████████████████████████████████████████████████████████████████████| 1490/1490 [00:35<00:00, 42.24it/s]\n"
     ]
    },
    {
     "name": "stdout",
     "output_type": "stream",
     "text": [
      "tensor(0.0810, device='cuda:1', grad_fn=<NllLoss2DBackward>)\n",
      "tensor(198.5126, device='cuda:1', grad_fn=<AddBackward0>)\n",
      "epoch: 757 | loss: 0.1332299046868446\n"
     ]
    },
    {
     "name": "stderr",
     "output_type": "stream",
     "text": [
      "0.297: 100%|██████████████████████████████████████████████████████████████████████████████████████████████████████████████████████| 1490/1490 [00:36<00:00, 40.91it/s]\n"
     ]
    },
    {
     "name": "stdout",
     "output_type": "stream",
     "text": [
      "tensor(0.2966, device='cuda:1', grad_fn=<NllLoss2DBackward>)\n",
      "tensor(198.0354, device='cuda:1', grad_fn=<AddBackward0>)\n",
      "Best loss: 198.31517028808594, Loss: 198.03536987304688\n",
      "epoch: 758 | loss: 0.13290964421009857\n"
     ]
    },
    {
     "name": "stderr",
     "output_type": "stream",
     "text": [
      "0.222: 100%|██████████████████████████████████████████████████████████████████████████████████████████████████████████████████████| 1490/1490 [00:35<00:00, 41.65it/s]\n"
     ]
    },
    {
     "name": "stdout",
     "output_type": "stream",
     "text": [
      "tensor(0.2223, device='cuda:1', grad_fn=<NllLoss2DBackward>)\n",
      "tensor(198.6531, device='cuda:1', grad_fn=<AddBackward0>)\n",
      "epoch: 759 | loss: 0.1333242224366873\n"
     ]
    },
    {
     "name": "stderr",
     "output_type": "stream",
     "text": [
      "0.066: 100%|██████████████████████████████████████████████████████████████████████████████████████████████████████████████████████| 1490/1490 [00:36<00:00, 41.03it/s]\n"
     ]
    },
    {
     "name": "stdout",
     "output_type": "stream",
     "text": [
      "tensor(0.0661, device='cuda:1', grad_fn=<NllLoss2DBackward>)\n",
      "tensor(198.0660, device='cuda:1', grad_fn=<AddBackward0>)\n",
      "epoch: 760 | loss: 0.1329301974917418\n"
     ]
    },
    {
     "name": "stderr",
     "output_type": "stream",
     "text": [
      "0.087: 100%|██████████████████████████████████████████████████████████████████████████████████████████████████████████████████████| 1490/1490 [00:35<00:00, 41.67it/s]\n"
     ]
    },
    {
     "name": "stdout",
     "output_type": "stream",
     "text": [
      "tensor(0.0868, device='cuda:1', grad_fn=<NllLoss2DBackward>)\n",
      "tensor(198.0981, device='cuda:1', grad_fn=<AddBackward0>)\n",
      "epoch: 761 | loss: 0.13295173388999582\n"
     ]
    },
    {
     "name": "stderr",
     "output_type": "stream",
     "text": [
      "0.156: 100%|██████████████████████████████████████████████████████████████████████████████████████████████████████████████████████| 1490/1490 [00:36<00:00, 40.57it/s]\n"
     ]
    },
    {
     "name": "stdout",
     "output_type": "stream",
     "text": [
      "tensor(0.1562, device='cuda:1', grad_fn=<NllLoss2DBackward>)\n",
      "tensor(197.5961, device='cuda:1', grad_fn=<AddBackward0>)\n",
      "Best loss: 198.03536987304688, Loss: 197.5961151123047\n",
      "epoch: 762 | loss: 0.13261484235725146\n"
     ]
    },
    {
     "name": "stderr",
     "output_type": "stream",
     "text": [
      "0.071: 100%|██████████████████████████████████████████████████████████████████████████████████████████████████████████████████████| 1490/1490 [00:36<00:00, 40.73it/s]\n"
     ]
    },
    {
     "name": "stdout",
     "output_type": "stream",
     "text": [
      "tensor(0.0708, device='cuda:1', grad_fn=<NllLoss2DBackward>)\n",
      "tensor(197.7471, device='cuda:1', grad_fn=<AddBackward0>)\n",
      "epoch: 763 | loss: 0.13271619553533975\n"
     ]
    },
    {
     "name": "stderr",
     "output_type": "stream",
     "text": [
      "0.112: 100%|██████████████████████████████████████████████████████████████████████████████████████████████████████████████████████| 1490/1490 [00:37<00:00, 39.67it/s]\n"
     ]
    },
    {
     "name": "stdout",
     "output_type": "stream",
     "text": [
      "tensor(0.1118, device='cuda:1', grad_fn=<NllLoss2DBackward>)\n",
      "tensor(197.5597, device='cuda:1', grad_fn=<AddBackward0>)\n",
      "Best loss: 197.5961151123047, Loss: 197.55966186523438\n",
      "epoch: 764 | loss: 0.13259037709076132\n"
     ]
    },
    {
     "name": "stderr",
     "output_type": "stream",
     "text": [
      "0.151: 100%|██████████████████████████████████████████████████████████████████████████████████████████████████████████████████████| 1490/1490 [00:35<00:00, 41.75it/s]\n"
     ]
    },
    {
     "name": "stdout",
     "output_type": "stream",
     "text": [
      "tensor(0.1508, device='cuda:1', grad_fn=<NllLoss2DBackward>)\n",
      "tensor(197.6872, device='cuda:1', grad_fn=<AddBackward0>)\n",
      "epoch: 765 | loss: 0.13267596968068374\n"
     ]
    },
    {
     "name": "stderr",
     "output_type": "stream",
     "text": [
      "0.200: 100%|██████████████████████████████████████████████████████████████████████████████████████████████████████████████████████| 1490/1490 [00:35<00:00, 42.10it/s]\n"
     ]
    },
    {
     "name": "stdout",
     "output_type": "stream",
     "text": [
      "tensor(0.2004, device='cuda:1', grad_fn=<NllLoss2DBackward>)\n",
      "tensor(197.4816, device='cuda:1', grad_fn=<AddBackward0>)\n",
      "Best loss: 197.55966186523438, Loss: 197.48162841796875\n",
      "epoch: 766 | loss: 0.13253800564964346\n"
     ]
    },
    {
     "name": "stderr",
     "output_type": "stream",
     "text": [
      "0.090: 100%|██████████████████████████████████████████████████████████████████████████████████████████████████████████████████████| 1490/1490 [00:35<00:00, 41.46it/s]\n"
     ]
    },
    {
     "name": "stdout",
     "output_type": "stream",
     "text": [
      "tensor(0.0896, device='cuda:1', grad_fn=<NllLoss2DBackward>)\n",
      "tensor(197.0045, device='cuda:1', grad_fn=<AddBackward0>)\n",
      "Best loss: 197.48162841796875, Loss: 197.0045166015625\n",
      "epoch: 767 | loss: 0.13221779637688758\n"
     ]
    },
    {
     "name": "stderr",
     "output_type": "stream",
     "text": [
      "0.140: 100%|██████████████████████████████████████████████████████████████████████████████████████████████████████████████████████| 1490/1490 [00:35<00:00, 41.75it/s]\n"
     ]
    },
    {
     "name": "stdout",
     "output_type": "stream",
     "text": [
      "tensor(0.1396, device='cuda:1', grad_fn=<NllLoss2DBackward>)\n",
      "tensor(197.8631, device='cuda:1', grad_fn=<AddBackward0>)\n",
      "epoch: 768 | loss: 0.1327940153595585\n"
     ]
    },
    {
     "name": "stderr",
     "output_type": "stream",
     "text": [
      "0.096: 100%|██████████████████████████████████████████████████████████████████████████████████████████████████████████████████████| 1490/1490 [00:36<00:00, 41.26it/s]\n"
     ]
    },
    {
     "name": "stdout",
     "output_type": "stream",
     "text": [
      "tensor(0.0959, device='cuda:1', grad_fn=<NllLoss2DBackward>)\n",
      "tensor(197.0911, device='cuda:1', grad_fn=<AddBackward0>)\n",
      "epoch: 769 | loss: 0.1322759026649014\n"
     ]
    },
    {
     "name": "stderr",
     "output_type": "stream",
     "text": [
      "0.088: 100%|██████████████████████████████████████████████████████████████████████████████████████████████████████████████████████| 1490/1490 [00:34<00:00, 42.81it/s]\n"
     ]
    },
    {
     "name": "stdout",
     "output_type": "stream",
     "text": [
      "tensor(0.0875, device='cuda:1', grad_fn=<NllLoss2DBackward>)\n",
      "tensor(197.0814, device='cuda:1', grad_fn=<AddBackward0>)\n",
      "epoch: 770 | loss: 0.13226939975815333\n"
     ]
    },
    {
     "name": "stderr",
     "output_type": "stream",
     "text": [
      "0.178: 100%|██████████████████████████████████████████████████████████████████████████████████████████████████████████████████████| 1490/1490 [00:35<00:00, 42.52it/s]\n"
     ]
    },
    {
     "name": "stdout",
     "output_type": "stream",
     "text": [
      "tensor(0.1780, device='cuda:1', grad_fn=<NllLoss2DBackward>)\n",
      "tensor(197.0349, device='cuda:1', grad_fn=<AddBackward0>)\n",
      "epoch: 771 | loss: 0.13223818580576238\n"
     ]
    },
    {
     "name": "stderr",
     "output_type": "stream",
     "text": [
      "0.182: 100%|██████████████████████████████████████████████████████████████████████████████████████████████████████████████████████| 1490/1490 [00:35<00:00, 41.64it/s]\n"
     ]
    },
    {
     "name": "stdout",
     "output_type": "stream",
     "text": [
      "tensor(0.1824, device='cuda:1', grad_fn=<NllLoss2DBackward>)\n",
      "tensor(196.6834, device='cuda:1', grad_fn=<AddBackward0>)\n",
      "Best loss: 197.0045166015625, Loss: 196.68344116210938\n",
      "epoch: 772 | loss: 0.1320023095047714\n"
     ]
    },
    {
     "name": "stderr",
     "output_type": "stream",
     "text": [
      "0.193: 100%|██████████████████████████████████████████████████████████████████████████████████████████████████████████████████████| 1490/1490 [00:36<00:00, 41.24it/s]\n"
     ]
    },
    {
     "name": "stdout",
     "output_type": "stream",
     "text": [
      "tensor(0.1932, device='cuda:1', grad_fn=<NllLoss2DBackward>)\n",
      "tensor(196.4646, device='cuda:1', grad_fn=<AddBackward0>)\n",
      "Best loss: 196.68344116210938, Loss: 196.46461486816406\n",
      "epoch: 773 | loss: 0.13185544622024434\n"
     ]
    },
    {
     "name": "stderr",
     "output_type": "stream",
     "text": [
      "0.142: 100%|██████████████████████████████████████████████████████████████████████████████████████████████████████████████████████| 1490/1490 [00:35<00:00, 42.17it/s]\n"
     ]
    },
    {
     "name": "stdout",
     "output_type": "stream",
     "text": [
      "tensor(0.1418, device='cuda:1', grad_fn=<NllLoss2DBackward>)\n",
      "tensor(196.9715, device='cuda:1', grad_fn=<AddBackward0>)\n",
      "epoch: 774 | loss: 0.1321956455307519\n"
     ]
    },
    {
     "name": "stderr",
     "output_type": "stream",
     "text": [
      "0.224: 100%|██████████████████████████████████████████████████████████████████████████████████████████████████████████████████████| 1490/1490 [00:36<00:00, 41.33it/s]\n"
     ]
    },
    {
     "name": "stdout",
     "output_type": "stream",
     "text": [
      "tensor(0.2238, device='cuda:1', grad_fn=<NllLoss2DBackward>)\n",
      "tensor(196.0316, device='cuda:1', grad_fn=<AddBackward0>)\n",
      "Best loss: 196.46461486816406, Loss: 196.03164672851562\n",
      "epoch: 775 | loss: 0.131564863576185\n"
     ]
    },
    {
     "name": "stderr",
     "output_type": "stream",
     "text": [
      "0.125: 100%|██████████████████████████████████████████████████████████████████████████████████████████████████████████████████████| 1490/1490 [00:37<00:00, 40.08it/s]\n"
     ]
    },
    {
     "name": "stdout",
     "output_type": "stream",
     "text": [
      "tensor(0.1246, device='cuda:1', grad_fn=<NllLoss2DBackward>)\n",
      "tensor(196.0976, device='cuda:1', grad_fn=<AddBackward0>)\n",
      "epoch: 776 | loss: 0.1316091447868603\n"
     ]
    },
    {
     "name": "stderr",
     "output_type": "stream",
     "text": [
      "0.175: 100%|██████████████████████████████████████████████████████████████████████████████████████████████████████████████████████| 1490/1490 [00:36<00:00, 40.98it/s]\n"
     ]
    },
    {
     "name": "stdout",
     "output_type": "stream",
     "text": [
      "tensor(0.1753, device='cuda:1', grad_fn=<NllLoss2DBackward>)\n",
      "tensor(195.6359, device='cuda:1', grad_fn=<AddBackward0>)\n",
      "Best loss: 196.03164672851562, Loss: 195.6358642578125\n",
      "epoch: 777 | loss: 0.13129923775692115\n"
     ]
    },
    {
     "name": "stderr",
     "output_type": "stream",
     "text": [
      "0.132: 100%|██████████████████████████████████████████████████████████████████████████████████████████████████████████████████████| 1490/1490 [00:37<00:00, 40.26it/s]\n"
     ]
    },
    {
     "name": "stdout",
     "output_type": "stream",
     "text": [
      "tensor(0.1320, device='cuda:1', grad_fn=<NllLoss2DBackward>)\n",
      "tensor(196.5152, device='cuda:1', grad_fn=<AddBackward0>)\n",
      "epoch: 778 | loss: 0.1318893637433148\n"
     ]
    },
    {
     "name": "stderr",
     "output_type": "stream",
     "text": [
      "0.086: 100%|██████████████████████████████████████████████████████████████████████████████████████████████████████████████████████| 1490/1490 [00:34<00:00, 42.73it/s]\n"
     ]
    },
    {
     "name": "stdout",
     "output_type": "stream",
     "text": [
      "tensor(0.0861, device='cuda:1', grad_fn=<NllLoss2DBackward>)\n",
      "tensor(195.1669, device='cuda:1', grad_fn=<AddBackward0>)\n",
      "Best loss: 195.6358642578125, Loss: 195.16685485839844\n",
      "epoch: 779 | loss: 0.1309844663479184\n"
     ]
    },
    {
     "name": "stderr",
     "output_type": "stream",
     "text": [
      "0.134: 100%|██████████████████████████████████████████████████████████████████████████████████████████████████████████████████████| 1490/1490 [00:34<00:00, 43.00it/s]\n"
     ]
    },
    {
     "name": "stdout",
     "output_type": "stream",
     "text": [
      "tensor(0.1339, device='cuda:1', grad_fn=<NllLoss2DBackward>)\n",
      "tensor(195.4583, device='cuda:1', grad_fn=<AddBackward0>)\n",
      "epoch: 780 | loss: 0.13118008607185927\n"
     ]
    },
    {
     "name": "stderr",
     "output_type": "stream",
     "text": [
      "0.135: 100%|██████████████████████████████████████████████████████████████████████████████████████████████████████████████████████| 1490/1490 [00:35<00:00, 41.48it/s]\n"
     ]
    },
    {
     "name": "stdout",
     "output_type": "stream",
     "text": [
      "tensor(0.1345, device='cuda:1', grad_fn=<NllLoss2DBackward>)\n",
      "tensor(195.2528, device='cuda:1', grad_fn=<AddBackward0>)\n",
      "epoch: 781 | loss: 0.1310421527632131\n"
     ]
    },
    {
     "name": "stderr",
     "output_type": "stream",
     "text": [
      "0.206: 100%|██████████████████████████████████████████████████████████████████████████████████████████████████████████████████████| 1490/1490 [00:34<00:00, 42.98it/s]\n"
     ]
    },
    {
     "name": "stdout",
     "output_type": "stream",
     "text": [
      "tensor(0.2061, device='cuda:1', grad_fn=<NllLoss2DBackward>)\n",
      "tensor(195.5318, device='cuda:1', grad_fn=<AddBackward0>)\n",
      "epoch: 782 | loss: 0.13122940575516465\n"
     ]
    },
    {
     "name": "stderr",
     "output_type": "stream",
     "text": [
      "0.141: 100%|██████████████████████████████████████████████████████████████████████████████████████████████████████████████████████| 1490/1490 [00:34<00:00, 43.46it/s]\n"
     ]
    },
    {
     "name": "stdout",
     "output_type": "stream",
     "text": [
      "tensor(0.1409, device='cuda:1', grad_fn=<NllLoss2DBackward>)\n",
      "tensor(195.5326, device='cuda:1', grad_fn=<AddBackward0>)\n",
      "epoch: 783 | loss: 0.13122994851746014\n"
     ]
    },
    {
     "name": "stderr",
     "output_type": "stream",
     "text": [
      "0.088: 100%|██████████████████████████████████████████████████████████████████████████████████████████████████████████████████████| 1490/1490 [00:35<00:00, 41.51it/s]\n"
     ]
    },
    {
     "name": "stdout",
     "output_type": "stream",
     "text": [
      "tensor(0.0875, device='cuda:1', grad_fn=<NllLoss2DBackward>)\n",
      "tensor(194.8971, device='cuda:1', grad_fn=<AddBackward0>)\n",
      "Best loss: 195.16685485839844, Loss: 194.89710998535156\n",
      "epoch: 784 | loss: 0.13080342952037016\n"
     ]
    },
    {
     "name": "stderr",
     "output_type": "stream",
     "text": [
      "0.067: 100%|██████████████████████████████████████████████████████████████████████████████████████████████████████████████████████| 1490/1490 [00:38<00:00, 38.24it/s]\n"
     ]
    },
    {
     "name": "stdout",
     "output_type": "stream",
     "text": [
      "tensor(0.0670, device='cuda:1', grad_fn=<NllLoss2DBackward>)\n",
      "tensor(194.9616, device='cuda:1', grad_fn=<AddBackward0>)\n",
      "epoch: 785 | loss: 0.13084672761443478\n"
     ]
    },
    {
     "name": "stderr",
     "output_type": "stream",
     "text": [
      "0.073: 100%|██████████████████████████████████████████████████████████████████████████████████████████████████████████████████████| 1490/1490 [00:36<00:00, 41.23it/s]\n"
     ]
    },
    {
     "name": "stdout",
     "output_type": "stream",
     "text": [
      "tensor(0.0726, device='cuda:1', grad_fn=<NllLoss2DBackward>)\n",
      "tensor(195.2555, device='cuda:1', grad_fn=<AddBackward0>)\n",
      "epoch: 786 | loss: 0.13104394490286808\n"
     ]
    },
    {
     "name": "stderr",
     "output_type": "stream",
     "text": [
      "0.068: 100%|██████████████████████████████████████████████████████████████████████████████████████████████████████████████████████| 1490/1490 [00:35<00:00, 42.08it/s]\n"
     ]
    },
    {
     "name": "stdout",
     "output_type": "stream",
     "text": [
      "tensor(0.0681, device='cuda:1', grad_fn=<NllLoss2DBackward>)\n",
      "tensor(194.5618, device='cuda:1', grad_fn=<AddBackward0>)\n",
      "Best loss: 194.89710998535156, Loss: 194.5618133544922\n",
      "epoch: 787 | loss: 0.1305783982244914\n"
     ]
    },
    {
     "name": "stderr",
     "output_type": "stream",
     "text": [
      "0.073: 100%|██████████████████████████████████████████████████████████████████████████████████████████████████████████████████████| 1490/1490 [00:35<00:00, 42.01it/s]\n"
     ]
    },
    {
     "name": "stdout",
     "output_type": "stream",
     "text": [
      "tensor(0.0726, device='cuda:1', grad_fn=<NllLoss2DBackward>)\n",
      "tensor(194.8542, device='cuda:1', grad_fn=<AddBackward0>)\n",
      "epoch: 788 | loss: 0.13077463239631396\n"
     ]
    },
    {
     "name": "stderr",
     "output_type": "stream",
     "text": [
      "0.125: 100%|██████████████████████████████████████████████████████████████████████████████████████████████████████████████████████| 1490/1490 [00:35<00:00, 41.62it/s]\n"
     ]
    },
    {
     "name": "stdout",
     "output_type": "stream",
     "text": [
      "tensor(0.1246, device='cuda:1', grad_fn=<NllLoss2DBackward>)\n",
      "tensor(194.2824, device='cuda:1', grad_fn=<AddBackward0>)\n",
      "Best loss: 194.5618133544922, Loss: 194.2823944091797\n",
      "epoch: 789 | loss: 0.1303908687309931\n"
     ]
    },
    {
     "name": "stderr",
     "output_type": "stream",
     "text": [
      "0.131: 100%|██████████████████████████████████████████████████████████████████████████████████████████████████████████████████████| 1490/1490 [00:36<00:00, 40.76it/s]\n"
     ]
    },
    {
     "name": "stdout",
     "output_type": "stream",
     "text": [
      "tensor(0.1311, device='cuda:1', grad_fn=<NllLoss2DBackward>)\n",
      "tensor(194.3289, device='cuda:1', grad_fn=<AddBackward0>)\n",
      "epoch: 790 | loss: 0.13042209292418205\n"
     ]
    },
    {
     "name": "stderr",
     "output_type": "stream",
     "text": [
      "0.102: 100%|██████████████████████████████████████████████████████████████████████████████████████████████████████████████████████| 1490/1490 [00:35<00:00, 42.10it/s]\n"
     ]
    },
    {
     "name": "stdout",
     "output_type": "stream",
     "text": [
      "tensor(0.1018, device='cuda:1', grad_fn=<NllLoss2DBackward>)\n",
      "tensor(194.4774, device='cuda:1', grad_fn=<AddBackward0>)\n",
      "epoch: 791 | loss: 0.13052176661139367\n"
     ]
    },
    {
     "name": "stderr",
     "output_type": "stream",
     "text": [
      "0.042: 100%|██████████████████████████████████████████████████████████████████████████████████████████████████████████████████████| 1490/1490 [00:36<00:00, 41.05it/s]\n"
     ]
    },
    {
     "name": "stdout",
     "output_type": "stream",
     "text": [
      "tensor(0.0417, device='cuda:1', grad_fn=<NllLoss2DBackward>)\n",
      "tensor(193.7837, device='cuda:1', grad_fn=<AddBackward0>)\n",
      "Best loss: 194.2823944091797, Loss: 193.78370666503906\n",
      "epoch: 792 | loss: 0.13005617896982488\n"
     ]
    },
    {
     "name": "stderr",
     "output_type": "stream",
     "text": [
      "0.063: 100%|██████████████████████████████████████████████████████████████████████████████████████████████████████████████████████| 1490/1490 [00:36<00:00, 41.28it/s]\n"
     ]
    },
    {
     "name": "stdout",
     "output_type": "stream",
     "text": [
      "tensor(0.0633, device='cuda:1', grad_fn=<NllLoss2DBackward>)\n",
      "tensor(194.0557, device='cuda:1', grad_fn=<AddBackward0>)\n",
      "epoch: 793 | loss: 0.13023871095388528\n"
     ]
    },
    {
     "name": "stderr",
     "output_type": "stream",
     "text": [
      "0.243: 100%|██████████████████████████████████████████████████████████████████████████████████████████████████████████████████████| 1490/1490 [00:35<00:00, 42.18it/s]\n"
     ]
    },
    {
     "name": "stdout",
     "output_type": "stream",
     "text": [
      "tensor(0.2427, device='cuda:1', grad_fn=<NllLoss2DBackward>)\n",
      "tensor(194.0867, device='cuda:1', grad_fn=<AddBackward0>)\n",
      "epoch: 794 | loss: 0.1302595509778733\n"
     ]
    },
    {
     "name": "stderr",
     "output_type": "stream",
     "text": [
      "0.130: 100%|██████████████████████████████████████████████████████████████████████████████████████████████████████████████████████| 1490/1490 [00:35<00:00, 41.96it/s]\n"
     ]
    },
    {
     "name": "stdout",
     "output_type": "stream",
     "text": [
      "tensor(0.1297, device='cuda:1', grad_fn=<NllLoss2DBackward>)\n",
      "tensor(194.2835, device='cuda:1', grad_fn=<AddBackward0>)\n",
      "epoch: 795 | loss: 0.13039162655004718\n"
     ]
    },
    {
     "name": "stderr",
     "output_type": "stream",
     "text": [
      "0.115: 100%|██████████████████████████████████████████████████████████████████████████████████████████████████████████████████████| 1490/1490 [00:35<00:00, 41.72it/s]\n"
     ]
    },
    {
     "name": "stdout",
     "output_type": "stream",
     "text": [
      "tensor(0.1152, device='cuda:1', grad_fn=<NllLoss2DBackward>)\n",
      "tensor(193.6846, device='cuda:1', grad_fn=<AddBackward0>)\n",
      "Best loss: 193.78370666503906, Loss: 193.68460083007812\n",
      "epoch: 796 | loss: 0.12998966498662962\n"
     ]
    },
    {
     "name": "stderr",
     "output_type": "stream",
     "text": [
      "0.100: 100%|██████████████████████████████████████████████████████████████████████████████████████████████████████████████████████| 1490/1490 [00:35<00:00, 42.41it/s]\n"
     ]
    },
    {
     "name": "stdout",
     "output_type": "stream",
     "text": [
      "tensor(0.1003, device='cuda:1', grad_fn=<NllLoss2DBackward>)\n",
      "tensor(193.3215, device='cuda:1', grad_fn=<AddBackward0>)\n",
      "Best loss: 193.68460083007812, Loss: 193.32150268554688\n",
      "epoch: 797 | loss: 0.12974597495674287\n"
     ]
    },
    {
     "name": "stderr",
     "output_type": "stream",
     "text": [
      "0.123: 100%|██████████████████████████████████████████████████████████████████████████████████████████████████████████████████████| 1490/1490 [00:35<00:00, 41.47it/s]\n"
     ]
    },
    {
     "name": "stdout",
     "output_type": "stream",
     "text": [
      "tensor(0.1229, device='cuda:1', grad_fn=<NllLoss2DBackward>)\n",
      "tensor(193.0391, device='cuda:1', grad_fn=<AddBackward0>)\n",
      "Best loss: 193.32150268554688, Loss: 193.0390625\n",
      "epoch: 798 | loss: 0.1295564177852349\n"
     ]
    },
    {
     "name": "stderr",
     "output_type": "stream",
     "text": [
      "0.251: 100%|██████████████████████████████████████████████████████████████████████████████████████████████████████████████████████| 1490/1490 [00:35<00:00, 41.76it/s]\n"
     ]
    },
    {
     "name": "stdout",
     "output_type": "stream",
     "text": [
      "tensor(0.2511, device='cuda:1', grad_fn=<NllLoss2DBackward>)\n",
      "tensor(193.7960, device='cuda:1', grad_fn=<AddBackward0>)\n",
      "epoch: 799 | loss: 0.13006442281223785\n"
     ]
    },
    {
     "name": "stderr",
     "output_type": "stream",
     "text": [
      "0.089: 100%|██████████████████████████████████████████████████████████████████████████████████████████████████████████████████████| 1490/1490 [00:36<00:00, 41.24it/s]\n"
     ]
    },
    {
     "name": "stdout",
     "output_type": "stream",
     "text": [
      "tensor(0.0892, device='cuda:1', grad_fn=<NllLoss2DBackward>)\n",
      "tensor(192.7685, device='cuda:1', grad_fn=<AddBackward0>)\n",
      "Best loss: 193.0390625, Loss: 192.76852416992188\n",
      "epoch: 800 | loss: 0.12937484843618918\n"
     ]
    },
    {
     "name": "stderr",
     "output_type": "stream",
     "text": [
      "0.241: 100%|██████████████████████████████████████████████████████████████████████████████████████████████████████████████████████| 1490/1490 [00:35<00:00, 41.85it/s]\n"
     ]
    },
    {
     "name": "stdout",
     "output_type": "stream",
     "text": [
      "tensor(0.2407, device='cuda:1', grad_fn=<NllLoss2DBackward>)\n",
      "tensor(193.8777, device='cuda:1', grad_fn=<AddBackward0>)\n",
      "epoch: 801 | loss: 0.13011926228568058\n"
     ]
    },
    {
     "name": "stderr",
     "output_type": "stream",
     "text": [
      "0.164: 100%|██████████████████████████████████████████████████████████████████████████████████████████████████████████████████████| 1490/1490 [00:35<00:00, 41.42it/s]\n"
     ]
    },
    {
     "name": "stdout",
     "output_type": "stream",
     "text": [
      "tensor(0.1636, device='cuda:1', grad_fn=<NllLoss2DBackward>)\n",
      "tensor(193.0693, device='cuda:1', grad_fn=<AddBackward0>)\n",
      "epoch: 802 | loss: 0.12957669456533139\n"
     ]
    },
    {
     "name": "stderr",
     "output_type": "stream",
     "text": [
      "0.062: 100%|██████████████████████████████████████████████████████████████████████████████████████████████████████████████████████| 1490/1490 [00:35<00:00, 41.42it/s]\n"
     ]
    },
    {
     "name": "stdout",
     "output_type": "stream",
     "text": [
      "tensor(0.0624, device='cuda:1', grad_fn=<NllLoss2DBackward>)\n",
      "tensor(193.5132, device='cuda:1', grad_fn=<AddBackward0>)\n",
      "epoch: 803 | loss: 0.12987464034317323\n"
     ]
    },
    {
     "name": "stderr",
     "output_type": "stream",
     "text": [
      "0.097: 100%|██████████████████████████████████████████████████████████████████████████████████████████████████████████████████████| 1490/1490 [00:34<00:00, 42.76it/s]\n"
     ]
    },
    {
     "name": "stdout",
     "output_type": "stream",
     "text": [
      "tensor(0.0972, device='cuda:1', grad_fn=<NllLoss2DBackward>)\n",
      "tensor(193.0722, device='cuda:1', grad_fn=<AddBackward0>)\n",
      "epoch: 804 | loss: 0.1295786403169568\n"
     ]
    },
    {
     "name": "stderr",
     "output_type": "stream",
     "text": [
      "0.107: 100%|██████████████████████████████████████████████████████████████████████████████████████████████████████████████████████| 1490/1490 [00:35<00:00, 42.28it/s]\n"
     ]
    },
    {
     "name": "stdout",
     "output_type": "stream",
     "text": [
      "tensor(0.1066, device='cuda:1', grad_fn=<NllLoss2DBackward>)\n",
      "tensor(193.1563, device='cuda:1', grad_fn=<AddBackward0>)\n",
      "epoch: 805 | loss: 0.1296351183180841\n"
     ]
    },
    {
     "name": "stderr",
     "output_type": "stream",
     "text": [
      "0.157: 100%|██████████████████████████████████████████████████████████████████████████████████████████████████████████████████████| 1490/1490 [00:34<00:00, 42.61it/s]\n"
     ]
    },
    {
     "name": "stdout",
     "output_type": "stream",
     "text": [
      "tensor(0.1568, device='cuda:1', grad_fn=<NllLoss2DBackward>)\n",
      "tensor(192.6575, device='cuda:1', grad_fn=<AddBackward0>)\n",
      "Best loss: 192.76852416992188, Loss: 192.65748596191406\n",
      "epoch: 806 | loss: 0.1293003261489356\n"
     ]
    },
    {
     "name": "stderr",
     "output_type": "stream",
     "text": [
      "0.111: 100%|██████████████████████████████████████████████████████████████████████████████████████████████████████████████████████| 1490/1490 [00:34<00:00, 42.58it/s]\n"
     ]
    },
    {
     "name": "stdout",
     "output_type": "stream",
     "text": [
      "tensor(0.1105, device='cuda:1', grad_fn=<NllLoss2DBackward>)\n",
      "tensor(193.4872, device='cuda:1', grad_fn=<AddBackward0>)\n",
      "epoch: 807 | loss: 0.12985719002333262\n"
     ]
    },
    {
     "name": "stderr",
     "output_type": "stream",
     "text": [
      "0.115: 100%|██████████████████████████████████████████████████████████████████████████████████████████████████████████████████████| 1490/1490 [00:34<00:00, 43.16it/s]\n"
     ]
    },
    {
     "name": "stdout",
     "output_type": "stream",
     "text": [
      "tensor(0.1149, device='cuda:1', grad_fn=<NllLoss2DBackward>)\n",
      "tensor(192.6199, device='cuda:1', grad_fn=<AddBackward0>)\n",
      "Best loss: 192.65748596191406, Loss: 192.6199188232422\n",
      "epoch: 808 | loss: 0.1292751133041894\n"
     ]
    },
    {
     "name": "stderr",
     "output_type": "stream",
     "text": [
      "0.079: 100%|██████████████████████████████████████████████████████████████████████████████████████████████████████████████████████| 1490/1490 [00:36<00:00, 41.28it/s]\n"
     ]
    },
    {
     "name": "stdout",
     "output_type": "stream",
     "text": [
      "tensor(0.0792, device='cuda:1', grad_fn=<NllLoss2DBackward>)\n",
      "tensor(192.5936, device='cuda:1', grad_fn=<AddBackward0>)\n",
      "Best loss: 192.6199188232422, Loss: 192.5935516357422\n",
      "epoch: 809 | loss: 0.1292574172051961\n"
     ]
    },
    {
     "name": "stderr",
     "output_type": "stream",
     "text": [
      "0.108: 100%|██████████████████████████████████████████████████████████████████████████████████████████████████████████████████████| 1490/1490 [00:34<00:00, 42.97it/s]\n"
     ]
    },
    {
     "name": "stdout",
     "output_type": "stream",
     "text": [
      "tensor(0.1075, device='cuda:1', grad_fn=<NllLoss2DBackward>)\n",
      "tensor(192.2588, device='cuda:1', grad_fn=<AddBackward0>)\n",
      "Best loss: 192.5935516357422, Loss: 192.25875854492188\n",
      "epoch: 810 | loss: 0.12903272385565226\n"
     ]
    },
    {
     "name": "stderr",
     "output_type": "stream",
     "text": [
      "0.123: 100%|██████████████████████████████████████████████████████████████████████████████████████████████████████████████████████| 1490/1490 [00:35<00:00, 42.13it/s]\n"
     ]
    },
    {
     "name": "stdout",
     "output_type": "stream",
     "text": [
      "tensor(0.1234, device='cuda:1', grad_fn=<NllLoss2DBackward>)\n",
      "tensor(192.3495, device='cuda:1', grad_fn=<AddBackward0>)\n",
      "epoch: 811 | loss: 0.12909364636312395\n"
     ]
    },
    {
     "name": "stderr",
     "output_type": "stream",
     "text": [
      "0.150: 100%|██████████████████████████████████████████████████████████████████████████████████████████████████████████████████████| 1490/1490 [00:35<00:00, 41.72it/s]\n"
     ]
    },
    {
     "name": "stdout",
     "output_type": "stream",
     "text": [
      "tensor(0.1500, device='cuda:1', grad_fn=<NllLoss2DBackward>)\n",
      "tensor(192.1841, device='cuda:1', grad_fn=<AddBackward0>)\n",
      "Best loss: 192.25875854492188, Loss: 192.18411254882812\n",
      "epoch: 812 | loss: 0.12898262587169673\n"
     ]
    },
    {
     "name": "stderr",
     "output_type": "stream",
     "text": [
      "0.148: 100%|██████████████████████████████████████████████████████████████████████████████████████████████████████████████████████| 1490/1490 [00:35<00:00, 42.07it/s]\n"
     ]
    },
    {
     "name": "stdout",
     "output_type": "stream",
     "text": [
      "tensor(0.1479, device='cuda:1', grad_fn=<NllLoss2DBackward>)\n",
      "tensor(191.6401, device='cuda:1', grad_fn=<AddBackward0>)\n",
      "Best loss: 192.18411254882812, Loss: 191.64007568359375\n",
      "epoch: 813 | loss: 0.12861750045878775\n"
     ]
    },
    {
     "name": "stderr",
     "output_type": "stream",
     "text": [
      "0.145: 100%|██████████████████████████████████████████████████████████████████████████████████████████████████████████████████████| 1490/1490 [00:36<00:00, 41.03it/s]\n"
     ]
    },
    {
     "name": "stdout",
     "output_type": "stream",
     "text": [
      "tensor(0.1453, device='cuda:1', grad_fn=<NllLoss2DBackward>)\n",
      "tensor(191.9380, device='cuda:1', grad_fn=<AddBackward0>)\n",
      "epoch: 814 | loss: 0.12881743155869863\n"
     ]
    },
    {
     "name": "stderr",
     "output_type": "stream",
     "text": [
      "0.172: 100%|██████████████████████████████████████████████████████████████████████████████████████████████████████████████████████| 1490/1490 [00:36<00:00, 40.71it/s]\n"
     ]
    },
    {
     "name": "stdout",
     "output_type": "stream",
     "text": [
      "tensor(0.1721, device='cuda:1', grad_fn=<NllLoss2DBackward>)\n",
      "tensor(191.6940, device='cuda:1', grad_fn=<AddBackward0>)\n",
      "epoch: 815 | loss: 0.12865369143902056\n"
     ]
    },
    {
     "name": "stderr",
     "output_type": "stream",
     "text": [
      "0.142: 100%|██████████████████████████████████████████████████████████████████████████████████████████████████████████████████████| 1490/1490 [00:35<00:00, 42.16it/s]\n"
     ]
    },
    {
     "name": "stdout",
     "output_type": "stream",
     "text": [
      "tensor(0.1423, device='cuda:1', grad_fn=<NllLoss2DBackward>)\n",
      "tensor(191.5550, device='cuda:1', grad_fn=<AddBackward0>)\n",
      "Best loss: 191.64007568359375, Loss: 191.55499267578125\n",
      "epoch: 816 | loss: 0.1285603977689807\n"
     ]
    },
    {
     "name": "stderr",
     "output_type": "stream",
     "text": [
      "0.174: 100%|██████████████████████████████████████████████████████████████████████████████████████████████████████████████████████| 1490/1490 [00:35<00:00, 42.04it/s]\n"
     ]
    },
    {
     "name": "stdout",
     "output_type": "stream",
     "text": [
      "tensor(0.1741, device='cuda:1', grad_fn=<NllLoss2DBackward>)\n",
      "tensor(192.6153, device='cuda:1', grad_fn=<AddBackward0>)\n",
      "epoch: 817 | loss: 0.1292720001015887\n"
     ]
    },
    {
     "name": "stderr",
     "output_type": "stream",
     "text": [
      "0.171: 100%|██████████████████████████████████████████████████████████████████████████████████████████████████████████████████████| 1490/1490 [00:36<00:00, 41.27it/s]\n"
     ]
    },
    {
     "name": "stdout",
     "output_type": "stream",
     "text": [
      "tensor(0.1708, device='cuda:1', grad_fn=<NllLoss2DBackward>)\n",
      "tensor(191.7083, device='cuda:1', grad_fn=<AddBackward0>)\n",
      "epoch: 818 | loss: 0.1286632665851772\n"
     ]
    },
    {
     "name": "stderr",
     "output_type": "stream",
     "text": [
      "0.206: 100%|██████████████████████████████████████████████████████████████████████████████████████████████████████████████████████| 1490/1490 [00:35<00:00, 41.60it/s]\n"
     ]
    },
    {
     "name": "stdout",
     "output_type": "stream",
     "text": [
      "tensor(0.2057, device='cuda:1', grad_fn=<NllLoss2DBackward>)\n",
      "tensor(191.4385, device='cuda:1', grad_fn=<AddBackward0>)\n",
      "Best loss: 191.55499267578125, Loss: 191.4384765625\n",
      "epoch: 819 | loss: 0.1284821990352349\n"
     ]
    },
    {
     "name": "stderr",
     "output_type": "stream",
     "text": [
      "0.119: 100%|██████████████████████████████████████████████████████████████████████████████████████████████████████████████████████| 1490/1490 [00:36<00:00, 41.06it/s]\n"
     ]
    },
    {
     "name": "stdout",
     "output_type": "stream",
     "text": [
      "tensor(0.1192, device='cuda:1', grad_fn=<NllLoss2DBackward>)\n",
      "tensor(190.6068, device='cuda:1', grad_fn=<AddBackward0>)\n",
      "Best loss: 191.4384765625, Loss: 190.60678100585938\n",
      "epoch: 820 | loss: 0.1279240140978922\n"
     ]
    },
    {
     "name": "stderr",
     "output_type": "stream",
     "text": [
      "0.136: 100%|██████████████████████████████████████████████████████████████████████████████████████████████████████████████████████| 1490/1490 [00:36<00:00, 41.36it/s]\n"
     ]
    },
    {
     "name": "stdout",
     "output_type": "stream",
     "text": [
      "tensor(0.1357, device='cuda:1', grad_fn=<NllLoss2DBackward>)\n",
      "tensor(190.5086, device='cuda:1', grad_fn=<AddBackward0>)\n",
      "Best loss: 190.60678100585938, Loss: 190.50860595703125\n",
      "epoch: 821 | loss: 0.1278581248033767\n"
     ]
    },
    {
     "name": "stderr",
     "output_type": "stream",
     "text": [
      "0.249: 100%|██████████████████████████████████████████████████████████████████████████████████████████████████████████████████████| 1490/1490 [00:35<00:00, 41.56it/s]\n"
     ]
    },
    {
     "name": "stdout",
     "output_type": "stream",
     "text": [
      "tensor(0.2492, device='cuda:1', grad_fn=<NllLoss2DBackward>)\n",
      "tensor(191.2980, device='cuda:1', grad_fn=<AddBackward0>)\n",
      "epoch: 822 | loss: 0.1283879222485843\n"
     ]
    },
    {
     "name": "stderr",
     "output_type": "stream",
     "text": [
      "0.072: 100%|██████████████████████████████████████████████████████████████████████████████████████████████████████████████████████| 1490/1490 [00:35<00:00, 42.35it/s]\n"
     ]
    },
    {
     "name": "stdout",
     "output_type": "stream",
     "text": [
      "tensor(0.0718, device='cuda:1', grad_fn=<NllLoss2DBackward>)\n",
      "tensor(191.1360, device='cuda:1', grad_fn=<AddBackward0>)\n",
      "epoch: 823 | loss: 0.12827922641830958\n"
     ]
    },
    {
     "name": "stderr",
     "output_type": "stream",
     "text": [
      "0.034: 100%|██████████████████████████████████████████████████████████████████████████████████████████████████████████████████████| 1490/1490 [00:36<00:00, 41.30it/s]\n"
     ]
    },
    {
     "name": "stdout",
     "output_type": "stream",
     "text": [
      "tensor(0.0344, device='cuda:1', grad_fn=<NllLoss2DBackward>)\n",
      "tensor(191.2123, device='cuda:1', grad_fn=<AddBackward0>)\n",
      "epoch: 824 | loss: 0.12833038944526007\n"
     ]
    },
    {
     "name": "stderr",
     "output_type": "stream",
     "text": [
      "0.158: 100%|██████████████████████████████████████████████████████████████████████████████████████████████████████████████████████| 1490/1490 [00:35<00:00, 42.44it/s]\n"
     ]
    },
    {
     "name": "stdout",
     "output_type": "stream",
     "text": [
      "tensor(0.1582, device='cuda:1', grad_fn=<NllLoss2DBackward>)\n",
      "tensor(190.6670, device='cuda:1', grad_fn=<AddBackward0>)\n",
      "epoch: 825 | loss: 0.1279644038053167\n"
     ]
    },
    {
     "name": "stderr",
     "output_type": "stream",
     "text": [
      "0.192: 100%|██████████████████████████████████████████████████████████████████████████████████████████████████████████████████████| 1490/1490 [00:34<00:00, 43.13it/s]\n"
     ]
    },
    {
     "name": "stdout",
     "output_type": "stream",
     "text": [
      "tensor(0.1921, device='cuda:1', grad_fn=<NllLoss2DBackward>)\n",
      "tensor(190.4966, device='cuda:1', grad_fn=<AddBackward0>)\n",
      "Best loss: 190.50860595703125, Loss: 190.49656677246094\n",
      "epoch: 826 | loss: 0.12785004481373216\n"
     ]
    },
    {
     "name": "stderr",
     "output_type": "stream",
     "text": [
      "0.121: 100%|██████████████████████████████████████████████████████████████████████████████████████████████████████████████████████| 1490/1490 [00:35<00:00, 42.12it/s]\n"
     ]
    },
    {
     "name": "stdout",
     "output_type": "stream",
     "text": [
      "tensor(0.1211, device='cuda:1', grad_fn=<NllLoss2DBackward>)\n",
      "tensor(190.2847, device='cuda:1', grad_fn=<AddBackward0>)\n",
      "Best loss: 190.49656677246094, Loss: 190.28469848632812\n",
      "epoch: 827 | loss: 0.12770785133310614\n"
     ]
    },
    {
     "name": "stderr",
     "output_type": "stream",
     "text": [
      "0.095: 100%|██████████████████████████████████████████████████████████████████████████████████████████████████████████████████████| 1490/1490 [00:34<00:00, 42.75it/s]\n"
     ]
    },
    {
     "name": "stdout",
     "output_type": "stream",
     "text": [
      "tensor(0.0947, device='cuda:1', grad_fn=<NllLoss2DBackward>)\n",
      "tensor(190.3507, device='cuda:1', grad_fn=<AddBackward0>)\n",
      "epoch: 828 | loss: 0.12775212230298344\n"
     ]
    },
    {
     "name": "stderr",
     "output_type": "stream",
     "text": [
      "0.165: 100%|██████████████████████████████████████████████████████████████████████████████████████████████████████████████████████| 1490/1490 [00:35<00:00, 42.06it/s]\n"
     ]
    },
    {
     "name": "stdout",
     "output_type": "stream",
     "text": [
      "tensor(0.1648, device='cuda:1', grad_fn=<NllLoss2DBackward>)\n",
      "tensor(190.9636, device='cuda:1', grad_fn=<AddBackward0>)\n",
      "epoch: 829 | loss: 0.12816347467819317\n"
     ]
    },
    {
     "name": "stderr",
     "output_type": "stream",
     "text": [
      "0.119: 100%|██████████████████████████████████████████████████████████████████████████████████████████████████████████████████████| 1490/1490 [00:34<00:00, 42.88it/s]\n"
     ]
    },
    {
     "name": "stdout",
     "output_type": "stream",
     "text": [
      "tensor(0.1186, device='cuda:1', grad_fn=<NllLoss2DBackward>)\n",
      "tensor(190.3478, device='cuda:1', grad_fn=<AddBackward0>)\n",
      "epoch: 830 | loss: 0.12775018679215605\n"
     ]
    },
    {
     "name": "stderr",
     "output_type": "stream",
     "text": [
      "0.119: 100%|██████████████████████████████████████████████████████████████████████████████████████████████████████████████████████| 1490/1490 [00:35<00:00, 41.72it/s]\n"
     ]
    },
    {
     "name": "stdout",
     "output_type": "stream",
     "text": [
      "tensor(0.1193, device='cuda:1', grad_fn=<NllLoss2DBackward>)\n",
      "tensor(189.2325, device='cuda:1', grad_fn=<AddBackward0>)\n",
      "Best loss: 190.28469848632812, Loss: 189.2324676513672\n",
      "epoch: 831 | loss: 0.12700165614185718\n"
     ]
    },
    {
     "name": "stderr",
     "output_type": "stream",
     "text": [
      "0.182: 100%|██████████████████████████████████████████████████████████████████████████████████████████████████████████████████████| 1490/1490 [00:34<00:00, 42.92it/s]\n"
     ]
    },
    {
     "name": "stdout",
     "output_type": "stream",
     "text": [
      "tensor(0.1823, device='cuda:1', grad_fn=<NllLoss2DBackward>)\n",
      "tensor(190.4740, device='cuda:1', grad_fn=<AddBackward0>)\n",
      "epoch: 832 | loss: 0.1278348679510539\n"
     ]
    },
    {
     "name": "stderr",
     "output_type": "stream",
     "text": [
      "0.202: 100%|██████████████████████████████████████████████████████████████████████████████████████████████████████████████████████| 1490/1490 [00:35<00:00, 41.75it/s]\n"
     ]
    },
    {
     "name": "stdout",
     "output_type": "stream",
     "text": [
      "tensor(0.2020, device='cuda:1', grad_fn=<NllLoss2DBackward>)\n",
      "tensor(190.7185, device='cuda:1', grad_fn=<AddBackward0>)\n",
      "epoch: 833 | loss: 0.12799900746185508\n"
     ]
    },
    {
     "name": "stderr",
     "output_type": "stream",
     "text": [
      "0.107: 100%|██████████████████████████████████████████████████████████████████████████████████████████████████████████████████████| 1490/1490 [00:36<00:00, 41.17it/s]\n"
     ]
    },
    {
     "name": "stdout",
     "output_type": "stream",
     "text": [
      "tensor(0.1067, device='cuda:1', grad_fn=<NllLoss2DBackward>)\n",
      "tensor(189.6295, device='cuda:1', grad_fn=<AddBackward0>)\n",
      "epoch: 834 | loss: 0.1272681319473574\n"
     ]
    },
    {
     "name": "stderr",
     "output_type": "stream",
     "text": [
      "0.083: 100%|██████████████████████████████████████████████████████████████████████████████████████████████████████████████████████| 1490/1490 [00:36<00:00, 41.36it/s]\n"
     ]
    },
    {
     "name": "stdout",
     "output_type": "stream",
     "text": [
      "tensor(0.0828, device='cuda:1', grad_fn=<NllLoss2DBackward>)\n",
      "tensor(189.4696, device='cuda:1', grad_fn=<AddBackward0>)\n",
      "epoch: 835 | loss: 0.12716079814322043\n"
     ]
    },
    {
     "name": "stderr",
     "output_type": "stream",
     "text": [
      "0.104: 100%|██████████████████████████████████████████████████████████████████████████████████████████████████████████████████████| 1490/1490 [00:35<00:00, 41.55it/s]\n"
     ]
    },
    {
     "name": "stdout",
     "output_type": "stream",
     "text": [
      "tensor(0.1039, device='cuda:1', grad_fn=<NllLoss2DBackward>)\n",
      "tensor(189.8787, device='cuda:1', grad_fn=<AddBackward0>)\n",
      "epoch: 836 | loss: 0.12743534369756712\n"
     ]
    },
    {
     "name": "stderr",
     "output_type": "stream",
     "text": [
      "0.061: 100%|██████████████████████████████████████████████████████████████████████████████████████████████████████████████████████| 1490/1490 [00:35<00:00, 42.01it/s]\n"
     ]
    },
    {
     "name": "stdout",
     "output_type": "stream",
     "text": [
      "tensor(0.0606, device='cuda:1', grad_fn=<NllLoss2DBackward>)\n",
      "tensor(189.8324, device='cuda:1', grad_fn=<AddBackward0>)\n",
      "epoch: 837 | loss: 0.1274043140795407\n"
     ]
    },
    {
     "name": "stderr",
     "output_type": "stream",
     "text": [
      "0.192: 100%|██████████████████████████████████████████████████████████████████████████████████████████████████████████████████████| 1490/1490 [00:35<00:00, 42.29it/s]\n"
     ]
    },
    {
     "name": "stdout",
     "output_type": "stream",
     "text": [
      "tensor(0.1925, device='cuda:1', grad_fn=<NllLoss2DBackward>)\n",
      "tensor(188.5069, device='cuda:1', grad_fn=<AddBackward0>)\n",
      "Best loss: 189.2324676513672, Loss: 188.50694274902344\n",
      "epoch: 838 | loss: 0.12651472667719693\n"
     ]
    },
    {
     "name": "stderr",
     "output_type": "stream",
     "text": [
      "0.308: 100%|██████████████████████████████████████████████████████████████████████████████████████████████████████████████████████| 1490/1490 [00:36<00:00, 41.28it/s]\n"
     ]
    },
    {
     "name": "stdout",
     "output_type": "stream",
     "text": [
      "tensor(0.3076, device='cuda:1', grad_fn=<NllLoss2DBackward>)\n",
      "tensor(188.8047, device='cuda:1', grad_fn=<AddBackward0>)\n",
      "epoch: 839 | loss: 0.12671459633231963\n"
     ]
    },
    {
     "name": "stderr",
     "output_type": "stream",
     "text": [
      "0.165: 100%|██████████████████████████████████████████████████████████████████████████████████████████████████████████████████████| 1490/1490 [00:35<00:00, 42.00it/s]\n"
     ]
    },
    {
     "name": "stdout",
     "output_type": "stream",
     "text": [
      "tensor(0.1648, device='cuda:1', grad_fn=<NllLoss2DBackward>)\n",
      "tensor(189.3161, device='cuda:1', grad_fn=<AddBackward0>)\n",
      "epoch: 840 | loss: 0.12705778595585152\n"
     ]
    },
    {
     "name": "stderr",
     "output_type": "stream",
     "text": [
      "0.177: 100%|██████████████████████████████████████████████████████████████████████████████████████████████████████████████████████| 1490/1490 [00:35<00:00, 41.83it/s]\n"
     ]
    },
    {
     "name": "stdout",
     "output_type": "stream",
     "text": [
      "tensor(0.1772, device='cuda:1', grad_fn=<NllLoss2DBackward>)\n",
      "tensor(188.8825, device='cuda:1', grad_fn=<AddBackward0>)\n",
      "epoch: 841 | loss: 0.12676676295747694\n"
     ]
    },
    {
     "name": "stderr",
     "output_type": "stream",
     "text": [
      "0.234: 100%|██████████████████████████████████████████████████████████████████████████████████████████████████████████████████████| 1490/1490 [00:35<00:00, 42.18it/s]\n"
     ]
    },
    {
     "name": "stdout",
     "output_type": "stream",
     "text": [
      "tensor(0.2336, device='cuda:1', grad_fn=<NllLoss2DBackward>)\n",
      "tensor(188.6199, device='cuda:1', grad_fn=<AddBackward0>)\n",
      "epoch: 842 | loss: 0.126590508582608\n"
     ]
    },
    {
     "name": "stderr",
     "output_type": "stream",
     "text": [
      "0.086: 100%|██████████████████████████████████████████████████████████████████████████████████████████████████████████████████████| 1490/1490 [00:35<00:00, 41.75it/s]\n"
     ]
    },
    {
     "name": "stdout",
     "output_type": "stream",
     "text": [
      "tensor(0.0862, device='cuda:1', grad_fn=<NllLoss2DBackward>)\n",
      "tensor(188.2574, device='cuda:1', grad_fn=<AddBackward0>)\n",
      "Best loss: 188.50694274902344, Loss: 188.25741577148438\n",
      "epoch: 843 | loss: 0.1263472589070365\n"
     ]
    },
    {
     "name": "stderr",
     "output_type": "stream",
     "text": [
      "0.089: 100%|██████████████████████████████████████████████████████████████████████████████████████████████████████████████████████| 1490/1490 [00:36<00:00, 40.84it/s]\n"
     ]
    },
    {
     "name": "stdout",
     "output_type": "stream",
     "text": [
      "tensor(0.0885, device='cuda:1', grad_fn=<NllLoss2DBackward>)\n",
      "tensor(188.2044, device='cuda:1', grad_fn=<AddBackward0>)\n",
      "Best loss: 188.25741577148438, Loss: 188.20440673828125\n",
      "epoch: 844 | loss: 0.1263116823746854\n"
     ]
    },
    {
     "name": "stderr",
     "output_type": "stream",
     "text": [
      "0.137: 100%|██████████████████████████████████████████████████████████████████████████████████████████████████████████████████████| 1490/1490 [00:35<00:00, 41.99it/s]\n"
     ]
    },
    {
     "name": "stdout",
     "output_type": "stream",
     "text": [
      "tensor(0.1371, device='cuda:1', grad_fn=<NllLoss2DBackward>)\n",
      "tensor(188.8185, device='cuda:1', grad_fn=<AddBackward0>)\n",
      "epoch: 845 | loss: 0.1267238130505453\n"
     ]
    },
    {
     "name": "stderr",
     "output_type": "stream",
     "text": [
      "0.270: 100%|██████████████████████████████████████████████████████████████████████████████████████████████████████████████████████| 1490/1490 [00:35<00:00, 41.39it/s]\n"
     ]
    },
    {
     "name": "stdout",
     "output_type": "stream",
     "text": [
      "tensor(0.2696, device='cuda:1', grad_fn=<NllLoss2DBackward>)\n",
      "tensor(188.8421, device='cuda:1', grad_fn=<AddBackward0>)\n",
      "epoch: 846 | loss: 0.12673967604669148\n"
     ]
    },
    {
     "name": "stderr",
     "output_type": "stream",
     "text": [
      "0.252: 100%|██████████████████████████████████████████████████████████████████████████████████████████████████████████████████████| 1490/1490 [00:35<00:00, 42.49it/s]\n"
     ]
    },
    {
     "name": "stdout",
     "output_type": "stream",
     "text": [
      "tensor(0.2522, device='cuda:1', grad_fn=<NllLoss2DBackward>)\n",
      "tensor(188.9265, device='cuda:1', grad_fn=<AddBackward0>)\n",
      "epoch: 847 | loss: 0.12679628717819316\n"
     ]
    },
    {
     "name": "stderr",
     "output_type": "stream",
     "text": [
      "0.126: 100%|██████████████████████████████████████████████████████████████████████████████████████████████████████████████████████| 1490/1490 [00:35<00:00, 42.39it/s]\n"
     ]
    },
    {
     "name": "stdout",
     "output_type": "stream",
     "text": [
      "tensor(0.1263, device='cuda:1', grad_fn=<NllLoss2DBackward>)\n",
      "tensor(188.6825, device='cuda:1', grad_fn=<AddBackward0>)\n",
      "epoch: 848 | loss: 0.1266325470585151\n"
     ]
    },
    {
     "name": "stderr",
     "output_type": "stream",
     "text": [
      "0.120: 100%|██████████████████████████████████████████████████████████████████████████████████████████████████████████████████████| 1490/1490 [00:35<00:00, 42.51it/s]\n"
     ]
    },
    {
     "name": "stdout",
     "output_type": "stream",
     "text": [
      "tensor(0.1199, device='cuda:1', grad_fn=<NllLoss2DBackward>)\n",
      "tensor(187.9354, device='cuda:1', grad_fn=<AddBackward0>)\n",
      "Best loss: 188.20440673828125, Loss: 187.93539428710938\n",
      "epoch: 849 | loss: 0.12613113710544252\n"
     ]
    },
    {
     "name": "stderr",
     "output_type": "stream",
     "text": [
      "0.090: 100%|██████████████████████████████████████████████████████████████████████████████████████████████████████████████████████| 1490/1490 [00:35<00:00, 41.65it/s]\n"
     ]
    },
    {
     "name": "stdout",
     "output_type": "stream",
     "text": [
      "tensor(0.0898, device='cuda:1', grad_fn=<NllLoss2DBackward>)\n",
      "tensor(187.6460, device='cuda:1', grad_fn=<AddBackward0>)\n",
      "Best loss: 187.93539428710938, Loss: 187.64598083496094\n",
      "epoch: 850 | loss: 0.12593689988923554\n"
     ]
    },
    {
     "name": "stderr",
     "output_type": "stream",
     "text": [
      "0.198: 100%|██████████████████████████████████████████████████████████████████████████████████████████████████████████████████████| 1490/1490 [00:34<00:00, 43.07it/s]\n"
     ]
    },
    {
     "name": "stdout",
     "output_type": "stream",
     "text": [
      "tensor(0.1984, device='cuda:1', grad_fn=<NllLoss2DBackward>)\n",
      "tensor(188.1240, device='cuda:1', grad_fn=<AddBackward0>)\n",
      "epoch: 851 | loss: 0.1262577133690751\n"
     ]
    },
    {
     "name": "stderr",
     "output_type": "stream",
     "text": [
      "0.162: 100%|██████████████████████████████████████████████████████████████████████████████████████████████████████████████████████| 1490/1490 [00:35<00:00, 41.62it/s]\n"
     ]
    },
    {
     "name": "stdout",
     "output_type": "stream",
     "text": [
      "tensor(0.1617, device='cuda:1', grad_fn=<NllLoss2DBackward>)\n",
      "tensor(187.8051, device='cuda:1', grad_fn=<AddBackward0>)\n",
      "epoch: 852 | loss: 0.12604366020868288\n"
     ]
    },
    {
     "name": "stderr",
     "output_type": "stream",
     "text": [
      "0.129: 100%|██████████████████████████████████████████████████████████████████████████████████████████████████████████████████████| 1490/1490 [00:35<00:00, 41.82it/s]\n"
     ]
    },
    {
     "name": "stdout",
     "output_type": "stream",
     "text": [
      "tensor(0.1293, device='cuda:1', grad_fn=<NllLoss2DBackward>)\n",
      "tensor(187.3559, device='cuda:1', grad_fn=<AddBackward0>)\n",
      "Best loss: 187.64598083496094, Loss: 187.35592651367188\n",
      "epoch: 853 | loss: 0.12574223255951134\n"
     ]
    },
    {
     "name": "stderr",
     "output_type": "stream",
     "text": [
      "0.144: 100%|██████████████████████████████████████████████████████████████████████████████████████████████████████████████████████| 1490/1490 [00:35<00:00, 41.86it/s]\n"
     ]
    },
    {
     "name": "stdout",
     "output_type": "stream",
     "text": [
      "tensor(0.1439, device='cuda:1', grad_fn=<NllLoss2DBackward>)\n",
      "tensor(187.3102, device='cuda:1', grad_fn=<AddBackward0>)\n",
      "Best loss: 187.35592651367188, Loss: 187.31021118164062\n",
      "epoch: 854 | loss: 0.12571155112861787\n"
     ]
    },
    {
     "name": "stderr",
     "output_type": "stream",
     "text": [
      "0.196: 100%|██████████████████████████████████████████████████████████████████████████████████████████████████████████████████████| 1490/1490 [00:35<00:00, 41.48it/s]\n"
     ]
    },
    {
     "name": "stdout",
     "output_type": "stream",
     "text": [
      "tensor(0.1964, device='cuda:1', grad_fn=<NllLoss2DBackward>)\n",
      "tensor(186.9411, device='cuda:1', grad_fn=<AddBackward0>)\n",
      "Best loss: 187.31021118164062, Loss: 186.9410858154297\n",
      "epoch: 855 | loss: 0.12546381598350986\n"
     ]
    },
    {
     "name": "stderr",
     "output_type": "stream",
     "text": [
      "0.174: 100%|██████████████████████████████████████████████████████████████████████████████████████████████████████████████████████| 1490/1490 [00:36<00:00, 41.08it/s]\n"
     ]
    },
    {
     "name": "stdout",
     "output_type": "stream",
     "text": [
      "tensor(0.1742, device='cuda:1', grad_fn=<NllLoss2DBackward>)\n",
      "tensor(186.8920, device='cuda:1', grad_fn=<AddBackward0>)\n",
      "Best loss: 186.9410858154297, Loss: 186.89195251464844\n",
      "epoch: 856 | loss: 0.125430840613858\n"
     ]
    },
    {
     "name": "stderr",
     "output_type": "stream",
     "text": [
      "0.223: 100%|██████████████████████████████████████████████████████████████████████████████████████████████████████████████████████| 1490/1490 [00:35<00:00, 42.34it/s]\n"
     ]
    },
    {
     "name": "stdout",
     "output_type": "stream",
     "text": [
      "tensor(0.2231, device='cuda:1', grad_fn=<NllLoss2DBackward>)\n",
      "tensor(188.2759, device='cuda:1', grad_fn=<AddBackward0>)\n",
      "epoch: 857 | loss: 0.126359650272651\n"
     ]
    },
    {
     "name": "stderr",
     "output_type": "stream",
     "text": [
      "0.129: 100%|██████████████████████████████████████████████████████████████████████████████████████████████████████████████████████| 1490/1490 [00:35<00:00, 41.87it/s]\n"
     ]
    },
    {
     "name": "stdout",
     "output_type": "stream",
     "text": [
      "tensor(0.1292, device='cuda:1', grad_fn=<NllLoss2DBackward>)\n",
      "tensor(187.5855, device='cuda:1', grad_fn=<AddBackward0>)\n",
      "epoch: 858 | loss: 0.12589628488425442\n"
     ]
    },
    {
     "name": "stderr",
     "output_type": "stream",
     "text": [
      "0.244: 100%|██████████████████████████████████████████████████████████████████████████████████████████████████████████████████████| 1490/1490 [00:34<00:00, 42.97it/s]\n"
     ]
    },
    {
     "name": "stdout",
     "output_type": "stream",
     "text": [
      "tensor(0.2437, device='cuda:1', grad_fn=<NllLoss2DBackward>)\n",
      "tensor(187.1381, device='cuda:1', grad_fn=<AddBackward0>)\n",
      "epoch: 859 | loss: 0.12559604516765416\n"
     ]
    },
    {
     "name": "stderr",
     "output_type": "stream",
     "text": [
      "0.079: 100%|██████████████████████████████████████████████████████████████████████████████████████████████████████████████████████| 1490/1490 [00:36<00:00, 41.00it/s]\n"
     ]
    },
    {
     "name": "stdout",
     "output_type": "stream",
     "text": [
      "tensor(0.0791, device='cuda:1', grad_fn=<NllLoss2DBackward>)\n",
      "tensor(186.9366, device='cuda:1', grad_fn=<AddBackward0>)\n",
      "epoch: 860 | loss: 0.12546082567048553\n"
     ]
    },
    {
     "name": "stderr",
     "output_type": "stream",
     "text": [
      "0.128: 100%|██████████████████████████████████████████████████████████████████████████████████████████████████████████████████████| 1490/1490 [00:36<00:00, 41.14it/s]\n"
     ]
    },
    {
     "name": "stdout",
     "output_type": "stream",
     "text": [
      "tensor(0.1284, device='cuda:1', grad_fn=<NllLoss2DBackward>)\n",
      "tensor(186.3490, device='cuda:1', grad_fn=<AddBackward0>)\n",
      "Best loss: 186.89195251464844, Loss: 186.34898376464844\n",
      "epoch: 861 | loss: 0.12506643205681103\n"
     ]
    }
   ],
   "source": [
    "epoch = 861\n",
    "best_loss = 2000.0\n",
    "\n",
    "from tqdm import tqdm\n",
    "\n",
    "model.load_state_dict(torch.load(\"chatbot.pth\"))\n",
    "model.train()\n",
    "for i in range(epoch):\n",
    "    batchloss = 0.0\n",
    "    progress = tqdm(dataloader)\n",
    "    for (inputs, dec_inputs, outputs) in progress:\n",
    "        optimizer.zero_grad()\n",
    "        src_mask = model.generate_square_subsequent_mask(MAX_LENGTH).to(device)\n",
    "        src_padding_mask = gen_attention_mask(inputs).to(device)\n",
    "        tgt_mask = model.generate_square_subsequent_mask(MAX_LENGTH-1).to(device)\n",
    "        tgt_padding_mask = gen_attention_mask(dec_inputs).to(device)\n",
    "\n",
    "        result = model(inputs.to(device), dec_inputs.to(device), src_mask, tgt_mask, src_padding_mask,tgt_padding_mask)\n",
    "        loss = criterion(result.permute(1,2,0), outputs.to(device).long())\n",
    "        progress.set_description(\"{:0.3f}\".format(loss))\n",
    "        loss.backward()\n",
    "        optimizer.step()\n",
    "        batchloss += loss\n",
    "    print(loss)\n",
    "    print(batchloss)\n",
    "    if best_loss > batchloss:\n",
    "        print(f\"Best loss: {best_loss}, Loss: {batchloss}\")\n",
    "        best_loss = batchloss\n",
    "        torch.save(model.state_dict(), \"chatbot.pth\")\n",
    "            \n",
    "    print(\"epoch:\",i+1,\"|\",\"loss:\",batchloss.cpu().item() / len(dataloader))"
   ]
  },
  {
   "cell_type": "markdown",
   "id": "ef93a30a",
   "metadata": {},
   "source": [
    "# 평가"
   ]
  },
  {
   "cell_type": "code",
   "execution_count": 37,
   "id": "0349d213",
   "metadata": {},
   "outputs": [],
   "source": [
    "def preprocess_sentence(sentence):\n",
    "    sentence = re.sub(r\"([?.!,])\", r\" \\1 \", sentence)\n",
    "    sentence = sentence.strip()\n",
    "    return sentence\n",
    "\n",
    "def evaluate(sentence):\n",
    "    sentence = preprocess_sentence(sentence)\n",
    "    input = torch.tensor([START_TOKEN + vocab.encode_as_ids(sentence) + END_TOKEN]).to(device)\n",
    "    output = torch.tensor([START_TOKEN]).to(device)\n",
    "\n",
    "    # 디코더의 예측 시작\n",
    "    model.eval()\n",
    "    for i in range(MAX_LENGTH):\n",
    "        src_mask = model.generate_square_subsequent_mask(input.shape[1]).to(device)\n",
    "        tgt_mask = model.generate_square_subsequent_mask(output.shape[1]).to(device)\n",
    "\n",
    "        src_padding_mask = gen_attention_mask(input).to(device)\n",
    "        tgt_padding_mask = gen_attention_mask(output).to(device)\n",
    "\n",
    "        predictions = model(input, output, src_mask, tgt_mask, src_padding_mask, tgt_padding_mask).transpose(0,1)\n",
    "        # 현재(마지막) 시점의 예측 단어를 받아온다.\n",
    "        predictions = predictions[:, -1:, :]\n",
    "        predicted_id = torch.LongTensor(torch.argmax(predictions.cpu(), axis=-1))\n",
    "\n",
    "\n",
    "        # 만약 마지막 시점의 예측 단어가 종료 토큰이라면 예측을 중단\n",
    "        if torch.equal(predicted_id[0][0], torch.tensor(END_TOKEN[0])):\n",
    "            break\n",
    "\n",
    "        # 마지막 시점의 예측 단어를 출력에 연결한다.\n",
    "        # 이는 for문을 통해서 디코더의 입력으로 사용될 예정이다.\n",
    "        output = torch.cat([output, predicted_id.to(device)], axis=1)\n",
    "\n",
    "    return torch.squeeze(output, axis=0).cpu().numpy()\n",
    "\n",
    "def predict(sentence):\n",
    "    prediction = evaluate(sentence)\n",
    "    predicted_sentence = vocab.Decode(list(map(int,[i for i in prediction if i < vocab_size+7])))\n",
    "\n",
    "    print('Input: {}'.format(sentence))\n",
    "    print('Output: {}'.format(predicted_sentence))\n",
    "\n",
    "    return predicted_sentence"
   ]
  },
  {
   "cell_type": "code",
   "execution_count": 39,
   "id": "4dfc3311",
   "metadata": {},
   "outputs": [
    {
     "name": "stdout",
     "output_type": "stream",
     "text": [
      "Input: 보험적용이 되나요?\n",
      "Output: 고객님 이 경우 계약전환시간을 이해할 수 없는 경우라도 주의의무가 없는 경우 보험금 지급이 거절되거나 자동차 보험에 가입해야 하는 것입니다\n"
     ]
    }
   ],
   "source": [
    "model.load_state_dict(torch.load(\"chatbot.pth\"))\n",
    "result = predict(\"보험적용이 되나요?\")"
   ]
  },
  {
   "cell_type": "code",
   "execution_count": null,
   "id": "b9a6a977",
   "metadata": {},
   "outputs": [],
   "source": []
  }
 ],
 "metadata": {
  "kernelspec": {
   "display_name": "Python 3 (ipykernel)",
   "language": "python",
   "name": "python3"
  },
  "language_info": {
   "codemirror_mode": {
    "name": "ipython",
    "version": 3
   },
   "file_extension": ".py",
   "mimetype": "text/x-python",
   "name": "python",
   "nbconvert_exporter": "python",
   "pygments_lexer": "ipython3",
   "version": "3.9.7"
  }
 },
 "nbformat": 4,
 "nbformat_minor": 5
}
